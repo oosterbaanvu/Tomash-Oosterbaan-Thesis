{
  "cells": [
    {
      "cell_type": "code",
      "execution_count": null,
      "metadata": {
        "colab": {
          "base_uri": "https://localhost:8080/"
        },
        "id": "G1iAmqC-PPFH",
        "outputId": "984fc0b5-e842-48e8-e14f-5742a5b5c3de"
      },
      "outputs": [
        {
          "output_type": "stream",
          "name": "stdout",
          "text": [
            "Collecting ultralytics\n",
            "  Downloading ultralytics-8.3.160-py3-none-any.whl.metadata (37 kB)\n",
            "Collecting roboflow\n",
            "  Downloading roboflow-1.1.66-py3-none-any.whl.metadata (9.7 kB)\n",
            "Requirement already satisfied: opencv-python in /usr/local/lib/python3.11/dist-packages (4.11.0.86)\n",
            "Requirement already satisfied: scikit-learn in /usr/local/lib/python3.11/dist-packages (1.6.1)\n",
            "Requirement already satisfied: matplotlib in /usr/local/lib/python3.11/dist-packages (3.10.0)\n",
            "Requirement already satisfied: seaborn in /usr/local/lib/python3.11/dist-packages (0.13.2)\n",
            "Requirement already satisfied: numpy>=1.23.0 in /usr/local/lib/python3.11/dist-packages (from ultralytics) (2.0.2)\n",
            "Requirement already satisfied: pillow>=7.1.2 in /usr/local/lib/python3.11/dist-packages (from ultralytics) (11.2.1)\n",
            "Requirement already satisfied: pyyaml>=5.3.1 in /usr/local/lib/python3.11/dist-packages (from ultralytics) (6.0.2)\n",
            "Requirement already satisfied: requests>=2.23.0 in /usr/local/lib/python3.11/dist-packages (from ultralytics) (2.32.3)\n",
            "Requirement already satisfied: scipy>=1.4.1 in /usr/local/lib/python3.11/dist-packages (from ultralytics) (1.15.3)\n",
            "Requirement already satisfied: torch>=1.8.0 in /usr/local/lib/python3.11/dist-packages (from ultralytics) (2.6.0+cu124)\n",
            "Requirement already satisfied: torchvision>=0.9.0 in /usr/local/lib/python3.11/dist-packages (from ultralytics) (0.21.0+cu124)\n",
            "Requirement already satisfied: tqdm>=4.64.0 in /usr/local/lib/python3.11/dist-packages (from ultralytics) (4.67.1)\n",
            "Requirement already satisfied: psutil in /usr/local/lib/python3.11/dist-packages (from ultralytics) (5.9.5)\n",
            "Requirement already satisfied: py-cpuinfo in /usr/local/lib/python3.11/dist-packages (from ultralytics) (9.0.0)\n",
            "Requirement already satisfied: pandas>=1.1.4 in /usr/local/lib/python3.11/dist-packages (from ultralytics) (2.2.2)\n",
            "Collecting ultralytics-thop>=2.0.0 (from ultralytics)\n",
            "  Downloading ultralytics_thop-2.0.14-py3-none-any.whl.metadata (9.4 kB)\n",
            "Requirement already satisfied: certifi in /usr/local/lib/python3.11/dist-packages (from roboflow) (2025.6.15)\n",
            "Collecting idna==3.7 (from roboflow)\n",
            "  Downloading idna-3.7-py3-none-any.whl.metadata (9.9 kB)\n",
            "Requirement already satisfied: cycler in /usr/local/lib/python3.11/dist-packages (from roboflow) (0.12.1)\n",
            "Requirement already satisfied: kiwisolver>=1.3.1 in /usr/local/lib/python3.11/dist-packages (from roboflow) (1.4.8)\n",
            "Collecting opencv-python-headless==4.10.0.84 (from roboflow)\n",
            "  Downloading opencv_python_headless-4.10.0.84-cp37-abi3-manylinux_2_17_x86_64.manylinux2014_x86_64.whl.metadata (20 kB)\n",
            "Collecting pillow-heif>=0.18.0 (from roboflow)\n",
            "  Downloading pillow_heif-1.0.0-cp311-cp311-manylinux_2_17_x86_64.manylinux2014_x86_64.whl.metadata (9.6 kB)\n",
            "Requirement already satisfied: python-dateutil in /usr/local/lib/python3.11/dist-packages (from roboflow) (2.9.0.post0)\n",
            "Collecting python-dotenv (from roboflow)\n",
            "  Downloading python_dotenv-1.1.1-py3-none-any.whl.metadata (24 kB)\n",
            "Requirement already satisfied: six in /usr/local/lib/python3.11/dist-packages (from roboflow) (1.17.0)\n",
            "Requirement already satisfied: urllib3>=1.26.6 in /usr/local/lib/python3.11/dist-packages (from roboflow) (2.4.0)\n",
            "Requirement already satisfied: requests-toolbelt in /usr/local/lib/python3.11/dist-packages (from roboflow) (1.0.0)\n",
            "Collecting filetype (from roboflow)\n",
            "  Downloading filetype-1.2.0-py2.py3-none-any.whl.metadata (6.5 kB)\n",
            "Requirement already satisfied: joblib>=1.2.0 in /usr/local/lib/python3.11/dist-packages (from scikit-learn) (1.5.1)\n",
            "Requirement already satisfied: threadpoolctl>=3.1.0 in /usr/local/lib/python3.11/dist-packages (from scikit-learn) (3.6.0)\n",
            "Requirement already satisfied: contourpy>=1.0.1 in /usr/local/lib/python3.11/dist-packages (from matplotlib) (1.3.2)\n",
            "Requirement already satisfied: fonttools>=4.22.0 in /usr/local/lib/python3.11/dist-packages (from matplotlib) (4.58.4)\n",
            "Requirement already satisfied: packaging>=20.0 in /usr/local/lib/python3.11/dist-packages (from matplotlib) (24.2)\n",
            "Requirement already satisfied: pyparsing>=2.3.1 in /usr/local/lib/python3.11/dist-packages (from matplotlib) (3.2.3)\n",
            "Requirement already satisfied: pytz>=2020.1 in /usr/local/lib/python3.11/dist-packages (from pandas>=1.1.4->ultralytics) (2025.2)\n",
            "Requirement already satisfied: tzdata>=2022.7 in /usr/local/lib/python3.11/dist-packages (from pandas>=1.1.4->ultralytics) (2025.2)\n",
            "Requirement already satisfied: charset-normalizer<4,>=2 in /usr/local/lib/python3.11/dist-packages (from requests>=2.23.0->ultralytics) (3.4.2)\n",
            "Requirement already satisfied: filelock in /usr/local/lib/python3.11/dist-packages (from torch>=1.8.0->ultralytics) (3.18.0)\n",
            "Requirement already satisfied: typing-extensions>=4.10.0 in /usr/local/lib/python3.11/dist-packages (from torch>=1.8.0->ultralytics) (4.14.0)\n",
            "Requirement already satisfied: networkx in /usr/local/lib/python3.11/dist-packages (from torch>=1.8.0->ultralytics) (3.5)\n",
            "Requirement already satisfied: jinja2 in /usr/local/lib/python3.11/dist-packages (from torch>=1.8.0->ultralytics) (3.1.6)\n",
            "Requirement already satisfied: fsspec in /usr/local/lib/python3.11/dist-packages (from torch>=1.8.0->ultralytics) (2025.3.2)\n",
            "Collecting nvidia-cuda-nvrtc-cu12==12.4.127 (from torch>=1.8.0->ultralytics)\n",
            "  Downloading nvidia_cuda_nvrtc_cu12-12.4.127-py3-none-manylinux2014_x86_64.whl.metadata (1.5 kB)\n",
            "Collecting nvidia-cuda-runtime-cu12==12.4.127 (from torch>=1.8.0->ultralytics)\n",
            "  Downloading nvidia_cuda_runtime_cu12-12.4.127-py3-none-manylinux2014_x86_64.whl.metadata (1.5 kB)\n",
            "Collecting nvidia-cuda-cupti-cu12==12.4.127 (from torch>=1.8.0->ultralytics)\n",
            "  Downloading nvidia_cuda_cupti_cu12-12.4.127-py3-none-manylinux2014_x86_64.whl.metadata (1.6 kB)\n",
            "Collecting nvidia-cudnn-cu12==9.1.0.70 (from torch>=1.8.0->ultralytics)\n",
            "  Downloading nvidia_cudnn_cu12-9.1.0.70-py3-none-manylinux2014_x86_64.whl.metadata (1.6 kB)\n",
            "Collecting nvidia-cublas-cu12==12.4.5.8 (from torch>=1.8.0->ultralytics)\n",
            "  Downloading nvidia_cublas_cu12-12.4.5.8-py3-none-manylinux2014_x86_64.whl.metadata (1.5 kB)\n",
            "Collecting nvidia-cufft-cu12==11.2.1.3 (from torch>=1.8.0->ultralytics)\n",
            "  Downloading nvidia_cufft_cu12-11.2.1.3-py3-none-manylinux2014_x86_64.whl.metadata (1.5 kB)\n",
            "Collecting nvidia-curand-cu12==10.3.5.147 (from torch>=1.8.0->ultralytics)\n",
            "  Downloading nvidia_curand_cu12-10.3.5.147-py3-none-manylinux2014_x86_64.whl.metadata (1.5 kB)\n",
            "Collecting nvidia-cusolver-cu12==11.6.1.9 (from torch>=1.8.0->ultralytics)\n",
            "  Downloading nvidia_cusolver_cu12-11.6.1.9-py3-none-manylinux2014_x86_64.whl.metadata (1.6 kB)\n",
            "Collecting nvidia-cusparse-cu12==12.3.1.170 (from torch>=1.8.0->ultralytics)\n",
            "  Downloading nvidia_cusparse_cu12-12.3.1.170-py3-none-manylinux2014_x86_64.whl.metadata (1.6 kB)\n",
            "Requirement already satisfied: nvidia-cusparselt-cu12==0.6.2 in /usr/local/lib/python3.11/dist-packages (from torch>=1.8.0->ultralytics) (0.6.2)\n",
            "Requirement already satisfied: nvidia-nccl-cu12==2.21.5 in /usr/local/lib/python3.11/dist-packages (from torch>=1.8.0->ultralytics) (2.21.5)\n",
            "Requirement already satisfied: nvidia-nvtx-cu12==12.4.127 in /usr/local/lib/python3.11/dist-packages (from torch>=1.8.0->ultralytics) (12.4.127)\n",
            "Collecting nvidia-nvjitlink-cu12==12.4.127 (from torch>=1.8.0->ultralytics)\n",
            "  Downloading nvidia_nvjitlink_cu12-12.4.127-py3-none-manylinux2014_x86_64.whl.metadata (1.5 kB)\n",
            "Requirement already satisfied: triton==3.2.0 in /usr/local/lib/python3.11/dist-packages (from torch>=1.8.0->ultralytics) (3.2.0)\n",
            "Requirement already satisfied: sympy==1.13.1 in /usr/local/lib/python3.11/dist-packages (from torch>=1.8.0->ultralytics) (1.13.1)\n",
            "Requirement already satisfied: mpmath<1.4,>=1.1.0 in /usr/local/lib/python3.11/dist-packages (from sympy==1.13.1->torch>=1.8.0->ultralytics) (1.3.0)\n",
            "Requirement already satisfied: MarkupSafe>=2.0 in /usr/local/lib/python3.11/dist-packages (from jinja2->torch>=1.8.0->ultralytics) (3.0.2)\n",
            "Downloading ultralytics-8.3.160-py3-none-any.whl (1.0 MB)\n",
            "\u001b[2K   \u001b[90m━━━━━━━━━━━━━━━━━━━━━━━━━━━━━━━━━━━━━━━━\u001b[0m \u001b[32m1.0/1.0 MB\u001b[0m \u001b[31m26.9 MB/s\u001b[0m eta \u001b[36m0:00:00\u001b[0m\n",
            "\u001b[?25hDownloading roboflow-1.1.66-py3-none-any.whl (86 kB)\n",
            "\u001b[2K   \u001b[90m━━━━━━━━━━━━━━━━━━━━━━━━━━━━━━━━━━━━━━━━\u001b[0m \u001b[32m86.7/86.7 kB\u001b[0m \u001b[31m9.4 MB/s\u001b[0m eta \u001b[36m0:00:00\u001b[0m\n",
            "\u001b[?25hDownloading idna-3.7-py3-none-any.whl (66 kB)\n",
            "\u001b[2K   \u001b[90m━━━━━━━━━━━━━━━━━━━━━━━━━━━━━━━━━━━━━━━━\u001b[0m \u001b[32m66.8/66.8 kB\u001b[0m \u001b[31m7.4 MB/s\u001b[0m eta \u001b[36m0:00:00\u001b[0m\n",
            "\u001b[?25hDownloading opencv_python_headless-4.10.0.84-cp37-abi3-manylinux_2_17_x86_64.manylinux2014_x86_64.whl (49.9 MB)\n",
            "\u001b[2K   \u001b[90m━━━━━━━━━━━━━━━━━━━━━━━━━━━━━━━━━━━━━━━━\u001b[0m \u001b[32m49.9/49.9 MB\u001b[0m \u001b[31m19.7 MB/s\u001b[0m eta \u001b[36m0:00:00\u001b[0m\n",
            "\u001b[?25hDownloading pillow_heif-1.0.0-cp311-cp311-manylinux_2_17_x86_64.manylinux2014_x86_64.whl (4.9 MB)\n",
            "\u001b[2K   \u001b[90m━━━━━━━━━━━━━━━━━━━━━━━━━━━━━━━━━━━━━━━━\u001b[0m \u001b[32m4.9/4.9 MB\u001b[0m \u001b[31m117.0 MB/s\u001b[0m eta \u001b[36m0:00:00\u001b[0m\n",
            "\u001b[?25hDownloading nvidia_cublas_cu12-12.4.5.8-py3-none-manylinux2014_x86_64.whl (363.4 MB)\n",
            "\u001b[2K   \u001b[90m━━━━━━━━━━━━━━━━━━━━━━━━━━━━━━━━━━━━━━━━\u001b[0m \u001b[32m363.4/363.4 MB\u001b[0m \u001b[31m3.7 MB/s\u001b[0m eta \u001b[36m0:00:00\u001b[0m\n",
            "\u001b[?25hDownloading nvidia_cuda_cupti_cu12-12.4.127-py3-none-manylinux2014_x86_64.whl (13.8 MB)\n",
            "\u001b[2K   \u001b[90m━━━━━━━━━━━━━━━━━━━━━━━━━━━━━━━━━━━━━━━━\u001b[0m \u001b[32m13.8/13.8 MB\u001b[0m \u001b[31m125.3 MB/s\u001b[0m eta \u001b[36m0:00:00\u001b[0m\n",
            "\u001b[?25hDownloading nvidia_cuda_nvrtc_cu12-12.4.127-py3-none-manylinux2014_x86_64.whl (24.6 MB)\n",
            "\u001b[2K   \u001b[90m━━━━━━━━━━━━━━━━━━━━━━━━━━━━━━━━━━━━━━━━\u001b[0m \u001b[32m24.6/24.6 MB\u001b[0m \u001b[31m100.2 MB/s\u001b[0m eta \u001b[36m0:00:00\u001b[0m\n",
            "\u001b[?25hDownloading nvidia_cuda_runtime_cu12-12.4.127-py3-none-manylinux2014_x86_64.whl (883 kB)\n",
            "\u001b[2K   \u001b[90m━━━━━━━━━━━━━━━━━━━━━━━━━━━━━━━━━━━━━━━━\u001b[0m \u001b[32m883.7/883.7 kB\u001b[0m \u001b[31m61.7 MB/s\u001b[0m eta \u001b[36m0:00:00\u001b[0m\n",
            "\u001b[?25hDownloading nvidia_cudnn_cu12-9.1.0.70-py3-none-manylinux2014_x86_64.whl (664.8 MB)\n",
            "\u001b[2K   \u001b[90m━━━━━━━━━━━━━━━━━━━━━━━━━━━━━━━━━━━━━━━━\u001b[0m \u001b[32m664.8/664.8 MB\u001b[0m \u001b[31m2.7 MB/s\u001b[0m eta \u001b[36m0:00:00\u001b[0m\n",
            "\u001b[?25hDownloading nvidia_cufft_cu12-11.2.1.3-py3-none-manylinux2014_x86_64.whl (211.5 MB)\n",
            "\u001b[2K   \u001b[90m━━━━━━━━━━━━━━━━━━━━━━━━━━━━━━━━━━━━━━━━\u001b[0m \u001b[32m211.5/211.5 MB\u001b[0m \u001b[31m5.2 MB/s\u001b[0m eta \u001b[36m0:00:00\u001b[0m\n",
            "\u001b[?25hDownloading nvidia_curand_cu12-10.3.5.147-py3-none-manylinux2014_x86_64.whl (56.3 MB)\n",
            "\u001b[2K   \u001b[90m━━━━━━━━━━━━━━━━━━━━━━━━━━━━━━━━━━━━━━━━\u001b[0m \u001b[32m56.3/56.3 MB\u001b[0m \u001b[31m23.3 MB/s\u001b[0m eta \u001b[36m0:00:00\u001b[0m\n",
            "\u001b[?25hDownloading nvidia_cusolver_cu12-11.6.1.9-py3-none-manylinux2014_x86_64.whl (127.9 MB)\n",
            "\u001b[2K   \u001b[90m━━━━━━━━━━━━━━━━━━━━━━━━━━━━━━━━━━━━━━━━\u001b[0m \u001b[32m127.9/127.9 MB\u001b[0m \u001b[31m7.3 MB/s\u001b[0m eta \u001b[36m0:00:00\u001b[0m\n",
            "\u001b[?25hDownloading nvidia_cusparse_cu12-12.3.1.170-py3-none-manylinux2014_x86_64.whl (207.5 MB)\n",
            "\u001b[2K   \u001b[90m━━━━━━━━━━━━━━━━━━━━━━━━━━━━━━━━━━━━━━━━\u001b[0m \u001b[32m207.5/207.5 MB\u001b[0m \u001b[31m5.6 MB/s\u001b[0m eta \u001b[36m0:00:00\u001b[0m\n",
            "\u001b[?25hDownloading nvidia_nvjitlink_cu12-12.4.127-py3-none-manylinux2014_x86_64.whl (21.1 MB)\n",
            "\u001b[2K   \u001b[90m━━━━━━━━━━━━━━━━━━━━━━━━━━━━━━━━━━━━━━━━\u001b[0m \u001b[32m21.1/21.1 MB\u001b[0m \u001b[31m38.2 MB/s\u001b[0m eta \u001b[36m0:00:00\u001b[0m\n",
            "\u001b[?25hDownloading ultralytics_thop-2.0.14-py3-none-any.whl (26 kB)\n",
            "Downloading filetype-1.2.0-py2.py3-none-any.whl (19 kB)\n",
            "Downloading python_dotenv-1.1.1-py3-none-any.whl (20 kB)\n",
            "Installing collected packages: filetype, python-dotenv, pillow-heif, opencv-python-headless, nvidia-nvjitlink-cu12, nvidia-curand-cu12, nvidia-cufft-cu12, nvidia-cuda-runtime-cu12, nvidia-cuda-nvrtc-cu12, nvidia-cuda-cupti-cu12, nvidia-cublas-cu12, idna, nvidia-cusparse-cu12, nvidia-cudnn-cu12, nvidia-cusolver-cu12, roboflow, ultralytics-thop, ultralytics\n",
            "  Attempting uninstall: opencv-python-headless\n",
            "    Found existing installation: opencv-python-headless 4.11.0.86\n",
            "    Uninstalling opencv-python-headless-4.11.0.86:\n",
            "      Successfully uninstalled opencv-python-headless-4.11.0.86\n",
            "  Attempting uninstall: nvidia-nvjitlink-cu12\n",
            "    Found existing installation: nvidia-nvjitlink-cu12 12.5.82\n",
            "    Uninstalling nvidia-nvjitlink-cu12-12.5.82:\n",
            "      Successfully uninstalled nvidia-nvjitlink-cu12-12.5.82\n",
            "  Attempting uninstall: nvidia-curand-cu12\n",
            "    Found existing installation: nvidia-curand-cu12 10.3.6.82\n",
            "    Uninstalling nvidia-curand-cu12-10.3.6.82:\n",
            "      Successfully uninstalled nvidia-curand-cu12-10.3.6.82\n",
            "  Attempting uninstall: nvidia-cufft-cu12\n",
            "    Found existing installation: nvidia-cufft-cu12 11.2.3.61\n",
            "    Uninstalling nvidia-cufft-cu12-11.2.3.61:\n",
            "      Successfully uninstalled nvidia-cufft-cu12-11.2.3.61\n",
            "  Attempting uninstall: nvidia-cuda-runtime-cu12\n",
            "    Found existing installation: nvidia-cuda-runtime-cu12 12.5.82\n",
            "    Uninstalling nvidia-cuda-runtime-cu12-12.5.82:\n",
            "      Successfully uninstalled nvidia-cuda-runtime-cu12-12.5.82\n",
            "  Attempting uninstall: nvidia-cuda-nvrtc-cu12\n",
            "    Found existing installation: nvidia-cuda-nvrtc-cu12 12.5.82\n",
            "    Uninstalling nvidia-cuda-nvrtc-cu12-12.5.82:\n",
            "      Successfully uninstalled nvidia-cuda-nvrtc-cu12-12.5.82\n",
            "  Attempting uninstall: nvidia-cuda-cupti-cu12\n",
            "    Found existing installation: nvidia-cuda-cupti-cu12 12.5.82\n",
            "    Uninstalling nvidia-cuda-cupti-cu12-12.5.82:\n",
            "      Successfully uninstalled nvidia-cuda-cupti-cu12-12.5.82\n",
            "  Attempting uninstall: nvidia-cublas-cu12\n",
            "    Found existing installation: nvidia-cublas-cu12 12.5.3.2\n",
            "    Uninstalling nvidia-cublas-cu12-12.5.3.2:\n",
            "      Successfully uninstalled nvidia-cublas-cu12-12.5.3.2\n",
            "  Attempting uninstall: idna\n",
            "    Found existing installation: idna 3.10\n",
            "    Uninstalling idna-3.10:\n",
            "      Successfully uninstalled idna-3.10\n",
            "  Attempting uninstall: nvidia-cusparse-cu12\n",
            "    Found existing installation: nvidia-cusparse-cu12 12.5.1.3\n",
            "    Uninstalling nvidia-cusparse-cu12-12.5.1.3:\n",
            "      Successfully uninstalled nvidia-cusparse-cu12-12.5.1.3\n",
            "  Attempting uninstall: nvidia-cudnn-cu12\n",
            "    Found existing installation: nvidia-cudnn-cu12 9.3.0.75\n",
            "    Uninstalling nvidia-cudnn-cu12-9.3.0.75:\n",
            "      Successfully uninstalled nvidia-cudnn-cu12-9.3.0.75\n",
            "  Attempting uninstall: nvidia-cusolver-cu12\n",
            "    Found existing installation: nvidia-cusolver-cu12 11.6.3.83\n",
            "    Uninstalling nvidia-cusolver-cu12-11.6.3.83:\n",
            "      Successfully uninstalled nvidia-cusolver-cu12-11.6.3.83\n",
            "Successfully installed filetype-1.2.0 idna-3.7 nvidia-cublas-cu12-12.4.5.8 nvidia-cuda-cupti-cu12-12.4.127 nvidia-cuda-nvrtc-cu12-12.4.127 nvidia-cuda-runtime-cu12-12.4.127 nvidia-cudnn-cu12-9.1.0.70 nvidia-cufft-cu12-11.2.1.3 nvidia-curand-cu12-10.3.5.147 nvidia-cusolver-cu12-11.6.1.9 nvidia-cusparse-cu12-12.3.1.170 nvidia-nvjitlink-cu12-12.4.127 opencv-python-headless-4.10.0.84 pillow-heif-1.0.0 python-dotenv-1.1.1 roboflow-1.1.66 ultralytics-8.3.160 ultralytics-thop-2.0.14\n"
          ]
        }
      ],
      "source": [
        "!pip install ultralytics roboflow opencv-python scikit-learn matplotlib seaborn"
      ]
    },
    {
      "cell_type": "markdown",
      "source": [
        "# **This will train yolo fine tuning model on 10 epochs**"
      ],
      "metadata": {
        "id": "6LFQG8oPCHN7"
      }
    },
    {
      "cell_type": "code",
      "execution_count": null,
      "metadata": {
        "colab": {
          "base_uri": "https://localhost:8080/"
        },
        "id": "ayHyAJcpNKyf",
        "outputId": "6c499271-7700-4f8c-f508-a3d77808539a"
      },
      "outputs": [
        {
          "output_type": "stream",
          "name": "stdout",
          "text": [
            "Ultralytics 8.3.158 🚀 Python-3.11.13 torch-2.6.0+cu124 CPU (Intel Xeon 2.20GHz)\n",
            "\u001b[34m\u001b[1mengine/trainer: \u001b[0magnostic_nms=False, amp=True, augment=False, auto_augment=randaugment, batch=16, bgr=0.0, box=7.5, cache=False, cfg=None, classes=None, close_mosaic=10, cls=0.5, conf=None, copy_paste=0.0, copy_paste_mode=flip, cos_lr=False, cutmix=0.0, data=/content/drive/MyDrive/thesisdataset/data.yaml, degrees=0.0, deterministic=True, device=cpu, dfl=1.5, dnn=False, dropout=0.0, dynamic=False, embed=None, epochs=10, erasing=0.4, exist_ok=False, fliplr=0.5, flipud=0.0, format=torchscript, fraction=1.0, freeze=None, half=False, hsv_h=0.015, hsv_s=0.7, hsv_v=0.4, imgsz=640, int8=False, iou=0.7, keras=False, kobj=1.0, line_width=None, lr0=0.01, lrf=0.01, mask_ratio=4, max_det=300, mixup=0.0, mode=train, model=yolov8n.pt, momentum=0.937, mosaic=1.0, multi_scale=False, name=train, nbs=64, nms=False, opset=None, optimize=False, optimizer=auto, overlap_mask=True, patience=100, perspective=0.0, plots=True, pose=12.0, pretrained=True, profile=False, project=None, rect=False, resume=False, retina_masks=False, save=True, save_conf=False, save_crop=False, save_dir=runs/detect/train, save_frames=False, save_json=False, save_period=-1, save_txt=False, scale=0.5, seed=0, shear=0.0, show=False, show_boxes=True, show_conf=True, show_labels=True, simplify=True, single_cls=False, source=None, split=val, stream_buffer=False, task=detect, time=None, tracker=botsort.yaml, translate=0.1, val=True, verbose=True, vid_stride=1, visualize=False, warmup_bias_lr=0.1, warmup_epochs=3.0, warmup_momentum=0.8, weight_decay=0.0005, workers=8, workspace=None\n",
            "Overriding model.yaml nc=80 with nc=3\n",
            "\n",
            "                   from  n    params  module                                       arguments                     \n",
            "  0                  -1  1       464  ultralytics.nn.modules.conv.Conv             [3, 16, 3, 2]                 \n",
            "  1                  -1  1      4672  ultralytics.nn.modules.conv.Conv             [16, 32, 3, 2]                \n",
            "  2                  -1  1      7360  ultralytics.nn.modules.block.C2f             [32, 32, 1, True]             \n",
            "  3                  -1  1     18560  ultralytics.nn.modules.conv.Conv             [32, 64, 3, 2]                \n",
            "  4                  -1  2     49664  ultralytics.nn.modules.block.C2f             [64, 64, 2, True]             \n",
            "  5                  -1  1     73984  ultralytics.nn.modules.conv.Conv             [64, 128, 3, 2]               \n",
            "  6                  -1  2    197632  ultralytics.nn.modules.block.C2f             [128, 128, 2, True]           \n",
            "  7                  -1  1    295424  ultralytics.nn.modules.conv.Conv             [128, 256, 3, 2]              \n",
            "  8                  -1  1    460288  ultralytics.nn.modules.block.C2f             [256, 256, 1, True]           \n",
            "  9                  -1  1    164608  ultralytics.nn.modules.block.SPPF            [256, 256, 5]                 \n",
            " 10                  -1  1         0  torch.nn.modules.upsampling.Upsample         [None, 2, 'nearest']          \n",
            " 11             [-1, 6]  1         0  ultralytics.nn.modules.conv.Concat           [1]                           \n",
            " 12                  -1  1    148224  ultralytics.nn.modules.block.C2f             [384, 128, 1]                 \n",
            " 13                  -1  1         0  torch.nn.modules.upsampling.Upsample         [None, 2, 'nearest']          \n",
            " 14             [-1, 4]  1         0  ultralytics.nn.modules.conv.Concat           [1]                           \n",
            " 15                  -1  1     37248  ultralytics.nn.modules.block.C2f             [192, 64, 1]                  \n",
            " 16                  -1  1     36992  ultralytics.nn.modules.conv.Conv             [64, 64, 3, 2]                \n",
            " 17            [-1, 12]  1         0  ultralytics.nn.modules.conv.Concat           [1]                           \n",
            " 18                  -1  1    123648  ultralytics.nn.modules.block.C2f             [192, 128, 1]                 \n",
            " 19                  -1  1    147712  ultralytics.nn.modules.conv.Conv             [128, 128, 3, 2]              \n",
            " 20             [-1, 9]  1         0  ultralytics.nn.modules.conv.Concat           [1]                           \n",
            " 21                  -1  1    493056  ultralytics.nn.modules.block.C2f             [384, 256, 1]                 \n",
            " 22        [15, 18, 21]  1    751897  ultralytics.nn.modules.head.Detect           [3, [64, 128, 256]]           \n",
            "Model summary: 129 layers, 3,011,433 parameters, 3,011,417 gradients, 8.2 GFLOPs\n",
            "\n",
            "Transferred 319/355 items from pretrained weights\n",
            "Freezing layer 'model.22.dfl.conv.weight'\n",
            "\u001b[34m\u001b[1mtrain: \u001b[0mFast image access ✅ (ping: 0.5±0.1 ms, read: 12.4±4.1 MB/s, size: 41.2 KB)\n"
          ]
        },
        {
          "output_type": "stream",
          "name": "stderr",
          "text": [
            "\u001b[34m\u001b[1mtrain: \u001b[0mScanning /content/drive/MyDrive/thesisdataset/train/labels.cache... 957 images, 6 backgrounds, 0 corrupt: 100%|██████████| 957/957 [00:00<?, ?it/s]"
          ]
        },
        {
          "output_type": "stream",
          "name": "stdout",
          "text": [
            "\u001b[34m\u001b[1malbumentations: \u001b[0mBlur(p=0.01, blur_limit=(3, 7)), MedianBlur(p=0.01, blur_limit=(3, 7)), ToGray(p=0.01, method='weighted_average', num_output_channels=3), CLAHE(p=0.01, clip_limit=(1.0, 4.0), tile_grid_size=(8, 8))\n",
            "\u001b[34m\u001b[1mval: \u001b[0mFast image access ✅ (ping: 0.8±0.7 ms, read: 13.5±5.6 MB/s, size: 43.8 KB)\n"
          ]
        },
        {
          "output_type": "stream",
          "name": "stderr",
          "text": [
            "\n",
            "\u001b[34m\u001b[1mval: \u001b[0mScanning /content/drive/MyDrive/thesisdataset/valid/labels.cache... 120 images, 1 backgrounds, 0 corrupt: 100%|██████████| 120/120 [00:00<?, ?it/s]"
          ]
        },
        {
          "output_type": "stream",
          "name": "stdout",
          "text": [
            "Plotting labels to runs/detect/train/labels.jpg... \n"
          ]
        },
        {
          "output_type": "stream",
          "name": "stderr",
          "text": [
            "\n"
          ]
        },
        {
          "output_type": "stream",
          "name": "stdout",
          "text": [
            "\u001b[34m\u001b[1moptimizer:\u001b[0m 'optimizer=auto' found, ignoring 'lr0=0.01' and 'momentum=0.937' and determining best 'optimizer', 'lr0' and 'momentum' automatically... \n",
            "\u001b[34m\u001b[1moptimizer:\u001b[0m AdamW(lr=0.001429, momentum=0.9) with parameter groups 57 weight(decay=0.0), 64 weight(decay=0.0005), 63 bias(decay=0.0)\n",
            "Image sizes 640 train, 640 val\n",
            "Using 0 dataloader workers\n",
            "Logging results to \u001b[1mruns/detect/train\u001b[0m\n",
            "Starting training for 10 epochs...\n",
            "Closing dataloader mosaic\n",
            "\u001b[34m\u001b[1malbumentations: \u001b[0mBlur(p=0.01, blur_limit=(3, 7)), MedianBlur(p=0.01, blur_limit=(3, 7)), ToGray(p=0.01, method='weighted_average', num_output_channels=3), CLAHE(p=0.01, clip_limit=(1.0, 4.0), tile_grid_size=(8, 8))\n",
            "\n",
            "      Epoch    GPU_mem   box_loss   cls_loss   dfl_loss  Instances       Size\n"
          ]
        },
        {
          "output_type": "stream",
          "name": "stderr",
          "text": [
            "       1/10         0G     0.9841      2.852      1.311         17        640: 100%|██████████| 60/60 [14:29<00:00, 14.49s/it]\n",
            "                 Class     Images  Instances      Box(P          R      mAP50  mAP50-95): 100%|██████████| 4/4 [00:40<00:00, 10.07s/it]"
          ]
        },
        {
          "output_type": "stream",
          "name": "stdout",
          "text": [
            "                   all        120        161      0.712      0.438      0.611      0.418\n"
          ]
        },
        {
          "output_type": "stream",
          "name": "stderr",
          "text": [
            "\n"
          ]
        },
        {
          "output_type": "stream",
          "name": "stdout",
          "text": [
            "\n",
            "      Epoch    GPU_mem   box_loss   cls_loss   dfl_loss  Instances       Size\n"
          ]
        },
        {
          "output_type": "stream",
          "name": "stderr",
          "text": [
            "       2/10         0G      1.015      2.291      1.325         18        640: 100%|██████████| 60/60 [14:03<00:00, 14.06s/it]\n",
            "                 Class     Images  Instances      Box(P          R      mAP50  mAP50-95): 100%|██████████| 4/4 [00:37<00:00,  9.49s/it]"
          ]
        },
        {
          "output_type": "stream",
          "name": "stdout",
          "text": [
            "                   all        120        161      0.519      0.472      0.451      0.282\n"
          ]
        },
        {
          "output_type": "stream",
          "name": "stderr",
          "text": [
            "\n"
          ]
        },
        {
          "output_type": "stream",
          "name": "stdout",
          "text": [
            "\n",
            "      Epoch    GPU_mem   box_loss   cls_loss   dfl_loss  Instances       Size\n"
          ]
        },
        {
          "output_type": "stream",
          "name": "stderr",
          "text": [
            "       3/10         0G      1.065      2.153      1.363         19        640: 100%|██████████| 60/60 [13:50<00:00, 13.84s/it]\n",
            "                 Class     Images  Instances      Box(P          R      mAP50  mAP50-95): 100%|██████████| 4/4 [00:39<00:00,  9.97s/it]"
          ]
        },
        {
          "output_type": "stream",
          "name": "stdout",
          "text": [
            "                   all        120        161      0.457      0.545      0.534      0.321\n"
          ]
        },
        {
          "output_type": "stream",
          "name": "stderr",
          "text": [
            "\n"
          ]
        },
        {
          "output_type": "stream",
          "name": "stdout",
          "text": [
            "\n",
            "      Epoch    GPU_mem   box_loss   cls_loss   dfl_loss  Instances       Size\n"
          ]
        },
        {
          "output_type": "stream",
          "name": "stderr",
          "text": [
            "       4/10         0G      1.062      1.929      1.358         15        640: 100%|██████████| 60/60 [14:05<00:00, 14.08s/it]\n",
            "                 Class     Images  Instances      Box(P          R      mAP50  mAP50-95): 100%|██████████| 4/4 [00:38<00:00,  9.69s/it]"
          ]
        },
        {
          "output_type": "stream",
          "name": "stdout",
          "text": [
            "                   all        120        161      0.662      0.369      0.478      0.323\n"
          ]
        },
        {
          "output_type": "stream",
          "name": "stderr",
          "text": [
            "\n"
          ]
        },
        {
          "output_type": "stream",
          "name": "stdout",
          "text": [
            "\n",
            "      Epoch    GPU_mem   box_loss   cls_loss   dfl_loss  Instances       Size\n"
          ]
        },
        {
          "output_type": "stream",
          "name": "stderr",
          "text": [
            "       5/10         0G     0.9754      1.706      1.294         18        640: 100%|██████████| 60/60 [13:58<00:00, 13.97s/it]\n",
            "                 Class     Images  Instances      Box(P          R      mAP50  mAP50-95): 100%|██████████| 4/4 [00:37<00:00,  9.39s/it]"
          ]
        },
        {
          "output_type": "stream",
          "name": "stdout",
          "text": [
            "                   all        120        161      0.599       0.59      0.642      0.425\n"
          ]
        },
        {
          "output_type": "stream",
          "name": "stderr",
          "text": [
            "\n"
          ]
        },
        {
          "output_type": "stream",
          "name": "stdout",
          "text": [
            "\n",
            "      Epoch    GPU_mem   box_loss   cls_loss   dfl_loss  Instances       Size\n"
          ]
        },
        {
          "output_type": "stream",
          "name": "stderr",
          "text": [
            "       6/10         0G     0.8885      1.423      1.227         16        640: 100%|██████████| 60/60 [14:05<00:00, 14.09s/it]\n",
            "                 Class     Images  Instances      Box(P          R      mAP50  mAP50-95): 100%|██████████| 4/4 [00:37<00:00,  9.34s/it]"
          ]
        },
        {
          "output_type": "stream",
          "name": "stdout",
          "text": [
            "                   all        120        161      0.768      0.709      0.737      0.507\n"
          ]
        },
        {
          "output_type": "stream",
          "name": "stderr",
          "text": [
            "\n"
          ]
        },
        {
          "output_type": "stream",
          "name": "stdout",
          "text": [
            "\n",
            "      Epoch    GPU_mem   box_loss   cls_loss   dfl_loss  Instances       Size\n"
          ]
        },
        {
          "output_type": "stream",
          "name": "stderr",
          "text": [
            "       7/10         0G     0.8322      1.322      1.188         22        640: 100%|██████████| 60/60 [13:53<00:00, 13.90s/it]\n",
            "                 Class     Images  Instances      Box(P          R      mAP50  mAP50-95): 100%|██████████| 4/4 [00:36<00:00,  9.23s/it]"
          ]
        },
        {
          "output_type": "stream",
          "name": "stdout",
          "text": [
            "                   all        120        161      0.654      0.793      0.779      0.525\n"
          ]
        },
        {
          "output_type": "stream",
          "name": "stderr",
          "text": [
            "\n"
          ]
        },
        {
          "output_type": "stream",
          "name": "stdout",
          "text": [
            "\n",
            "      Epoch    GPU_mem   box_loss   cls_loss   dfl_loss  Instances       Size\n"
          ]
        },
        {
          "output_type": "stream",
          "name": "stderr",
          "text": [
            "       8/10         0G      0.776      1.206      1.153         18        640: 100%|██████████| 60/60 [13:51<00:00, 13.85s/it]\n",
            "                 Class     Images  Instances      Box(P          R      mAP50  mAP50-95): 100%|██████████| 4/4 [00:38<00:00,  9.64s/it]"
          ]
        },
        {
          "output_type": "stream",
          "name": "stdout",
          "text": [
            "                   all        120        161      0.751      0.865      0.814      0.631\n"
          ]
        },
        {
          "output_type": "stream",
          "name": "stderr",
          "text": [
            "\n"
          ]
        },
        {
          "output_type": "stream",
          "name": "stdout",
          "text": [
            "\n",
            "      Epoch    GPU_mem   box_loss   cls_loss   dfl_loss  Instances       Size\n"
          ]
        },
        {
          "output_type": "stream",
          "name": "stderr",
          "text": [
            "       9/10         0G     0.6923      1.064      1.103         18        640: 100%|██████████| 60/60 [13:58<00:00, 13.98s/it]\n",
            "                 Class     Images  Instances      Box(P          R      mAP50  mAP50-95): 100%|██████████| 4/4 [00:37<00:00,  9.28s/it]"
          ]
        },
        {
          "output_type": "stream",
          "name": "stdout",
          "text": [
            "                   all        120        161      0.815      0.727      0.818      0.655\n"
          ]
        },
        {
          "output_type": "stream",
          "name": "stderr",
          "text": [
            "\n"
          ]
        },
        {
          "output_type": "stream",
          "name": "stdout",
          "text": [
            "\n",
            "      Epoch    GPU_mem   box_loss   cls_loss   dfl_loss  Instances       Size\n"
          ]
        },
        {
          "output_type": "stream",
          "name": "stderr",
          "text": [
            "      10/10         0G     0.6427     0.9693      1.068         17        640: 100%|██████████| 60/60 [13:55<00:00, 13.93s/it]\n",
            "                 Class     Images  Instances      Box(P          R      mAP50  mAP50-95): 100%|██████████| 4/4 [00:36<00:00,  9.21s/it]"
          ]
        },
        {
          "output_type": "stream",
          "name": "stdout",
          "text": [
            "                   all        120        161      0.801      0.872      0.872      0.701\n"
          ]
        },
        {
          "output_type": "stream",
          "name": "stderr",
          "text": [
            "\n"
          ]
        },
        {
          "output_type": "stream",
          "name": "stdout",
          "text": [
            "\n",
            "10 epochs completed in 2.443 hours.\n",
            "Optimizer stripped from runs/detect/train/weights/last.pt, 6.2MB\n",
            "Optimizer stripped from runs/detect/train/weights/best.pt, 6.2MB\n",
            "\n",
            "Validating runs/detect/train/weights/best.pt...\n",
            "Ultralytics 8.3.158 🚀 Python-3.11.13 torch-2.6.0+cu124 CPU (Intel Xeon 2.20GHz)\n",
            "Model summary (fused): 72 layers, 3,006,233 parameters, 0 gradients, 8.1 GFLOPs\n"
          ]
        },
        {
          "output_type": "stream",
          "name": "stderr",
          "text": [
            "                 Class     Images  Instances      Box(P          R      mAP50  mAP50-95): 100%|██████████| 4/4 [00:34<00:00,  8.56s/it]\n"
          ]
        },
        {
          "output_type": "stream",
          "name": "stdout",
          "text": [
            "                   all        120        161      0.804      0.871      0.872      0.701\n",
            "               bicycle         47         73      0.707      0.729      0.784      0.553\n",
            "                  boat         19         20      0.825        0.9      0.852      0.687\n",
            "                   car         53         68      0.879      0.985       0.98      0.862\n",
            "Speed: 3.7ms preprocess, 256.9ms inference, 0.0ms loss, 1.3ms postprocess per image\n",
            "Results saved to \u001b[1mruns/detect/train\u001b[0m\n",
            "\n",
            "image 1/106 /content/drive/MyDrive/thesisdataset/test/images/test-1-_jpg.rf.4a198a946039b0f170515881a2194f05.jpg: 640x640 (no detections), 347.6ms\n",
            "image 2/106 /content/drive/MyDrive/thesisdataset/test/images/test-10-_jpg.rf.6ea34c157a9dc002f4b927d21598bda0.jpg: 640x640 2 boats, 410.4ms\n",
            "image 3/106 /content/drive/MyDrive/thesisdataset/test/images/test-100-_jpg.rf.14fece15b290f9c0d2656d4c24e6d430.jpg: 640x640 1 car, 355.6ms\n",
            "image 4/106 /content/drive/MyDrive/thesisdataset/test/images/test-101-_jpg.rf.9fe8f417a347e0e49afa938d657c2f5f.jpg: 640x640 1 car, 345.1ms\n",
            "image 5/106 /content/drive/MyDrive/thesisdataset/test/images/test-102-_jpg.rf.7121fe449a6277035d303f4fe9b6cde3.jpg: 640x640 1 car, 374.7ms\n",
            "image 6/106 /content/drive/MyDrive/thesisdataset/test/images/test-103-_jpg.rf.7aefcc9276fd498ef4eb49b4dc2d729a.jpg: 640x640 1 car, 345.3ms\n",
            "image 7/106 /content/drive/MyDrive/thesisdataset/test/images/test-104-_jpg.rf.c8899ceff38b8248cbc3dfea40f8de98.jpg: 640x640 1 car, 287.0ms\n",
            "image 8/106 /content/drive/MyDrive/thesisdataset/test/images/test-105-_jpg.rf.0c26ea6b27a14254e9197bf645762a09.jpg: 640x640 1 boat, 230.0ms\n",
            "image 9/106 /content/drive/MyDrive/thesisdataset/test/images/test-106-_jpg.rf.56b1763c1356872598175f78fc2fdf5a.jpg: 640x640 1 boat, 237.6ms\n",
            "image 10/106 /content/drive/MyDrive/thesisdataset/test/images/test-107-_jpg.rf.5d63fcfe773c738a4345d6df4f139813.jpg: 640x640 1 boat, 218.3ms\n",
            "image 11/106 /content/drive/MyDrive/thesisdataset/test/images/test-108-_jpg.rf.d2b83cc2ddf969ec156f4e466716737b.jpg: 640x640 1 boat, 223.0ms\n",
            "image 12/106 /content/drive/MyDrive/thesisdataset/test/images/test-11-_jpg.rf.afbfefd24af852b1a489c3beea806511.jpg: 640x640 2 boats, 221.8ms\n",
            "image 13/106 /content/drive/MyDrive/thesisdataset/test/images/test-112-_jpg.rf.5d88656e113dea971f8a16a066d73dfe.jpg: 640x640 (no detections), 240.0ms\n",
            "image 14/106 /content/drive/MyDrive/thesisdataset/test/images/test-114-_jpg.rf.f5bfa25b841db63fe4ee9f5554e90e58.jpg: 640x640 1 car, 224.8ms\n",
            "image 15/106 /content/drive/MyDrive/thesisdataset/test/images/test-115-_jpg.rf.43472a5899584e627abba70227592f9b.jpg: 640x640 3 cars, 222.5ms\n",
            "image 16/106 /content/drive/MyDrive/thesisdataset/test/images/test-116-_jpg.rf.9011957f305c7eb67c550ba7981b3726.jpg: 640x640 1 car, 223.1ms\n",
            "image 17/106 /content/drive/MyDrive/thesisdataset/test/images/test-117-_jpg.rf.836d305270a30cf0d6f24c0c4868e60b.jpg: 640x640 1 car, 239.9ms\n",
            "image 18/106 /content/drive/MyDrive/thesisdataset/test/images/test-118-_jpg.rf.bd57595341d17bde72a10aa0618730bf.jpg: 640x640 1 car, 224.6ms\n",
            "image 19/106 /content/drive/MyDrive/thesisdataset/test/images/test-119-_jpg.rf.e99de09546360be3a6bdcab43d639832.jpg: 640x640 1 car, 228.6ms\n",
            "image 20/106 /content/drive/MyDrive/thesisdataset/test/images/test-12-_jpg.rf.3164ca103440289288b33e1479a64ac9.jpg: 640x640 1 boat, 224.2ms\n",
            "image 21/106 /content/drive/MyDrive/thesisdataset/test/images/test-120-_jpg.rf.6297e45ffea80b21ec4afb25e274541b.jpg: 640x640 1 car, 224.0ms\n",
            "image 22/106 /content/drive/MyDrive/thesisdataset/test/images/test-121-_jpg.rf.4c80ef41c8e80fdee3903982a32f9838.jpg: 640x640 1 car, 222.8ms\n",
            "image 23/106 /content/drive/MyDrive/thesisdataset/test/images/test-122-_jpg.rf.f1c586eeddfa31e5dc49f1944d86340f.jpg: 640x640 1 car, 226.9ms\n",
            "image 24/106 /content/drive/MyDrive/thesisdataset/test/images/test-123-_jpg.rf.aa3aeedd58b55a61962d406787a8d5c5.jpg: 640x640 1 car, 222.0ms\n",
            "image 25/106 /content/drive/MyDrive/thesisdataset/test/images/test-124-_jpg.rf.8d3ceb5d7b99dbb38275acd93ad9ebca.jpg: 640x640 1 car, 224.5ms\n",
            "image 26/106 /content/drive/MyDrive/thesisdataset/test/images/test-125-_jpg.rf.524719fbf54f005be4fa09f89efc299d.jpg: 640x640 1 car, 237.5ms\n",
            "image 27/106 /content/drive/MyDrive/thesisdataset/test/images/test-126-_jpg.rf.467467072dc58b877aff7d8f22b6f1dc.jpg: 640x640 (no detections), 222.7ms\n",
            "image 28/106 /content/drive/MyDrive/thesisdataset/test/images/test-127-_jpg.rf.08a36d5a3d959b4abe0e5a267f293f59.jpg: 640x640 (no detections), 216.6ms\n",
            "image 29/106 /content/drive/MyDrive/thesisdataset/test/images/test-128-_jpg.rf.bf3f57e995e27e68da74691a1c30effd.jpg: 640x640 (no detections), 226.9ms\n",
            "image 30/106 /content/drive/MyDrive/thesisdataset/test/images/test-129-_jpg.rf.01163a19c5b241dcd9fbb765afae533c.jpg: 640x640 (no detections), 247.0ms\n",
            "image 31/106 /content/drive/MyDrive/thesisdataset/test/images/test-13-_jpg.rf.40a610771968be6fda3931ec1063182f.jpg: 640x640 2 boats, 221.7ms\n",
            "image 32/106 /content/drive/MyDrive/thesisdataset/test/images/test-130-_jpg.rf.296913d2a5cb563a4e81f7e656adac59.jpg: 640x640 (no detections), 230.0ms\n",
            "image 33/106 /content/drive/MyDrive/thesisdataset/test/images/test-14-_jpg.rf.b53326d248c7e0bb309ea45292d49102.jpg: 640x640 (no detections), 226.2ms\n",
            "image 34/106 /content/drive/MyDrive/thesisdataset/test/images/test-15-_jpg.rf.da5bd4ff5daad48d8aff917210e66207.jpg: 640x640 (no detections), 242.8ms\n",
            "image 35/106 /content/drive/MyDrive/thesisdataset/test/images/test-16-_jpg.rf.7bda399d8e5c5a2ab48321313d7cb35b.jpg: 640x640 (no detections), 218.1ms\n",
            "image 36/106 /content/drive/MyDrive/thesisdataset/test/images/test-17-_jpg.rf.f7eeb897551b76089466fe775d0bb3bf.jpg: 640x640 (no detections), 219.3ms\n",
            "image 37/106 /content/drive/MyDrive/thesisdataset/test/images/test-2-_jpg.rf.2b7c7ac7474174ee0e87ec1a7958047f.jpg: 640x640 1 car, 224.2ms\n",
            "image 38/106 /content/drive/MyDrive/thesisdataset/test/images/test-20-_jpg.rf.521c5c00cf64af6e17c9be21c0d63170.jpg: 640x640 (no detections), 226.9ms\n",
            "image 39/106 /content/drive/MyDrive/thesisdataset/test/images/test-21-_jpg.rf.b60fe1d8bdd1b0204fdeee05e76e4796.jpg: 640x640 (no detections), 235.3ms\n",
            "image 40/106 /content/drive/MyDrive/thesisdataset/test/images/test-22-_jpg.rf.94214faf09a9b6eeea88fa0f96272b5b.jpg: 640x640 (no detections), 220.9ms\n",
            "image 41/106 /content/drive/MyDrive/thesisdataset/test/images/test-23-_jpg.rf.b51a5337fdfe70d2cc81e0929060bd4d.jpg: 640x640 1 bicycle, 224.5ms\n",
            "image 42/106 /content/drive/MyDrive/thesisdataset/test/images/test-24-_jpg.rf.d6dd1fc9cb71db35b93a0ac8eaa7c5a8.jpg: 640x640 1 bicycle, 218.5ms\n",
            "image 43/106 /content/drive/MyDrive/thesisdataset/test/images/test-25-_jpg.rf.c138d290887b8ecf89dd889741d38ef2.jpg: 640x640 (no detections), 232.7ms\n",
            "image 44/106 /content/drive/MyDrive/thesisdataset/test/images/test-26-_jpg.rf.95a50da1823f9e8a14f4046f5dd24053.jpg: 640x640 1 bicycle, 218.3ms\n",
            "image 45/106 /content/drive/MyDrive/thesisdataset/test/images/test-27-_jpg.rf.7f2b3b901b5e65111456228ba31f8a75.jpg: 640x640 2 bicycles, 221.7ms\n",
            "image 46/106 /content/drive/MyDrive/thesisdataset/test/images/test-29-_jpg.rf.0bb88bb0c8c5cc41afd01a9b886ceaea.jpg: 640x640 1 bicycle, 216.0ms\n",
            "image 47/106 /content/drive/MyDrive/thesisdataset/test/images/test-3-_jpg.rf.98bec641d6bdc48dfe659ae58e391eee.jpg: 640x640 1 car, 239.2ms\n",
            "image 48/106 /content/drive/MyDrive/thesisdataset/test/images/test-30-_jpg.rf.32a07aaa427eda63fd8a63fd8c578300.jpg: 640x640 1 bicycle, 250.0ms\n",
            "image 49/106 /content/drive/MyDrive/thesisdataset/test/images/test-31-_jpg.rf.a74c42c6a242e23198284a385bfdb49a.jpg: 640x640 (no detections), 348.5ms\n",
            "image 50/106 /content/drive/MyDrive/thesisdataset/test/images/test-32-_jpg.rf.ec5c1350ad243802bba5d309d3c0d36e.jpg: 640x640 (no detections), 335.6ms\n",
            "image 51/106 /content/drive/MyDrive/thesisdataset/test/images/test-33-_jpg.rf.10dfd163c21e04da53be9a9f0ecb45d3.jpg: 640x640 (no detections), 364.1ms\n",
            "image 52/106 /content/drive/MyDrive/thesisdataset/test/images/test-34-_jpg.rf.a71f64f6ca8e0d70a57563cb97ac96fc.jpg: 640x640 (no detections), 343.1ms\n",
            "image 53/106 /content/drive/MyDrive/thesisdataset/test/images/test-35-_jpg.rf.731a149ba0bd24b6f72de92eabecf54a.jpg: 640x640 3 bicycles, 345.2ms\n",
            "image 54/106 /content/drive/MyDrive/thesisdataset/test/images/test-36-_jpg.rf.f852e378a0cd46b879167558f140880d.jpg: 640x640 2 bicycles, 346.3ms\n",
            "image 55/106 /content/drive/MyDrive/thesisdataset/test/images/test-37-_jpg.rf.259f510890a19868fc9b4b43fe533bee.jpg: 640x640 2 bicycles, 334.5ms\n",
            "image 56/106 /content/drive/MyDrive/thesisdataset/test/images/test-38-_jpg.rf.245fd3f96e686f30abde07c64b82e2d0.jpg: 640x640 1 bicycle, 339.8ms\n",
            "image 57/106 /content/drive/MyDrive/thesisdataset/test/images/test-39-_jpg.rf.d0886d793fc0cf71bf15766adc8972b4.jpg: 640x640 (no detections), 349.8ms\n",
            "image 58/106 /content/drive/MyDrive/thesisdataset/test/images/test-4-_jpg.rf.e16a290f3e4078b1f9ba2a14b489cada.jpg: 640x640 1 car, 346.4ms\n",
            "image 59/106 /content/drive/MyDrive/thesisdataset/test/images/test-40-_jpg.rf.20ed875c6c0a29dad898406f3f254134.jpg: 640x640 1 bicycle, 392.2ms\n",
            "image 60/106 /content/drive/MyDrive/thesisdataset/test/images/test-41-_jpg.rf.e0d72bebae8fd51389d781e79494fead.jpg: 640x640 1 car, 325.8ms\n",
            "image 61/106 /content/drive/MyDrive/thesisdataset/test/images/test-42-_jpg.rf.b29813d923705b49e329447fdb2e32a4.jpg: 640x640 1 car, 222.4ms\n",
            "image 62/106 /content/drive/MyDrive/thesisdataset/test/images/test-43-_jpg.rf.496c0c02ad491fef1f7fbeb8ca1e4678.jpg: 640x640 1 car, 220.8ms\n",
            "image 63/106 /content/drive/MyDrive/thesisdataset/test/images/test-44-_jpg.rf.8c8f378ed74b263eb959ddde7a03e5a3.jpg: 640x640 1 car, 242.4ms\n",
            "image 64/106 /content/drive/MyDrive/thesisdataset/test/images/test-45-_jpg.rf.27fa26f0fc86cd201de2dd7cbc20f9c6.jpg: 640x640 1 car, 222.2ms\n",
            "image 65/106 /content/drive/MyDrive/thesisdataset/test/images/test-46-_jpg.rf.77cdddc314495671c386fabd738b9041.jpg: 640x640 1 car, 227.5ms\n",
            "image 66/106 /content/drive/MyDrive/thesisdataset/test/images/test-47-_jpg.rf.aca8bb71f6592dee7d6e62de59804259.jpg: 640x640 1 car, 226.2ms\n",
            "image 67/106 /content/drive/MyDrive/thesisdataset/test/images/test-5-_jpg.rf.ba216e9ebeec9096810d459fad637133.jpg: 640x640 1 car, 236.8ms\n",
            "image 68/106 /content/drive/MyDrive/thesisdataset/test/images/test-50-_jpg.rf.06e6bd3f3877834686a45ff2167b39db.jpg: 640x640 (no detections), 220.5ms\n",
            "image 69/106 /content/drive/MyDrive/thesisdataset/test/images/test-51-_jpg.rf.e1821386b4579d01fde7fcfa3fc2896a.jpg: 640x640 1 bicycle, 228.3ms\n",
            "image 70/106 /content/drive/MyDrive/thesisdataset/test/images/test-54-_jpg.rf.685fc3ed8c9a97e5d03bc53b831af8cd.jpg: 640x640 1 bicycle, 212.5ms\n",
            "image 71/106 /content/drive/MyDrive/thesisdataset/test/images/test-55-_jpg.rf.2148aee5f70048ed104d5d3a5d11f3aa.jpg: 640x640 (no detections), 216.7ms\n",
            "image 72/106 /content/drive/MyDrive/thesisdataset/test/images/test-56-_jpg.rf.fa32a46a81c4911ce17f4effe10e825d.jpg: 640x640 (no detections), 245.5ms\n",
            "image 73/106 /content/drive/MyDrive/thesisdataset/test/images/test-57-_jpg.rf.450392ba3f84392262efaa314dd09832.jpg: 640x640 2 bicycles, 1 car, 230.6ms\n",
            "image 74/106 /content/drive/MyDrive/thesisdataset/test/images/test-58-_jpg.rf.bc92fd299ef2df80117f9a94f756fc16.jpg: 640x640 1 bicycle, 222.8ms\n",
            "image 75/106 /content/drive/MyDrive/thesisdataset/test/images/test-59-_jpg.rf.b27254735b85bfa1ca6a426cb4b6f802.jpg: 640x640 1 car, 222.4ms\n",
            "image 76/106 /content/drive/MyDrive/thesisdataset/test/images/test-6-_jpg.rf.5e539a6b09d91491dfac4073656f9155.jpg: 640x640 1 car, 236.8ms\n",
            "image 77/106 /content/drive/MyDrive/thesisdataset/test/images/test-60-_jpg.rf.2bb52339275fd567e09378e5ebe42d79.jpg: 640x640 1 car, 218.5ms\n",
            "image 78/106 /content/drive/MyDrive/thesisdataset/test/images/test-61-_jpg.rf.5e7bc4d861cfbe8d2b3f63018088ffc8.jpg: 640x640 1 car, 220.3ms\n",
            "image 79/106 /content/drive/MyDrive/thesisdataset/test/images/test-62-_jpg.rf.af82e9e91969a361071c1cbde929a5f5.jpg: 640x640 1 car, 215.6ms\n",
            "image 80/106 /content/drive/MyDrive/thesisdataset/test/images/test-63-_jpg.rf.507a6edea2b735af49c8fce455ef4e88.jpg: 640x640 1 car, 239.4ms\n",
            "image 81/106 /content/drive/MyDrive/thesisdataset/test/images/test-64-_jpg.rf.e5f6a66ceafa3395a923cda509627328.jpg: 640x640 1 car, 217.7ms\n",
            "image 82/106 /content/drive/MyDrive/thesisdataset/test/images/test-65-_jpg.rf.cb87836d482aefe9438fc45d111134ca.jpg: 640x640 1 car, 216.0ms\n",
            "image 83/106 /content/drive/MyDrive/thesisdataset/test/images/test-66-_jpg.rf.f7483d22fb297d45a815b5bdc37f300d.jpg: 640x640 1 car, 219.9ms\n",
            "image 84/106 /content/drive/MyDrive/thesisdataset/test/images/test-7-_jpg.rf.dc114385bfd8b411fe9d24dcbf946dc4.jpg: 640x640 (no detections), 220.5ms\n",
            "image 85/106 /content/drive/MyDrive/thesisdataset/test/images/test-72-_jpg.rf.6c537ec85bbf7053b5b370439a0abea1.jpg: 640x640 (no detections), 238.0ms\n",
            "image 86/106 /content/drive/MyDrive/thesisdataset/test/images/test-73-_jpg.rf.ca53f83e18b109bb0008466517119322.jpg: 640x640 (no detections), 222.9ms\n",
            "image 87/106 /content/drive/MyDrive/thesisdataset/test/images/test-74-_jpg.rf.8a5972e4b844a22ea623c7f6299cc73f.jpg: 640x640 (no detections), 224.1ms\n",
            "image 88/106 /content/drive/MyDrive/thesisdataset/test/images/test-75-_jpg.rf.db4f08a46ef0ca2aef4ec54897e2e11c.jpg: 640x640 (no detections), 221.6ms\n",
            "image 89/106 /content/drive/MyDrive/thesisdataset/test/images/test-76-_jpg.rf.39b364497992fe2e0aee5e63c0fac807.jpg: 640x640 2 cars, 239.7ms\n",
            "image 90/106 /content/drive/MyDrive/thesisdataset/test/images/test-77-_jpg.rf.ef7bdf1a03b3ac762c23b09ddd4036c6.jpg: 640x640 1 car, 219.3ms\n",
            "image 91/106 /content/drive/MyDrive/thesisdataset/test/images/test-78-_jpg.rf.d996d2aab4ccedb6091fe9c39aca9e4d.jpg: 640x640 2 cars, 223.5ms\n",
            "image 92/106 /content/drive/MyDrive/thesisdataset/test/images/test-79-_jpg.rf.d6a7124e95c676b4cf9a1d0b051d9cb7.jpg: 640x640 1 car, 226.5ms\n",
            "image 93/106 /content/drive/MyDrive/thesisdataset/test/images/test-8-_jpg.rf.a59d4baa12e8a3305d77b9bb36e1f754.jpg: 640x640 (no detections), 239.7ms\n",
            "image 94/106 /content/drive/MyDrive/thesisdataset/test/images/test-83-_jpg.rf.8633ec0f9c7fde93290f793abe73d795.jpg: 640x640 2 cars, 224.2ms\n",
            "image 95/106 /content/drive/MyDrive/thesisdataset/test/images/test-84-_jpg.rf.9d8644f6dd648027ff4680f7eaa29ad5.jpg: 640x640 2 cars, 221.7ms\n",
            "image 96/106 /content/drive/MyDrive/thesisdataset/test/images/test-85-_jpg.rf.fe9130268b638681a7124c938fa9b695.jpg: 640x640 (no detections), 220.3ms\n",
            "image 97/106 /content/drive/MyDrive/thesisdataset/test/images/test-86-_jpg.rf.acb34580e8d7d001813e6bbc46e267e0.jpg: 640x640 (no detections), 226.4ms\n",
            "image 98/106 /content/drive/MyDrive/thesisdataset/test/images/test-87-_jpg.rf.d92f557c4d0d22460e0def9ff68391fd.jpg: 640x640 (no detections), 238.0ms\n",
            "image 99/106 /content/drive/MyDrive/thesisdataset/test/images/test-9-_jpg.rf.1d66244eddbca710604b730c5ef57825.jpg: 640x640 (no detections), 229.1ms\n",
            "image 100/106 /content/drive/MyDrive/thesisdataset/test/images/test-90-_jpg.rf.e9057a3bf5b427add21af8ee69389fd7.jpg: 640x640 (no detections), 216.9ms\n",
            "image 101/106 /content/drive/MyDrive/thesisdataset/test/images/test-91-_jpg.rf.e274922c153538aff9ba165b760f6083.jpg: 640x640 1 bicycle, 219.5ms\n",
            "image 102/106 /content/drive/MyDrive/thesisdataset/test/images/test-92-_jpg.rf.39f537504d5c0a9aa2f0fe484e1edff3.jpg: 640x640 1 bicycle, 329.3ms\n",
            "image 103/106 /content/drive/MyDrive/thesisdataset/test/images/test-94-_jpg.rf.546e1fb6474c43640f5aefdd99a5a839.jpg: 640x640 (no detections), 341.3ms\n",
            "image 104/106 /content/drive/MyDrive/thesisdataset/test/images/test-96-_jpg.rf.42bc24e5848942bfe0b22ff07aad1f46.jpg: 640x640 (no detections), 343.6ms\n",
            "image 105/106 /content/drive/MyDrive/thesisdataset/test/images/test-97-_jpg.rf.3bd78bedc12916691b7a2ee06538bae0.jpg: 640x640 (no detections), 348.6ms\n",
            "image 106/106 /content/drive/MyDrive/thesisdataset/test/images/test-98-_jpg.rf.a7ee81546b81c9baaee4395efe00a0cb.jpg: 640x640 (no detections), 335.3ms\n",
            "Speed: 3.5ms preprocess, 253.8ms inference, 1.3ms postprocess per image at shape (1, 3, 640, 640)\n",
            "Results saved to \u001b[1mruns/detect/train2\u001b[0m\n",
            "\n",
            "=== RESULTS PATHS ===\n",
            "1. Training outputs:       'runs/detect/train/'\n",
            "   - Training plots:       'runs/detect/train/results.png'\n",
            "   - Configuration:        'runs/detect/train/args.yaml'\n",
            "\n",
            "2. Best model weights:     'runs/detect/train/weights/best.pt'\n",
            "   - Last model weights:   'runs/detect/train/weights/last.pt'\n",
            "\n",
            "3. Test predictions:       'runs/detect/predict/'\n",
            "   - Predicted images:     'runs/detect/predict/*.jpg'\n",
            "   - Prediction labels:    'runs/detect/predict/labels/*.txt'\n",
            "\n"
          ]
        }
      ],
      "source": [
        "from ultralytics import YOLO\n",
        "\n",
        "# 1. Load model\n",
        "model = YOLO('yolov8n.pt')\n",
        "\n",
        "# 2. Train for 10 epochs\n",
        "model.train(\n",
        "    data='/content/drive/MyDrive/thesisdataset/data.yaml',\n",
        "    epochs=10,\n",
        "    imgsz=640,\n",
        "    device='cpu'  # Change to '0' for GPU\n",
        ")\n",
        "\n",
        "# 3. Test the model\n",
        "model.predict(\n",
        "    source='/content/drive/MyDrive/thesisdataset/test/images',\n",
        "    conf=0.5,\n",
        "    save=True\n",
        ")\n",
        "\n",
        "# Where to find everything (printed after completion)\n",
        "print(f\"\"\"\n",
        "=== RESULTS PATHS ===\n",
        "1. Training outputs:       'runs/detect/train/'\n",
        "   - Training plots:       'runs/detect/train/results.png'\n",
        "   - Configuration:        'runs/detect/train/args.yaml'\n",
        "\n",
        "2. Best model weights:     'runs/detect/train/weights/best.pt'\n",
        "   - Last model weights:   'runs/detect/train/weights/last.pt'\n",
        "\n",
        "3. Test predictions:       'runs/detect/predict/'\n",
        "   - Predicted images:     'runs/detect/predict/*.jpg'\n",
        "   - Prediction labels:    'runs/detect/predict/labels/*.txt'\n",
        "\"\"\")"
      ]
    },
    {
      "cell_type": "code",
      "source": [
        "from ultralytics import YOLO\n",
        "from google.colab import drive\n",
        "import os\n",
        "from datetime import datetime\n",
        "import torch  # Added missing import\n",
        "\n",
        "# 1. Mount Google Drive\n",
        "drive.mount('/content/drive')\n",
        "\n",
        "# Create directory for intermediate models\n",
        "model_backup_dir = '/content/drive/MyDrive/thesisdataset/intermediate_models'\n",
        "os.makedirs(model_backup_dir, exist_ok=True)\n",
        "\n",
        "# Custom callback for periodic saving\n",
        "def on_train_epoch_end(trainer):\n",
        "    # Save every 5 epochs (adjust as needed)\n",
        "    if trainer.epoch % 5 == 0:\n",
        "        timestamp = datetime.now().strftime(\"%Y%m%d_%H%M%S\")\n",
        "        backup_path = f\"{model_backup_dir}/interim_epoch_{trainer.epoch}_{timestamp}.pt\"\n",
        "\n",
        "        # Get the model from trainer\n",
        "        model = trainer.ema.ema if hasattr(trainer, 'ema') else trainer.model\n",
        "\n",
        "        # Save model weights\n",
        "        torch.save({\n",
        "            'epoch': trainer.epoch,\n",
        "            'model_state_dict': model.state_dict(),\n",
        "            'optimizer_state_dict': trainer.optimizer.state_dict(),\n",
        "            'loss': trainer.loss,\n",
        "        }, backup_path)\n",
        "\n",
        "        print(f\"\\nSaved intermediate model to {backup_path}\")\n",
        "\n",
        "# 2. Initialize YOLO model\n",
        "model = YOLO('yolov8n.pt')\n",
        "\n",
        "# Add the callback\n",
        "model.add_callback(\"on_train_epoch_end\", on_train_epoch_end)\n",
        "\n",
        "# 3. Train the model with optimized parameters\n",
        "results = model.train(\n",
        "    data='/content/drive/MyDrive/thesisdataset/data.yaml',\n",
        "    epochs=100,\n",
        "    imgsz=640,\n",
        "    batch=16,\n",
        "    device='0',\n",
        "    patience=5,\n",
        "    optimizer='AdamW',\n",
        "    lr0=0.001,\n",
        "    lrf=0.01,\n",
        "    weight_decay=0.0005,\n",
        "    warmup_epochs=3,\n",
        "    warmup_momentum=0.8,\n",
        "    hsv_h=0.015,\n",
        "    hsv_s=0.7,\n",
        "    hsv_v=0.4,\n",
        "    degrees=10.0,\n",
        "    translate=0.1,\n",
        "    scale=0.5,\n",
        "    shear=2.0,\n",
        "    perspective=0.0001,\n",
        "    flipud=0.5,\n",
        "    fliplr=0.5,\n",
        "    mosaic=1.0,\n",
        "    mixup=0.1,\n",
        "    copy_paste=0.1,\n",
        "    save_period=5,  # YOLO's built-in save period\n",
        "    workers=4,\n",
        "    single_cls=False,\n",
        "    val=True,\n",
        "    plots=True,\n",
        "    seed=42\n",
        ")\n",
        "\n",
        "# 4. Save final model to Drive\n",
        "!mkdir -p '/content/drive/MyDrive/thesisdataset/models'\n",
        "!cp 'runs/detect/train2/weights/best.pt' '/content/drive/MyDrive/thesisdataset/models/'\n",
        "\n",
        "# 5. Load the best model for testing\n",
        "best_model = YOLO('/content/drive/MyDrive/thesisdataset/models/best.pt')\n",
        "\n",
        "# 6. Test on the no_leakage_dataset2/test dataset\n",
        "test_results = best_model.predict(\n",
        "    source='/content/drive/MyDrive/no_leakage_dataset2/test/images',\n",
        "    conf=0.25,\n",
        "    iou=0.45,\n",
        "    imgsz=640,\n",
        "    device='0',\n",
        "    save=True,\n",
        "    save_txt=True,\n",
        "    save_conf=True,\n",
        "    save_json=True,\n",
        "    project='no_leakage_test_results',\n",
        "    name='predictions',\n",
        "    exist_ok=True\n",
        ")\n",
        "\n",
        "# 7. Save test results back to Drive\n",
        "!mkdir -p '/content/drive/MyDrive/no_leakage_dataset2/test_results'\n",
        "!cp -r 'no_leakage_test_results' '/content/drive/MyDrive/no_leakage_dataset2/test_results/'\n",
        "\n",
        "# 8. Performance metrics\n",
        "if test_results:\n",
        "    print(\"\\n=== TEST PERFORMANCE METRICS ===\")\n",
        "    for i, result in enumerate(test_results):\n",
        "        print(f\"\\nImage {i+1}:\")\n",
        "        print(f\"Detected objects: {len(result.boxes)}\")\n",
        "        if len(result.boxes) > 0:\n",
        "            print(f\"Average confidence: {result.boxes.conf.mean().item():.2f}\")\n",
        "            print(f\"Class distribution: {result.boxes.cls.cpu().numpy().astype(int).tolist()}\")\n",
        "\n",
        "    # Calculate overall metrics\n",
        "    all_confs = [box.conf.item() for result in test_results for box in result.boxes]\n",
        "    if all_confs:\n",
        "        print(f\"\\nOverall average confidence: {sum(all_confs)/len(all_confs):.2f}\")\n",
        "    print(f\"Total detections across all test images: {len(all_confs)}\")"
      ],
      "metadata": {
        "colab": {
          "base_uri": "https://localhost:8080/"
        },
        "id": "9S-Kd7AUAlq9",
        "outputId": "9f4596a7-15de-4031-dab5-c94346123d50"
      },
      "execution_count": null,
      "outputs": [
        {
          "output_type": "stream",
          "name": "stdout",
          "text": [
            "Drive already mounted at /content/drive; to attempt to forcibly remount, call drive.mount(\"/content/drive\", force_remount=True).\n",
            "Ultralytics 8.3.160 🚀 Python-3.11.13 torch-2.6.0+cu124 CUDA:0 (Tesla T4, 15095MiB)\n",
            "\u001b[34m\u001b[1mengine/trainer: \u001b[0magnostic_nms=False, amp=True, augment=False, auto_augment=randaugment, batch=16, bgr=0.0, box=7.5, cache=False, cfg=None, classes=None, close_mosaic=10, cls=0.5, conf=None, copy_paste=0.1, copy_paste_mode=flip, cos_lr=False, cutmix=0.0, data=/content/drive/MyDrive/thesisdataset/data.yaml, degrees=10.0, deterministic=True, device=0, dfl=1.5, dnn=False, dropout=0.0, dynamic=False, embed=None, epochs=100, erasing=0.4, exist_ok=False, fliplr=0.5, flipud=0.5, format=torchscript, fraction=1.0, freeze=None, half=False, hsv_h=0.015, hsv_s=0.7, hsv_v=0.4, imgsz=640, int8=False, iou=0.7, keras=False, kobj=1.0, line_width=None, lr0=0.001, lrf=0.01, mask_ratio=4, max_det=300, mixup=0.1, mode=train, model=yolov8n.pt, momentum=0.937, mosaic=1.0, multi_scale=False, name=train4, nbs=64, nms=False, opset=None, optimize=False, optimizer=AdamW, overlap_mask=True, patience=5, perspective=0.0001, plots=True, pose=12.0, pretrained=True, profile=False, project=None, rect=False, resume=False, retina_masks=False, save=True, save_conf=False, save_crop=False, save_dir=runs/detect/train4, save_frames=False, save_json=False, save_period=5, save_txt=False, scale=0.5, seed=42, shear=2.0, show=False, show_boxes=True, show_conf=True, show_labels=True, simplify=True, single_cls=False, source=None, split=val, stream_buffer=False, task=detect, time=None, tracker=botsort.yaml, translate=0.1, val=True, verbose=True, vid_stride=1, visualize=False, warmup_bias_lr=0.1, warmup_epochs=3, warmup_momentum=0.8, weight_decay=0.0005, workers=4, workspace=None\n",
            "Overriding model.yaml nc=80 with nc=3\n",
            "\n",
            "                   from  n    params  module                                       arguments                     \n",
            "  0                  -1  1       464  ultralytics.nn.modules.conv.Conv             [3, 16, 3, 2]                 \n",
            "  1                  -1  1      4672  ultralytics.nn.modules.conv.Conv             [16, 32, 3, 2]                \n",
            "  2                  -1  1      7360  ultralytics.nn.modules.block.C2f             [32, 32, 1, True]             \n",
            "  3                  -1  1     18560  ultralytics.nn.modules.conv.Conv             [32, 64, 3, 2]                \n",
            "  4                  -1  2     49664  ultralytics.nn.modules.block.C2f             [64, 64, 2, True]             \n",
            "  5                  -1  1     73984  ultralytics.nn.modules.conv.Conv             [64, 128, 3, 2]               \n",
            "  6                  -1  2    197632  ultralytics.nn.modules.block.C2f             [128, 128, 2, True]           \n",
            "  7                  -1  1    295424  ultralytics.nn.modules.conv.Conv             [128, 256, 3, 2]              \n",
            "  8                  -1  1    460288  ultralytics.nn.modules.block.C2f             [256, 256, 1, True]           \n",
            "  9                  -1  1    164608  ultralytics.nn.modules.block.SPPF            [256, 256, 5]                 \n",
            " 10                  -1  1         0  torch.nn.modules.upsampling.Upsample         [None, 2, 'nearest']          \n",
            " 11             [-1, 6]  1         0  ultralytics.nn.modules.conv.Concat           [1]                           \n",
            " 12                  -1  1    148224  ultralytics.nn.modules.block.C2f             [384, 128, 1]                 \n",
            " 13                  -1  1         0  torch.nn.modules.upsampling.Upsample         [None, 2, 'nearest']          \n",
            " 14             [-1, 4]  1         0  ultralytics.nn.modules.conv.Concat           [1]                           \n",
            " 15                  -1  1     37248  ultralytics.nn.modules.block.C2f             [192, 64, 1]                  \n",
            " 16                  -1  1     36992  ultralytics.nn.modules.conv.Conv             [64, 64, 3, 2]                \n",
            " 17            [-1, 12]  1         0  ultralytics.nn.modules.conv.Concat           [1]                           \n",
            " 18                  -1  1    123648  ultralytics.nn.modules.block.C2f             [192, 128, 1]                 \n",
            " 19                  -1  1    147712  ultralytics.nn.modules.conv.Conv             [128, 128, 3, 2]              \n",
            " 20             [-1, 9]  1         0  ultralytics.nn.modules.conv.Concat           [1]                           \n",
            " 21                  -1  1    493056  ultralytics.nn.modules.block.C2f             [384, 256, 1]                 \n",
            " 22        [15, 18, 21]  1    751897  ultralytics.nn.modules.head.Detect           [3, [64, 128, 256]]           \n",
            "Model summary: 129 layers, 3,011,433 parameters, 3,011,417 gradients, 8.2 GFLOPs\n",
            "\n",
            "Transferred 319/355 items from pretrained weights\n",
            "Freezing layer 'model.22.dfl.conv.weight'\n",
            "\u001b[34m\u001b[1mAMP: \u001b[0mrunning Automatic Mixed Precision (AMP) checks...\n",
            "\u001b[34m\u001b[1mAMP: \u001b[0mchecks passed ✅\n",
            "\u001b[34m\u001b[1mtrain: \u001b[0mFast image access ✅ (ping: 0.3±0.1 ms, read: 21.1±9.5 MB/s, size: 40.9 KB)\n"
          ]
        },
        {
          "output_type": "stream",
          "name": "stderr",
          "text": [
            "\u001b[34m\u001b[1mtrain: \u001b[0mScanning /content/drive/MyDrive/train/labels.cache... 1770 images, 214 backgrounds, 0 corrupt: 100%|██████████| 1771/1771 [00:00<?, ?it/s]"
          ]
        },
        {
          "output_type": "stream",
          "name": "stdout",
          "text": [
            "\u001b[34m\u001b[1malbumentations: \u001b[0mBlur(p=0.01, blur_limit=(3, 7)), MedianBlur(p=0.01, blur_limit=(3, 7)), ToGray(p=0.01, method='weighted_average', num_output_channels=3), CLAHE(p=0.01, clip_limit=(1.0, 4.0), tile_grid_size=(8, 8))\n"
          ]
        },
        {
          "output_type": "stream",
          "name": "stderr",
          "text": [
            "\n"
          ]
        },
        {
          "output_type": "stream",
          "name": "stdout",
          "text": [
            "\u001b[34m\u001b[1mval: \u001b[0mFast image access ✅ (ping: 1.8±3.0 ms, read: 18.4±6.8 MB/s, size: 43.1 KB)\n"
          ]
        },
        {
          "output_type": "stream",
          "name": "stderr",
          "text": [
            "\u001b[34m\u001b[1mval: \u001b[0mScanning /content/drive/MyDrive/valid/labels.cache... 9 images, 15 backgrounds, 0 corrupt: 100%|██████████| 15/15 [00:00<?, ?it/s]"
          ]
        },
        {
          "output_type": "stream",
          "name": "stdout",
          "text": [
            "WARNING ⚠️ Labels are missing or empty in /content/drive/MyDrive/valid/labels.cache, training may not work correctly. See https://docs.ultralytics.com/datasets for dataset formatting guidance.\n"
          ]
        },
        {
          "output_type": "stream",
          "name": "stderr",
          "text": [
            "\n"
          ]
        },
        {
          "output_type": "stream",
          "name": "stdout",
          "text": [
            "Plotting labels to runs/detect/train4/labels.jpg... \n",
            "\u001b[34m\u001b[1moptimizer:\u001b[0m AdamW(lr=0.001, momentum=0.937) with parameter groups 57 weight(decay=0.0), 64 weight(decay=0.0005), 63 bias(decay=0.0)\n",
            "Image sizes 640 train, 640 val\n",
            "Using 2 dataloader workers\n",
            "Logging results to \u001b[1mruns/detect/train4\u001b[0m\n",
            "Starting training for 100 epochs...\n",
            "\n",
            "      Epoch    GPU_mem   box_loss   cls_loss   dfl_loss  Instances       Size\n"
          ]
        },
        {
          "output_type": "stream",
          "name": "stderr",
          "text": [
            "      1/100      2.17G      1.603      2.878      1.789         28        640: 100%|██████████| 111/111 [00:55<00:00,  2.02it/s]\n"
          ]
        },
        {
          "output_type": "stream",
          "name": "stdout",
          "text": [
            "\n",
            "Saved intermediate model to /content/drive/MyDrive/thesisdataset/intermediate_models/interim_epoch_0_20250629_131555.pt\n"
          ]
        },
        {
          "output_type": "stream",
          "name": "stderr",
          "text": [
            "                 Class     Images  Instances      Box(P          R      mAP50  mAP50-95): 100%|██████████| 1/1 [00:00<00:00,  7.93it/s]"
          ]
        },
        {
          "output_type": "stream",
          "name": "stdout",
          "text": [
            "                   all         15          0          0          0          0          0\n",
            "WARNING ⚠️ no labels found in detect set, can not compute metrics without labels\n"
          ]
        },
        {
          "output_type": "stream",
          "name": "stderr",
          "text": [
            "\n",
            "/usr/local/lib/python3.11/dist-packages/ultralytics/utils/metrics.py:765: RuntimeWarning: Mean of empty slice.\n",
            "  i = smooth(f1_curve.mean(0), 0.1).argmax()  # max F1 index\n",
            "/usr/local/lib/python3.11/dist-packages/numpy/_core/_methods.py:130: RuntimeWarning: invalid value encountered in divide\n",
            "  ret = um.true_divide(\n"
          ]
        },
        {
          "output_type": "stream",
          "name": "stdout",
          "text": [
            "\n",
            "      Epoch    GPU_mem   box_loss   cls_loss   dfl_loss  Instances       Size\n"
          ]
        },
        {
          "output_type": "stream",
          "name": "stderr",
          "text": [
            "      2/100       2.2G      1.546      2.332      1.741         41        640: 100%|██████████| 111/111 [00:42<00:00,  2.63it/s]\n",
            "                 Class     Images  Instances      Box(P          R      mAP50  mAP50-95): 100%|██████████| 1/1 [00:00<00:00,  6.82it/s]"
          ]
        },
        {
          "output_type": "stream",
          "name": "stdout",
          "text": [
            "                   all         15          0          0          0          0          0\n",
            "WARNING ⚠️ no labels found in detect set, can not compute metrics without labels\n"
          ]
        },
        {
          "output_type": "stream",
          "name": "stderr",
          "text": [
            "\n",
            "/usr/local/lib/python3.11/dist-packages/ultralytics/utils/metrics.py:765: RuntimeWarning: Mean of empty slice.\n",
            "  i = smooth(f1_curve.mean(0), 0.1).argmax()  # max F1 index\n",
            "/usr/local/lib/python3.11/dist-packages/numpy/_core/_methods.py:130: RuntimeWarning: invalid value encountered in divide\n",
            "  ret = um.true_divide(\n"
          ]
        },
        {
          "output_type": "stream",
          "name": "stdout",
          "text": [
            "\n",
            "      Epoch    GPU_mem   box_loss   cls_loss   dfl_loss  Instances       Size\n"
          ]
        },
        {
          "output_type": "stream",
          "name": "stderr",
          "text": [
            "      3/100       2.2G      1.522      2.221      1.754         45        640: 100%|██████████| 111/111 [00:39<00:00,  2.79it/s]\n",
            "                 Class     Images  Instances      Box(P          R      mAP50  mAP50-95): 100%|██████████| 1/1 [00:00<00:00,  5.40it/s]"
          ]
        },
        {
          "output_type": "stream",
          "name": "stdout",
          "text": [
            "                   all         15          0          0          0          0          0\n"
          ]
        },
        {
          "output_type": "stream",
          "name": "stderr",
          "text": [
            "\n",
            "/usr/local/lib/python3.11/dist-packages/ultralytics/utils/metrics.py:765: RuntimeWarning: Mean of empty slice.\n",
            "  i = smooth(f1_curve.mean(0), 0.1).argmax()  # max F1 index\n",
            "/usr/local/lib/python3.11/dist-packages/numpy/_core/_methods.py:130: RuntimeWarning: invalid value encountered in divide\n",
            "  ret = um.true_divide(\n"
          ]
        },
        {
          "output_type": "stream",
          "name": "stdout",
          "text": [
            "WARNING ⚠️ no labels found in detect set, can not compute metrics without labels\n",
            "\n",
            "      Epoch    GPU_mem   box_loss   cls_loss   dfl_loss  Instances       Size\n"
          ]
        },
        {
          "output_type": "stream",
          "name": "stderr",
          "text": [
            "      4/100       2.2G      1.497      2.158      1.733         28        640: 100%|██████████| 111/111 [00:40<00:00,  2.75it/s]\n",
            "                 Class     Images  Instances      Box(P          R      mAP50  mAP50-95): 100%|██████████| 1/1 [00:00<00:00,  8.12it/s]"
          ]
        },
        {
          "output_type": "stream",
          "name": "stdout",
          "text": [
            "                   all         15          0          0          0          0          0\n",
            "WARNING ⚠️ no labels found in detect set, can not compute metrics without labels\n"
          ]
        },
        {
          "output_type": "stream",
          "name": "stderr",
          "text": [
            "\n",
            "/usr/local/lib/python3.11/dist-packages/ultralytics/utils/metrics.py:765: RuntimeWarning: Mean of empty slice.\n",
            "  i = smooth(f1_curve.mean(0), 0.1).argmax()  # max F1 index\n",
            "/usr/local/lib/python3.11/dist-packages/numpy/_core/_methods.py:130: RuntimeWarning: invalid value encountered in divide\n",
            "  ret = um.true_divide(\n"
          ]
        },
        {
          "output_type": "stream",
          "name": "stdout",
          "text": [
            "\n",
            "      Epoch    GPU_mem   box_loss   cls_loss   dfl_loss  Instances       Size\n"
          ]
        },
        {
          "output_type": "stream",
          "name": "stderr",
          "text": [
            "      5/100       2.2G      1.497      2.116      1.737         41        640: 100%|██████████| 111/111 [00:39<00:00,  2.79it/s]\n",
            "                 Class     Images  Instances      Box(P          R      mAP50  mAP50-95): 100%|██████████| 1/1 [00:00<00:00,  8.31it/s]"
          ]
        },
        {
          "output_type": "stream",
          "name": "stdout",
          "text": [
            "                   all         15          0          0          0          0          0\n",
            "WARNING ⚠️ no labels found in detect set, can not compute metrics without labels\n"
          ]
        },
        {
          "output_type": "stream",
          "name": "stderr",
          "text": [
            "\n",
            "/usr/local/lib/python3.11/dist-packages/ultralytics/utils/metrics.py:765: RuntimeWarning: Mean of empty slice.\n",
            "  i = smooth(f1_curve.mean(0), 0.1).argmax()  # max F1 index\n",
            "/usr/local/lib/python3.11/dist-packages/numpy/_core/_methods.py:130: RuntimeWarning: invalid value encountered in divide\n",
            "  ret = um.true_divide(\n"
          ]
        },
        {
          "output_type": "stream",
          "name": "stdout",
          "text": [
            "\n",
            "      Epoch    GPU_mem   box_loss   cls_loss   dfl_loss  Instances       Size\n"
          ]
        },
        {
          "output_type": "stream",
          "name": "stderr",
          "text": [
            "      6/100       2.2G      1.438      1.955       1.67         38        640: 100%|██████████| 111/111 [00:38<00:00,  2.85it/s]\n"
          ]
        },
        {
          "output_type": "stream",
          "name": "stdout",
          "text": [
            "\n",
            "Saved intermediate model to /content/drive/MyDrive/thesisdataset/intermediate_models/interim_epoch_5_20250629_131920.pt\n"
          ]
        },
        {
          "output_type": "stream",
          "name": "stderr",
          "text": [
            "                 Class     Images  Instances      Box(P          R      mAP50  mAP50-95): 100%|██████████| 1/1 [00:00<00:00,  6.61it/s]"
          ]
        },
        {
          "output_type": "stream",
          "name": "stdout",
          "text": [
            "                   all         15          0          0          0          0          0\n",
            "WARNING ⚠️ no labels found in detect set, can not compute metrics without labels\n"
          ]
        },
        {
          "output_type": "stream",
          "name": "stderr",
          "text": [
            "\n",
            "/usr/local/lib/python3.11/dist-packages/ultralytics/utils/metrics.py:765: RuntimeWarning: Mean of empty slice.\n",
            "  i = smooth(f1_curve.mean(0), 0.1).argmax()  # max F1 index\n",
            "/usr/local/lib/python3.11/dist-packages/numpy/_core/_methods.py:130: RuntimeWarning: invalid value encountered in divide\n",
            "  ret = um.true_divide(\n"
          ]
        },
        {
          "output_type": "stream",
          "name": "stdout",
          "text": [
            "\n",
            "      Epoch    GPU_mem   box_loss   cls_loss   dfl_loss  Instances       Size\n"
          ]
        },
        {
          "output_type": "stream",
          "name": "stderr",
          "text": [
            "      7/100       2.2G      1.404      1.889      1.645         21        640: 100%|██████████| 111/111 [00:37<00:00,  2.95it/s]\n",
            "                 Class     Images  Instances      Box(P          R      mAP50  mAP50-95): 100%|██████████| 1/1 [00:00<00:00,  3.61it/s]"
          ]
        },
        {
          "output_type": "stream",
          "name": "stdout",
          "text": [
            "                   all         15          0          0          0          0          0\n",
            "WARNING ⚠️ no labels found in detect set, can not compute metrics without labels\n"
          ]
        },
        {
          "output_type": "stream",
          "name": "stderr",
          "text": [
            "\n",
            "/usr/local/lib/python3.11/dist-packages/ultralytics/utils/metrics.py:765: RuntimeWarning: Mean of empty slice.\n",
            "  i = smooth(f1_curve.mean(0), 0.1).argmax()  # max F1 index\n",
            "/usr/local/lib/python3.11/dist-packages/numpy/_core/_methods.py:130: RuntimeWarning: invalid value encountered in divide\n",
            "  ret = um.true_divide(\n"
          ]
        },
        {
          "output_type": "stream",
          "name": "stdout",
          "text": [
            "\n",
            "      Epoch    GPU_mem   box_loss   cls_loss   dfl_loss  Instances       Size\n"
          ]
        },
        {
          "output_type": "stream",
          "name": "stderr",
          "text": [
            "      8/100       2.2G      1.408      1.887      1.663         40        640: 100%|██████████| 111/111 [00:38<00:00,  2.87it/s]\n",
            "                 Class     Images  Instances      Box(P          R      mAP50  mAP50-95): 100%|██████████| 1/1 [00:00<00:00,  7.82it/s]"
          ]
        },
        {
          "output_type": "stream",
          "name": "stdout",
          "text": [
            "                   all         15          0          0          0          0          0\n",
            "WARNING ⚠️ no labels found in detect set, can not compute metrics without labels\n"
          ]
        },
        {
          "output_type": "stream",
          "name": "stderr",
          "text": [
            "\n",
            "/usr/local/lib/python3.11/dist-packages/ultralytics/utils/metrics.py:765: RuntimeWarning: Mean of empty slice.\n",
            "  i = smooth(f1_curve.mean(0), 0.1).argmax()  # max F1 index\n",
            "/usr/local/lib/python3.11/dist-packages/numpy/_core/_methods.py:130: RuntimeWarning: invalid value encountered in divide\n",
            "  ret = um.true_divide(\n"
          ]
        },
        {
          "output_type": "stream",
          "name": "stdout",
          "text": [
            "\n",
            "      Epoch    GPU_mem   box_loss   cls_loss   dfl_loss  Instances       Size\n"
          ]
        },
        {
          "output_type": "stream",
          "name": "stderr",
          "text": [
            "      9/100       2.2G      1.365      1.805      1.611         23        640: 100%|██████████| 111/111 [00:39<00:00,  2.84it/s]\n",
            "                 Class     Images  Instances      Box(P          R      mAP50  mAP50-95): 100%|██████████| 1/1 [00:00<00:00,  5.90it/s]"
          ]
        },
        {
          "output_type": "stream",
          "name": "stdout",
          "text": [
            "                   all         15          0          0          0          0          0\n",
            "WARNING ⚠️ no labels found in detect set, can not compute metrics without labels\n"
          ]
        },
        {
          "output_type": "stream",
          "name": "stderr",
          "text": [
            "\n",
            "/usr/local/lib/python3.11/dist-packages/ultralytics/utils/metrics.py:765: RuntimeWarning: Mean of empty slice.\n",
            "  i = smooth(f1_curve.mean(0), 0.1).argmax()  # max F1 index\n",
            "/usr/local/lib/python3.11/dist-packages/numpy/_core/_methods.py:130: RuntimeWarning: invalid value encountered in divide\n",
            "  ret = um.true_divide(\n"
          ]
        },
        {
          "output_type": "stream",
          "name": "stdout",
          "text": [
            "\n",
            "      Epoch    GPU_mem   box_loss   cls_loss   dfl_loss  Instances       Size\n"
          ]
        },
        {
          "output_type": "stream",
          "name": "stderr",
          "text": [
            "     10/100       2.2G       1.36      1.791      1.599         34        640: 100%|██████████| 111/111 [00:39<00:00,  2.80it/s]\n",
            "                 Class     Images  Instances      Box(P          R      mAP50  mAP50-95): 100%|██████████| 1/1 [00:00<00:00,  6.63it/s]"
          ]
        },
        {
          "output_type": "stream",
          "name": "stdout",
          "text": [
            "                   all         15          0          0          0          0          0\n"
          ]
        },
        {
          "output_type": "stream",
          "name": "stderr",
          "text": [
            "\n",
            "/usr/local/lib/python3.11/dist-packages/ultralytics/utils/metrics.py:765: RuntimeWarning: Mean of empty slice.\n",
            "  i = smooth(f1_curve.mean(0), 0.1).argmax()  # max F1 index\n",
            "/usr/local/lib/python3.11/dist-packages/numpy/_core/_methods.py:130: RuntimeWarning: invalid value encountered in divide\n",
            "  ret = um.true_divide(\n"
          ]
        },
        {
          "output_type": "stream",
          "name": "stdout",
          "text": [
            "WARNING ⚠️ no labels found in detect set, can not compute metrics without labels\n",
            "\n",
            "      Epoch    GPU_mem   box_loss   cls_loss   dfl_loss  Instances       Size\n"
          ]
        },
        {
          "output_type": "stream",
          "name": "stderr",
          "text": [
            "     11/100       2.2G      1.334      1.752      1.572         25        640: 100%|██████████| 111/111 [00:39<00:00,  2.79it/s]\n"
          ]
        },
        {
          "output_type": "stream",
          "name": "stdout",
          "text": [
            "\n",
            "Saved intermediate model to /content/drive/MyDrive/thesisdataset/intermediate_models/interim_epoch_10_20250629_132240.pt\n"
          ]
        },
        {
          "output_type": "stream",
          "name": "stderr",
          "text": [
            "                 Class     Images  Instances      Box(P          R      mAP50  mAP50-95): 100%|██████████| 1/1 [00:00<00:00,  7.95it/s]"
          ]
        },
        {
          "output_type": "stream",
          "name": "stdout",
          "text": [
            "                   all         15          0          0          0          0          0\n",
            "WARNING ⚠️ no labels found in detect set, can not compute metrics without labels\n"
          ]
        },
        {
          "output_type": "stream",
          "name": "stderr",
          "text": [
            "\n",
            "/usr/local/lib/python3.11/dist-packages/ultralytics/utils/metrics.py:765: RuntimeWarning: Mean of empty slice.\n",
            "  i = smooth(f1_curve.mean(0), 0.1).argmax()  # max F1 index\n",
            "/usr/local/lib/python3.11/dist-packages/numpy/_core/_methods.py:130: RuntimeWarning: invalid value encountered in divide\n",
            "  ret = um.true_divide(\n"
          ]
        },
        {
          "output_type": "stream",
          "name": "stdout",
          "text": [
            "\n",
            "      Epoch    GPU_mem   box_loss   cls_loss   dfl_loss  Instances       Size\n"
          ]
        },
        {
          "output_type": "stream",
          "name": "stderr",
          "text": [
            "     12/100       2.2G      1.344      1.737      1.595         28        640: 100%|██████████| 111/111 [00:39<00:00,  2.78it/s]\n",
            "                 Class     Images  Instances      Box(P          R      mAP50  mAP50-95): 100%|██████████| 1/1 [00:00<00:00,  8.30it/s]"
          ]
        },
        {
          "output_type": "stream",
          "name": "stdout",
          "text": [
            "                   all         15          0          0          0          0          0\n",
            "WARNING ⚠️ no labels found in detect set, can not compute metrics without labels\n"
          ]
        },
        {
          "output_type": "stream",
          "name": "stderr",
          "text": [
            "\n",
            "/usr/local/lib/python3.11/dist-packages/ultralytics/utils/metrics.py:765: RuntimeWarning: Mean of empty slice.\n",
            "  i = smooth(f1_curve.mean(0), 0.1).argmax()  # max F1 index\n",
            "/usr/local/lib/python3.11/dist-packages/numpy/_core/_methods.py:130: RuntimeWarning: invalid value encountered in divide\n",
            "  ret = um.true_divide(\n"
          ]
        },
        {
          "output_type": "stream",
          "name": "stdout",
          "text": [
            "\n",
            "      Epoch    GPU_mem   box_loss   cls_loss   dfl_loss  Instances       Size\n"
          ]
        },
        {
          "output_type": "stream",
          "name": "stderr",
          "text": [
            "     13/100       2.2G      1.314      1.677      1.559         14        640: 100%|██████████| 111/111 [00:39<00:00,  2.78it/s]\n",
            "                 Class     Images  Instances      Box(P          R      mAP50  mAP50-95): 100%|██████████| 1/1 [00:00<00:00, 13.58it/s]"
          ]
        },
        {
          "output_type": "stream",
          "name": "stdout",
          "text": [
            "                   all         15          0          0          0          0          0\n",
            "WARNING ⚠️ no labels found in detect set, can not compute metrics without labels\n"
          ]
        },
        {
          "output_type": "stream",
          "name": "stderr",
          "text": [
            "\n",
            "/usr/local/lib/python3.11/dist-packages/ultralytics/utils/metrics.py:765: RuntimeWarning: Mean of empty slice.\n",
            "  i = smooth(f1_curve.mean(0), 0.1).argmax()  # max F1 index\n",
            "/usr/local/lib/python3.11/dist-packages/numpy/_core/_methods.py:130: RuntimeWarning: invalid value encountered in divide\n",
            "  ret = um.true_divide(\n"
          ]
        },
        {
          "output_type": "stream",
          "name": "stdout",
          "text": [
            "\n",
            "      Epoch    GPU_mem   box_loss   cls_loss   dfl_loss  Instances       Size\n"
          ]
        },
        {
          "output_type": "stream",
          "name": "stderr",
          "text": [
            "     14/100       2.2G      1.296      1.654      1.548         39        640: 100%|██████████| 111/111 [00:40<00:00,  2.71it/s]\n",
            "                 Class     Images  Instances      Box(P          R      mAP50  mAP50-95): 100%|██████████| 1/1 [00:00<00:00,  8.27it/s]"
          ]
        },
        {
          "output_type": "stream",
          "name": "stdout",
          "text": [
            "                   all         15          0          0          0          0          0\n",
            "WARNING ⚠️ no labels found in detect set, can not compute metrics without labels\n"
          ]
        },
        {
          "output_type": "stream",
          "name": "stderr",
          "text": [
            "\n",
            "/usr/local/lib/python3.11/dist-packages/ultralytics/utils/metrics.py:765: RuntimeWarning: Mean of empty slice.\n",
            "  i = smooth(f1_curve.mean(0), 0.1).argmax()  # max F1 index\n",
            "/usr/local/lib/python3.11/dist-packages/numpy/_core/_methods.py:130: RuntimeWarning: invalid value encountered in divide\n",
            "  ret = um.true_divide(\n"
          ]
        },
        {
          "output_type": "stream",
          "name": "stdout",
          "text": [
            "\n",
            "      Epoch    GPU_mem   box_loss   cls_loss   dfl_loss  Instances       Size\n"
          ]
        },
        {
          "output_type": "stream",
          "name": "stderr",
          "text": [
            "     15/100       2.2G       1.28      1.646      1.536         19        640: 100%|██████████| 111/111 [00:41<00:00,  2.70it/s]\n",
            "                 Class     Images  Instances      Box(P          R      mAP50  mAP50-95): 100%|██████████| 1/1 [00:00<00:00,  6.58it/s]"
          ]
        },
        {
          "output_type": "stream",
          "name": "stdout",
          "text": [
            "                   all         15          0          0          0          0          0\n"
          ]
        },
        {
          "output_type": "stream",
          "name": "stderr",
          "text": [
            "\n",
            "/usr/local/lib/python3.11/dist-packages/ultralytics/utils/metrics.py:765: RuntimeWarning: Mean of empty slice.\n",
            "  i = smooth(f1_curve.mean(0), 0.1).argmax()  # max F1 index\n",
            "/usr/local/lib/python3.11/dist-packages/numpy/_core/_methods.py:130: RuntimeWarning: invalid value encountered in divide\n",
            "  ret = um.true_divide(\n"
          ]
        },
        {
          "output_type": "stream",
          "name": "stdout",
          "text": [
            "WARNING ⚠️ no labels found in detect set, can not compute metrics without labels\n",
            "\n",
            "      Epoch    GPU_mem   box_loss   cls_loss   dfl_loss  Instances       Size\n"
          ]
        },
        {
          "output_type": "stream",
          "name": "stderr",
          "text": [
            "     16/100       2.2G      1.286      1.605      1.534         30        640: 100%|██████████| 111/111 [00:39<00:00,  2.83it/s]\n"
          ]
        },
        {
          "output_type": "stream",
          "name": "stdout",
          "text": [
            "\n",
            "Saved intermediate model to /content/drive/MyDrive/thesisdataset/intermediate_models/interim_epoch_15_20250629_132606.pt\n"
          ]
        },
        {
          "output_type": "stream",
          "name": "stderr",
          "text": [
            "                 Class     Images  Instances      Box(P          R      mAP50  mAP50-95): 100%|██████████| 1/1 [00:00<00:00,  6.67it/s]"
          ]
        },
        {
          "output_type": "stream",
          "name": "stdout",
          "text": [
            "                   all         15          0          0          0          0          0\n",
            "WARNING ⚠️ no labels found in detect set, can not compute metrics without labels\n"
          ]
        },
        {
          "output_type": "stream",
          "name": "stderr",
          "text": [
            "\n",
            "/usr/local/lib/python3.11/dist-packages/ultralytics/utils/metrics.py:765: RuntimeWarning: Mean of empty slice.\n",
            "  i = smooth(f1_curve.mean(0), 0.1).argmax()  # max F1 index\n",
            "/usr/local/lib/python3.11/dist-packages/numpy/_core/_methods.py:130: RuntimeWarning: invalid value encountered in divide\n",
            "  ret = um.true_divide(\n"
          ]
        },
        {
          "output_type": "stream",
          "name": "stdout",
          "text": [
            "\n",
            "      Epoch    GPU_mem   box_loss   cls_loss   dfl_loss  Instances       Size\n"
          ]
        },
        {
          "output_type": "stream",
          "name": "stderr",
          "text": [
            "     17/100       2.2G      1.268      1.554      1.507         39        640: 100%|██████████| 111/111 [00:38<00:00,  2.89it/s]\n",
            "                 Class     Images  Instances      Box(P          R      mAP50  mAP50-95): 100%|██████████| 1/1 [00:00<00:00,  4.83it/s]"
          ]
        },
        {
          "output_type": "stream",
          "name": "stdout",
          "text": [
            "                   all         15          0          0          0          0          0\n",
            "WARNING ⚠️ no labels found in detect set, can not compute metrics without labels\n"
          ]
        },
        {
          "output_type": "stream",
          "name": "stderr",
          "text": [
            "\n",
            "/usr/local/lib/python3.11/dist-packages/ultralytics/utils/metrics.py:765: RuntimeWarning: Mean of empty slice.\n",
            "  i = smooth(f1_curve.mean(0), 0.1).argmax()  # max F1 index\n",
            "/usr/local/lib/python3.11/dist-packages/numpy/_core/_methods.py:130: RuntimeWarning: invalid value encountered in divide\n",
            "  ret = um.true_divide(\n"
          ]
        },
        {
          "output_type": "stream",
          "name": "stdout",
          "text": [
            "\n",
            "      Epoch    GPU_mem   box_loss   cls_loss   dfl_loss  Instances       Size\n"
          ]
        },
        {
          "output_type": "stream",
          "name": "stderr",
          "text": [
            "     18/100      2.21G      1.236      1.498      1.484         28        640: 100%|██████████| 111/111 [00:38<00:00,  2.86it/s]\n",
            "                 Class     Images  Instances      Box(P          R      mAP50  mAP50-95): 100%|██████████| 1/1 [00:00<00:00,  5.65it/s]"
          ]
        },
        {
          "output_type": "stream",
          "name": "stdout",
          "text": [
            "                   all         15          0          0          0          0          0\n",
            "WARNING ⚠️ no labels found in detect set, can not compute metrics without labels\n"
          ]
        },
        {
          "output_type": "stream",
          "name": "stderr",
          "text": [
            "\n",
            "/usr/local/lib/python3.11/dist-packages/ultralytics/utils/metrics.py:765: RuntimeWarning: Mean of empty slice.\n",
            "  i = smooth(f1_curve.mean(0), 0.1).argmax()  # max F1 index\n",
            "/usr/local/lib/python3.11/dist-packages/numpy/_core/_methods.py:130: RuntimeWarning: invalid value encountered in divide\n",
            "  ret = um.true_divide(\n"
          ]
        },
        {
          "output_type": "stream",
          "name": "stdout",
          "text": [
            "\n",
            "      Epoch    GPU_mem   box_loss   cls_loss   dfl_loss  Instances       Size\n"
          ]
        },
        {
          "output_type": "stream",
          "name": "stderr",
          "text": [
            "     19/100      2.21G      1.234      1.486      1.481         22        640: 100%|██████████| 111/111 [00:39<00:00,  2.82it/s]\n",
            "                 Class     Images  Instances      Box(P          R      mAP50  mAP50-95): 100%|██████████| 1/1 [00:00<00:00,  7.43it/s]"
          ]
        },
        {
          "output_type": "stream",
          "name": "stdout",
          "text": [
            "                   all         15          0          0          0          0          0\n",
            "WARNING ⚠️ no labels found in detect set, can not compute metrics without labels\n"
          ]
        },
        {
          "output_type": "stream",
          "name": "stderr",
          "text": [
            "\n",
            "/usr/local/lib/python3.11/dist-packages/ultralytics/utils/metrics.py:765: RuntimeWarning: Mean of empty slice.\n",
            "  i = smooth(f1_curve.mean(0), 0.1).argmax()  # max F1 index\n",
            "/usr/local/lib/python3.11/dist-packages/numpy/_core/_methods.py:130: RuntimeWarning: invalid value encountered in divide\n",
            "  ret = um.true_divide(\n"
          ]
        },
        {
          "output_type": "stream",
          "name": "stdout",
          "text": [
            "\n",
            "      Epoch    GPU_mem   box_loss   cls_loss   dfl_loss  Instances       Size\n"
          ]
        },
        {
          "output_type": "stream",
          "name": "stderr",
          "text": [
            "     20/100      2.21G      1.266      1.557      1.508         26        640: 100%|██████████| 111/111 [00:40<00:00,  2.76it/s]\n",
            "                 Class     Images  Instances      Box(P          R      mAP50  mAP50-95): 100%|██████████| 1/1 [00:00<00:00,  6.60it/s]"
          ]
        },
        {
          "output_type": "stream",
          "name": "stdout",
          "text": [
            "                   all         15          0          0          0          0          0\n",
            "WARNING ⚠️ no labels found in detect set, can not compute metrics without labels\n"
          ]
        },
        {
          "output_type": "stream",
          "name": "stderr",
          "text": [
            "\n",
            "/usr/local/lib/python3.11/dist-packages/ultralytics/utils/metrics.py:765: RuntimeWarning: Mean of empty slice.\n",
            "  i = smooth(f1_curve.mean(0), 0.1).argmax()  # max F1 index\n",
            "/usr/local/lib/python3.11/dist-packages/numpy/_core/_methods.py:130: RuntimeWarning: invalid value encountered in divide\n",
            "  ret = um.true_divide(\n"
          ]
        },
        {
          "output_type": "stream",
          "name": "stdout",
          "text": [
            "\n",
            "      Epoch    GPU_mem   box_loss   cls_loss   dfl_loss  Instances       Size\n"
          ]
        },
        {
          "output_type": "stream",
          "name": "stderr",
          "text": [
            "     21/100      2.21G      1.223      1.476      1.479         35        640: 100%|██████████| 111/111 [00:40<00:00,  2.77it/s]\n"
          ]
        },
        {
          "output_type": "stream",
          "name": "stdout",
          "text": [
            "\n",
            "Saved intermediate model to /content/drive/MyDrive/thesisdataset/intermediate_models/interim_epoch_20_20250629_132928.pt\n"
          ]
        },
        {
          "output_type": "stream",
          "name": "stderr",
          "text": [
            "                 Class     Images  Instances      Box(P          R      mAP50  mAP50-95): 100%|██████████| 1/1 [00:00<00:00, 10.70it/s]"
          ]
        },
        {
          "output_type": "stream",
          "name": "stdout",
          "text": [
            "                   all         15          0          0          0          0          0\n",
            "WARNING ⚠️ no labels found in detect set, can not compute metrics without labels\n"
          ]
        },
        {
          "output_type": "stream",
          "name": "stderr",
          "text": [
            "\n",
            "/usr/local/lib/python3.11/dist-packages/ultralytics/utils/metrics.py:765: RuntimeWarning: Mean of empty slice.\n",
            "  i = smooth(f1_curve.mean(0), 0.1).argmax()  # max F1 index\n",
            "/usr/local/lib/python3.11/dist-packages/numpy/_core/_methods.py:130: RuntimeWarning: invalid value encountered in divide\n",
            "  ret = um.true_divide(\n"
          ]
        },
        {
          "output_type": "stream",
          "name": "stdout",
          "text": [
            "\n",
            "      Epoch    GPU_mem   box_loss   cls_loss   dfl_loss  Instances       Size\n"
          ]
        },
        {
          "output_type": "stream",
          "name": "stderr",
          "text": [
            "     22/100      2.21G       1.22      1.488      1.489         40        640: 100%|██████████| 111/111 [00:40<00:00,  2.74it/s]\n",
            "                 Class     Images  Instances      Box(P          R      mAP50  mAP50-95): 100%|██████████| 1/1 [00:00<00:00,  5.84it/s]"
          ]
        },
        {
          "output_type": "stream",
          "name": "stdout",
          "text": [
            "                   all         15          0          0          0          0          0\n",
            "WARNING ⚠️ no labels found in detect set, can not compute metrics without labels\n"
          ]
        },
        {
          "output_type": "stream",
          "name": "stderr",
          "text": [
            "\n",
            "/usr/local/lib/python3.11/dist-packages/ultralytics/utils/metrics.py:765: RuntimeWarning: Mean of empty slice.\n",
            "  i = smooth(f1_curve.mean(0), 0.1).argmax()  # max F1 index\n",
            "/usr/local/lib/python3.11/dist-packages/numpy/_core/_methods.py:130: RuntimeWarning: invalid value encountered in divide\n",
            "  ret = um.true_divide(\n"
          ]
        },
        {
          "output_type": "stream",
          "name": "stdout",
          "text": [
            "\n",
            "      Epoch    GPU_mem   box_loss   cls_loss   dfl_loss  Instances       Size\n"
          ]
        },
        {
          "output_type": "stream",
          "name": "stderr",
          "text": [
            "     23/100      2.21G      1.191      1.456      1.468         26        640: 100%|██████████| 111/111 [00:39<00:00,  2.79it/s]\n",
            "                 Class     Images  Instances      Box(P          R      mAP50  mAP50-95): 100%|██████████| 1/1 [00:00<00:00,  6.88it/s]"
          ]
        },
        {
          "output_type": "stream",
          "name": "stdout",
          "text": [
            "                   all         15          0          0          0          0          0\n",
            "WARNING ⚠️ no labels found in detect set, can not compute metrics without labels\n"
          ]
        },
        {
          "output_type": "stream",
          "name": "stderr",
          "text": [
            "\n",
            "/usr/local/lib/python3.11/dist-packages/ultralytics/utils/metrics.py:765: RuntimeWarning: Mean of empty slice.\n",
            "  i = smooth(f1_curve.mean(0), 0.1).argmax()  # max F1 index\n",
            "/usr/local/lib/python3.11/dist-packages/numpy/_core/_methods.py:130: RuntimeWarning: invalid value encountered in divide\n",
            "  ret = um.true_divide(\n"
          ]
        },
        {
          "output_type": "stream",
          "name": "stdout",
          "text": [
            "\n",
            "      Epoch    GPU_mem   box_loss   cls_loss   dfl_loss  Instances       Size\n"
          ]
        },
        {
          "output_type": "stream",
          "name": "stderr",
          "text": [
            "     24/100      2.21G      1.181      1.428      1.454         25        640: 100%|██████████| 111/111 [00:39<00:00,  2.78it/s]\n",
            "                 Class     Images  Instances      Box(P          R      mAP50  mAP50-95): 100%|██████████| 1/1 [00:00<00:00,  7.25it/s]"
          ]
        },
        {
          "output_type": "stream",
          "name": "stdout",
          "text": [
            "                   all         15          0          0          0          0          0\n",
            "WARNING ⚠️ no labels found in detect set, can not compute metrics without labels\n"
          ]
        },
        {
          "output_type": "stream",
          "name": "stderr",
          "text": [
            "\n",
            "/usr/local/lib/python3.11/dist-packages/ultralytics/utils/metrics.py:765: RuntimeWarning: Mean of empty slice.\n",
            "  i = smooth(f1_curve.mean(0), 0.1).argmax()  # max F1 index\n",
            "/usr/local/lib/python3.11/dist-packages/numpy/_core/_methods.py:130: RuntimeWarning: invalid value encountered in divide\n",
            "  ret = um.true_divide(\n"
          ]
        },
        {
          "output_type": "stream",
          "name": "stdout",
          "text": [
            "\n",
            "      Epoch    GPU_mem   box_loss   cls_loss   dfl_loss  Instances       Size\n"
          ]
        },
        {
          "output_type": "stream",
          "name": "stderr",
          "text": [
            "     25/100      2.21G      1.194      1.439      1.469         24        640: 100%|██████████| 111/111 [00:39<00:00,  2.79it/s]\n",
            "                 Class     Images  Instances      Box(P          R      mAP50  mAP50-95): 100%|██████████| 1/1 [00:00<00:00,  6.66it/s]\n",
            "/usr/local/lib/python3.11/dist-packages/ultralytics/utils/metrics.py:765: RuntimeWarning: Mean of empty slice.\n",
            "  i = smooth(f1_curve.mean(0), 0.1).argmax()  # max F1 index\n",
            "/usr/local/lib/python3.11/dist-packages/numpy/_core/_methods.py:130: RuntimeWarning: invalid value encountered in divide\n",
            "  ret = um.true_divide(\n"
          ]
        },
        {
          "output_type": "stream",
          "name": "stdout",
          "text": [
            "                   all         15          0          0          0          0          0\n",
            "WARNING ⚠️ no labels found in detect set, can not compute metrics without labels\n",
            "\n",
            "      Epoch    GPU_mem   box_loss   cls_loss   dfl_loss  Instances       Size\n"
          ]
        },
        {
          "output_type": "stream",
          "name": "stderr",
          "text": [
            "     26/100      2.21G      1.181      1.398      1.452         27        640: 100%|██████████| 111/111 [00:39<00:00,  2.81it/s]\n"
          ]
        },
        {
          "output_type": "stream",
          "name": "stdout",
          "text": [
            "\n",
            "Saved intermediate model to /content/drive/MyDrive/thesisdataset/intermediate_models/interim_epoch_25_20250629_133251.pt\n"
          ]
        },
        {
          "output_type": "stream",
          "name": "stderr",
          "text": [
            "                 Class     Images  Instances      Box(P          R      mAP50  mAP50-95): 100%|██████████| 1/1 [00:00<00:00,  8.79it/s]"
          ]
        },
        {
          "output_type": "stream",
          "name": "stdout",
          "text": [
            "                   all         15          0          0          0          0          0\n",
            "WARNING ⚠️ no labels found in detect set, can not compute metrics without labels\n"
          ]
        },
        {
          "output_type": "stream",
          "name": "stderr",
          "text": [
            "\n",
            "/usr/local/lib/python3.11/dist-packages/ultralytics/utils/metrics.py:765: RuntimeWarning: Mean of empty slice.\n",
            "  i = smooth(f1_curve.mean(0), 0.1).argmax()  # max F1 index\n",
            "/usr/local/lib/python3.11/dist-packages/numpy/_core/_methods.py:130: RuntimeWarning: invalid value encountered in divide\n",
            "  ret = um.true_divide(\n"
          ]
        },
        {
          "output_type": "stream",
          "name": "stdout",
          "text": [
            "\n",
            "      Epoch    GPU_mem   box_loss   cls_loss   dfl_loss  Instances       Size\n"
          ]
        },
        {
          "output_type": "stream",
          "name": "stderr",
          "text": [
            "     27/100      2.21G      1.166      1.418      1.434         34        640: 100%|██████████| 111/111 [00:40<00:00,  2.74it/s]\n",
            "                 Class     Images  Instances      Box(P          R      mAP50  mAP50-95): 100%|██████████| 1/1 [00:00<00:00,  7.32it/s]"
          ]
        },
        {
          "output_type": "stream",
          "name": "stdout",
          "text": [
            "                   all         15          0          0          0          0          0\n",
            "WARNING ⚠️ no labels found in detect set, can not compute metrics without labels\n"
          ]
        },
        {
          "output_type": "stream",
          "name": "stderr",
          "text": [
            "\n",
            "/usr/local/lib/python3.11/dist-packages/ultralytics/utils/metrics.py:765: RuntimeWarning: Mean of empty slice.\n",
            "  i = smooth(f1_curve.mean(0), 0.1).argmax()  # max F1 index\n",
            "/usr/local/lib/python3.11/dist-packages/numpy/_core/_methods.py:130: RuntimeWarning: invalid value encountered in divide\n",
            "  ret = um.true_divide(\n"
          ]
        },
        {
          "output_type": "stream",
          "name": "stdout",
          "text": [
            "\n",
            "      Epoch    GPU_mem   box_loss   cls_loss   dfl_loss  Instances       Size\n"
          ]
        },
        {
          "output_type": "stream",
          "name": "stderr",
          "text": [
            "     28/100      2.21G      1.144      1.347      1.405         30        640: 100%|██████████| 111/111 [00:38<00:00,  2.87it/s]\n",
            "                 Class     Images  Instances      Box(P          R      mAP50  mAP50-95): 100%|██████████| 1/1 [00:00<00:00,  6.92it/s]"
          ]
        },
        {
          "output_type": "stream",
          "name": "stdout",
          "text": [
            "                   all         15          0          0          0          0          0\n",
            "WARNING ⚠️ no labels found in detect set, can not compute metrics without labels\n"
          ]
        },
        {
          "output_type": "stream",
          "name": "stderr",
          "text": [
            "\n",
            "/usr/local/lib/python3.11/dist-packages/ultralytics/utils/metrics.py:765: RuntimeWarning: Mean of empty slice.\n",
            "  i = smooth(f1_curve.mean(0), 0.1).argmax()  # max F1 index\n",
            "/usr/local/lib/python3.11/dist-packages/numpy/_core/_methods.py:130: RuntimeWarning: invalid value encountered in divide\n",
            "  ret = um.true_divide(\n"
          ]
        },
        {
          "output_type": "stream",
          "name": "stdout",
          "text": [
            "\n",
            "      Epoch    GPU_mem   box_loss   cls_loss   dfl_loss  Instances       Size\n"
          ]
        },
        {
          "output_type": "stream",
          "name": "stderr",
          "text": [
            "     29/100      2.21G      1.144      1.325      1.411         39        640: 100%|██████████| 111/111 [00:38<00:00,  2.89it/s]\n",
            "                 Class     Images  Instances      Box(P          R      mAP50  mAP50-95): 100%|██████████| 1/1 [00:00<00:00,  5.12it/s]\n"
          ]
        },
        {
          "output_type": "stream",
          "name": "stdout",
          "text": [
            "                   all         15          0          0          0          0          0\n",
            "WARNING ⚠️ no labels found in detect set, can not compute metrics without labels\n"
          ]
        },
        {
          "output_type": "stream",
          "name": "stderr",
          "text": [
            "/usr/local/lib/python3.11/dist-packages/ultralytics/utils/metrics.py:765: RuntimeWarning: Mean of empty slice.\n",
            "  i = smooth(f1_curve.mean(0), 0.1).argmax()  # max F1 index\n",
            "/usr/local/lib/python3.11/dist-packages/numpy/_core/_methods.py:130: RuntimeWarning: invalid value encountered in divide\n",
            "  ret = um.true_divide(\n"
          ]
        },
        {
          "output_type": "stream",
          "name": "stdout",
          "text": [
            "\n",
            "      Epoch    GPU_mem   box_loss   cls_loss   dfl_loss  Instances       Size\n"
          ]
        },
        {
          "output_type": "stream",
          "name": "stderr",
          "text": [
            "     30/100      2.21G      1.112       1.32       1.39         35        640: 100%|██████████| 111/111 [00:39<00:00,  2.83it/s]\n",
            "                 Class     Images  Instances      Box(P          R      mAP50  mAP50-95): 100%|██████████| 1/1 [00:00<00:00, 10.60it/s]"
          ]
        },
        {
          "output_type": "stream",
          "name": "stdout",
          "text": [
            "                   all         15          0          0          0          0          0\n",
            "WARNING ⚠️ no labels found in detect set, can not compute metrics without labels\n"
          ]
        },
        {
          "output_type": "stream",
          "name": "stderr",
          "text": [
            "\n",
            "/usr/local/lib/python3.11/dist-packages/ultralytics/utils/metrics.py:765: RuntimeWarning: Mean of empty slice.\n",
            "  i = smooth(f1_curve.mean(0), 0.1).argmax()  # max F1 index\n",
            "/usr/local/lib/python3.11/dist-packages/numpy/_core/_methods.py:130: RuntimeWarning: invalid value encountered in divide\n",
            "  ret = um.true_divide(\n"
          ]
        },
        {
          "output_type": "stream",
          "name": "stdout",
          "text": [
            "\n",
            "      Epoch    GPU_mem   box_loss   cls_loss   dfl_loss  Instances       Size\n"
          ]
        },
        {
          "output_type": "stream",
          "name": "stderr",
          "text": [
            "     31/100      2.21G      1.115      1.309      1.405         32        640: 100%|██████████| 111/111 [00:40<00:00,  2.77it/s]\n"
          ]
        },
        {
          "output_type": "stream",
          "name": "stdout",
          "text": [
            "\n",
            "Saved intermediate model to /content/drive/MyDrive/thesisdataset/intermediate_models/interim_epoch_30_20250629_133614.pt\n"
          ]
        },
        {
          "output_type": "stream",
          "name": "stderr",
          "text": [
            "                 Class     Images  Instances      Box(P          R      mAP50  mAP50-95): 100%|██████████| 1/1 [00:00<00:00,  6.74it/s]"
          ]
        },
        {
          "output_type": "stream",
          "name": "stdout",
          "text": [
            "                   all         15          0          0          0          0          0\n",
            "WARNING ⚠️ no labels found in detect set, can not compute metrics without labels\n"
          ]
        },
        {
          "output_type": "stream",
          "name": "stderr",
          "text": [
            "\n",
            "/usr/local/lib/python3.11/dist-packages/ultralytics/utils/metrics.py:765: RuntimeWarning: Mean of empty slice.\n",
            "  i = smooth(f1_curve.mean(0), 0.1).argmax()  # max F1 index\n",
            "/usr/local/lib/python3.11/dist-packages/numpy/_core/_methods.py:130: RuntimeWarning: invalid value encountered in divide\n",
            "  ret = um.true_divide(\n"
          ]
        },
        {
          "output_type": "stream",
          "name": "stdout",
          "text": [
            "\n",
            "      Epoch    GPU_mem   box_loss   cls_loss   dfl_loss  Instances       Size\n"
          ]
        },
        {
          "output_type": "stream",
          "name": "stderr",
          "text": [
            "     32/100      2.21G      1.118      1.311      1.399         38        640: 100%|██████████| 111/111 [00:39<00:00,  2.81it/s]\n",
            "                 Class     Images  Instances      Box(P          R      mAP50  mAP50-95): 100%|██████████| 1/1 [00:00<00:00,  6.62it/s]\n",
            "/usr/local/lib/python3.11/dist-packages/ultralytics/utils/metrics.py:765: RuntimeWarning: Mean of empty slice.\n",
            "  i = smooth(f1_curve.mean(0), 0.1).argmax()  # max F1 index\n",
            "/usr/local/lib/python3.11/dist-packages/numpy/_core/_methods.py:130: RuntimeWarning: invalid value encountered in divide\n",
            "  ret = um.true_divide(\n"
          ]
        },
        {
          "output_type": "stream",
          "name": "stdout",
          "text": [
            "                   all         15          0          0          0          0          0\n",
            "WARNING ⚠️ no labels found in detect set, can not compute metrics without labels\n",
            "\n",
            "      Epoch    GPU_mem   box_loss   cls_loss   dfl_loss  Instances       Size\n"
          ]
        },
        {
          "output_type": "stream",
          "name": "stderr",
          "text": [
            "     33/100      2.21G      1.132      1.338      1.414         40        640: 100%|██████████| 111/111 [00:39<00:00,  2.81it/s]\n",
            "                 Class     Images  Instances      Box(P          R      mAP50  mAP50-95): 100%|██████████| 1/1 [00:00<00:00,  6.39it/s]"
          ]
        },
        {
          "output_type": "stream",
          "name": "stdout",
          "text": [
            "                   all         15          0          0          0          0          0\n",
            "WARNING ⚠️ no labels found in detect set, can not compute metrics without labels\n"
          ]
        },
        {
          "output_type": "stream",
          "name": "stderr",
          "text": [
            "\n",
            "/usr/local/lib/python3.11/dist-packages/ultralytics/utils/metrics.py:765: RuntimeWarning: Mean of empty slice.\n",
            "  i = smooth(f1_curve.mean(0), 0.1).argmax()  # max F1 index\n",
            "/usr/local/lib/python3.11/dist-packages/numpy/_core/_methods.py:130: RuntimeWarning: invalid value encountered in divide\n",
            "  ret = um.true_divide(\n"
          ]
        },
        {
          "output_type": "stream",
          "name": "stdout",
          "text": [
            "\n",
            "      Epoch    GPU_mem   box_loss   cls_loss   dfl_loss  Instances       Size\n"
          ]
        },
        {
          "output_type": "stream",
          "name": "stderr",
          "text": [
            "     34/100      2.21G      1.111      1.282       1.39         43        640: 100%|██████████| 111/111 [00:39<00:00,  2.80it/s]\n",
            "                 Class     Images  Instances      Box(P          R      mAP50  mAP50-95): 100%|██████████| 1/1 [00:00<00:00,  6.72it/s]"
          ]
        },
        {
          "output_type": "stream",
          "name": "stdout",
          "text": [
            "                   all         15          0          0          0          0          0\n",
            "WARNING ⚠️ no labels found in detect set, can not compute metrics without labels\n"
          ]
        },
        {
          "output_type": "stream",
          "name": "stderr",
          "text": [
            "\n",
            "/usr/local/lib/python3.11/dist-packages/ultralytics/utils/metrics.py:765: RuntimeWarning: Mean of empty slice.\n",
            "  i = smooth(f1_curve.mean(0), 0.1).argmax()  # max F1 index\n",
            "/usr/local/lib/python3.11/dist-packages/numpy/_core/_methods.py:130: RuntimeWarning: invalid value encountered in divide\n",
            "  ret = um.true_divide(\n"
          ]
        },
        {
          "output_type": "stream",
          "name": "stdout",
          "text": [
            "\n",
            "      Epoch    GPU_mem   box_loss   cls_loss   dfl_loss  Instances       Size\n"
          ]
        },
        {
          "output_type": "stream",
          "name": "stderr",
          "text": [
            "     35/100      2.21G      1.119       1.31      1.406         29        640: 100%|██████████| 111/111 [00:39<00:00,  2.79it/s]\n",
            "                 Class     Images  Instances      Box(P          R      mAP50  mAP50-95): 100%|██████████| 1/1 [00:00<00:00,  7.30it/s]"
          ]
        },
        {
          "output_type": "stream",
          "name": "stdout",
          "text": [
            "                   all         15          0          0          0          0          0\n",
            "WARNING ⚠️ no labels found in detect set, can not compute metrics without labels\n"
          ]
        },
        {
          "output_type": "stream",
          "name": "stderr",
          "text": [
            "\n",
            "/usr/local/lib/python3.11/dist-packages/ultralytics/utils/metrics.py:765: RuntimeWarning: Mean of empty slice.\n",
            "  i = smooth(f1_curve.mean(0), 0.1).argmax()  # max F1 index\n",
            "/usr/local/lib/python3.11/dist-packages/numpy/_core/_methods.py:130: RuntimeWarning: invalid value encountered in divide\n",
            "  ret = um.true_divide(\n"
          ]
        },
        {
          "output_type": "stream",
          "name": "stdout",
          "text": [
            "\n",
            "      Epoch    GPU_mem   box_loss   cls_loss   dfl_loss  Instances       Size\n"
          ]
        },
        {
          "output_type": "stream",
          "name": "stderr",
          "text": [
            "     36/100      2.21G      1.113       1.31      1.395         35        640: 100%|██████████| 111/111 [00:39<00:00,  2.79it/s]\n"
          ]
        },
        {
          "output_type": "stream",
          "name": "stdout",
          "text": [
            "\n",
            "Saved intermediate model to /content/drive/MyDrive/thesisdataset/intermediate_models/interim_epoch_35_20250629_133937.pt\n"
          ]
        },
        {
          "output_type": "stream",
          "name": "stderr",
          "text": [
            "                 Class     Images  Instances      Box(P          R      mAP50  mAP50-95): 100%|██████████| 1/1 [00:00<00:00,  7.76it/s]"
          ]
        },
        {
          "output_type": "stream",
          "name": "stdout",
          "text": [
            "                   all         15          0          0          0          0          0\n",
            "WARNING ⚠️ no labels found in detect set, can not compute metrics without labels\n"
          ]
        },
        {
          "output_type": "stream",
          "name": "stderr",
          "text": [
            "\n",
            "/usr/local/lib/python3.11/dist-packages/ultralytics/utils/metrics.py:765: RuntimeWarning: Mean of empty slice.\n",
            "  i = smooth(f1_curve.mean(0), 0.1).argmax()  # max F1 index\n",
            "/usr/local/lib/python3.11/dist-packages/numpy/_core/_methods.py:130: RuntimeWarning: invalid value encountered in divide\n",
            "  ret = um.true_divide(\n"
          ]
        },
        {
          "output_type": "stream",
          "name": "stdout",
          "text": [
            "\n",
            "      Epoch    GPU_mem   box_loss   cls_loss   dfl_loss  Instances       Size\n"
          ]
        },
        {
          "output_type": "stream",
          "name": "stderr",
          "text": [
            "     37/100      2.21G      1.079      1.267      1.372         36        640: 100%|██████████| 111/111 [00:39<00:00,  2.82it/s]\n",
            "                 Class     Images  Instances      Box(P          R      mAP50  mAP50-95): 100%|██████████| 1/1 [00:00<00:00,  3.92it/s]"
          ]
        },
        {
          "output_type": "stream",
          "name": "stdout",
          "text": [
            "                   all         15          0          0          0          0          0\n",
            "WARNING ⚠️ no labels found in detect set, can not compute metrics without labels\n"
          ]
        },
        {
          "output_type": "stream",
          "name": "stderr",
          "text": [
            "\n",
            "/usr/local/lib/python3.11/dist-packages/ultralytics/utils/metrics.py:765: RuntimeWarning: Mean of empty slice.\n",
            "  i = smooth(f1_curve.mean(0), 0.1).argmax()  # max F1 index\n",
            "/usr/local/lib/python3.11/dist-packages/numpy/_core/_methods.py:130: RuntimeWarning: invalid value encountered in divide\n",
            "  ret = um.true_divide(\n"
          ]
        },
        {
          "output_type": "stream",
          "name": "stdout",
          "text": [
            "\n",
            "      Epoch    GPU_mem   box_loss   cls_loss   dfl_loss  Instances       Size\n"
          ]
        },
        {
          "output_type": "stream",
          "name": "stderr",
          "text": [
            "     38/100      2.21G      1.098      1.265       1.38         41        640: 100%|██████████| 111/111 [00:39<00:00,  2.83it/s]\n",
            "                 Class     Images  Instances      Box(P          R      mAP50  mAP50-95): 100%|██████████| 1/1 [00:00<00:00,  4.47it/s]"
          ]
        },
        {
          "output_type": "stream",
          "name": "stdout",
          "text": [
            "                   all         15          0          0          0          0          0\n",
            "WARNING ⚠️ no labels found in detect set, can not compute metrics without labels\n"
          ]
        },
        {
          "output_type": "stream",
          "name": "stderr",
          "text": [
            "\n",
            "/usr/local/lib/python3.11/dist-packages/ultralytics/utils/metrics.py:765: RuntimeWarning: Mean of empty slice.\n",
            "  i = smooth(f1_curve.mean(0), 0.1).argmax()  # max F1 index\n",
            "/usr/local/lib/python3.11/dist-packages/numpy/_core/_methods.py:130: RuntimeWarning: invalid value encountered in divide\n",
            "  ret = um.true_divide(\n"
          ]
        },
        {
          "output_type": "stream",
          "name": "stdout",
          "text": [
            "\n",
            "      Epoch    GPU_mem   box_loss   cls_loss   dfl_loss  Instances       Size\n"
          ]
        },
        {
          "output_type": "stream",
          "name": "stderr",
          "text": [
            "     39/100      2.21G      1.078      1.244      1.372         42        640: 100%|██████████| 111/111 [00:38<00:00,  2.87it/s]\n",
            "                 Class     Images  Instances      Box(P          R      mAP50  mAP50-95): 100%|██████████| 1/1 [00:00<00:00,  7.51it/s]"
          ]
        },
        {
          "output_type": "stream",
          "name": "stdout",
          "text": [
            "                   all         15          0          0          0          0          0\n",
            "WARNING ⚠️ no labels found in detect set, can not compute metrics without labels\n"
          ]
        },
        {
          "output_type": "stream",
          "name": "stderr",
          "text": [
            "\n",
            "/usr/local/lib/python3.11/dist-packages/ultralytics/utils/metrics.py:765: RuntimeWarning: Mean of empty slice.\n",
            "  i = smooth(f1_curve.mean(0), 0.1).argmax()  # max F1 index\n",
            "/usr/local/lib/python3.11/dist-packages/numpy/_core/_methods.py:130: RuntimeWarning: invalid value encountered in divide\n",
            "  ret = um.true_divide(\n"
          ]
        },
        {
          "output_type": "stream",
          "name": "stdout",
          "text": [
            "\n",
            "      Epoch    GPU_mem   box_loss   cls_loss   dfl_loss  Instances       Size\n"
          ]
        },
        {
          "output_type": "stream",
          "name": "stderr",
          "text": [
            "     40/100      2.21G      1.087       1.26      1.374         33        640: 100%|██████████| 111/111 [00:39<00:00,  2.79it/s]\n",
            "                 Class     Images  Instances      Box(P          R      mAP50  mAP50-95): 100%|██████████| 1/1 [00:00<00:00,  9.47it/s]"
          ]
        },
        {
          "output_type": "stream",
          "name": "stdout",
          "text": [
            "                   all         15          0          0          0          0          0\n",
            "WARNING ⚠️ no labels found in detect set, can not compute metrics without labels\n"
          ]
        },
        {
          "output_type": "stream",
          "name": "stderr",
          "text": [
            "\n",
            "/usr/local/lib/python3.11/dist-packages/ultralytics/utils/metrics.py:765: RuntimeWarning: Mean of empty slice.\n",
            "  i = smooth(f1_curve.mean(0), 0.1).argmax()  # max F1 index\n",
            "/usr/local/lib/python3.11/dist-packages/numpy/_core/_methods.py:130: RuntimeWarning: invalid value encountered in divide\n",
            "  ret = um.true_divide(\n"
          ]
        },
        {
          "output_type": "stream",
          "name": "stdout",
          "text": [
            "\n",
            "      Epoch    GPU_mem   box_loss   cls_loss   dfl_loss  Instances       Size\n"
          ]
        },
        {
          "output_type": "stream",
          "name": "stderr",
          "text": [
            "     41/100      2.21G      1.064       1.23      1.363         30        640: 100%|██████████| 111/111 [00:39<00:00,  2.79it/s]\n"
          ]
        },
        {
          "output_type": "stream",
          "name": "stdout",
          "text": [
            "\n",
            "Saved intermediate model to /content/drive/MyDrive/thesisdataset/intermediate_models/interim_epoch_40_20250629_134259.pt\n"
          ]
        },
        {
          "output_type": "stream",
          "name": "stderr",
          "text": [
            "                 Class     Images  Instances      Box(P          R      mAP50  mAP50-95): 100%|██████████| 1/1 [00:00<00:00, 11.57it/s]"
          ]
        },
        {
          "output_type": "stream",
          "name": "stdout",
          "text": [
            "                   all         15          0          0          0          0          0\n",
            "WARNING ⚠️ no labels found in detect set, can not compute metrics without labels\n"
          ]
        },
        {
          "output_type": "stream",
          "name": "stderr",
          "text": [
            "\n",
            "/usr/local/lib/python3.11/dist-packages/ultralytics/utils/metrics.py:765: RuntimeWarning: Mean of empty slice.\n",
            "  i = smooth(f1_curve.mean(0), 0.1).argmax()  # max F1 index\n",
            "/usr/local/lib/python3.11/dist-packages/numpy/_core/_methods.py:130: RuntimeWarning: invalid value encountered in divide\n",
            "  ret = um.true_divide(\n"
          ]
        },
        {
          "output_type": "stream",
          "name": "stdout",
          "text": [
            "\n",
            "      Epoch    GPU_mem   box_loss   cls_loss   dfl_loss  Instances       Size\n"
          ]
        },
        {
          "output_type": "stream",
          "name": "stderr",
          "text": [
            "     42/100      2.21G      1.031      1.205      1.349         24        640: 100%|██████████| 111/111 [00:40<00:00,  2.76it/s]\n",
            "                 Class     Images  Instances      Box(P          R      mAP50  mAP50-95): 100%|██████████| 1/1 [00:00<00:00,  6.19it/s]\n"
          ]
        },
        {
          "output_type": "stream",
          "name": "stdout",
          "text": [
            "                   all         15          0          0          0          0          0\n",
            "WARNING ⚠️ no labels found in detect set, can not compute metrics without labels\n"
          ]
        },
        {
          "output_type": "stream",
          "name": "stderr",
          "text": [
            "/usr/local/lib/python3.11/dist-packages/ultralytics/utils/metrics.py:765: RuntimeWarning: Mean of empty slice.\n",
            "  i = smooth(f1_curve.mean(0), 0.1).argmax()  # max F1 index\n",
            "/usr/local/lib/python3.11/dist-packages/numpy/_core/_methods.py:130: RuntimeWarning: invalid value encountered in divide\n",
            "  ret = um.true_divide(\n"
          ]
        },
        {
          "output_type": "stream",
          "name": "stdout",
          "text": [
            "\n",
            "      Epoch    GPU_mem   box_loss   cls_loss   dfl_loss  Instances       Size\n"
          ]
        },
        {
          "output_type": "stream",
          "name": "stderr",
          "text": [
            "     43/100      2.21G      1.048      1.195      1.356         31        640: 100%|██████████| 111/111 [00:41<00:00,  2.70it/s]\n",
            "                 Class     Images  Instances      Box(P          R      mAP50  mAP50-95): 100%|██████████| 1/1 [00:00<00:00,  7.95it/s]"
          ]
        },
        {
          "output_type": "stream",
          "name": "stdout",
          "text": [
            "                   all         15          0          0          0          0          0\n",
            "WARNING ⚠️ no labels found in detect set, can not compute metrics without labels\n"
          ]
        },
        {
          "output_type": "stream",
          "name": "stderr",
          "text": [
            "\n",
            "/usr/local/lib/python3.11/dist-packages/ultralytics/utils/metrics.py:765: RuntimeWarning: Mean of empty slice.\n",
            "  i = smooth(f1_curve.mean(0), 0.1).argmax()  # max F1 index\n",
            "/usr/local/lib/python3.11/dist-packages/numpy/_core/_methods.py:130: RuntimeWarning: invalid value encountered in divide\n",
            "  ret = um.true_divide(\n"
          ]
        },
        {
          "output_type": "stream",
          "name": "stdout",
          "text": [
            "\n",
            "      Epoch    GPU_mem   box_loss   cls_loss   dfl_loss  Instances       Size\n"
          ]
        },
        {
          "output_type": "stream",
          "name": "stderr",
          "text": [
            "     44/100      2.21G      1.033      1.188      1.344         31        640: 100%|██████████| 111/111 [00:40<00:00,  2.74it/s]\n",
            "                 Class     Images  Instances      Box(P          R      mAP50  mAP50-95): 100%|██████████| 1/1 [00:00<00:00,  8.03it/s]"
          ]
        },
        {
          "output_type": "stream",
          "name": "stdout",
          "text": [
            "                   all         15          0          0          0          0          0\n",
            "WARNING ⚠️ no labels found in detect set, can not compute metrics without labels\n"
          ]
        },
        {
          "output_type": "stream",
          "name": "stderr",
          "text": [
            "\n",
            "/usr/local/lib/python3.11/dist-packages/ultralytics/utils/metrics.py:765: RuntimeWarning: Mean of empty slice.\n",
            "  i = smooth(f1_curve.mean(0), 0.1).argmax()  # max F1 index\n",
            "/usr/local/lib/python3.11/dist-packages/numpy/_core/_methods.py:130: RuntimeWarning: invalid value encountered in divide\n",
            "  ret = um.true_divide(\n"
          ]
        },
        {
          "output_type": "stream",
          "name": "stdout",
          "text": [
            "\n",
            "      Epoch    GPU_mem   box_loss   cls_loss   dfl_loss  Instances       Size\n"
          ]
        },
        {
          "output_type": "stream",
          "name": "stderr",
          "text": [
            "     45/100      2.21G      1.023      1.157       1.33         35        640: 100%|██████████| 111/111 [00:39<00:00,  2.81it/s]\n",
            "                 Class     Images  Instances      Box(P          R      mAP50  mAP50-95): 100%|██████████| 1/1 [00:00<00:00,  6.84it/s]"
          ]
        },
        {
          "output_type": "stream",
          "name": "stdout",
          "text": [
            "                   all         15          0          0          0          0          0\n",
            "WARNING ⚠️ no labels found in detect set, can not compute metrics without labels\n"
          ]
        },
        {
          "output_type": "stream",
          "name": "stderr",
          "text": [
            "\n",
            "/usr/local/lib/python3.11/dist-packages/ultralytics/utils/metrics.py:765: RuntimeWarning: Mean of empty slice.\n",
            "  i = smooth(f1_curve.mean(0), 0.1).argmax()  # max F1 index\n",
            "/usr/local/lib/python3.11/dist-packages/numpy/_core/_methods.py:130: RuntimeWarning: invalid value encountered in divide\n",
            "  ret = um.true_divide(\n"
          ]
        },
        {
          "output_type": "stream",
          "name": "stdout",
          "text": [
            "\n",
            "      Epoch    GPU_mem   box_loss   cls_loss   dfl_loss  Instances       Size\n"
          ]
        },
        {
          "output_type": "stream",
          "name": "stderr",
          "text": [
            "     46/100      2.21G      1.067        1.2      1.365         34        640: 100%|██████████| 111/111 [00:40<00:00,  2.75it/s]\n"
          ]
        },
        {
          "output_type": "stream",
          "name": "stdout",
          "text": [
            "\n",
            "Saved intermediate model to /content/drive/MyDrive/thesisdataset/intermediate_models/interim_epoch_45_20250629_134625.pt\n"
          ]
        },
        {
          "output_type": "stream",
          "name": "stderr",
          "text": [
            "                 Class     Images  Instances      Box(P          R      mAP50  mAP50-95): 100%|██████████| 1/1 [00:00<00:00,  4.97it/s]"
          ]
        },
        {
          "output_type": "stream",
          "name": "stdout",
          "text": [
            "                   all         15          0          0          0          0          0\n",
            "WARNING ⚠️ no labels found in detect set, can not compute metrics without labels\n"
          ]
        },
        {
          "output_type": "stream",
          "name": "stderr",
          "text": [
            "\n",
            "/usr/local/lib/python3.11/dist-packages/ultralytics/utils/metrics.py:765: RuntimeWarning: Mean of empty slice.\n",
            "  i = smooth(f1_curve.mean(0), 0.1).argmax()  # max F1 index\n",
            "/usr/local/lib/python3.11/dist-packages/numpy/_core/_methods.py:130: RuntimeWarning: invalid value encountered in divide\n",
            "  ret = um.true_divide(\n"
          ]
        },
        {
          "output_type": "stream",
          "name": "stdout",
          "text": [
            "\n",
            "      Epoch    GPU_mem   box_loss   cls_loss   dfl_loss  Instances       Size\n"
          ]
        },
        {
          "output_type": "stream",
          "name": "stderr",
          "text": [
            "     47/100      2.21G       1.02      1.183      1.334         39        640: 100%|██████████| 111/111 [00:40<00:00,  2.77it/s]\n",
            "                 Class     Images  Instances      Box(P          R      mAP50  mAP50-95): 100%|██████████| 1/1 [00:00<00:00,  6.47it/s]"
          ]
        },
        {
          "output_type": "stream",
          "name": "stdout",
          "text": [
            "                   all         15          0          0          0          0          0\n",
            "WARNING ⚠️ no labels found in detect set, can not compute metrics without labels\n"
          ]
        },
        {
          "output_type": "stream",
          "name": "stderr",
          "text": [
            "\n",
            "/usr/local/lib/python3.11/dist-packages/ultralytics/utils/metrics.py:765: RuntimeWarning: Mean of empty slice.\n",
            "  i = smooth(f1_curve.mean(0), 0.1).argmax()  # max F1 index\n",
            "/usr/local/lib/python3.11/dist-packages/numpy/_core/_methods.py:130: RuntimeWarning: invalid value encountered in divide\n",
            "  ret = um.true_divide(\n"
          ]
        },
        {
          "output_type": "stream",
          "name": "stdout",
          "text": [
            "\n",
            "      Epoch    GPU_mem   box_loss   cls_loss   dfl_loss  Instances       Size\n"
          ]
        },
        {
          "output_type": "stream",
          "name": "stderr",
          "text": [
            "     48/100      2.21G      1.012      1.152      1.328         33        640: 100%|██████████| 111/111 [00:39<00:00,  2.78it/s]\n",
            "                 Class     Images  Instances      Box(P          R      mAP50  mAP50-95): 100%|██████████| 1/1 [00:00<00:00,  4.42it/s]"
          ]
        },
        {
          "output_type": "stream",
          "name": "stdout",
          "text": [
            "                   all         15          0          0          0          0          0\n",
            "WARNING ⚠️ no labels found in detect set, can not compute metrics without labels\n"
          ]
        },
        {
          "output_type": "stream",
          "name": "stderr",
          "text": [
            "\n",
            "/usr/local/lib/python3.11/dist-packages/ultralytics/utils/metrics.py:765: RuntimeWarning: Mean of empty slice.\n",
            "  i = smooth(f1_curve.mean(0), 0.1).argmax()  # max F1 index\n",
            "/usr/local/lib/python3.11/dist-packages/numpy/_core/_methods.py:130: RuntimeWarning: invalid value encountered in divide\n",
            "  ret = um.true_divide(\n"
          ]
        },
        {
          "output_type": "stream",
          "name": "stdout",
          "text": [
            "\n",
            "      Epoch    GPU_mem   box_loss   cls_loss   dfl_loss  Instances       Size\n"
          ]
        },
        {
          "output_type": "stream",
          "name": "stderr",
          "text": [
            "     49/100      2.21G      1.016      1.131      1.333         28        640: 100%|██████████| 111/111 [00:38<00:00,  2.90it/s]\n",
            "                 Class     Images  Instances      Box(P          R      mAP50  mAP50-95): 100%|██████████| 1/1 [00:00<00:00,  4.07it/s]"
          ]
        },
        {
          "output_type": "stream",
          "name": "stdout",
          "text": [
            "                   all         15          0          0          0          0          0\n",
            "WARNING ⚠️ no labels found in detect set, can not compute metrics without labels\n"
          ]
        },
        {
          "output_type": "stream",
          "name": "stderr",
          "text": [
            "\n",
            "/usr/local/lib/python3.11/dist-packages/ultralytics/utils/metrics.py:765: RuntimeWarning: Mean of empty slice.\n",
            "  i = smooth(f1_curve.mean(0), 0.1).argmax()  # max F1 index\n",
            "/usr/local/lib/python3.11/dist-packages/numpy/_core/_methods.py:130: RuntimeWarning: invalid value encountered in divide\n",
            "  ret = um.true_divide(\n"
          ]
        },
        {
          "output_type": "stream",
          "name": "stdout",
          "text": [
            "\n",
            "      Epoch    GPU_mem   box_loss   cls_loss   dfl_loss  Instances       Size\n"
          ]
        },
        {
          "output_type": "stream",
          "name": "stderr",
          "text": [
            "     50/100      2.21G       1.02      1.141      1.328         30        640: 100%|██████████| 111/111 [00:39<00:00,  2.84it/s]\n",
            "                 Class     Images  Instances      Box(P          R      mAP50  mAP50-95): 100%|██████████| 1/1 [00:00<00:00,  6.55it/s]\n",
            "/usr/local/lib/python3.11/dist-packages/ultralytics/utils/metrics.py:765: RuntimeWarning: Mean of empty slice.\n",
            "  i = smooth(f1_curve.mean(0), 0.1).argmax()  # max F1 index\n",
            "/usr/local/lib/python3.11/dist-packages/numpy/_core/_methods.py:130: RuntimeWarning: invalid value encountered in divide\n",
            "  ret = um.true_divide(\n"
          ]
        },
        {
          "output_type": "stream",
          "name": "stdout",
          "text": [
            "                   all         15          0          0          0          0          0\n",
            "WARNING ⚠️ no labels found in detect set, can not compute metrics without labels\n",
            "\n",
            "      Epoch    GPU_mem   box_loss   cls_loss   dfl_loss  Instances       Size\n"
          ]
        },
        {
          "output_type": "stream",
          "name": "stderr",
          "text": [
            "     51/100      2.21G      0.999      1.122      1.316         25        640: 100%|██████████| 111/111 [00:39<00:00,  2.80it/s]\n"
          ]
        },
        {
          "output_type": "stream",
          "name": "stdout",
          "text": [
            "\n",
            "Saved intermediate model to /content/drive/MyDrive/thesisdataset/intermediate_models/interim_epoch_50_20250629_134948.pt\n"
          ]
        },
        {
          "output_type": "stream",
          "name": "stderr",
          "text": [
            "                 Class     Images  Instances      Box(P          R      mAP50  mAP50-95): 100%|██████████| 1/1 [00:00<00:00,  7.56it/s]"
          ]
        },
        {
          "output_type": "stream",
          "name": "stdout",
          "text": [
            "                   all         15          0          0          0          0          0\n",
            "WARNING ⚠️ no labels found in detect set, can not compute metrics without labels\n"
          ]
        },
        {
          "output_type": "stream",
          "name": "stderr",
          "text": [
            "\n",
            "/usr/local/lib/python3.11/dist-packages/ultralytics/utils/metrics.py:765: RuntimeWarning: Mean of empty slice.\n",
            "  i = smooth(f1_curve.mean(0), 0.1).argmax()  # max F1 index\n",
            "/usr/local/lib/python3.11/dist-packages/numpy/_core/_methods.py:130: RuntimeWarning: invalid value encountered in divide\n",
            "  ret = um.true_divide(\n"
          ]
        },
        {
          "output_type": "stream",
          "name": "stdout",
          "text": [
            "\n",
            "      Epoch    GPU_mem   box_loss   cls_loss   dfl_loss  Instances       Size\n"
          ]
        },
        {
          "output_type": "stream",
          "name": "stderr",
          "text": [
            "     52/100      2.21G      1.002      1.109      1.324         33        640: 100%|██████████| 111/111 [00:39<00:00,  2.79it/s]\n",
            "                 Class     Images  Instances      Box(P          R      mAP50  mAP50-95): 100%|██████████| 1/1 [00:00<00:00,  7.60it/s]"
          ]
        },
        {
          "output_type": "stream",
          "name": "stdout",
          "text": [
            "                   all         15          0          0          0          0          0\n",
            "WARNING ⚠️ no labels found in detect set, can not compute metrics without labels\n"
          ]
        },
        {
          "output_type": "stream",
          "name": "stderr",
          "text": [
            "\n",
            "/usr/local/lib/python3.11/dist-packages/ultralytics/utils/metrics.py:765: RuntimeWarning: Mean of empty slice.\n",
            "  i = smooth(f1_curve.mean(0), 0.1).argmax()  # max F1 index\n",
            "/usr/local/lib/python3.11/dist-packages/numpy/_core/_methods.py:130: RuntimeWarning: invalid value encountered in divide\n",
            "  ret = um.true_divide(\n"
          ]
        },
        {
          "output_type": "stream",
          "name": "stdout",
          "text": [
            "\n",
            "      Epoch    GPU_mem   box_loss   cls_loss   dfl_loss  Instances       Size\n"
          ]
        },
        {
          "output_type": "stream",
          "name": "stderr",
          "text": [
            "     53/100      2.21G      1.002      1.119      1.312         31        640: 100%|██████████| 111/111 [00:40<00:00,  2.76it/s]\n",
            "                 Class     Images  Instances      Box(P          R      mAP50  mAP50-95): 100%|██████████| 1/1 [00:00<00:00,  6.76it/s]"
          ]
        },
        {
          "output_type": "stream",
          "name": "stdout",
          "text": [
            "                   all         15          0          0          0          0          0\n",
            "WARNING ⚠️ no labels found in detect set, can not compute metrics without labels\n"
          ]
        },
        {
          "output_type": "stream",
          "name": "stderr",
          "text": [
            "\n",
            "/usr/local/lib/python3.11/dist-packages/ultralytics/utils/metrics.py:765: RuntimeWarning: Mean of empty slice.\n",
            "  i = smooth(f1_curve.mean(0), 0.1).argmax()  # max F1 index\n",
            "/usr/local/lib/python3.11/dist-packages/numpy/_core/_methods.py:130: RuntimeWarning: invalid value encountered in divide\n",
            "  ret = um.true_divide(\n"
          ]
        },
        {
          "output_type": "stream",
          "name": "stdout",
          "text": [
            "\n",
            "      Epoch    GPU_mem   box_loss   cls_loss   dfl_loss  Instances       Size\n"
          ]
        },
        {
          "output_type": "stream",
          "name": "stderr",
          "text": [
            "     54/100      2.21G     0.9781       1.09      1.297         30        640: 100%|██████████| 111/111 [00:40<00:00,  2.74it/s]\n",
            "                 Class     Images  Instances      Box(P          R      mAP50  mAP50-95): 100%|██████████| 1/1 [00:00<00:00,  8.92it/s]"
          ]
        },
        {
          "output_type": "stream",
          "name": "stdout",
          "text": [
            "                   all         15          0          0          0          0          0\n",
            "WARNING ⚠️ no labels found in detect set, can not compute metrics without labels\n"
          ]
        },
        {
          "output_type": "stream",
          "name": "stderr",
          "text": [
            "\n",
            "/usr/local/lib/python3.11/dist-packages/ultralytics/utils/metrics.py:765: RuntimeWarning: Mean of empty slice.\n",
            "  i = smooth(f1_curve.mean(0), 0.1).argmax()  # max F1 index\n",
            "/usr/local/lib/python3.11/dist-packages/numpy/_core/_methods.py:130: RuntimeWarning: invalid value encountered in divide\n",
            "  ret = um.true_divide(\n"
          ]
        },
        {
          "output_type": "stream",
          "name": "stdout",
          "text": [
            "\n",
            "      Epoch    GPU_mem   box_loss   cls_loss   dfl_loss  Instances       Size\n"
          ]
        },
        {
          "output_type": "stream",
          "name": "stderr",
          "text": [
            "     55/100      2.21G     0.9979      1.094      1.313         28        640: 100%|██████████| 111/111 [00:40<00:00,  2.76it/s]\n",
            "                 Class     Images  Instances      Box(P          R      mAP50  mAP50-95): 100%|██████████| 1/1 [00:00<00:00,  6.91it/s]\n"
          ]
        },
        {
          "output_type": "stream",
          "name": "stdout",
          "text": [
            "                   all         15          0          0          0          0          0\n",
            "WARNING ⚠️ no labels found in detect set, can not compute metrics without labels\n"
          ]
        },
        {
          "output_type": "stream",
          "name": "stderr",
          "text": [
            "/usr/local/lib/python3.11/dist-packages/ultralytics/utils/metrics.py:765: RuntimeWarning: Mean of empty slice.\n",
            "  i = smooth(f1_curve.mean(0), 0.1).argmax()  # max F1 index\n",
            "/usr/local/lib/python3.11/dist-packages/numpy/_core/_methods.py:130: RuntimeWarning: invalid value encountered in divide\n",
            "  ret = um.true_divide(\n"
          ]
        },
        {
          "output_type": "stream",
          "name": "stdout",
          "text": [
            "\n",
            "      Epoch    GPU_mem   box_loss   cls_loss   dfl_loss  Instances       Size\n"
          ]
        },
        {
          "output_type": "stream",
          "name": "stderr",
          "text": [
            "     56/100      2.21G     0.9965      1.098      1.306         31        640: 100%|██████████| 111/111 [00:39<00:00,  2.79it/s]\n"
          ]
        },
        {
          "output_type": "stream",
          "name": "stdout",
          "text": [
            "\n",
            "Saved intermediate model to /content/drive/MyDrive/thesisdataset/intermediate_models/interim_epoch_55_20250629_135312.pt\n"
          ]
        },
        {
          "output_type": "stream",
          "name": "stderr",
          "text": [
            "                 Class     Images  Instances      Box(P          R      mAP50  mAP50-95): 100%|██████████| 1/1 [00:00<00:00,  6.08it/s]"
          ]
        },
        {
          "output_type": "stream",
          "name": "stdout",
          "text": [
            "                   all         15          0          0          0          0          0\n",
            "WARNING ⚠️ no labels found in detect set, can not compute metrics without labels\n"
          ]
        },
        {
          "output_type": "stream",
          "name": "stderr",
          "text": [
            "\n",
            "/usr/local/lib/python3.11/dist-packages/ultralytics/utils/metrics.py:765: RuntimeWarning: Mean of empty slice.\n",
            "  i = smooth(f1_curve.mean(0), 0.1).argmax()  # max F1 index\n",
            "/usr/local/lib/python3.11/dist-packages/numpy/_core/_methods.py:130: RuntimeWarning: invalid value encountered in divide\n",
            "  ret = um.true_divide(\n"
          ]
        },
        {
          "output_type": "stream",
          "name": "stdout",
          "text": [
            "\n",
            "      Epoch    GPU_mem   box_loss   cls_loss   dfl_loss  Instances       Size\n"
          ]
        },
        {
          "output_type": "stream",
          "name": "stderr",
          "text": [
            "     57/100      2.21G      1.005      1.107      1.317         22        640: 100%|██████████| 111/111 [00:40<00:00,  2.76it/s]\n",
            "                 Class     Images  Instances      Box(P          R      mAP50  mAP50-95): 100%|██████████| 1/1 [00:00<00:00, 11.77it/s]"
          ]
        },
        {
          "output_type": "stream",
          "name": "stdout",
          "text": [
            "                   all         15          0          0          0          0          0\n",
            "WARNING ⚠️ no labels found in detect set, can not compute metrics without labels\n"
          ]
        },
        {
          "output_type": "stream",
          "name": "stderr",
          "text": [
            "\n",
            "/usr/local/lib/python3.11/dist-packages/ultralytics/utils/metrics.py:765: RuntimeWarning: Mean of empty slice.\n",
            "  i = smooth(f1_curve.mean(0), 0.1).argmax()  # max F1 index\n",
            "/usr/local/lib/python3.11/dist-packages/numpy/_core/_methods.py:130: RuntimeWarning: invalid value encountered in divide\n",
            "  ret = um.true_divide(\n"
          ]
        },
        {
          "output_type": "stream",
          "name": "stdout",
          "text": [
            "\n",
            "      Epoch    GPU_mem   box_loss   cls_loss   dfl_loss  Instances       Size\n"
          ]
        },
        {
          "output_type": "stream",
          "name": "stderr",
          "text": [
            "     58/100      2.21G     0.9763      1.102        1.3         23        640: 100%|██████████| 111/111 [00:40<00:00,  2.72it/s]\n",
            "                 Class     Images  Instances      Box(P          R      mAP50  mAP50-95): 100%|██████████| 1/1 [00:00<00:00,  7.38it/s]\n"
          ]
        },
        {
          "output_type": "stream",
          "name": "stdout",
          "text": [
            "                   all         15          0          0          0          0          0\n"
          ]
        },
        {
          "output_type": "stream",
          "name": "stderr",
          "text": [
            "/usr/local/lib/python3.11/dist-packages/ultralytics/utils/metrics.py:765: RuntimeWarning: Mean of empty slice.\n",
            "  i = smooth(f1_curve.mean(0), 0.1).argmax()  # max F1 index\n",
            "/usr/local/lib/python3.11/dist-packages/numpy/_core/_methods.py:130: RuntimeWarning: invalid value encountered in divide\n",
            "  ret = um.true_divide(\n"
          ]
        },
        {
          "output_type": "stream",
          "name": "stdout",
          "text": [
            "WARNING ⚠️ no labels found in detect set, can not compute metrics without labels\n",
            "\n",
            "      Epoch    GPU_mem   box_loss   cls_loss   dfl_loss  Instances       Size\n"
          ]
        },
        {
          "output_type": "stream",
          "name": "stderr",
          "text": [
            "     59/100      2.21G     0.9698      1.057      1.292         18        640: 100%|██████████| 111/111 [00:39<00:00,  2.84it/s]\n",
            "                 Class     Images  Instances      Box(P          R      mAP50  mAP50-95): 100%|██████████| 1/1 [00:00<00:00,  3.80it/s]"
          ]
        },
        {
          "output_type": "stream",
          "name": "stdout",
          "text": [
            "                   all         15          0          0          0          0          0\n",
            "WARNING ⚠️ no labels found in detect set, can not compute metrics without labels\n"
          ]
        },
        {
          "output_type": "stream",
          "name": "stderr",
          "text": [
            "\n",
            "/usr/local/lib/python3.11/dist-packages/ultralytics/utils/metrics.py:765: RuntimeWarning: Mean of empty slice.\n",
            "  i = smooth(f1_curve.mean(0), 0.1).argmax()  # max F1 index\n",
            "/usr/local/lib/python3.11/dist-packages/numpy/_core/_methods.py:130: RuntimeWarning: invalid value encountered in divide\n",
            "  ret = um.true_divide(\n"
          ]
        },
        {
          "output_type": "stream",
          "name": "stdout",
          "text": [
            "\n",
            "      Epoch    GPU_mem   box_loss   cls_loss   dfl_loss  Instances       Size\n"
          ]
        },
        {
          "output_type": "stream",
          "name": "stderr",
          "text": [
            "     60/100      2.21G     0.9826      1.062      1.297         30        640: 100%|██████████| 111/111 [00:38<00:00,  2.91it/s]\n",
            "                 Class     Images  Instances      Box(P          R      mAP50  mAP50-95): 100%|██████████| 1/1 [00:00<00:00,  6.92it/s]"
          ]
        },
        {
          "output_type": "stream",
          "name": "stdout",
          "text": [
            "                   all         15          0          0          0          0          0\n",
            "WARNING ⚠️ no labels found in detect set, can not compute metrics without labels\n"
          ]
        },
        {
          "output_type": "stream",
          "name": "stderr",
          "text": [
            "\n",
            "/usr/local/lib/python3.11/dist-packages/ultralytics/utils/metrics.py:765: RuntimeWarning: Mean of empty slice.\n",
            "  i = smooth(f1_curve.mean(0), 0.1).argmax()  # max F1 index\n",
            "/usr/local/lib/python3.11/dist-packages/numpy/_core/_methods.py:130: RuntimeWarning: invalid value encountered in divide\n",
            "  ret = um.true_divide(\n"
          ]
        },
        {
          "output_type": "stream",
          "name": "stdout",
          "text": [
            "\n",
            "      Epoch    GPU_mem   box_loss   cls_loss   dfl_loss  Instances       Size\n"
          ]
        },
        {
          "output_type": "stream",
          "name": "stderr",
          "text": [
            "     61/100      2.21G     0.9805      1.072      1.294         38        640: 100%|██████████| 111/111 [00:39<00:00,  2.80it/s]\n"
          ]
        },
        {
          "output_type": "stream",
          "name": "stdout",
          "text": [
            "\n",
            "Saved intermediate model to /content/drive/MyDrive/thesisdataset/intermediate_models/interim_epoch_60_20250629_135636.pt\n"
          ]
        },
        {
          "output_type": "stream",
          "name": "stderr",
          "text": [
            "                 Class     Images  Instances      Box(P          R      mAP50  mAP50-95): 100%|██████████| 1/1 [00:00<00:00, 11.40it/s]"
          ]
        },
        {
          "output_type": "stream",
          "name": "stdout",
          "text": [
            "                   all         15          0          0          0          0          0\n",
            "WARNING ⚠️ no labels found in detect set, can not compute metrics without labels\n"
          ]
        },
        {
          "output_type": "stream",
          "name": "stderr",
          "text": [
            "\n",
            "/usr/local/lib/python3.11/dist-packages/ultralytics/utils/metrics.py:765: RuntimeWarning: Mean of empty slice.\n",
            "  i = smooth(f1_curve.mean(0), 0.1).argmax()  # max F1 index\n",
            "/usr/local/lib/python3.11/dist-packages/numpy/_core/_methods.py:130: RuntimeWarning: invalid value encountered in divide\n",
            "  ret = um.true_divide(\n"
          ]
        },
        {
          "output_type": "stream",
          "name": "stdout",
          "text": [
            "\n",
            "      Epoch    GPU_mem   box_loss   cls_loss   dfl_loss  Instances       Size\n"
          ]
        },
        {
          "output_type": "stream",
          "name": "stderr",
          "text": [
            "     62/100      2.21G     0.9684       1.06      1.299         15        640: 100%|██████████| 111/111 [00:40<00:00,  2.74it/s]\n",
            "                 Class     Images  Instances      Box(P          R      mAP50  mAP50-95): 100%|██████████| 1/1 [00:00<00:00,  5.25it/s]"
          ]
        },
        {
          "output_type": "stream",
          "name": "stdout",
          "text": [
            "                   all         15          0          0          0          0          0\n",
            "WARNING ⚠️ no labels found in detect set, can not compute metrics without labels\n"
          ]
        },
        {
          "output_type": "stream",
          "name": "stderr",
          "text": [
            "\n",
            "/usr/local/lib/python3.11/dist-packages/ultralytics/utils/metrics.py:765: RuntimeWarning: Mean of empty slice.\n",
            "  i = smooth(f1_curve.mean(0), 0.1).argmax()  # max F1 index\n",
            "/usr/local/lib/python3.11/dist-packages/numpy/_core/_methods.py:130: RuntimeWarning: invalid value encountered in divide\n",
            "  ret = um.true_divide(\n"
          ]
        },
        {
          "output_type": "stream",
          "name": "stdout",
          "text": [
            "\n",
            "      Epoch    GPU_mem   box_loss   cls_loss   dfl_loss  Instances       Size\n"
          ]
        },
        {
          "output_type": "stream",
          "name": "stderr",
          "text": [
            "     63/100      2.21G     0.9713      1.058       1.29         38        640: 100%|██████████| 111/111 [00:40<00:00,  2.77it/s]\n",
            "                 Class     Images  Instances      Box(P          R      mAP50  mAP50-95): 100%|██████████| 1/1 [00:00<00:00,  6.67it/s]"
          ]
        },
        {
          "output_type": "stream",
          "name": "stdout",
          "text": [
            "                   all         15          0          0          0          0          0\n",
            "WARNING ⚠️ no labels found in detect set, can not compute metrics without labels\n"
          ]
        },
        {
          "output_type": "stream",
          "name": "stderr",
          "text": [
            "\n",
            "/usr/local/lib/python3.11/dist-packages/ultralytics/utils/metrics.py:765: RuntimeWarning: Mean of empty slice.\n",
            "  i = smooth(f1_curve.mean(0), 0.1).argmax()  # max F1 index\n",
            "/usr/local/lib/python3.11/dist-packages/numpy/_core/_methods.py:130: RuntimeWarning: invalid value encountered in divide\n",
            "  ret = um.true_divide(\n"
          ]
        },
        {
          "output_type": "stream",
          "name": "stdout",
          "text": [
            "\n",
            "      Epoch    GPU_mem   box_loss   cls_loss   dfl_loss  Instances       Size\n"
          ]
        },
        {
          "output_type": "stream",
          "name": "stderr",
          "text": [
            "     64/100      2.21G     0.9616      1.055      1.293         27        640: 100%|██████████| 111/111 [00:39<00:00,  2.81it/s]\n",
            "                 Class     Images  Instances      Box(P          R      mAP50  mAP50-95): 100%|██████████| 1/1 [00:00<00:00,  6.51it/s]"
          ]
        },
        {
          "output_type": "stream",
          "name": "stdout",
          "text": [
            "                   all         15          0          0          0          0          0\n"
          ]
        },
        {
          "output_type": "stream",
          "name": "stderr",
          "text": [
            "\n",
            "/usr/local/lib/python3.11/dist-packages/ultralytics/utils/metrics.py:765: RuntimeWarning: Mean of empty slice.\n",
            "  i = smooth(f1_curve.mean(0), 0.1).argmax()  # max F1 index\n",
            "/usr/local/lib/python3.11/dist-packages/numpy/_core/_methods.py:130: RuntimeWarning: invalid value encountered in divide\n",
            "  ret = um.true_divide(\n"
          ]
        },
        {
          "output_type": "stream",
          "name": "stdout",
          "text": [
            "WARNING ⚠️ no labels found in detect set, can not compute metrics without labels\n",
            "\n",
            "      Epoch    GPU_mem   box_loss   cls_loss   dfl_loss  Instances       Size\n"
          ]
        },
        {
          "output_type": "stream",
          "name": "stderr",
          "text": [
            "     65/100      2.21G      0.951      1.037      1.282         24        640: 100%|██████████| 111/111 [00:39<00:00,  2.78it/s]\n",
            "                 Class     Images  Instances      Box(P          R      mAP50  mAP50-95): 100%|██████████| 1/1 [00:00<00:00,  8.01it/s]"
          ]
        },
        {
          "output_type": "stream",
          "name": "stdout",
          "text": [
            "                   all         15          0          0          0          0          0\n",
            "WARNING ⚠️ no labels found in detect set, can not compute metrics without labels\n"
          ]
        },
        {
          "output_type": "stream",
          "name": "stderr",
          "text": [
            "\n",
            "/usr/local/lib/python3.11/dist-packages/ultralytics/utils/metrics.py:765: RuntimeWarning: Mean of empty slice.\n",
            "  i = smooth(f1_curve.mean(0), 0.1).argmax()  # max F1 index\n",
            "/usr/local/lib/python3.11/dist-packages/numpy/_core/_methods.py:130: RuntimeWarning: invalid value encountered in divide\n",
            "  ret = um.true_divide(\n"
          ]
        },
        {
          "output_type": "stream",
          "name": "stdout",
          "text": [
            "\n",
            "      Epoch    GPU_mem   box_loss   cls_loss   dfl_loss  Instances       Size\n"
          ]
        },
        {
          "output_type": "stream",
          "name": "stderr",
          "text": [
            "     66/100      2.21G     0.9516      1.055      1.286         29        640: 100%|██████████| 111/111 [00:39<00:00,  2.78it/s]\n"
          ]
        },
        {
          "output_type": "stream",
          "name": "stdout",
          "text": [
            "\n",
            "Saved intermediate model to /content/drive/MyDrive/thesisdataset/intermediate_models/interim_epoch_65_20250629_140000.pt\n"
          ]
        },
        {
          "output_type": "stream",
          "name": "stderr",
          "text": [
            "                 Class     Images  Instances      Box(P          R      mAP50  mAP50-95): 100%|██████████| 1/1 [00:00<00:00,  8.60it/s]"
          ]
        },
        {
          "output_type": "stream",
          "name": "stdout",
          "text": [
            "                   all         15          0          0          0          0          0\n",
            "WARNING ⚠️ no labels found in detect set, can not compute metrics without labels\n"
          ]
        },
        {
          "output_type": "stream",
          "name": "stderr",
          "text": [
            "\n",
            "/usr/local/lib/python3.11/dist-packages/ultralytics/utils/metrics.py:765: RuntimeWarning: Mean of empty slice.\n",
            "  i = smooth(f1_curve.mean(0), 0.1).argmax()  # max F1 index\n",
            "/usr/local/lib/python3.11/dist-packages/numpy/_core/_methods.py:130: RuntimeWarning: invalid value encountered in divide\n",
            "  ret = um.true_divide(\n"
          ]
        },
        {
          "output_type": "stream",
          "name": "stdout",
          "text": [
            "\n",
            "      Epoch    GPU_mem   box_loss   cls_loss   dfl_loss  Instances       Size\n"
          ]
        },
        {
          "output_type": "stream",
          "name": "stderr",
          "text": [
            "     67/100      2.21G     0.9435     0.9988      1.271         30        640: 100%|██████████| 111/111 [00:39<00:00,  2.78it/s]\n",
            "                 Class     Images  Instances      Box(P          R      mAP50  mAP50-95): 100%|██████████| 1/1 [00:00<00:00,  7.90it/s]"
          ]
        },
        {
          "output_type": "stream",
          "name": "stdout",
          "text": [
            "                   all         15          0          0          0          0          0\n",
            "WARNING ⚠️ no labels found in detect set, can not compute metrics without labels\n"
          ]
        },
        {
          "output_type": "stream",
          "name": "stderr",
          "text": [
            "\n",
            "/usr/local/lib/python3.11/dist-packages/ultralytics/utils/metrics.py:765: RuntimeWarning: Mean of empty slice.\n",
            "  i = smooth(f1_curve.mean(0), 0.1).argmax()  # max F1 index\n",
            "/usr/local/lib/python3.11/dist-packages/numpy/_core/_methods.py:130: RuntimeWarning: invalid value encountered in divide\n",
            "  ret = um.true_divide(\n"
          ]
        },
        {
          "output_type": "stream",
          "name": "stdout",
          "text": [
            "\n",
            "      Epoch    GPU_mem   box_loss   cls_loss   dfl_loss  Instances       Size\n"
          ]
        },
        {
          "output_type": "stream",
          "name": "stderr",
          "text": [
            "     68/100      2.21G     0.9205      1.004      1.263         14        640: 100%|██████████| 111/111 [00:39<00:00,  2.81it/s]\n",
            "                 Class     Images  Instances      Box(P          R      mAP50  mAP50-95): 100%|██████████| 1/1 [00:00<00:00,  7.71it/s]"
          ]
        },
        {
          "output_type": "stream",
          "name": "stdout",
          "text": [
            "                   all         15          0          0          0          0          0\n",
            "WARNING ⚠️ no labels found in detect set, can not compute metrics without labels\n"
          ]
        },
        {
          "output_type": "stream",
          "name": "stderr",
          "text": [
            "\n",
            "/usr/local/lib/python3.11/dist-packages/ultralytics/utils/metrics.py:765: RuntimeWarning: Mean of empty slice.\n",
            "  i = smooth(f1_curve.mean(0), 0.1).argmax()  # max F1 index\n",
            "/usr/local/lib/python3.11/dist-packages/numpy/_core/_methods.py:130: RuntimeWarning: invalid value encountered in divide\n",
            "  ret = um.true_divide(\n"
          ]
        },
        {
          "output_type": "stream",
          "name": "stdout",
          "text": [
            "\n",
            "      Epoch    GPU_mem   box_loss   cls_loss   dfl_loss  Instances       Size\n"
          ]
        },
        {
          "output_type": "stream",
          "name": "stderr",
          "text": [
            "     69/100      2.21G     0.9294     0.9929      1.253         16        640: 100%|██████████| 111/111 [00:39<00:00,  2.82it/s]\n",
            "                 Class     Images  Instances      Box(P          R      mAP50  mAP50-95): 100%|██████████| 1/1 [00:00<00:00,  3.40it/s]"
          ]
        },
        {
          "output_type": "stream",
          "name": "stdout",
          "text": [
            "                   all         15          0          0          0          0          0\n",
            "WARNING ⚠️ no labels found in detect set, can not compute metrics without labels\n"
          ]
        },
        {
          "output_type": "stream",
          "name": "stderr",
          "text": [
            "\n",
            "/usr/local/lib/python3.11/dist-packages/ultralytics/utils/metrics.py:765: RuntimeWarning: Mean of empty slice.\n",
            "  i = smooth(f1_curve.mean(0), 0.1).argmax()  # max F1 index\n",
            "/usr/local/lib/python3.11/dist-packages/numpy/_core/_methods.py:130: RuntimeWarning: invalid value encountered in divide\n",
            "  ret = um.true_divide(\n"
          ]
        },
        {
          "output_type": "stream",
          "name": "stdout",
          "text": [
            "\n",
            "      Epoch    GPU_mem   box_loss   cls_loss   dfl_loss  Instances       Size\n"
          ]
        },
        {
          "output_type": "stream",
          "name": "stderr",
          "text": [
            "     70/100      2.21G     0.9139     0.9758      1.253         43        640: 100%|██████████| 111/111 [00:38<00:00,  2.85it/s]\n",
            "                 Class     Images  Instances      Box(P          R      mAP50  mAP50-95): 100%|██████████| 1/1 [00:00<00:00,  4.65it/s]"
          ]
        },
        {
          "output_type": "stream",
          "name": "stdout",
          "text": [
            "                   all         15          0          0          0          0          0\n",
            "WARNING ⚠️ no labels found in detect set, can not compute metrics without labels\n"
          ]
        },
        {
          "output_type": "stream",
          "name": "stderr",
          "text": [
            "\n",
            "/usr/local/lib/python3.11/dist-packages/ultralytics/utils/metrics.py:765: RuntimeWarning: Mean of empty slice.\n",
            "  i = smooth(f1_curve.mean(0), 0.1).argmax()  # max F1 index\n",
            "/usr/local/lib/python3.11/dist-packages/numpy/_core/_methods.py:130: RuntimeWarning: invalid value encountered in divide\n",
            "  ret = um.true_divide(\n"
          ]
        },
        {
          "output_type": "stream",
          "name": "stdout",
          "text": [
            "\n",
            "      Epoch    GPU_mem   box_loss   cls_loss   dfl_loss  Instances       Size\n"
          ]
        },
        {
          "output_type": "stream",
          "name": "stderr",
          "text": [
            "     71/100      2.21G     0.9469      1.001      1.273         43        640: 100%|██████████| 111/111 [00:39<00:00,  2.82it/s]\n"
          ]
        },
        {
          "output_type": "stream",
          "name": "stdout",
          "text": [
            "\n",
            "Saved intermediate model to /content/drive/MyDrive/thesisdataset/intermediate_models/interim_epoch_70_20250629_140323.pt\n"
          ]
        },
        {
          "output_type": "stream",
          "name": "stderr",
          "text": [
            "                 Class     Images  Instances      Box(P          R      mAP50  mAP50-95): 100%|██████████| 1/1 [00:00<00:00,  4.67it/s]"
          ]
        },
        {
          "output_type": "stream",
          "name": "stdout",
          "text": [
            "                   all         15          0          0          0          0          0\n",
            "WARNING ⚠️ no labels found in detect set, can not compute metrics without labels\n"
          ]
        },
        {
          "output_type": "stream",
          "name": "stderr",
          "text": [
            "\n",
            "/usr/local/lib/python3.11/dist-packages/ultralytics/utils/metrics.py:765: RuntimeWarning: Mean of empty slice.\n",
            "  i = smooth(f1_curve.mean(0), 0.1).argmax()  # max F1 index\n",
            "/usr/local/lib/python3.11/dist-packages/numpy/_core/_methods.py:130: RuntimeWarning: invalid value encountered in divide\n",
            "  ret = um.true_divide(\n"
          ]
        },
        {
          "output_type": "stream",
          "name": "stdout",
          "text": [
            "\n",
            "      Epoch    GPU_mem   box_loss   cls_loss   dfl_loss  Instances       Size\n"
          ]
        },
        {
          "output_type": "stream",
          "name": "stderr",
          "text": [
            "     72/100      2.21G     0.9213     0.9879      1.263         30        640: 100%|██████████| 111/111 [00:39<00:00,  2.82it/s]\n",
            "                 Class     Images  Instances      Box(P          R      mAP50  mAP50-95): 100%|██████████| 1/1 [00:00<00:00,  5.92it/s]"
          ]
        },
        {
          "output_type": "stream",
          "name": "stdout",
          "text": [
            "                   all         15          0          0          0          0          0\n",
            "WARNING ⚠️ no labels found in detect set, can not compute metrics without labels\n"
          ]
        },
        {
          "output_type": "stream",
          "name": "stderr",
          "text": [
            "\n",
            "/usr/local/lib/python3.11/dist-packages/ultralytics/utils/metrics.py:765: RuntimeWarning: Mean of empty slice.\n",
            "  i = smooth(f1_curve.mean(0), 0.1).argmax()  # max F1 index\n",
            "/usr/local/lib/python3.11/dist-packages/numpy/_core/_methods.py:130: RuntimeWarning: invalid value encountered in divide\n",
            "  ret = um.true_divide(\n"
          ]
        },
        {
          "output_type": "stream",
          "name": "stdout",
          "text": [
            "\n",
            "      Epoch    GPU_mem   box_loss   cls_loss   dfl_loss  Instances       Size\n"
          ]
        },
        {
          "output_type": "stream",
          "name": "stderr",
          "text": [
            "     73/100      2.21G     0.9449      1.028      1.272         33        640: 100%|██████████| 111/111 [00:40<00:00,  2.77it/s]\n",
            "                 Class     Images  Instances      Box(P          R      mAP50  mAP50-95): 100%|██████████| 1/1 [00:00<00:00, 10.03it/s]"
          ]
        },
        {
          "output_type": "stream",
          "name": "stdout",
          "text": [
            "                   all         15          0          0          0          0          0\n",
            "WARNING ⚠️ no labels found in detect set, can not compute metrics without labels\n"
          ]
        },
        {
          "output_type": "stream",
          "name": "stderr",
          "text": [
            "\n",
            "/usr/local/lib/python3.11/dist-packages/ultralytics/utils/metrics.py:765: RuntimeWarning: Mean of empty slice.\n",
            "  i = smooth(f1_curve.mean(0), 0.1).argmax()  # max F1 index\n",
            "/usr/local/lib/python3.11/dist-packages/numpy/_core/_methods.py:130: RuntimeWarning: invalid value encountered in divide\n",
            "  ret = um.true_divide(\n"
          ]
        },
        {
          "output_type": "stream",
          "name": "stdout",
          "text": [
            "\n",
            "      Epoch    GPU_mem   box_loss   cls_loss   dfl_loss  Instances       Size\n"
          ]
        },
        {
          "output_type": "stream",
          "name": "stderr",
          "text": [
            "     74/100      2.21G     0.9258     0.9762      1.266         36        640: 100%|██████████| 111/111 [00:39<00:00,  2.80it/s]\n",
            "                 Class     Images  Instances      Box(P          R      mAP50  mAP50-95): 100%|██████████| 1/1 [00:00<00:00,  6.61it/s]"
          ]
        },
        {
          "output_type": "stream",
          "name": "stdout",
          "text": [
            "                   all         15          0          0          0          0          0\n",
            "WARNING ⚠️ no labels found in detect set, can not compute metrics without labels\n"
          ]
        },
        {
          "output_type": "stream",
          "name": "stderr",
          "text": [
            "\n",
            "/usr/local/lib/python3.11/dist-packages/ultralytics/utils/metrics.py:765: RuntimeWarning: Mean of empty slice.\n",
            "  i = smooth(f1_curve.mean(0), 0.1).argmax()  # max F1 index\n",
            "/usr/local/lib/python3.11/dist-packages/numpy/_core/_methods.py:130: RuntimeWarning: invalid value encountered in divide\n",
            "  ret = um.true_divide(\n"
          ]
        },
        {
          "output_type": "stream",
          "name": "stdout",
          "text": [
            "\n",
            "      Epoch    GPU_mem   box_loss   cls_loss   dfl_loss  Instances       Size\n"
          ]
        },
        {
          "output_type": "stream",
          "name": "stderr",
          "text": [
            "     75/100      2.21G     0.9115     0.9863      1.255         31        640: 100%|██████████| 111/111 [00:39<00:00,  2.78it/s]\n",
            "                 Class     Images  Instances      Box(P          R      mAP50  mAP50-95): 100%|██████████| 1/1 [00:00<00:00,  8.48it/s]"
          ]
        },
        {
          "output_type": "stream",
          "name": "stdout",
          "text": [
            "                   all         15          0          0          0          0          0\n",
            "WARNING ⚠️ no labels found in detect set, can not compute metrics without labels\n"
          ]
        },
        {
          "output_type": "stream",
          "name": "stderr",
          "text": [
            "\n",
            "/usr/local/lib/python3.11/dist-packages/ultralytics/utils/metrics.py:765: RuntimeWarning: Mean of empty slice.\n",
            "  i = smooth(f1_curve.mean(0), 0.1).argmax()  # max F1 index\n",
            "/usr/local/lib/python3.11/dist-packages/numpy/_core/_methods.py:130: RuntimeWarning: invalid value encountered in divide\n",
            "  ret = um.true_divide(\n"
          ]
        },
        {
          "output_type": "stream",
          "name": "stdout",
          "text": [
            "\n",
            "      Epoch    GPU_mem   box_loss   cls_loss   dfl_loss  Instances       Size\n"
          ]
        },
        {
          "output_type": "stream",
          "name": "stderr",
          "text": [
            "     76/100      2.21G     0.9252      1.008      1.266         29        640: 100%|██████████| 111/111 [00:40<00:00,  2.77it/s]\n"
          ]
        },
        {
          "output_type": "stream",
          "name": "stdout",
          "text": [
            "\n",
            "Saved intermediate model to /content/drive/MyDrive/thesisdataset/intermediate_models/interim_epoch_75_20250629_140647.pt\n"
          ]
        },
        {
          "output_type": "stream",
          "name": "stderr",
          "text": [
            "                 Class     Images  Instances      Box(P          R      mAP50  mAP50-95): 100%|██████████| 1/1 [00:00<00:00, 10.66it/s]"
          ]
        },
        {
          "output_type": "stream",
          "name": "stdout",
          "text": [
            "                   all         15          0          0          0          0          0\n",
            "WARNING ⚠️ no labels found in detect set, can not compute metrics without labels\n"
          ]
        },
        {
          "output_type": "stream",
          "name": "stderr",
          "text": [
            "\n",
            "/usr/local/lib/python3.11/dist-packages/ultralytics/utils/metrics.py:765: RuntimeWarning: Mean of empty slice.\n",
            "  i = smooth(f1_curve.mean(0), 0.1).argmax()  # max F1 index\n",
            "/usr/local/lib/python3.11/dist-packages/numpy/_core/_methods.py:130: RuntimeWarning: invalid value encountered in divide\n",
            "  ret = um.true_divide(\n"
          ]
        },
        {
          "output_type": "stream",
          "name": "stdout",
          "text": [
            "\n",
            "      Epoch    GPU_mem   box_loss   cls_loss   dfl_loss  Instances       Size\n"
          ]
        },
        {
          "output_type": "stream",
          "name": "stderr",
          "text": [
            "     77/100      2.21G     0.8998     0.9781      1.251         21        640: 100%|██████████| 111/111 [00:39<00:00,  2.81it/s]\n",
            "                 Class     Images  Instances      Box(P          R      mAP50  mAP50-95): 100%|██████████| 1/1 [00:00<00:00,  5.38it/s]"
          ]
        },
        {
          "output_type": "stream",
          "name": "stdout",
          "text": [
            "                   all         15          0          0          0          0          0\n",
            "WARNING ⚠️ no labels found in detect set, can not compute metrics without labels\n"
          ]
        },
        {
          "output_type": "stream",
          "name": "stderr",
          "text": [
            "\n",
            "/usr/local/lib/python3.11/dist-packages/ultralytics/utils/metrics.py:765: RuntimeWarning: Mean of empty slice.\n",
            "  i = smooth(f1_curve.mean(0), 0.1).argmax()  # max F1 index\n",
            "/usr/local/lib/python3.11/dist-packages/numpy/_core/_methods.py:130: RuntimeWarning: invalid value encountered in divide\n",
            "  ret = um.true_divide(\n"
          ]
        },
        {
          "output_type": "stream",
          "name": "stdout",
          "text": [
            "\n",
            "      Epoch    GPU_mem   box_loss   cls_loss   dfl_loss  Instances       Size\n"
          ]
        },
        {
          "output_type": "stream",
          "name": "stderr",
          "text": [
            "     78/100      2.21G     0.9252     0.9896      1.259         35        640: 100%|██████████| 111/111 [00:40<00:00,  2.73it/s]\n",
            "                 Class     Images  Instances      Box(P          R      mAP50  mAP50-95): 100%|██████████| 1/1 [00:00<00:00,  7.13it/s]"
          ]
        },
        {
          "output_type": "stream",
          "name": "stdout",
          "text": [
            "                   all         15          0          0          0          0          0\n",
            "WARNING ⚠️ no labels found in detect set, can not compute metrics without labels\n"
          ]
        },
        {
          "output_type": "stream",
          "name": "stderr",
          "text": [
            "\n",
            "/usr/local/lib/python3.11/dist-packages/ultralytics/utils/metrics.py:765: RuntimeWarning: Mean of empty slice.\n",
            "  i = smooth(f1_curve.mean(0), 0.1).argmax()  # max F1 index\n",
            "/usr/local/lib/python3.11/dist-packages/numpy/_core/_methods.py:130: RuntimeWarning: invalid value encountered in divide\n",
            "  ret = um.true_divide(\n"
          ]
        },
        {
          "output_type": "stream",
          "name": "stdout",
          "text": [
            "\n",
            "      Epoch    GPU_mem   box_loss   cls_loss   dfl_loss  Instances       Size\n"
          ]
        },
        {
          "output_type": "stream",
          "name": "stderr",
          "text": [
            "     79/100      2.21G     0.9014     0.9579      1.242         22        640: 100%|██████████| 111/111 [00:40<00:00,  2.71it/s]\n",
            "                 Class     Images  Instances      Box(P          R      mAP50  mAP50-95): 100%|██████████| 1/1 [00:00<00:00,  6.48it/s]"
          ]
        },
        {
          "output_type": "stream",
          "name": "stdout",
          "text": [
            "                   all         15          0          0          0          0          0\n",
            "WARNING ⚠️ no labels found in detect set, can not compute metrics without labels\n"
          ]
        },
        {
          "output_type": "stream",
          "name": "stderr",
          "text": [
            "\n",
            "/usr/local/lib/python3.11/dist-packages/ultralytics/utils/metrics.py:765: RuntimeWarning: Mean of empty slice.\n",
            "  i = smooth(f1_curve.mean(0), 0.1).argmax()  # max F1 index\n",
            "/usr/local/lib/python3.11/dist-packages/numpy/_core/_methods.py:130: RuntimeWarning: invalid value encountered in divide\n",
            "  ret = um.true_divide(\n"
          ]
        },
        {
          "output_type": "stream",
          "name": "stdout",
          "text": [
            "\n",
            "      Epoch    GPU_mem   box_loss   cls_loss   dfl_loss  Instances       Size\n"
          ]
        },
        {
          "output_type": "stream",
          "name": "stderr",
          "text": [
            "     80/100      2.21G     0.9104      0.966      1.245         23        640: 100%|██████████| 111/111 [00:41<00:00,  2.70it/s]\n",
            "                 Class     Images  Instances      Box(P          R      mAP50  mAP50-95): 100%|██████████| 1/1 [00:00<00:00,  7.28it/s]\n",
            "/usr/local/lib/python3.11/dist-packages/ultralytics/utils/metrics.py:765: RuntimeWarning: Mean of empty slice.\n",
            "  i = smooth(f1_curve.mean(0), 0.1).argmax()  # max F1 index\n",
            "/usr/local/lib/python3.11/dist-packages/numpy/_core/_methods.py:130: RuntimeWarning: invalid value encountered in divide\n",
            "  ret = um.true_divide(\n"
          ]
        },
        {
          "output_type": "stream",
          "name": "stdout",
          "text": [
            "                   all         15          0          0          0          0          0\n",
            "WARNING ⚠️ no labels found in detect set, can not compute metrics without labels\n",
            "\n",
            "      Epoch    GPU_mem   box_loss   cls_loss   dfl_loss  Instances       Size\n"
          ]
        },
        {
          "output_type": "stream",
          "name": "stderr",
          "text": [
            "     81/100      2.21G     0.8808     0.9416       1.23         15        640: 100%|██████████| 111/111 [00:40<00:00,  2.72it/s]\n"
          ]
        },
        {
          "output_type": "stream",
          "name": "stdout",
          "text": [
            "\n",
            "Saved intermediate model to /content/drive/MyDrive/thesisdataset/intermediate_models/interim_epoch_80_20250629_141015.pt\n"
          ]
        },
        {
          "output_type": "stream",
          "name": "stderr",
          "text": [
            "                 Class     Images  Instances      Box(P          R      mAP50  mAP50-95): 100%|██████████| 1/1 [00:00<00:00,  6.81it/s]"
          ]
        },
        {
          "output_type": "stream",
          "name": "stdout",
          "text": [
            "                   all         15          0          0          0          0          0\n",
            "WARNING ⚠️ no labels found in detect set, can not compute metrics without labels\n"
          ]
        },
        {
          "output_type": "stream",
          "name": "stderr",
          "text": [
            "\n",
            "/usr/local/lib/python3.11/dist-packages/ultralytics/utils/metrics.py:765: RuntimeWarning: Mean of empty slice.\n",
            "  i = smooth(f1_curve.mean(0), 0.1).argmax()  # max F1 index\n",
            "/usr/local/lib/python3.11/dist-packages/numpy/_core/_methods.py:130: RuntimeWarning: invalid value encountered in divide\n",
            "  ret = um.true_divide(\n"
          ]
        },
        {
          "output_type": "stream",
          "name": "stdout",
          "text": [
            "\n",
            "      Epoch    GPU_mem   box_loss   cls_loss   dfl_loss  Instances       Size\n"
          ]
        },
        {
          "output_type": "stream",
          "name": "stderr",
          "text": [
            "     82/100      2.21G     0.8854     0.9458      1.236         40        640: 100%|██████████| 111/111 [00:39<00:00,  2.79it/s]\n",
            "                 Class     Images  Instances      Box(P          R      mAP50  mAP50-95): 100%|██████████| 1/1 [00:00<00:00,  6.68it/s]\n",
            "/usr/local/lib/python3.11/dist-packages/ultralytics/utils/metrics.py:765: RuntimeWarning: Mean of empty slice.\n",
            "  i = smooth(f1_curve.mean(0), 0.1).argmax()  # max F1 index\n",
            "/usr/local/lib/python3.11/dist-packages/numpy/_core/_methods.py:130: RuntimeWarning: invalid value encountered in divide\n",
            "  ret = um.true_divide(\n"
          ]
        },
        {
          "output_type": "stream",
          "name": "stdout",
          "text": [
            "                   all         15          0          0          0          0          0\n",
            "WARNING ⚠️ no labels found in detect set, can not compute metrics without labels\n",
            "\n",
            "      Epoch    GPU_mem   box_loss   cls_loss   dfl_loss  Instances       Size\n"
          ]
        },
        {
          "output_type": "stream",
          "name": "stderr",
          "text": [
            "     83/100      2.21G     0.8859     0.9375      1.224         29        640: 100%|██████████| 111/111 [00:40<00:00,  2.77it/s]\n",
            "                 Class     Images  Instances      Box(P          R      mAP50  mAP50-95): 100%|██████████| 1/1 [00:00<00:00,  3.58it/s]"
          ]
        },
        {
          "output_type": "stream",
          "name": "stdout",
          "text": [
            "                   all         15          0          0          0          0          0\n",
            "WARNING ⚠️ no labels found in detect set, can not compute metrics without labels\n"
          ]
        },
        {
          "output_type": "stream",
          "name": "stderr",
          "text": [
            "\n",
            "/usr/local/lib/python3.11/dist-packages/ultralytics/utils/metrics.py:765: RuntimeWarning: Mean of empty slice.\n",
            "  i = smooth(f1_curve.mean(0), 0.1).argmax()  # max F1 index\n",
            "/usr/local/lib/python3.11/dist-packages/numpy/_core/_methods.py:130: RuntimeWarning: invalid value encountered in divide\n",
            "  ret = um.true_divide(\n"
          ]
        },
        {
          "output_type": "stream",
          "name": "stdout",
          "text": [
            "\n",
            "      Epoch    GPU_mem   box_loss   cls_loss   dfl_loss  Instances       Size\n"
          ]
        },
        {
          "output_type": "stream",
          "name": "stderr",
          "text": [
            "     84/100      2.21G     0.9157     0.9694      1.248         38        640: 100%|██████████| 111/111 [00:40<00:00,  2.77it/s]\n",
            "                 Class     Images  Instances      Box(P          R      mAP50  mAP50-95): 100%|██████████| 1/1 [00:00<00:00,  4.54it/s]"
          ]
        },
        {
          "output_type": "stream",
          "name": "stdout",
          "text": [
            "                   all         15          0          0          0          0          0\n",
            "WARNING ⚠️ no labels found in detect set, can not compute metrics without labels\n"
          ]
        },
        {
          "output_type": "stream",
          "name": "stderr",
          "text": [
            "\n",
            "/usr/local/lib/python3.11/dist-packages/ultralytics/utils/metrics.py:765: RuntimeWarning: Mean of empty slice.\n",
            "  i = smooth(f1_curve.mean(0), 0.1).argmax()  # max F1 index\n",
            "/usr/local/lib/python3.11/dist-packages/numpy/_core/_methods.py:130: RuntimeWarning: invalid value encountered in divide\n",
            "  ret = um.true_divide(\n"
          ]
        },
        {
          "output_type": "stream",
          "name": "stdout",
          "text": [
            "\n",
            "      Epoch    GPU_mem   box_loss   cls_loss   dfl_loss  Instances       Size\n"
          ]
        },
        {
          "output_type": "stream",
          "name": "stderr",
          "text": [
            "     85/100      2.21G     0.8664     0.9304      1.224         28        640: 100%|██████████| 111/111 [00:40<00:00,  2.77it/s]\n",
            "                 Class     Images  Instances      Box(P          R      mAP50  mAP50-95): 100%|██████████| 1/1 [00:00<00:00,  6.18it/s]"
          ]
        },
        {
          "output_type": "stream",
          "name": "stdout",
          "text": [
            "                   all         15          0          0          0          0          0\n",
            "WARNING ⚠️ no labels found in detect set, can not compute metrics without labels\n"
          ]
        },
        {
          "output_type": "stream",
          "name": "stderr",
          "text": [
            "\n",
            "/usr/local/lib/python3.11/dist-packages/ultralytics/utils/metrics.py:765: RuntimeWarning: Mean of empty slice.\n",
            "  i = smooth(f1_curve.mean(0), 0.1).argmax()  # max F1 index\n",
            "/usr/local/lib/python3.11/dist-packages/numpy/_core/_methods.py:130: RuntimeWarning: invalid value encountered in divide\n",
            "  ret = um.true_divide(\n"
          ]
        },
        {
          "output_type": "stream",
          "name": "stdout",
          "text": [
            "\n",
            "      Epoch    GPU_mem   box_loss   cls_loss   dfl_loss  Instances       Size\n"
          ]
        },
        {
          "output_type": "stream",
          "name": "stderr",
          "text": [
            "     86/100      2.21G     0.8759       0.92       1.23         25        640: 100%|██████████| 111/111 [00:40<00:00,  2.76it/s]\n"
          ]
        },
        {
          "output_type": "stream",
          "name": "stdout",
          "text": [
            "\n",
            "Saved intermediate model to /content/drive/MyDrive/thesisdataset/intermediate_models/interim_epoch_85_20250629_141342.pt\n"
          ]
        },
        {
          "output_type": "stream",
          "name": "stderr",
          "text": [
            "                 Class     Images  Instances      Box(P          R      mAP50  mAP50-95): 100%|██████████| 1/1 [00:00<00:00, 10.27it/s]"
          ]
        },
        {
          "output_type": "stream",
          "name": "stdout",
          "text": [
            "                   all         15          0          0          0          0          0\n",
            "WARNING ⚠️ no labels found in detect set, can not compute metrics without labels\n"
          ]
        },
        {
          "output_type": "stream",
          "name": "stderr",
          "text": [
            "\n",
            "/usr/local/lib/python3.11/dist-packages/ultralytics/utils/metrics.py:765: RuntimeWarning: Mean of empty slice.\n",
            "  i = smooth(f1_curve.mean(0), 0.1).argmax()  # max F1 index\n",
            "/usr/local/lib/python3.11/dist-packages/numpy/_core/_methods.py:130: RuntimeWarning: invalid value encountered in divide\n",
            "  ret = um.true_divide(\n"
          ]
        },
        {
          "output_type": "stream",
          "name": "stdout",
          "text": [
            "\n",
            "      Epoch    GPU_mem   box_loss   cls_loss   dfl_loss  Instances       Size\n"
          ]
        },
        {
          "output_type": "stream",
          "name": "stderr",
          "text": [
            "     87/100      2.21G     0.8789     0.9291      1.234         37        640: 100%|██████████| 111/111 [00:40<00:00,  2.71it/s]\n",
            "                 Class     Images  Instances      Box(P          R      mAP50  mAP50-95): 100%|██████████| 1/1 [00:00<00:00,  8.05it/s]"
          ]
        },
        {
          "output_type": "stream",
          "name": "stdout",
          "text": [
            "                   all         15          0          0          0          0          0\n",
            "WARNING ⚠️ no labels found in detect set, can not compute metrics without labels\n"
          ]
        },
        {
          "output_type": "stream",
          "name": "stderr",
          "text": [
            "\n",
            "/usr/local/lib/python3.11/dist-packages/ultralytics/utils/metrics.py:765: RuntimeWarning: Mean of empty slice.\n",
            "  i = smooth(f1_curve.mean(0), 0.1).argmax()  # max F1 index\n",
            "/usr/local/lib/python3.11/dist-packages/numpy/_core/_methods.py:130: RuntimeWarning: invalid value encountered in divide\n",
            "  ret = um.true_divide(\n"
          ]
        },
        {
          "output_type": "stream",
          "name": "stdout",
          "text": [
            "\n",
            "      Epoch    GPU_mem   box_loss   cls_loss   dfl_loss  Instances       Size\n"
          ]
        },
        {
          "output_type": "stream",
          "name": "stderr",
          "text": [
            "     88/100      2.21G     0.8564     0.9273      1.208         33        640: 100%|██████████| 111/111 [00:40<00:00,  2.76it/s]\n",
            "                 Class     Images  Instances      Box(P          R      mAP50  mAP50-95): 100%|██████████| 1/1 [00:00<00:00,  8.60it/s]"
          ]
        },
        {
          "output_type": "stream",
          "name": "stdout",
          "text": [
            "                   all         15          0          0          0          0          0\n",
            "WARNING ⚠️ no labels found in detect set, can not compute metrics without labels\n"
          ]
        },
        {
          "output_type": "stream",
          "name": "stderr",
          "text": [
            "\n",
            "/usr/local/lib/python3.11/dist-packages/ultralytics/utils/metrics.py:765: RuntimeWarning: Mean of empty slice.\n",
            "  i = smooth(f1_curve.mean(0), 0.1).argmax()  # max F1 index\n",
            "/usr/local/lib/python3.11/dist-packages/numpy/_core/_methods.py:130: RuntimeWarning: invalid value encountered in divide\n",
            "  ret = um.true_divide(\n"
          ]
        },
        {
          "output_type": "stream",
          "name": "stdout",
          "text": [
            "\n",
            "      Epoch    GPU_mem   box_loss   cls_loss   dfl_loss  Instances       Size\n"
          ]
        },
        {
          "output_type": "stream",
          "name": "stderr",
          "text": [
            "     89/100      2.21G     0.8538     0.9056      1.204         22        640: 100%|██████████| 111/111 [00:39<00:00,  2.80it/s]\n",
            "                 Class     Images  Instances      Box(P          R      mAP50  mAP50-95): 100%|██████████| 1/1 [00:00<00:00,  8.22it/s]"
          ]
        },
        {
          "output_type": "stream",
          "name": "stdout",
          "text": [
            "                   all         15          0          0          0          0          0\n",
            "WARNING ⚠️ no labels found in detect set, can not compute metrics without labels\n"
          ]
        },
        {
          "output_type": "stream",
          "name": "stderr",
          "text": [
            "\n",
            "/usr/local/lib/python3.11/dist-packages/ultralytics/utils/metrics.py:765: RuntimeWarning: Mean of empty slice.\n",
            "  i = smooth(f1_curve.mean(0), 0.1).argmax()  # max F1 index\n",
            "/usr/local/lib/python3.11/dist-packages/numpy/_core/_methods.py:130: RuntimeWarning: invalid value encountered in divide\n",
            "  ret = um.true_divide(\n"
          ]
        },
        {
          "output_type": "stream",
          "name": "stdout",
          "text": [
            "\n",
            "      Epoch    GPU_mem   box_loss   cls_loss   dfl_loss  Instances       Size\n"
          ]
        },
        {
          "output_type": "stream",
          "name": "stderr",
          "text": [
            "     90/100      2.21G     0.8716     0.9083      1.222         24        640: 100%|██████████| 111/111 [00:40<00:00,  2.76it/s]\n",
            "                 Class     Images  Instances      Box(P          R      mAP50  mAP50-95): 100%|██████████| 1/1 [00:00<00:00,  6.43it/s]\n",
            "/usr/local/lib/python3.11/dist-packages/ultralytics/utils/metrics.py:765: RuntimeWarning: Mean of empty slice.\n",
            "  i = smooth(f1_curve.mean(0), 0.1).argmax()  # max F1 index\n",
            "/usr/local/lib/python3.11/dist-packages/numpy/_core/_methods.py:130: RuntimeWarning: invalid value encountered in divide\n",
            "  ret = um.true_divide(\n"
          ]
        },
        {
          "output_type": "stream",
          "name": "stdout",
          "text": [
            "                   all         15          0          0          0          0          0\n",
            "WARNING ⚠️ no labels found in detect set, can not compute metrics without labels\n",
            "Closing dataloader mosaic\n",
            "\u001b[34m\u001b[1malbumentations: \u001b[0mBlur(p=0.01, blur_limit=(3, 7)), MedianBlur(p=0.01, blur_limit=(3, 7)), ToGray(p=0.01, method='weighted_average', num_output_channels=3), CLAHE(p=0.01, clip_limit=(1.0, 4.0), tile_grid_size=(8, 8))\n",
            "\n",
            "      Epoch    GPU_mem   box_loss   cls_loss   dfl_loss  Instances       Size\n"
          ]
        },
        {
          "output_type": "stream",
          "name": "stderr",
          "text": [
            "     91/100      2.21G     0.7379     0.6947      1.129         17        640: 100%|██████████| 111/111 [00:38<00:00,  2.90it/s]\n"
          ]
        },
        {
          "output_type": "stream",
          "name": "stdout",
          "text": [
            "\n",
            "Saved intermediate model to /content/drive/MyDrive/thesisdataset/intermediate_models/interim_epoch_90_20250629_141706.pt\n"
          ]
        },
        {
          "output_type": "stream",
          "name": "stderr",
          "text": [
            "                 Class     Images  Instances      Box(P          R      mAP50  mAP50-95): 100%|██████████| 1/1 [00:00<00:00,  7.25it/s]"
          ]
        },
        {
          "output_type": "stream",
          "name": "stdout",
          "text": [
            "                   all         15          0          0          0          0          0\n",
            "WARNING ⚠️ no labels found in detect set, can not compute metrics without labels\n"
          ]
        },
        {
          "output_type": "stream",
          "name": "stderr",
          "text": [
            "\n",
            "/usr/local/lib/python3.11/dist-packages/ultralytics/utils/metrics.py:765: RuntimeWarning: Mean of empty slice.\n",
            "  i = smooth(f1_curve.mean(0), 0.1).argmax()  # max F1 index\n",
            "/usr/local/lib/python3.11/dist-packages/numpy/_core/_methods.py:130: RuntimeWarning: invalid value encountered in divide\n",
            "  ret = um.true_divide(\n"
          ]
        },
        {
          "output_type": "stream",
          "name": "stdout",
          "text": [
            "\n",
            "      Epoch    GPU_mem   box_loss   cls_loss   dfl_loss  Instances       Size\n"
          ]
        },
        {
          "output_type": "stream",
          "name": "stderr",
          "text": [
            "     92/100      2.21G     0.7144      0.621      1.114         14        640: 100%|██████████| 111/111 [00:35<00:00,  3.14it/s]\n",
            "                 Class     Images  Instances      Box(P          R      mAP50  mAP50-95): 100%|██████████| 1/1 [00:00<00:00,  4.43it/s]"
          ]
        },
        {
          "output_type": "stream",
          "name": "stdout",
          "text": [
            "                   all         15          0          0          0          0          0\n",
            "WARNING ⚠️ no labels found in detect set, can not compute metrics without labels\n"
          ]
        },
        {
          "output_type": "stream",
          "name": "stderr",
          "text": [
            "\n",
            "/usr/local/lib/python3.11/dist-packages/ultralytics/utils/metrics.py:765: RuntimeWarning: Mean of empty slice.\n",
            "  i = smooth(f1_curve.mean(0), 0.1).argmax()  # max F1 index\n",
            "/usr/local/lib/python3.11/dist-packages/numpy/_core/_methods.py:130: RuntimeWarning: invalid value encountered in divide\n",
            "  ret = um.true_divide(\n"
          ]
        },
        {
          "output_type": "stream",
          "name": "stdout",
          "text": [
            "\n",
            "      Epoch    GPU_mem   box_loss   cls_loss   dfl_loss  Instances       Size\n"
          ]
        },
        {
          "output_type": "stream",
          "name": "stderr",
          "text": [
            "     93/100      2.21G     0.7064     0.6223      1.121         12        640: 100%|██████████| 111/111 [00:35<00:00,  3.16it/s]\n",
            "                 Class     Images  Instances      Box(P          R      mAP50  mAP50-95): 100%|██████████| 1/1 [00:00<00:00,  6.46it/s]"
          ]
        },
        {
          "output_type": "stream",
          "name": "stdout",
          "text": [
            "                   all         15          0          0          0          0          0\n",
            "WARNING ⚠️ no labels found in detect set, can not compute metrics without labels\n"
          ]
        },
        {
          "output_type": "stream",
          "name": "stderr",
          "text": [
            "\n",
            "/usr/local/lib/python3.11/dist-packages/ultralytics/utils/metrics.py:765: RuntimeWarning: Mean of empty slice.\n",
            "  i = smooth(f1_curve.mean(0), 0.1).argmax()  # max F1 index\n",
            "/usr/local/lib/python3.11/dist-packages/numpy/_core/_methods.py:130: RuntimeWarning: invalid value encountered in divide\n",
            "  ret = um.true_divide(\n"
          ]
        },
        {
          "output_type": "stream",
          "name": "stdout",
          "text": [
            "\n",
            "      Epoch    GPU_mem   box_loss   cls_loss   dfl_loss  Instances       Size\n"
          ]
        },
        {
          "output_type": "stream",
          "name": "stderr",
          "text": [
            "     94/100      2.21G     0.7022      0.605      1.106         17        640: 100%|██████████| 111/111 [00:36<00:00,  3.05it/s]\n",
            "                 Class     Images  Instances      Box(P          R      mAP50  mAP50-95): 100%|██████████| 1/1 [00:00<00:00, 13.13it/s]"
          ]
        },
        {
          "output_type": "stream",
          "name": "stdout",
          "text": [
            "                   all         15          0          0          0          0          0\n",
            "WARNING ⚠️ no labels found in detect set, can not compute metrics without labels\n"
          ]
        },
        {
          "output_type": "stream",
          "name": "stderr",
          "text": [
            "\n",
            "/usr/local/lib/python3.11/dist-packages/ultralytics/utils/metrics.py:765: RuntimeWarning: Mean of empty slice.\n",
            "  i = smooth(f1_curve.mean(0), 0.1).argmax()  # max F1 index\n",
            "/usr/local/lib/python3.11/dist-packages/numpy/_core/_methods.py:130: RuntimeWarning: invalid value encountered in divide\n",
            "  ret = um.true_divide(\n"
          ]
        },
        {
          "output_type": "stream",
          "name": "stdout",
          "text": [
            "\n",
            "      Epoch    GPU_mem   box_loss   cls_loss   dfl_loss  Instances       Size\n"
          ]
        },
        {
          "output_type": "stream",
          "name": "stderr",
          "text": [
            "     95/100      2.21G     0.6864      0.585      1.099         10        640: 100%|██████████| 111/111 [00:35<00:00,  3.13it/s]\n",
            "                 Class     Images  Instances      Box(P          R      mAP50  mAP50-95): 100%|██████████| 1/1 [00:00<00:00,  8.92it/s]"
          ]
        },
        {
          "output_type": "stream",
          "name": "stdout",
          "text": [
            "                   all         15          0          0          0          0          0\n",
            "WARNING ⚠️ no labels found in detect set, can not compute metrics without labels\n"
          ]
        },
        {
          "output_type": "stream",
          "name": "stderr",
          "text": [
            "\n",
            "/usr/local/lib/python3.11/dist-packages/ultralytics/utils/metrics.py:765: RuntimeWarning: Mean of empty slice.\n",
            "  i = smooth(f1_curve.mean(0), 0.1).argmax()  # max F1 index\n",
            "/usr/local/lib/python3.11/dist-packages/numpy/_core/_methods.py:130: RuntimeWarning: invalid value encountered in divide\n",
            "  ret = um.true_divide(\n"
          ]
        },
        {
          "output_type": "stream",
          "name": "stdout",
          "text": [
            "\n",
            "      Epoch    GPU_mem   box_loss   cls_loss   dfl_loss  Instances       Size\n"
          ]
        },
        {
          "output_type": "stream",
          "name": "stderr",
          "text": [
            "     96/100      2.21G     0.6838     0.5897      1.104         13        640: 100%|██████████| 111/111 [00:35<00:00,  3.10it/s]\n"
          ]
        },
        {
          "output_type": "stream",
          "name": "stdout",
          "text": [
            "\n",
            "Saved intermediate model to /content/drive/MyDrive/thesisdataset/intermediate_models/interim_epoch_95_20250629_142009.pt\n"
          ]
        },
        {
          "output_type": "stream",
          "name": "stderr",
          "text": [
            "                 Class     Images  Instances      Box(P          R      mAP50  mAP50-95): 100%|██████████| 1/1 [00:00<00:00,  6.13it/s]"
          ]
        },
        {
          "output_type": "stream",
          "name": "stdout",
          "text": [
            "                   all         15          0          0          0          0          0\n",
            "WARNING ⚠️ no labels found in detect set, can not compute metrics without labels\n"
          ]
        },
        {
          "output_type": "stream",
          "name": "stderr",
          "text": [
            "\n",
            "/usr/local/lib/python3.11/dist-packages/ultralytics/utils/metrics.py:765: RuntimeWarning: Mean of empty slice.\n",
            "  i = smooth(f1_curve.mean(0), 0.1).argmax()  # max F1 index\n",
            "/usr/local/lib/python3.11/dist-packages/numpy/_core/_methods.py:130: RuntimeWarning: invalid value encountered in divide\n",
            "  ret = um.true_divide(\n"
          ]
        },
        {
          "output_type": "stream",
          "name": "stdout",
          "text": [
            "\n",
            "      Epoch    GPU_mem   box_loss   cls_loss   dfl_loss  Instances       Size\n"
          ]
        },
        {
          "output_type": "stream",
          "name": "stderr",
          "text": [
            "     97/100      2.21G     0.6849     0.5927      1.093         14        640: 100%|██████████| 111/111 [00:34<00:00,  3.21it/s]\n",
            "                 Class     Images  Instances      Box(P          R      mAP50  mAP50-95): 100%|██████████| 1/1 [00:00<00:00,  3.64it/s]"
          ]
        },
        {
          "output_type": "stream",
          "name": "stdout",
          "text": [
            "                   all         15          0          0          0          0          0\n",
            "WARNING ⚠️ no labels found in detect set, can not compute metrics without labels\n"
          ]
        },
        {
          "output_type": "stream",
          "name": "stderr",
          "text": [
            "\n",
            "/usr/local/lib/python3.11/dist-packages/ultralytics/utils/metrics.py:765: RuntimeWarning: Mean of empty slice.\n",
            "  i = smooth(f1_curve.mean(0), 0.1).argmax()  # max F1 index\n",
            "/usr/local/lib/python3.11/dist-packages/numpy/_core/_methods.py:130: RuntimeWarning: invalid value encountered in divide\n",
            "  ret = um.true_divide(\n"
          ]
        },
        {
          "output_type": "stream",
          "name": "stdout",
          "text": [
            "\n",
            "      Epoch    GPU_mem   box_loss   cls_loss   dfl_loss  Instances       Size\n"
          ]
        },
        {
          "output_type": "stream",
          "name": "stderr",
          "text": [
            "     98/100      2.21G     0.6816     0.5685      1.095         17        640: 100%|██████████| 111/111 [00:34<00:00,  3.18it/s]\n",
            "                 Class     Images  Instances      Box(P          R      mAP50  mAP50-95): 100%|██████████| 1/1 [00:00<00:00,  6.57it/s]"
          ]
        },
        {
          "output_type": "stream",
          "name": "stdout",
          "text": [
            "                   all         15          0          0          0          0          0\n",
            "WARNING ⚠️ no labels found in detect set, can not compute metrics without labels\n"
          ]
        },
        {
          "output_type": "stream",
          "name": "stderr",
          "text": [
            "\n",
            "/usr/local/lib/python3.11/dist-packages/ultralytics/utils/metrics.py:765: RuntimeWarning: Mean of empty slice.\n",
            "  i = smooth(f1_curve.mean(0), 0.1).argmax()  # max F1 index\n",
            "/usr/local/lib/python3.11/dist-packages/numpy/_core/_methods.py:130: RuntimeWarning: invalid value encountered in divide\n",
            "  ret = um.true_divide(\n"
          ]
        },
        {
          "output_type": "stream",
          "name": "stdout",
          "text": [
            "\n",
            "      Epoch    GPU_mem   box_loss   cls_loss   dfl_loss  Instances       Size\n"
          ]
        },
        {
          "output_type": "stream",
          "name": "stderr",
          "text": [
            "     99/100      2.21G     0.6796     0.5789      1.091         23        640: 100%|██████████| 111/111 [00:35<00:00,  3.11it/s]\n",
            "                 Class     Images  Instances      Box(P          R      mAP50  mAP50-95): 100%|██████████| 1/1 [00:00<00:00,  4.26it/s]"
          ]
        },
        {
          "output_type": "stream",
          "name": "stdout",
          "text": [
            "                   all         15          0          0          0          0          0\n",
            "WARNING ⚠️ no labels found in detect set, can not compute metrics without labels\n"
          ]
        },
        {
          "output_type": "stream",
          "name": "stderr",
          "text": [
            "\n",
            "/usr/local/lib/python3.11/dist-packages/ultralytics/utils/metrics.py:765: RuntimeWarning: Mean of empty slice.\n",
            "  i = smooth(f1_curve.mean(0), 0.1).argmax()  # max F1 index\n",
            "/usr/local/lib/python3.11/dist-packages/numpy/_core/_methods.py:130: RuntimeWarning: invalid value encountered in divide\n",
            "  ret = um.true_divide(\n"
          ]
        },
        {
          "output_type": "stream",
          "name": "stdout",
          "text": [
            "\n",
            "      Epoch    GPU_mem   box_loss   cls_loss   dfl_loss  Instances       Size\n"
          ]
        },
        {
          "output_type": "stream",
          "name": "stderr",
          "text": [
            "    100/100      2.21G     0.6761       0.58      1.089         17        640: 100%|██████████| 111/111 [00:34<00:00,  3.18it/s]\n",
            "                 Class     Images  Instances      Box(P          R      mAP50  mAP50-95): 100%|██████████| 1/1 [00:00<00:00, 12.80it/s]"
          ]
        },
        {
          "output_type": "stream",
          "name": "stdout",
          "text": [
            "                   all         15          0          0          0          0          0\n",
            "WARNING ⚠️ no labels found in detect set, can not compute metrics without labels\n"
          ]
        },
        {
          "output_type": "stream",
          "name": "stderr",
          "text": [
            "\n",
            "/usr/local/lib/python3.11/dist-packages/ultralytics/utils/metrics.py:765: RuntimeWarning: Mean of empty slice.\n",
            "  i = smooth(f1_curve.mean(0), 0.1).argmax()  # max F1 index\n",
            "/usr/local/lib/python3.11/dist-packages/numpy/_core/_methods.py:130: RuntimeWarning: invalid value encountered in divide\n",
            "  ret = um.true_divide(\n"
          ]
        },
        {
          "output_type": "stream",
          "name": "stdout",
          "text": [
            "\n",
            "100 epochs completed in 1.126 hours.\n",
            "Optimizer stripped from runs/detect/train4/weights/last.pt, 6.3MB\n",
            "Optimizer stripped from runs/detect/train4/weights/best.pt, 6.3MB\n",
            "\n",
            "Validating runs/detect/train4/weights/best.pt...\n",
            "Ultralytics 8.3.160 🚀 Python-3.11.13 torch-2.6.0+cu124 CUDA:0 (Tesla T4, 15095MiB)\n",
            "Model summary (fused): 72 layers, 3,006,233 parameters, 0 gradients, 8.1 GFLOPs\n"
          ]
        },
        {
          "output_type": "stream",
          "name": "stderr",
          "text": [
            "                 Class     Images  Instances      Box(P          R      mAP50  mAP50-95): 100%|██████████| 1/1 [00:00<00:00,  9.86it/s]\n",
            "/usr/local/lib/python3.11/dist-packages/ultralytics/utils/metrics.py:583: RuntimeWarning: Mean of empty slice.\n",
            "  ax.plot(px, py.mean(1), linewidth=3, color=\"blue\", label=f\"all classes {ap[:, 0].mean():.3f} mAP@0.5\")\n",
            "/usr/local/lib/python3.11/dist-packages/numpy/_core/_methods.py:138: RuntimeWarning: invalid value encountered in scalar divide\n",
            "  ret = ret.dtype.type(ret / rcount)\n",
            "/usr/local/lib/python3.11/dist-packages/ultralytics/utils/metrics.py:628: RuntimeWarning: Mean of empty slice.\n",
            "  y = smooth(py.mean(0), 0.1)\n",
            "/usr/local/lib/python3.11/dist-packages/numpy/_core/_methods.py:130: RuntimeWarning: invalid value encountered in divide\n",
            "  ret = um.true_divide(\n",
            "/usr/local/lib/python3.11/dist-packages/ultralytics/utils/metrics.py:628: RuntimeWarning: Mean of empty slice.\n",
            "  y = smooth(py.mean(0), 0.1)\n",
            "/usr/local/lib/python3.11/dist-packages/numpy/_core/_methods.py:130: RuntimeWarning: invalid value encountered in divide\n",
            "  ret = um.true_divide(\n",
            "/usr/local/lib/python3.11/dist-packages/ultralytics/utils/metrics.py:628: RuntimeWarning: Mean of empty slice.\n",
            "  y = smooth(py.mean(0), 0.1)\n",
            "/usr/local/lib/python3.11/dist-packages/numpy/_core/_methods.py:130: RuntimeWarning: invalid value encountered in divide\n",
            "  ret = um.true_divide(\n",
            "/usr/local/lib/python3.11/dist-packages/ultralytics/utils/metrics.py:765: RuntimeWarning: Mean of empty slice.\n",
            "  i = smooth(f1_curve.mean(0), 0.1).argmax()  # max F1 index\n"
          ]
        },
        {
          "output_type": "stream",
          "name": "stdout",
          "text": [
            "                   all         15          0          0          0          0          0\n",
            "WARNING ⚠️ no labels found in detect set, can not compute metrics without labels\n",
            "Speed: 0.2ms preprocess, 3.0ms inference, 0.0ms loss, 1.7ms postprocess per image\n",
            "Results saved to \u001b[1mruns/detect/train4\u001b[0m\n",
            "cp: cannot stat 'runs/detect/train2/weights/best.pt': No such file or directory\n",
            "\n",
            "image 1/406 /content/drive/MyDrive/no_leakage_dataset2/test/images/WEEKNUMMER500-HRE0001A6F1_frame_000417_jpg.rf.1ef8758d12e2620706e785899474fe86.jpg: 640x640 (no detections), 7.5ms\n",
            "image 2/406 /content/drive/MyDrive/no_leakage_dataset2/test/images/WEEKNUMMER584-HRE0000E904_181000_321000_frame_000143_jpg.rf.f1ac3449bc845728d3cb815d47fe6b26.jpg: 640x640 (no detections), 7.5ms\n",
            "image 3/406 /content/drive/MyDrive/no_leakage_dataset2/test/images/WEEKNUMMER584-HRE0000E904_181000_321000_frame_000144_jpg.rf.be75c9bb1cfe1491f10094244da50173.jpg: 640x640 (no detections), 7.5ms\n",
            "image 4/406 /content/drive/MyDrive/no_leakage_dataset2/test/images/WEEKNUMMER584-HRE0000E904_181000_321000_frame_000145_jpg.rf.98e106c236a481468cf336708539e559.jpg: 640x640 2 cars, 7.5ms\n",
            "image 5/406 /content/drive/MyDrive/no_leakage_dataset2/test/images/WEEKNUMMER584-HRE0000E904_181000_321000_frame_000146_jpg.rf.7a94e2ba078c9f5a3ac1ac63db5389d8.jpg: 640x640 2 cars, 8.5ms\n",
            "image 6/406 /content/drive/MyDrive/no_leakage_dataset2/test/images/WEEKNUMMER584-HRE0000E904_181000_321000_frame_000147_jpg.rf.8366513cdfbbf06f60b6ab6e24724208.jpg: 640x640 2 bicycles, 7.5ms\n",
            "image 7/406 /content/drive/MyDrive/no_leakage_dataset2/test/images/WEEKNUMMER584-HRE0000E904_181000_321000_frame_000148_jpg.rf.dd45ebf477e7977e5cf3b0d5f887477d.jpg: 640x640 1 car, 7.4ms\n",
            "image 8/406 /content/drive/MyDrive/no_leakage_dataset2/test/images/WEEKNUMMER584-HRE0000E904_181000_321000_frame_000149_jpg.rf.eaf97fcf6dab10bf984fa1362edb9a35.jpg: 640x640 2 cars, 7.4ms\n",
            "image 9/406 /content/drive/MyDrive/no_leakage_dataset2/test/images/WEEKNUMMER584-HRE0000E904_181000_321000_frame_000150_jpg.rf.d86560a8aca8d8910d8f44245a5c94de.jpg: 640x640 1 car, 8.3ms\n",
            "image 10/406 /content/drive/MyDrive/no_leakage_dataset2/test/images/WEEKNUMMER584-HRE0000E904_181000_321000_frame_000151_jpg.rf.50018fbf4e167eadf7284eda473c3a64.jpg: 640x640 (no detections), 7.4ms\n",
            "image 11/406 /content/drive/MyDrive/no_leakage_dataset2/test/images/WEEKNUMMER584-HRE0000E904_181000_321000_frame_000152_jpg.rf.41681439cbe22eb980adfba66daf4f06.jpg: 640x640 (no detections), 7.4ms\n",
            "image 12/406 /content/drive/MyDrive/no_leakage_dataset2/test/images/WEEKNUMMER584-HRE0000E904_181000_321000_frame_000153_jpg.rf.ef65ce0b492d154f8a282992cea7b908.jpg: 640x640 1 car, 8.0ms\n",
            "image 13/406 /content/drive/MyDrive/no_leakage_dataset2/test/images/WEEKNUMMER584-HRE0000E904_181000_321000_frame_000154_jpg.rf.f6b0b48ed880c3443dae9ed08dd67403.jpg: 640x640 1 car, 9.1ms\n",
            "image 14/406 /content/drive/MyDrive/no_leakage_dataset2/test/images/WEEKNUMMER584-HRE0000E904_181000_321000_frame_000155_jpg.rf.3a4b34adc7f0504f13dccc15b30b6c50.jpg: 640x640 1 car, 7.4ms\n",
            "image 15/406 /content/drive/MyDrive/no_leakage_dataset2/test/images/WEEKNUMMER584-HRE0000E904_181000_321000_frame_000156_jpg.rf.70a27037ed11201598a34cb97ac2c121.jpg: 640x640 (no detections), 7.4ms\n",
            "image 16/406 /content/drive/MyDrive/no_leakage_dataset2/test/images/WEEKNUMMER584-HRE0000E904_181000_321000_frame_000157_jpg.rf.548c82e45fb0d1e861cb5261ce03ea7a.jpg: 640x640 1 car, 7.3ms\n",
            "image 17/406 /content/drive/MyDrive/no_leakage_dataset2/test/images/WEEKNUMMER584-HRE0000E904_181000_321000_frame_000158_jpg.rf.06dcc8b42f67f81e89f3ee26986ebd9c.jpg: 640x640 (no detections), 7.6ms\n",
            "image 18/406 /content/drive/MyDrive/no_leakage_dataset2/test/images/WEEKNUMMER584-HRE0000E904_181000_321000_frame_000159_jpg.rf.40af8c4739445baec9ef44b9b2748e4c.jpg: 640x640 (no detections), 7.4ms\n",
            "image 19/406 /content/drive/MyDrive/no_leakage_dataset2/test/images/WEEKNUMMER584-HRE0000E904_181000_321000_frame_000160_jpg.rf.d49e86d8f221748fffe631bc2c560431.jpg: 640x640 (no detections), 8.6ms\n",
            "image 20/406 /content/drive/MyDrive/no_leakage_dataset2/test/images/WEEKNUMMER584-HRE0000E904_181000_321000_frame_000161_jpg.rf.fc32a78dc30d0ba6140e059200b47a10.jpg: 640x640 (no detections), 11.4ms\n",
            "image 21/406 /content/drive/MyDrive/no_leakage_dataset2/test/images/WEEKNUMMER584-HRE0000E904_181000_321000_frame_000162_jpg.rf.e29026d5b2c92deb54f7c0085755a8a7.jpg: 640x640 (no detections), 13.0ms\n",
            "image 22/406 /content/drive/MyDrive/no_leakage_dataset2/test/images/WEEKNUMMER584-HRE0000E904_181000_321000_frame_000163_jpg.rf.231da8ea5a524752270ecfff5c6039bd.jpg: 640x640 (no detections), 14.5ms\n",
            "image 23/406 /content/drive/MyDrive/no_leakage_dataset2/test/images/WEEKNUMMER584-HRE0000E904_181000_321000_frame_000164_jpg.rf.ddcabf00a43bb4b741b5d58acc9b19fe.jpg: 640x640 2 bicycles, 1 car, 12.2ms\n",
            "image 24/406 /content/drive/MyDrive/no_leakage_dataset2/test/images/WEEKNUMMER584-HRE0000E904_181000_321000_frame_000165_jpg.rf.c8cf364a31563de1234291c15f55f0a7.jpg: 640x640 3 bicycles, 1 car, 11.9ms\n",
            "image 25/406 /content/drive/MyDrive/no_leakage_dataset2/test/images/WEEKNUMMER584-HRE0000E904_181000_321000_frame_000166_jpg.rf.55425cb87e0c1b4f12e762550a614b44.jpg: 640x640 3 bicycles, 1 car, 10.8ms\n",
            "image 26/406 /content/drive/MyDrive/no_leakage_dataset2/test/images/WEEKNUMMER584-HRE0000E904_181000_321000_frame_000167_jpg.rf.6ab37629adaa0805c3a6d890dac0f691.jpg: 640x640 1 bicycle, 11.5ms\n",
            "image 27/406 /content/drive/MyDrive/no_leakage_dataset2/test/images/WEEKNUMMER584-HRE0000E904_181000_321000_frame_000168_jpg.rf.1527a63306db9b1a70874eb5e04064a5.jpg: 640x640 2 bicycles, 10.2ms\n",
            "image 28/406 /content/drive/MyDrive/no_leakage_dataset2/test/images/WEEKNUMMER584-HRE0000E904_181000_321000_frame_000169_jpg.rf.761b79ba21a8e4435bcfb799de05e380.jpg: 640x640 1 bicycle, 9.4ms\n",
            "image 29/406 /content/drive/MyDrive/no_leakage_dataset2/test/images/WEEKNUMMER584-HRE0000E904_181000_321000_frame_000170_jpg.rf.7cbfe3750e857c07c998c3ff2f7d999b.jpg: 640x640 1 bicycle, 11.9ms\n",
            "image 30/406 /content/drive/MyDrive/no_leakage_dataset2/test/images/WEEKNUMMER584-HRE0000E904_181000_321000_frame_000171_jpg.rf.c5c8cfafefc96dbf16cceaf83e425da0.jpg: 640x640 (no detections), 10.9ms\n",
            "image 31/406 /content/drive/MyDrive/no_leakage_dataset2/test/images/WEEKNUMMER584-HRE0000E904_181000_321000_frame_000172_jpg.rf.bab1792834059e8f9e658b4e666b2fa5.jpg: 640x640 (no detections), 11.7ms\n",
            "image 32/406 /content/drive/MyDrive/no_leakage_dataset2/test/images/WEEKNUMMER584-HRE0000E904_181000_321000_frame_000173_jpg.rf.3b511dc9f1708b7b3f157cd8f89b4cfb.jpg: 640x640 1 car, 10.9ms\n",
            "image 33/406 /content/drive/MyDrive/no_leakage_dataset2/test/images/WEEKNUMMER584-HRE0000E904_181000_321000_frame_000174_jpg.rf.9dff8da29d71e55aae567c8d26bb1391.jpg: 640x640 1 car, 12.5ms\n",
            "image 34/406 /content/drive/MyDrive/no_leakage_dataset2/test/images/WEEKNUMMER584-HRE0000E904_181000_321000_frame_000175_jpg.rf.9e7ad2bf27200a69134950b03e9c59b6.jpg: 640x640 1 car, 9.0ms\n",
            "image 35/406 /content/drive/MyDrive/no_leakage_dataset2/test/images/WEEKNUMMER584-HRE0000E904_181000_321000_frame_000176_jpg.rf.d5577125e650d82e57703735b57ac1ce.jpg: 640x640 (no detections), 8.2ms\n",
            "image 36/406 /content/drive/MyDrive/no_leakage_dataset2/test/images/WEEKNUMMER584-HRE0000E904_181000_321000_frame_000177_jpg.rf.db47f040fe960402959b7a64290b8ba6.jpg: 640x640 (no detections), 9.5ms\n",
            "image 37/406 /content/drive/MyDrive/no_leakage_dataset2/test/images/WEEKNUMMER584-HRE0000E904_181000_321000_frame_000178_jpg.rf.eb2ea7af44587daa55210c08bd6ce099.jpg: 640x640 1 car, 10.8ms\n",
            "image 38/406 /content/drive/MyDrive/no_leakage_dataset2/test/images/WEEKNUMMER584-HRE0000E904_181000_321000_frame_000179_jpg.rf.17d0f4a0076481edf789285631169c51.jpg: 640x640 1 car, 13.0ms\n",
            "image 39/406 /content/drive/MyDrive/no_leakage_dataset2/test/images/WEEKNUMMER584-HRE0000E904_181000_321000_frame_000180_jpg.rf.d911147eb39541f378b0c8a951360840.jpg: 640x640 1 car, 8.2ms\n",
            "image 40/406 /content/drive/MyDrive/no_leakage_dataset2/test/images/WEEKNUMMER584-HRE0000E904_181000_321000_frame_000181_jpg.rf.1cffeb76388963da895859b6fa3b143f.jpg: 640x640 (no detections), 8.1ms\n",
            "image 41/406 /content/drive/MyDrive/no_leakage_dataset2/test/images/WEEKNUMMER584-HRE0000E904_181000_321000_frame_000182_jpg.rf.272f710b60ad5643ef82fba2ec6645dd.jpg: 640x640 (no detections), 12.9ms\n",
            "image 42/406 /content/drive/MyDrive/no_leakage_dataset2/test/images/WEEKNUMMER584-HRE0000E904_181000_321000_frame_000183_jpg.rf.752df86fe77d8246c46f249cd0d68f1c.jpg: 640x640 (no detections), 10.0ms\n",
            "image 43/406 /content/drive/MyDrive/no_leakage_dataset2/test/images/WEEKNUMMER584-HRE0000E904_181000_321000_frame_000184_jpg.rf.64615bad6e9086e20a48b8169b2e4431.jpg: 640x640 (no detections), 8.3ms\n",
            "image 44/406 /content/drive/MyDrive/no_leakage_dataset2/test/images/WEEKNUMMER584-HRE0000E904_181000_321000_frame_000185_jpg.rf.b00a4817ff6c33a8a71bcae66897586a.jpg: 640x640 (no detections), 8.4ms\n",
            "image 45/406 /content/drive/MyDrive/no_leakage_dataset2/test/images/WEEKNUMMER584-HRE0000E904_181000_321000_frame_000186_jpg.rf.b63f37669c58b732742aa0366890c944.jpg: 640x640 1 bicycle, 8.2ms\n",
            "image 46/406 /content/drive/MyDrive/no_leakage_dataset2/test/images/WEEKNUMMER584-HRE0000E904_181000_321000_frame_000187_jpg.rf.594509de0105d31085d04fea458f7589.jpg: 640x640 1 bicycle, 8.0ms\n",
            "image 47/406 /content/drive/MyDrive/no_leakage_dataset2/test/images/WEEKNUMMER584-HRE0000E904_181000_321000_frame_000188_jpg.rf.d4da93d271cd5751198949eee7e00b70.jpg: 640x640 (no detections), 8.6ms\n",
            "image 48/406 /content/drive/MyDrive/no_leakage_dataset2/test/images/WEEKNUMMER584-HRE0000E904_181000_321000_frame_000189_jpg.rf.f685e01ad9a1b963b87013fb8f08a6d9.jpg: 640x640 (no detections), 8.1ms\n",
            "image 49/406 /content/drive/MyDrive/no_leakage_dataset2/test/images/WEEKNUMMER584-HRE0000E904_181000_321000_frame_000190_jpg.rf.428db372185d9c6449c608441911552a.jpg: 640x640 (no detections), 10.2ms\n",
            "image 50/406 /content/drive/MyDrive/no_leakage_dataset2/test/images/WEEKNUMMER584-HRE0000E904_181000_321000_frame_000191_jpg.rf.c7316e8be49602c789efc655555687b9.jpg: 640x640 (no detections), 11.7ms\n",
            "image 51/406 /content/drive/MyDrive/no_leakage_dataset2/test/images/WEEKNUMMER584-HRE0000E904_181000_321000_frame_000192_jpg.rf.654c4ba78a72482f3865036f47dd627b.jpg: 640x640 (no detections), 8.9ms\n",
            "image 52/406 /content/drive/MyDrive/no_leakage_dataset2/test/images/WEEKNUMMER584-HRE0000E904_181000_321000_frame_000193_jpg.rf.036850d495768d71d724192b1906eb78.jpg: 640x640 (no detections), 7.6ms\n",
            "image 53/406 /content/drive/MyDrive/no_leakage_dataset2/test/images/WEEKNUMMER584-HRE0000E904_181000_321000_frame_000194_jpg.rf.72aec333187f36fa7137da6b8987fd10.jpg: 640x640 (no detections), 10.3ms\n",
            "image 54/406 /content/drive/MyDrive/no_leakage_dataset2/test/images/WEEKNUMMER584-HRE0000E904_181000_321000_frame_000195_jpg.rf.38aa9b1b6ba56755e0ebd719e29aee57.jpg: 640x640 (no detections), 9.1ms\n",
            "image 55/406 /content/drive/MyDrive/no_leakage_dataset2/test/images/WEEKNUMMER584-HRE0000E904_181000_321000_frame_000196_jpg.rf.d31f74ceb64aad18c02ff0690de96173.jpg: 640x640 (no detections), 9.9ms\n",
            "image 56/406 /content/drive/MyDrive/no_leakage_dataset2/test/images/WEEKNUMMER584-HRE0000E904_181000_321000_frame_000197_jpg.rf.99eb3eaebfa69efe58c57c98e07d767a.jpg: 640x640 (no detections), 8.2ms\n",
            "image 57/406 /content/drive/MyDrive/no_leakage_dataset2/test/images/WEEKNUMMER584-HRE0000E904_181000_321000_frame_000198_jpg.rf.c2a14f6836b4c321f378e5cff6abf600.jpg: 640x640 1 bicycle, 7.5ms\n",
            "image 58/406 /content/drive/MyDrive/no_leakage_dataset2/test/images/WEEKNUMMER584-HRE0000E904_181000_321000_frame_000199_jpg.rf.1d14d6884a861ca265573336aed02fa4.jpg: 640x640 1 bicycle, 7.7ms\n",
            "image 59/406 /content/drive/MyDrive/no_leakage_dataset2/test/images/WEEKNUMMER584-HRE0000E904_181000_321000_frame_000200_jpg.rf.f80946f9ed4dc9ae2447bc9bf0973df3.jpg: 640x640 1 bicycle, 8.4ms\n",
            "image 60/406 /content/drive/MyDrive/no_leakage_dataset2/test/images/WEEKNUMMER584-HRE0000E904_181000_321000_frame_000201_jpg.rf.98a1adbd75ce85650c0e413b7e3bdaeb.jpg: 640x640 (no detections), 7.8ms\n",
            "image 61/406 /content/drive/MyDrive/no_leakage_dataset2/test/images/WEEKNUMMER584-HRE0000E904_181000_321000_frame_000202_jpg.rf.bd731089182b427fef0802547caa8d40.jpg: 640x640 (no detections), 8.1ms\n",
            "image 62/406 /content/drive/MyDrive/no_leakage_dataset2/test/images/WEEKNUMMER584-HRE0000E904_181000_321000_frame_000203_jpg.rf.0769a5019e295fad7b6f045153afe14e.jpg: 640x640 1 bicycle, 8.8ms\n",
            "image 63/406 /content/drive/MyDrive/no_leakage_dataset2/test/images/WEEKNUMMER584-HRE0000E904_181000_321000_frame_000204_jpg.rf.222c6dd59daaf995430cdfc7acc3219b.jpg: 640x640 (no detections), 8.0ms\n",
            "image 64/406 /content/drive/MyDrive/no_leakage_dataset2/test/images/WEEKNUMMER584-HRE0000E904_181000_321000_frame_000205_jpg.rf.5a581a5425e905d87c5c92bfc9ddc8c0.jpg: 640x640 1 bicycle, 8.2ms\n",
            "image 65/406 /content/drive/MyDrive/no_leakage_dataset2/test/images/WEEKNUMMER584-HRE0000E904_181000_321000_frame_000206_jpg.rf.d4495b72f1f9344d91683a6cd4224a48.jpg: 640x640 1 bicycle, 8.1ms\n",
            "image 66/406 /content/drive/MyDrive/no_leakage_dataset2/test/images/WEEKNUMMER584-HRE0000E904_181000_321000_frame_000207_jpg.rf.02606acbdb94350397412626827ba506.jpg: 640x640 (no detections), 8.5ms\n",
            "image 67/406 /content/drive/MyDrive/no_leakage_dataset2/test/images/WEEKNUMMER584-HRE0000E904_181000_321000_frame_000208_jpg.rf.4d87c569299e41c1de30c14a2853370b.jpg: 640x640 1 bicycle, 14.0ms\n",
            "image 68/406 /content/drive/MyDrive/no_leakage_dataset2/test/images/WEEKNUMMER584-HRE0000E904_181000_321000_frame_000209_jpg.rf.47414eab9f0a2044e4e8d7cac751ff25.jpg: 640x640 (no detections), 11.5ms\n",
            "image 69/406 /content/drive/MyDrive/no_leakage_dataset2/test/images/WEEKNUMMER584-HRE0000E904_181000_321000_frame_000210_jpg.rf.fbd3282f63d1ef35d2771afb355c0bce.jpg: 640x640 2 cars, 11.7ms\n",
            "image 70/406 /content/drive/MyDrive/no_leakage_dataset2/test/images/WEEKNUMMER584-HRE0000E904_181000_321000_frame_000211_jpg.rf.003d6f85fae5b7f6fb8e1b83f0619bb1.jpg: 640x640 1 bicycle, 1 car, 14.2ms\n",
            "image 71/406 /content/drive/MyDrive/no_leakage_dataset2/test/images/WEEKNUMMER584-HRE0000E904_181000_321000_frame_000212_jpg.rf.51f427ae370c3023973da5b61ffdaf54.jpg: 640x640 2 cars, 9.7ms\n",
            "image 72/406 /content/drive/MyDrive/no_leakage_dataset2/test/images/WEEKNUMMER584-HRE0000E904_181000_321000_frame_000213_jpg.rf.790f8ab5145e1793f6dc8bdd37346699.jpg: 640x640 1 bicycle, 13.0ms\n",
            "image 73/406 /content/drive/MyDrive/no_leakage_dataset2/test/images/WEEKNUMMER584-HRE0000E904_181000_321000_frame_000214_jpg.rf.06b8c13ba35cd60fbaa4ace74d96b7a4.jpg: 640x640 1 bicycle, 16.9ms\n",
            "image 74/406 /content/drive/MyDrive/no_leakage_dataset2/test/images/WEEKNUMMER584-HRE0000E904_181000_321000_frame_000215_jpg.rf.bb4c7fbc033e4c81a3f823a8d425d6a9.jpg: 640x640 (no detections), 13.2ms\n",
            "image 75/406 /content/drive/MyDrive/no_leakage_dataset2/test/images/WEEKNUMMER584-HRE0000E904_181000_321000_frame_000216_jpg.rf.f22415ac27ddff09f6b6a394bab23675.jpg: 640x640 (no detections), 13.3ms\n",
            "image 76/406 /content/drive/MyDrive/no_leakage_dataset2/test/images/WEEKNUMMER584-HRE0000E904_181000_321000_frame_000217_jpg.rf.5c7ca5e4d7f60de64360aff03cc9c42f.jpg: 640x640 1 car, 13.9ms\n",
            "image 77/406 /content/drive/MyDrive/no_leakage_dataset2/test/images/WEEKNUMMER584-HRE0000E904_181000_321000_frame_000218_jpg.rf.087f410e61b7e8e6d28642595e23a8d7.jpg: 640x640 1 car, 8.4ms\n",
            "image 78/406 /content/drive/MyDrive/no_leakage_dataset2/test/images/WEEKNUMMER584-HRE0000E904_181000_321000_frame_000219_jpg.rf.dcec989af77f26c57efa7f514225b78a.jpg: 640x640 1 bicycle, 8.4ms\n",
            "image 79/406 /content/drive/MyDrive/no_leakage_dataset2/test/images/WEEKNUMMER584-HRE0000E904_181000_321000_frame_000220_jpg.rf.7cf02645368fc2657a640f1e82fa7bd6.jpg: 640x640 1 bicycle, 8.8ms\n",
            "image 80/406 /content/drive/MyDrive/no_leakage_dataset2/test/images/WEEKNUMMER584-HRE0000E904_181000_321000_frame_000221_jpg.rf.53b2d22cd67a52f6fb85e163d583a34c.jpg: 640x640 (no detections), 10.9ms\n",
            "image 81/406 /content/drive/MyDrive/no_leakage_dataset2/test/images/WEEKNUMMER584-HRE0000E904_181000_321000_frame_000222_jpg.rf.41ccd2b7ac4672348b1c335caf16b0ca.jpg: 640x640 (no detections), 9.3ms\n",
            "image 82/406 /content/drive/MyDrive/no_leakage_dataset2/test/images/WEEKNUMMER584-HRE0000E904_181000_321000_frame_000223_jpg.rf.98bf732b1ddde03b0507942f0ecb53b7.jpg: 640x640 (no detections), 7.8ms\n",
            "image 83/406 /content/drive/MyDrive/no_leakage_dataset2/test/images/WEEKNUMMER584-HRE0000E904_181000_321000_frame_000224_jpg.rf.c08a6e214be955117306c40c48620967.jpg: 640x640 2 cars, 7.7ms\n",
            "image 84/406 /content/drive/MyDrive/no_leakage_dataset2/test/images/WEEKNUMMER584-HRE0000E904_181000_321000_frame_000225_jpg.rf.7400a9495b54c8e11fadf874c5cdd03f.jpg: 640x640 (no detections), 8.1ms\n",
            "image 85/406 /content/drive/MyDrive/no_leakage_dataset2/test/images/WEEKNUMMER584-HRE0000E904_181000_321000_frame_000226_jpg.rf.657bc9a384d79a5c075c8e1ef2fb6b50.jpg: 640x640 1 car, 8.9ms\n",
            "image 86/406 /content/drive/MyDrive/no_leakage_dataset2/test/images/WEEKNUMMER584-HRE0000E904_181000_321000_frame_000227_jpg.rf.e61dfe34d6e938c708c1d53033dc1027.jpg: 640x640 (no detections), 10.9ms\n",
            "image 87/406 /content/drive/MyDrive/no_leakage_dataset2/test/images/WEEKNUMMER584-HRE0000E904_181000_321000_frame_000228_jpg.rf.887bf4b89e7fc2b407709ae13e315678.jpg: 640x640 (no detections), 8.5ms\n",
            "image 88/406 /content/drive/MyDrive/no_leakage_dataset2/test/images/WEEKNUMMER584-HRE0000E904_181000_321000_frame_000229_jpg.rf.9ebdd6033e6658d3ac83720dc7281b71.jpg: 640x640 1 car, 12.6ms\n",
            "image 89/406 /content/drive/MyDrive/no_leakage_dataset2/test/images/WEEKNUMMER584-HRE0000E904_181000_321000_frame_000230_jpg.rf.8c31d2498b2bc33646d9b9e552599605.jpg: 640x640 (no detections), 8.4ms\n",
            "image 90/406 /content/drive/MyDrive/no_leakage_dataset2/test/images/WEEKNUMMER584-HRE0000E904_181000_321000_frame_000231_jpg.rf.b113f3505f8761df955600ad38daf0f0.jpg: 640x640 1 bicycle, 11.8ms\n",
            "image 91/406 /content/drive/MyDrive/no_leakage_dataset2/test/images/WEEKNUMMER584-HRE0000E904_181000_321000_frame_000232_jpg.rf.94f5154eae4848399ae728ba7b68e0d5.jpg: 640x640 (no detections), 8.3ms\n",
            "image 92/406 /content/drive/MyDrive/no_leakage_dataset2/test/images/WEEKNUMMER584-HRE0000E904_181000_321000_frame_000233_jpg.rf.86a82722ba445d6d3912d153dc10b0d3.jpg: 640x640 1 bicycle, 1 car, 8.2ms\n",
            "image 93/406 /content/drive/MyDrive/no_leakage_dataset2/test/images/WEEKNUMMER584-HRE0000E904_181000_321000_frame_000234_jpg.rf.ae560228b48467f62b4eaeb8c6f0ff14.jpg: 640x640 1 bicycle, 1 car, 16.5ms\n",
            "image 94/406 /content/drive/MyDrive/no_leakage_dataset2/test/images/WEEKNUMMER584-HRE0000E904_181000_321000_frame_000235_jpg.rf.39d231dc18b624ec962ec1c9e8a1d56e.jpg: 640x640 1 bicycle, 1 car, 11.5ms\n",
            "image 95/406 /content/drive/MyDrive/no_leakage_dataset2/test/images/WEEKNUMMER584-HRE0000E904_181000_321000_frame_000236_jpg.rf.4c4e356e4c5382cf482d8d8ad6289233.jpg: 640x640 1 bicycle, 1 car, 11.2ms\n",
            "image 96/406 /content/drive/MyDrive/no_leakage_dataset2/test/images/WEEKNUMMER584-HRE0000E904_181000_321000_frame_000237_jpg.rf.6091873dec0b0f57cc11e272b3297cea.jpg: 640x640 2 bicycles, 8.6ms\n",
            "image 97/406 /content/drive/MyDrive/no_leakage_dataset2/test/images/WEEKNUMMER584-HRE0000E904_181000_321000_frame_000238_jpg.rf.68a8415df165a1967d669218d641c392.jpg: 640x640 1 bicycle, 1 car, 8.9ms\n",
            "image 98/406 /content/drive/MyDrive/no_leakage_dataset2/test/images/WEEKNUMMER584-HRE0000E904_181000_321000_frame_000239_jpg.rf.b36c73485d48e59c4f475cd3604eab80.jpg: 640x640 1 car, 8.7ms\n",
            "image 99/406 /content/drive/MyDrive/no_leakage_dataset2/test/images/WEEKNUMMER584-HRE0000E904_181000_321000_frame_000240_jpg.rf.b8c54c40b7e66358b1e6ccddf2e0894c.jpg: 640x640 (no detections), 8.7ms\n",
            "image 100/406 /content/drive/MyDrive/no_leakage_dataset2/test/images/WEEKNUMMER584-HRE0000E904_181000_321000_frame_000241_jpg.rf.1e16e9dfbb02518caa80d5b0c61e9be7.jpg: 640x640 (no detections), 8.3ms\n",
            "image 101/406 /content/drive/MyDrive/no_leakage_dataset2/test/images/WEEKNUMMER584-HRE0000E904_181000_321000_frame_000242_jpg.rf.2d173484c8a75fe4dfb04776ccd8e540.jpg: 640x640 1 car, 8.4ms\n",
            "image 102/406 /content/drive/MyDrive/no_leakage_dataset2/test/images/WEEKNUMMER584-HRE0000E904_181000_321000_frame_000243_jpg.rf.a1e12df47c49ed799f32bbd6e2849336.jpg: 640x640 1 car, 8.7ms\n",
            "image 103/406 /content/drive/MyDrive/no_leakage_dataset2/test/images/WEEKNUMMER584-HRE0000E904_181000_321000_frame_000244_jpg.rf.822fe6bacb3727a5f9e6987c62ac7dbb.jpg: 640x640 1 car, 8.4ms\n",
            "image 104/406 /content/drive/MyDrive/no_leakage_dataset2/test/images/WEEKNUMMER584-HRE0000E904_181000_321000_frame_000245_jpg.rf.d009e5b1552f57b3b3e78801de028b79.jpg: 640x640 1 car, 9.1ms\n",
            "image 105/406 /content/drive/MyDrive/no_leakage_dataset2/test/images/WEEKNUMMER584-HRE0000E904_181000_321000_frame_000246_jpg.rf.cdae9433b1955e25ce3edbf800e0a1fc.jpg: 640x640 (no detections), 13.3ms\n",
            "image 106/406 /content/drive/MyDrive/no_leakage_dataset2/test/images/WEEKNUMMER584-HRE0000E904_181000_321000_frame_000247_jpg.rf.abb255b1a032535419c2c727d6c5aea5.jpg: 640x640 1 car, 11.7ms\n",
            "image 107/406 /content/drive/MyDrive/no_leakage_dataset2/test/images/WEEKNUMMER584-HRE0000E904_181000_321000_frame_000248_jpg.rf.3c1ba10621dde1386e4fecf30463d0ef.jpg: 640x640 (no detections), 9.1ms\n",
            "image 108/406 /content/drive/MyDrive/no_leakage_dataset2/test/images/WEEKNUMMER584-HRE0000E904_181000_321000_frame_000249_jpg.rf.15004f85392f4e02e6752afa7ae3a3d2.jpg: 640x640 (no detections), 9.8ms\n",
            "image 109/406 /content/drive/MyDrive/no_leakage_dataset2/test/images/WEEKNUMMER584-HRE0000E904_181000_321000_frame_000250_jpg.rf.c54bec0c3b5e11d4cdd5198562ac6437.jpg: 640x640 1 car, 7.6ms\n",
            "image 110/406 /content/drive/MyDrive/no_leakage_dataset2/test/images/WEEKNUMMER584-HRE0000E904_181000_321000_frame_000251_jpg.rf.6b8282010c20e8290de9ee3a2444114b.jpg: 640x640 (no detections), 8.0ms\n",
            "image 111/406 /content/drive/MyDrive/no_leakage_dataset2/test/images/WEEKNUMMER584-HRE0000E904_181000_321000_frame_000252_jpg.rf.423e86fa6d2ad4034873d14aa38faa8f.jpg: 640x640 (no detections), 8.6ms\n",
            "image 112/406 /content/drive/MyDrive/no_leakage_dataset2/test/images/WEEKNUMMER584-HRE0000E904_181000_321000_frame_000253_jpg.rf.8b89b802d894c30ae5a64c605c88a567.jpg: 640x640 (no detections), 12.7ms\n",
            "image 113/406 /content/drive/MyDrive/no_leakage_dataset2/test/images/WEEKNUMMER584-HRE0000E904_181000_321000_frame_000254_jpg.rf.6d04c662d703b72bc440476bb873e68d.jpg: 640x640 1 car, 10.1ms\n",
            "image 114/406 /content/drive/MyDrive/no_leakage_dataset2/test/images/WEEKNUMMER584-HRE0000E904_181000_321000_frame_000255_jpg.rf.3d707b546c280a62be7c691cf5ca3d19.jpg: 640x640 (no detections), 9.9ms\n",
            "image 115/406 /content/drive/MyDrive/no_leakage_dataset2/test/images/WEEKNUMMER584-HRE0000E904_181000_321000_frame_000256_jpg.rf.236a56594f1ecc16d839f9ca38c12fd6.jpg: 640x640 1 car, 9.7ms\n",
            "image 116/406 /content/drive/MyDrive/no_leakage_dataset2/test/images/WEEKNUMMER584-HRE0000E904_181000_321000_frame_000257_jpg.rf.4e16c0b52948be616471e8230cf97cd6.jpg: 640x640 (no detections), 8.8ms\n",
            "image 117/406 /content/drive/MyDrive/no_leakage_dataset2/test/images/WEEKNUMMER584-HRE0000E904_181000_321000_frame_000258_jpg.rf.e76152abf04ebde4ae801d93d28ec468.jpg: 640x640 (no detections), 10.1ms\n",
            "image 118/406 /content/drive/MyDrive/no_leakage_dataset2/test/images/WEEKNUMMER584-HRE0000E904_181000_321000_frame_000259_jpg.rf.05c3bbb62a376da27233a29abf4d1a26.jpg: 640x640 2 bicycles, 9.3ms\n",
            "image 119/406 /content/drive/MyDrive/no_leakage_dataset2/test/images/WEEKNUMMER584-HRE0000E904_181000_321000_frame_000260_jpg.rf.e351dd655a7b34fcd898e87812a482a9.jpg: 640x640 2 bicycles, 8.5ms\n",
            "image 120/406 /content/drive/MyDrive/no_leakage_dataset2/test/images/WEEKNUMMER584-HRE0000E904_181000_321000_frame_000261_jpg.rf.9048d73f0c911794d736c5c07a111519.jpg: 640x640 2 bicycles, 8.1ms\n",
            "image 121/406 /content/drive/MyDrive/no_leakage_dataset2/test/images/WEEKNUMMER584-HRE0000E904_181000_321000_frame_000262_jpg.rf.27513248fa1f7a278782176961634cd5.jpg: 640x640 (no detections), 7.5ms\n",
            "image 122/406 /content/drive/MyDrive/no_leakage_dataset2/test/images/WEEKNUMMER584-HRE0000E904_181000_321000_frame_000263_jpg.rf.9266abd6d93c2cc50364558571a6fd09.jpg: 640x640 (no detections), 7.6ms\n",
            "image 123/406 /content/drive/MyDrive/no_leakage_dataset2/test/images/WEEKNUMMER584-HRE0000E904_181000_321000_frame_000264_jpg.rf.f7a26a9d260acbe61526070fbdadd0cd.jpg: 640x640 (no detections), 7.9ms\n",
            "image 124/406 /content/drive/MyDrive/no_leakage_dataset2/test/images/WEEKNUMMER584-HRE0000E904_181000_321000_frame_000265_jpg.rf.159b539b78ef504891031ca96cfce68e.jpg: 640x640 (no detections), 7.5ms\n",
            "image 125/406 /content/drive/MyDrive/no_leakage_dataset2/test/images/WEEKNUMMER584-HRE0000E904_181000_321000_frame_000266_jpg.rf.1262db40c518b9724ededf3a4828f785.jpg: 640x640 1 bicycle, 7.9ms\n",
            "image 126/406 /content/drive/MyDrive/no_leakage_dataset2/test/images/WEEKNUMMER584-HRE0000E904_181000_321000_frame_000267_jpg.rf.1adcf5e311149217df0e044a1ca5cd80.jpg: 640x640 1 car, 7.7ms\n",
            "image 127/406 /content/drive/MyDrive/no_leakage_dataset2/test/images/WEEKNUMMER584-HRE0000E904_181000_321000_frame_000268_jpg.rf.92a4a8b637ad03dcd3bc2f650ef11d4c.jpg: 640x640 3 cars, 7.9ms\n",
            "image 128/406 /content/drive/MyDrive/no_leakage_dataset2/test/images/WEEKNUMMER584-HRE0000E904_181000_321000_frame_000269_jpg.rf.ebbee26b57fef72c04227ef42d90dae0.jpg: 640x640 (no detections), 7.6ms\n",
            "image 129/406 /content/drive/MyDrive/no_leakage_dataset2/test/images/WEEKNUMMER584-HRE0000E904_181000_321000_frame_000270_jpg.rf.a38c6804cc7910fd8b0489004679a62e.jpg: 640x640 1 bicycle, 7.9ms\n",
            "image 130/406 /content/drive/MyDrive/no_leakage_dataset2/test/images/WEEKNUMMER584-HRE0000E904_181000_321000_frame_000271_jpg.rf.4e7137d2dd021547c3f0b760e4efa40d.jpg: 640x640 1 bicycle, 7.9ms\n",
            "image 131/406 /content/drive/MyDrive/no_leakage_dataset2/test/images/WEEKNUMMER584-HRE0000E904_181000_321000_frame_000272_jpg.rf.61affc2b8c7b19071e9b5d1da29f7215.jpg: 640x640 1 bicycle, 8.7ms\n",
            "image 132/406 /content/drive/MyDrive/no_leakage_dataset2/test/images/WEEKNUMMER584-HRE0000E904_181000_321000_frame_000273_jpg.rf.a3c725293a4efcdf30b65264dcf2e483.jpg: 640x640 (no detections), 8.6ms\n",
            "image 133/406 /content/drive/MyDrive/no_leakage_dataset2/test/images/WEEKNUMMER584-HRE0000E904_181000_321000_frame_000274_jpg.rf.a17c9ad8611095b7331c4666070f5d11.jpg: 640x640 (no detections), 15.8ms\n",
            "image 134/406 /content/drive/MyDrive/no_leakage_dataset2/test/images/WEEKNUMMER584-HRE0000E904_181000_321000_frame_000275_jpg.rf.9919cdbabfdad0adf1ede8b9577218c4.jpg: 640x640 1 bicycle, 13.9ms\n",
            "image 135/406 /content/drive/MyDrive/no_leakage_dataset2/test/images/WEEKNUMMER584-HRE0000E904_181000_321000_frame_000276_jpg.rf.8d354e5aa692d5836d67d2d7988acd9b.jpg: 640x640 1 bicycle, 12.7ms\n",
            "image 136/406 /content/drive/MyDrive/no_leakage_dataset2/test/images/WEEKNUMMER584-HRE0000E904_181000_321000_frame_000277_jpg.rf.272decb819fe469a0efb1d5de24508df.jpg: 640x640 1 bicycle, 14.5ms\n",
            "image 137/406 /content/drive/MyDrive/no_leakage_dataset2/test/images/WEEKNUMMER584-HRE0000E904_181000_321000_frame_000278_jpg.rf.be65106f05f362351741ab4b021eded9.jpg: 640x640 (no detections), 13.1ms\n",
            "image 138/406 /content/drive/MyDrive/no_leakage_dataset2/test/images/WEEKNUMMER584-HRE0000E904_181000_321000_frame_000279_jpg.rf.35bb3079502f085cc7c4057396326f25.jpg: 640x640 1 car, 9.7ms\n",
            "image 139/406 /content/drive/MyDrive/no_leakage_dataset2/test/images/WEEKNUMMER584-HRE0000E904_181000_321000_frame_000280_jpg.rf.785cc205535ebd1c02b6c730a324e7a1.jpg: 640x640 1 car, 13.1ms\n",
            "image 140/406 /content/drive/MyDrive/no_leakage_dataset2/test/images/WEEKNUMMER584-HRE0000E904_181000_321000_frame_000281_jpg.rf.30a5742b5ea608c9d3d546eb5b22d915.jpg: 640x640 1 car, 10.0ms\n",
            "image 141/406 /content/drive/MyDrive/no_leakage_dataset2/test/images/WEEKNUMMER584-HRE0000E904_181000_321000_frame_000282_jpg.rf.924071445f0536aa66a767c000d32172.jpg: 640x640 (no detections), 9.6ms\n",
            "image 142/406 /content/drive/MyDrive/no_leakage_dataset2/test/images/WEEKNUMMER584-HRE0000E904_181000_321000_frame_000283_jpg.rf.4b37452b2413e5e9acdd5be7404da4a0.jpg: 640x640 1 car, 8.5ms\n",
            "image 143/406 /content/drive/MyDrive/no_leakage_dataset2/test/images/WEEKNUMMER584-HRE0000E904_181000_321000_frame_000284_jpg.rf.1e85aab845b3635831e3dbb284c17eab.jpg: 640x640 1 car, 10.2ms\n",
            "image 144/406 /content/drive/MyDrive/no_leakage_dataset2/test/images/WEEKNUMMER584-HRE0000E904_181000_321000_frame_000285_jpg.rf.10eed520351d9199f426a692e1c31a2a.jpg: 640x640 3 cars, 10.7ms\n",
            "image 145/406 /content/drive/MyDrive/no_leakage_dataset2/test/images/WEEKNUMMER584-HRE0000E904_181000_321000_frame_000286_jpg.rf.f1fdb1a933bd31a13fe9b8054df1f335.jpg: 640x640 2 cars, 10.2ms\n",
            "image 146/406 /content/drive/MyDrive/no_leakage_dataset2/test/images/WEEKNUMMER584-HRE0000E904_181000_321000_frame_000287_jpg.rf.b675964128ba7aaf0d9e8629c859e5ae.jpg: 640x640 3 cars, 11.9ms\n",
            "image 147/406 /content/drive/MyDrive/no_leakage_dataset2/test/images/WEEKNUMMER584-HRE0000E904_181000_321000_frame_000288_jpg.rf.869907e95f19aca4a0a6eea6648d7ccf.jpg: 640x640 1 car, 12.5ms\n",
            "image 148/406 /content/drive/MyDrive/no_leakage_dataset2/test/images/WEEKNUMMER584-HRE0000E904_181000_321000_frame_000289_jpg.rf.464e9473796c7d09a1157af1baa81af4.jpg: 640x640 1 bicycle, 13.4ms\n",
            "image 149/406 /content/drive/MyDrive/no_leakage_dataset2/test/images/WEEKNUMMER584-HRE0000E904_181000_321000_frame_000290_jpg.rf.07e04d8fef59244a0a8b939a7001b4b9.jpg: 640x640 1 bicycle, 1 car, 8.3ms\n",
            "image 150/406 /content/drive/MyDrive/no_leakage_dataset2/test/images/WEEKNUMMER584-HRE0000E904_181000_321000_frame_000291_jpg.rf.7e5d4186cfd05b7192e542dc9d8cfaf4.jpg: 640x640 2 bicycles, 1 car, 10.7ms\n",
            "image 151/406 /content/drive/MyDrive/no_leakage_dataset2/test/images/WEEKNUMMER584-HRE0000E904_181000_321000_frame_000292_jpg.rf.593668fa4e95a4228d00fc7f6bdb9248.jpg: 640x640 1 bicycle, 1 car, 10.6ms\n",
            "image 152/406 /content/drive/MyDrive/no_leakage_dataset2/test/images/WEEKNUMMER584-HRE0000E904_181000_321000_frame_000299_jpg.rf.edf37e4dbe9204931adaab9ebc998b6e.jpg: 640x640 (no detections), 12.1ms\n",
            "image 153/406 /content/drive/MyDrive/no_leakage_dataset2/test/images/WEEKNUMMER584-HRE0000E904_181000_321000_frame_000300_jpg.rf.f09172ce22e93412265e4f5a22d17e84.jpg: 640x640 1 bicycle, 16.0ms\n",
            "image 154/406 /content/drive/MyDrive/no_leakage_dataset2/test/images/WEEKNUMMER584-HRE0000E904_181000_321000_frame_000301_jpg.rf.b634b7afc31ffd1d8c02bf5e50cebfde.jpg: 640x640 1 bicycle, 15.8ms\n",
            "image 155/406 /content/drive/MyDrive/no_leakage_dataset2/test/images/WEEKNUMMER584-HRE0000E904_181000_321000_frame_000302_jpg.rf.de75757b2b78aec2beb12a51b7cf0cae.jpg: 640x640 1 bicycle, 11.8ms\n",
            "image 156/406 /content/drive/MyDrive/no_leakage_dataset2/test/images/WEEKNUMMER584-HRE0000E904_181000_321000_frame_000303_jpg.rf.7897a2461ce69d88ddd8419ed41d4342.jpg: 640x640 1 bicycle, 18.3ms\n",
            "image 157/406 /content/drive/MyDrive/no_leakage_dataset2/test/images/WEEKNUMMER584-HRE0000E904_181000_321000_frame_000304_jpg.rf.17190a027fe7bcfc9bbfdea52d0ae9dd.jpg: 640x640 1 bicycle, 12.4ms\n",
            "image 158/406 /content/drive/MyDrive/no_leakage_dataset2/test/images/WEEKNUMMER584-HRE0000E904_181000_321000_frame_000305_jpg.rf.1b9d1c2442e80dd689b1da8e2c327bcb.jpg: 640x640 (no detections), 11.6ms\n",
            "image 159/406 /content/drive/MyDrive/no_leakage_dataset2/test/images/WEEKNUMMER584-HRE0000E904_181000_321000_frame_000306_jpg.rf.56a365c254b96388775842b6f49466d6.jpg: 640x640 1 car, 14.3ms\n",
            "image 160/406 /content/drive/MyDrive/no_leakage_dataset2/test/images/WEEKNUMMER584-HRE0000E904_181000_321000_frame_000307_jpg.rf.daeac1c1b649998cd1c166cc892f7a64.jpg: 640x640 2 cars, 11.5ms\n",
            "image 161/406 /content/drive/MyDrive/no_leakage_dataset2/test/images/WEEKNUMMER584-HRE0000E904_181000_321000_frame_000308_jpg.rf.c101bcafca6342922a9cf0fb2ac248f8.jpg: 640x640 (no detections), 12.1ms\n",
            "image 162/406 /content/drive/MyDrive/no_leakage_dataset2/test/images/WEEKNUMMER584-HRE0000E904_181000_321000_frame_000309_jpg.rf.5fda2e9b615ea5c7a3a4c9486e76a7f5.jpg: 640x640 (no detections), 16.3ms\n",
            "image 163/406 /content/drive/MyDrive/no_leakage_dataset2/test/images/WEEKNUMMER584-HRE0000E904_181000_321000_frame_000310_jpg.rf.099d336c3f488fad6a9b31d43178e6de.jpg: 640x640 (no detections), 13.6ms\n",
            "image 164/406 /content/drive/MyDrive/no_leakage_dataset2/test/images/WEEKNUMMER584-HRE0000E904_181000_321000_frame_000311_jpg.rf.8b403d160e5be3bb69e518f8a29e4347.jpg: 640x640 (no detections), 14.8ms\n",
            "image 165/406 /content/drive/MyDrive/no_leakage_dataset2/test/images/WEEKNUMMER584-HRE0000E904_181000_321000_frame_000312_jpg.rf.8f4b9c8a013f3defb14b1c4b882cd2a2.jpg: 640x640 1 car, 12.7ms\n",
            "image 166/406 /content/drive/MyDrive/no_leakage_dataset2/test/images/WEEKNUMMER584-HRE0000E904_181000_321000_frame_000313_jpg.rf.72ec26b870cb6ec3cc01e47c44be54e7.jpg: 640x640 (no detections), 15.3ms\n",
            "image 167/406 /content/drive/MyDrive/no_leakage_dataset2/test/images/WEEKNUMMER584-HRE0000E904_181000_321000_frame_000314_jpg.rf.871387f10c4c5d80d3a4512b1cc2e941.jpg: 640x640 (no detections), 9.7ms\n",
            "image 168/406 /content/drive/MyDrive/no_leakage_dataset2/test/images/WEEKNUMMER584-HRE0000E904_181000_321000_frame_000315_jpg.rf.c9655172d5f2ce2dcce45358c9bdf7fe.jpg: 640x640 (no detections), 12.8ms\n",
            "image 169/406 /content/drive/MyDrive/no_leakage_dataset2/test/images/WEEKNUMMER584-HRE0000E904_181000_321000_frame_000316_jpg.rf.c86d7c1ff8a81b6a928f7b835ce59a3c.jpg: 640x640 (no detections), 12.0ms\n",
            "image 170/406 /content/drive/MyDrive/no_leakage_dataset2/test/images/WEEKNUMMER584-HRE0000E904_181000_321000_frame_000317_jpg.rf.254bdd43dac0add99e2394d70f7022e3.jpg: 640x640 (no detections), 13.6ms\n",
            "image 171/406 /content/drive/MyDrive/no_leakage_dataset2/test/images/WEEKNUMMER584-HRE0000E904_181000_321000_frame_000318_jpg.rf.4a7be48219a8c1c2cff2d15caec06b45.jpg: 640x640 (no detections), 11.3ms\n",
            "image 172/406 /content/drive/MyDrive/no_leakage_dataset2/test/images/WEEKNUMMER584-HRE0000E904_181000_321000_frame_000319_jpg.rf.578201c98fbf35394ff98f036075c1e6.jpg: 640x640 1 bicycle, 11.3ms\n",
            "image 173/406 /content/drive/MyDrive/no_leakage_dataset2/test/images/WEEKNUMMER584-HRE0000E904_181000_321000_frame_000320_jpg.rf.ca69672f955d1764b941331982612d82.jpg: 640x640 2 bicycles, 11.3ms\n",
            "image 174/406 /content/drive/MyDrive/no_leakage_dataset2/test/images/WEEKNUMMER584-HRE0000E904_181000_321000_frame_000321_jpg.rf.90c3427819ea40a0acdee065a6c05d8a.jpg: 640x640 2 bicycles, 11.3ms\n",
            "image 175/406 /content/drive/MyDrive/no_leakage_dataset2/test/images/WEEKNUMMER584-HRE0000E904_181000_321000_frame_000322_jpg.rf.092b8cf069cde9366739b2d676520d95.jpg: 640x640 (no detections), 10.8ms\n",
            "image 176/406 /content/drive/MyDrive/no_leakage_dataset2/test/images/WEEKNUMMER584-HRE0000E904_181000_321000_frame_000323_jpg.rf.dfe93937c5adf6ea8f1bd4b8bcf7119f.jpg: 640x640 (no detections), 30.0ms\n",
            "image 177/406 /content/drive/MyDrive/no_leakage_dataset2/test/images/WEEKNUMMER584-HRE0000E904_181000_321000_frame_000324_jpg.rf.9903743b6a3d1c89053b4b9744502db7.jpg: 640x640 (no detections), 11.6ms\n",
            "image 178/406 /content/drive/MyDrive/no_leakage_dataset2/test/images/WEEKNUMMER584-HRE0000E904_181000_321000_frame_000325_jpg.rf.5fbe52d47e31676091a55f0d74388641.jpg: 640x640 (no detections), 11.1ms\n",
            "image 179/406 /content/drive/MyDrive/no_leakage_dataset2/test/images/WEEKNUMMER584-HRE0000E904_181000_321000_frame_000326_jpg.rf.da5525361ce2a12f2bdd1fdb7fdd808e.jpg: 640x640 (no detections), 11.4ms\n",
            "image 180/406 /content/drive/MyDrive/no_leakage_dataset2/test/images/WEEKNUMMER584-HRE0000E904_181000_321000_frame_000327_jpg.rf.991d52500e3068731ccd460670918b70.jpg: 640x640 (no detections), 11.2ms\n",
            "image 181/406 /content/drive/MyDrive/no_leakage_dataset2/test/images/WEEKNUMMER584-HRE0000E904_181000_321000_frame_000328_jpg.rf.978bd40535670e7ac74dd7c6d499ffed.jpg: 640x640 (no detections), 13.5ms\n",
            "image 182/406 /content/drive/MyDrive/no_leakage_dataset2/test/images/WEEKNUMMER584-HRE0000E904_181000_321000_frame_000329_jpg.rf.0f244f49dfb24c11f849c475c9d753e4.jpg: 640x640 (no detections), 12.9ms\n",
            "image 183/406 /content/drive/MyDrive/no_leakage_dataset2/test/images/WEEKNUMMER584-HRE0000E904_181000_321000_frame_000330_jpg.rf.ecc9d221a1e2751c17b3a8def7ff3492.jpg: 640x640 (no detections), 11.2ms\n",
            "image 184/406 /content/drive/MyDrive/no_leakage_dataset2/test/images/WEEKNUMMER584-HRE0000E904_181000_321000_frame_000332_jpg.rf.50073c782ce9ccb470bf84b51a40a3f7.jpg: 640x640 2 bicycles, 11.6ms\n",
            "image 185/406 /content/drive/MyDrive/no_leakage_dataset2/test/images/WEEKNUMMER584-HRE0000E904_181000_321000_frame_000333_jpg.rf.4af11f014473199bee5c4fa82bb35e18.jpg: 640x640 1 bicycle, 11.3ms\n",
            "image 186/406 /content/drive/MyDrive/no_leakage_dataset2/test/images/WEEKNUMMER584-HRE0000E904_181000_321000_frame_000334_jpg.rf.0457c584de108dd1b6fbccee7aaea6dd.jpg: 640x640 1 bicycle, 11.3ms\n",
            "image 187/406 /content/drive/MyDrive/no_leakage_dataset2/test/images/WEEKNUMMER584-HRE0000E904_181000_321000_frame_000335_jpg.rf.bf98b4496361720d4c026b5d8d6b9b66.jpg: 640x640 1 bicycle, 15.6ms\n",
            "image 188/406 /content/drive/MyDrive/no_leakage_dataset2/test/images/WEEKNUMMER584-HRE0000E904_181000_321000_frame_000336_jpg.rf.970433445bde1fdd1ef128518418d610.jpg: 640x640 1 bicycle, 15.5ms\n",
            "image 189/406 /content/drive/MyDrive/no_leakage_dataset2/test/images/WEEKNUMMER584-HRE0000E904_181000_321000_frame_000337_jpg.rf.1ebf5fc47a4decc80ad95d3a6b6d07d4.jpg: 640x640 1 bicycle, 18.9ms\n",
            "image 190/406 /content/drive/MyDrive/no_leakage_dataset2/test/images/WEEKNUMMER584-HRE0000E904_181000_321000_frame_000338_jpg.rf.1404602cbb5aa4365aabba2400d2190f.jpg: 640x640 1 bicycle, 11.3ms\n",
            "image 191/406 /content/drive/MyDrive/no_leakage_dataset2/test/images/WEEKNUMMER584-HRE0000E904_181000_321000_frame_000339_jpg.rf.516d14d5b84c06ab76c86facc4cfd53f.jpg: 640x640 2 bicycles, 11.3ms\n",
            "image 192/406 /content/drive/MyDrive/no_leakage_dataset2/test/images/WEEKNUMMER584-HRE0000E904_181000_321000_frame_000340_jpg.rf.5089392f69477da48fbd3b1eabf81875.jpg: 640x640 1 bicycle, 13.9ms\n",
            "image 193/406 /content/drive/MyDrive/no_leakage_dataset2/test/images/WEEKNUMMER584-HRE0000E904_181000_321000_frame_000341_jpg.rf.7ac1b76e9d810045deca0a499f0f1bb4.jpg: 640x640 1 bicycle, 11.3ms\n",
            "image 194/406 /content/drive/MyDrive/no_leakage_dataset2/test/images/WEEKNUMMER584-HRE0000E904_181000_321000_frame_000342_jpg.rf.ea6c1a3c50537be75c51633dc2fc6812.jpg: 640x640 2 bicycles, 11.4ms\n",
            "image 195/406 /content/drive/MyDrive/no_leakage_dataset2/test/images/WEEKNUMMER584-HRE0000E904_181000_321000_frame_000343_jpg.rf.9990dffeef2b7d434cab3368753bc1d6.jpg: 640x640 1 bicycle, 12.1ms\n",
            "image 196/406 /content/drive/MyDrive/no_leakage_dataset2/test/images/WEEKNUMMER584-HRE0000E904_181000_321000_frame_000344_jpg.rf.3f2090ac999755ba0372de40f4c84bb6.jpg: 640x640 1 bicycle, 14.1ms\n",
            "image 197/406 /content/drive/MyDrive/no_leakage_dataset2/test/images/WEEKNUMMER584-HRE0000E904_181000_321000_frame_000345_jpg.rf.1ee743965ae977fe97f6e90db70e0c76.jpg: 640x640 2 bicycles, 18.0ms\n",
            "image 198/406 /content/drive/MyDrive/no_leakage_dataset2/test/images/WEEKNUMMER584-HRE0000E904_181000_321000_frame_000346_jpg.rf.d9a58293d1f11239a2da3b596877e61e.jpg: 640x640 1 car, 8.2ms\n",
            "image 199/406 /content/drive/MyDrive/no_leakage_dataset2/test/images/WEEKNUMMER584-HRE0000E904_181000_321000_frame_000347_jpg.rf.e90d0396ad6947e8ce8d0be9d62f84e4.jpg: 640x640 1 car, 9.0ms\n",
            "image 200/406 /content/drive/MyDrive/no_leakage_dataset2/test/images/WEEKNUMMER584-HRE0000E904_181000_321000_frame_000348_jpg.rf.0caf80bdbc57dece08f7d119feab45b8.jpg: 640x640 (no detections), 7.4ms\n",
            "image 201/406 /content/drive/MyDrive/no_leakage_dataset2/test/images/WEEKNUMMER584-HRE0000E904_181000_321000_frame_000349_jpg.rf.450e590b2306aaaa51c225380f47bd89.jpg: 640x640 2 cars, 7.4ms\n",
            "image 202/406 /content/drive/MyDrive/no_leakage_dataset2/test/images/WEEKNUMMER584-HRE0000E904_181000_321000_frame_000350_jpg.rf.09b19766a567f642177ffd5fd0c35da4.jpg: 640x640 1 car, 9.7ms\n",
            "image 203/406 /content/drive/MyDrive/no_leakage_dataset2/test/images/WEEKNUMMER584-HRE0000E904_181000_321000_frame_000351_jpg.rf.9b1a936af3ea0963d4a83791178d2692.jpg: 640x640 1 car, 7.4ms\n",
            "image 204/406 /content/drive/MyDrive/no_leakage_dataset2/test/images/WEEKNUMMER584-HRE0000E904_181000_321000_frame_000352_jpg.rf.3adbbcaf447d3be04381a467cb827f02.jpg: 640x640 1 bicycle, 8.1ms\n",
            "image 205/406 /content/drive/MyDrive/no_leakage_dataset2/test/images/WEEKNUMMER584-HRE0000E904_181000_321000_frame_000353_jpg.rf.d650977033e13c88bc679776e398885b.jpg: 640x640 2 bicycles, 7.3ms\n",
            "image 206/406 /content/drive/MyDrive/no_leakage_dataset2/test/images/WEEKNUMMER584-HRE0000E904_181000_321000_frame_000354_jpg.rf.5625eccb8e3100ce2d5021c818f042f8.jpg: 640x640 2 bicycles, 8.3ms\n",
            "image 207/406 /content/drive/MyDrive/no_leakage_dataset2/test/images/WEEKNUMMER584-HRE0000E904_181000_321000_frame_000355_jpg.rf.48dfd67ed4549b2e087f4723f751ca98.jpg: 640x640 (no detections), 7.3ms\n",
            "image 208/406 /content/drive/MyDrive/no_leakage_dataset2/test/images/WEEKNUMMER584-HRE0000E904_181000_321000_frame_000356_jpg.rf.5be57ec8f15b7e0c15bf39d0fb6532da.jpg: 640x640 1 bicycle, 7.3ms\n",
            "image 209/406 /content/drive/MyDrive/no_leakage_dataset2/test/images/WEEKNUMMER584-HRE0000E904_181000_321000_frame_000357_jpg.rf.59462812df85987247c6ddfc0c2c7102.jpg: 640x640 2 bicycles, 7.8ms\n",
            "image 210/406 /content/drive/MyDrive/no_leakage_dataset2/test/images/WEEKNUMMER584-HRE0000E904_181000_321000_frame_000358_jpg.rf.f0eed6836fb4fda7934d7a2323bf5ab5.jpg: 640x640 1 bicycle, 7.4ms\n",
            "image 211/406 /content/drive/MyDrive/no_leakage_dataset2/test/images/WEEKNUMMER584-HRE0000E904_181000_321000_frame_000359_jpg.rf.99adbaa0811725c072204317d793e2da.jpg: 640x640 (no detections), 8.7ms\n",
            "image 212/406 /content/drive/MyDrive/no_leakage_dataset2/test/images/WEEKNUMMER584-HRE0000E904_181000_321000_frame_000360_jpg.rf.314c2c40a40a41ab995e4f28b6bd49fc.jpg: 640x640 (no detections), 7.4ms\n",
            "image 213/406 /content/drive/MyDrive/no_leakage_dataset2/test/images/WEEKNUMMER584-HRE0000E904_181000_321000_frame_000361_jpg.rf.535f12db3a05509a4bb2d75748a1b157.jpg: 640x640 1 bicycle, 7.4ms\n",
            "image 214/406 /content/drive/MyDrive/no_leakage_dataset2/test/images/WEEKNUMMER584-HRE0000E904_181000_321000_frame_000362_jpg.rf.28726ee6ebb201793d0f08e97fee32a1.jpg: 640x640 1 bicycle, 8.6ms\n",
            "image 215/406 /content/drive/MyDrive/no_leakage_dataset2/test/images/WEEKNUMMER584-HRE0000E904_181000_321000_frame_000363_jpg.rf.11d23f8011ca0bc9efead50f3dd71bf8.jpg: 640x640 1 bicycle, 7.4ms\n",
            "image 216/406 /content/drive/MyDrive/no_leakage_dataset2/test/images/WEEKNUMMER584-HRE0000E904_181000_321000_frame_000364_jpg.rf.4aab4509a8d8a60f8f0b18557d443ed3.jpg: 640x640 1 bicycle, 8.1ms\n",
            "image 217/406 /content/drive/MyDrive/no_leakage_dataset2/test/images/WEEKNUMMER584-HRE0000E904_181000_321000_frame_000365_jpg.rf.4cc0621008b7eec5dbf9a92b8e38ba7e.jpg: 640x640 1 bicycle, 7.4ms\n",
            "image 218/406 /content/drive/MyDrive/no_leakage_dataset2/test/images/WEEKNUMMER584-HRE0000E904_181000_321000_frame_000366_jpg.rf.895422bf31beae224a0d0086e0b22934.jpg: 640x640 (no detections), 8.4ms\n",
            "image 219/406 /content/drive/MyDrive/no_leakage_dataset2/test/images/WEEKNUMMER584-HRE0000E904_181000_321000_frame_000367_jpg.rf.f6973393f89fc103c6d251477fff3647.jpg: 640x640 (no detections), 7.4ms\n",
            "image 220/406 /content/drive/MyDrive/no_leakage_dataset2/test/images/WEEKNUMMER584-HRE0000E904_181000_321000_frame_000368_jpg.rf.3493966b3e394e9eb7aa26439ad06d29.jpg: 640x640 (no detections), 7.4ms\n",
            "image 221/406 /content/drive/MyDrive/no_leakage_dataset2/test/images/WEEKNUMMER584-HRE0000E904_181000_321000_frame_000369_jpg.rf.25239ae9c52f3533f72e785e483afb22.jpg: 640x640 1 bicycle, 8.0ms\n",
            "image 222/406 /content/drive/MyDrive/no_leakage_dataset2/test/images/WEEKNUMMER584-HRE0000E904_181000_321000_frame_000370_jpg.rf.cf3684b26357a853ae81c6ff232aa2b4.jpg: 640x640 2 bicycles, 7.3ms\n",
            "image 223/406 /content/drive/MyDrive/no_leakage_dataset2/test/images/WEEKNUMMER584-HRE0000E904_181000_321000_frame_000371_jpg.rf.3c032e03a3bba02ee065a931b0605bf3.jpg: 640x640 2 bicycles, 8.5ms\n",
            "image 224/406 /content/drive/MyDrive/no_leakage_dataset2/test/images/WEEKNUMMER584-HRE0000E904_181000_321000_frame_000372_jpg.rf.e182ed0dc42176bafbe599eb1d520c17.jpg: 640x640 1 bicycle, 7.5ms\n",
            "image 225/406 /content/drive/MyDrive/no_leakage_dataset2/test/images/WEEKNUMMER584-HRE0000E904_181000_321000_frame_000373_jpg.rf.a096057573f99f3cf04ce554ff9b7286.jpg: 640x640 1 bicycle, 7.4ms\n",
            "image 226/406 /content/drive/MyDrive/no_leakage_dataset2/test/images/WEEKNUMMER584-HRE0000E904_181000_321000_frame_000374_jpg.rf.7a61a38530995e673b179fa0eaa9df6e.jpg: 640x640 (no detections), 9.4ms\n",
            "image 227/406 /content/drive/MyDrive/no_leakage_dataset2/test/images/WEEKNUMMER584-HRE0000E904_181000_321000_frame_000375_jpg.rf.b531188e7ac380abb80122a4f6193066.jpg: 640x640 1 bicycle, 7.4ms\n",
            "image 228/406 /content/drive/MyDrive/no_leakage_dataset2/test/images/WEEKNUMMER584-HRE0000E904_181000_321000_frame_000376_jpg.rf.fa05a068773116cf5d85ad5f042bc16f.jpg: 640x640 2 bicycles, 8.5ms\n",
            "image 229/406 /content/drive/MyDrive/no_leakage_dataset2/test/images/WEEKNUMMER584-HRE0000E904_181000_321000_frame_000377_jpg.rf.1a0c61d24fe633430f6a6b8702e35e57.jpg: 640x640 (no detections), 8.4ms\n",
            "image 230/406 /content/drive/MyDrive/no_leakage_dataset2/test/images/WEEKNUMMER584-HRE0000E904_181000_321000_frame_000380_jpg.rf.2fd7de29bbabc03b78298e229f46566b.jpg: 640x640 (no detections), 8.0ms\n",
            "image 231/406 /content/drive/MyDrive/no_leakage_dataset2/test/images/WEEKNUMMER584-HRE0000E904_181000_321000_frame_000384_jpg.rf.bc9ce5dfc8daf8bdaee20591320a18dc.jpg: 640x640 1 bicycle, 1 car, 7.4ms\n",
            "image 232/406 /content/drive/MyDrive/no_leakage_dataset2/test/images/WEEKNUMMER584-HRE0000E904_181000_321000_frame_000385_jpg.rf.84500dd047dbeb8644c8bfe0c8d5e48b.jpg: 640x640 2 bicycles, 1 car, 7.4ms\n",
            "image 233/406 /content/drive/MyDrive/no_leakage_dataset2/test/images/WEEKNUMMER584-HRE0000E904_181000_321000_frame_000386_jpg.rf.bf25d1bf551a982fe2039733400c48d2.jpg: 640x640 1 bicycle, 10.5ms\n",
            "image 234/406 /content/drive/MyDrive/no_leakage_dataset2/test/images/WEEKNUMMER584-HRE0000E904_181000_321000_frame_000388_jpg.rf.7d402f9d58d88b372c95603d3591b16a.jpg: 640x640 1 bicycle, 12.9ms\n",
            "image 235/406 /content/drive/MyDrive/no_leakage_dataset2/test/images/WEEKNUMMER584-HRE0000E904_181000_321000_frame_000389_jpg.rf.3b82835cf640065b4242f9b5318890cb.jpg: 640x640 2 bicycles, 8.4ms\n",
            "image 236/406 /content/drive/MyDrive/no_leakage_dataset2/test/images/WEEKNUMMER584-HRE0000E904_181000_321000_frame_000390_jpg.rf.5dd56b1178b39b5b00a3bd304cb669a9.jpg: 640x640 2 bicycles, 7.3ms\n",
            "image 237/406 /content/drive/MyDrive/no_leakage_dataset2/test/images/WEEKNUMMER601-HRE000299F8_frame_000246_jpg.rf.cde02bb4c3325c72e4830e93fdf42271.jpg: 640x640 1 car, 9.2ms\n",
            "image 238/406 /content/drive/MyDrive/no_leakage_dataset2/test/images/WEEKNUMMER601-HRE000299F8_frame_000247_jpg.rf.3f8ac99d18c6451e7cd9138fa4e5d84e.jpg: 640x640 (no detections), 7.6ms\n",
            "image 239/406 /content/drive/MyDrive/no_leakage_dataset2/test/images/WEEKNUMMER601-HRE000299F8_frame_000248_jpg.rf.7d211a51cabdd03c4c42a2f4428a58e5.jpg: 640x640 (no detections), 7.4ms\n",
            "image 240/406 /content/drive/MyDrive/no_leakage_dataset2/test/images/WEEKNUMMER601-HRE000299F8_frame_000249_jpg.rf.e2d36b3dec7f8b5be617e7c96176c31c.jpg: 640x640 2 cars, 7.4ms\n",
            "image 241/406 /content/drive/MyDrive/no_leakage_dataset2/test/images/WEEKNUMMER601-HRE000299F8_frame_000250_jpg.rf.573cfdc3712d330ef418a6bca80c8d4e.jpg: 640x640 2 cars, 8.0ms\n",
            "image 242/406 /content/drive/MyDrive/no_leakage_dataset2/test/images/WEEKNUMMER601-HRE000299F8_frame_000251_jpg.rf.5eb7515e9185966b951112d77fd01c6c.jpg: 640x640 (no detections), 8.0ms\n",
            "image 243/406 /content/drive/MyDrive/no_leakage_dataset2/test/images/WEEKNUMMER601-HRE000299F8_frame_000252_jpg.rf.d437f6e7a648ff387af858f9030bf0c4.jpg: 640x640 (no detections), 7.4ms\n",
            "image 244/406 /content/drive/MyDrive/no_leakage_dataset2/test/images/WEEKNUMMER601-HRE000299F8_frame_000253_jpg.rf.36728e71e769905da1b6d65d3e323fb3.jpg: 640x640 (no detections), 7.8ms\n",
            "image 245/406 /content/drive/MyDrive/no_leakage_dataset2/test/images/WEEKNUMMER601-HRE000299F8_frame_000254_jpg.rf.298211ece9384ab9d547a9a8a3d7ec36.jpg: 640x640 (no detections), 7.4ms\n",
            "image 246/406 /content/drive/MyDrive/no_leakage_dataset2/test/images/WEEKNUMMER601-HRE000299F8_frame_000255_jpg.rf.4b78316922d04e5be71e1e388f3a3638.jpg: 640x640 1 boat, 7.3ms\n",
            "image 247/406 /content/drive/MyDrive/no_leakage_dataset2/test/images/WEEKNUMMER601-HRE000299F8_frame_000256_jpg.rf.95fb7d1c46d3e79b3121314788456a90.jpg: 640x640 1 boat, 7.4ms\n",
            "image 248/406 /content/drive/MyDrive/no_leakage_dataset2/test/images/WEEKNUMMER601-HRE000299F8_frame_000257_jpg.rf.482c66e034d7d3003bf8cef304b8a6fd.jpg: 640x640 1 boat, 9.5ms\n",
            "image 249/406 /content/drive/MyDrive/no_leakage_dataset2/test/images/WEEKNUMMER604-HRE00014EA2_2683520_2775000_frame_000397_jpg.rf.c76a015bbaf5ccfba9b3c8f166406b79.jpg: 640x640 2 bicycles, 7.4ms\n",
            "image 250/406 /content/drive/MyDrive/no_leakage_dataset2/test/images/WEEKNUMMER604-HRE00014EA2_2683520_2775000_frame_000398_jpg.rf.07353105ddb242ce66a60ddfa003ac90.jpg: 640x640 1 car, 7.4ms\n",
            "image 251/406 /content/drive/MyDrive/no_leakage_dataset2/test/images/WEEKNUMMER604-HRE00014EA2_2683520_2775000_frame_000399_jpg.rf.287fbd7e94e944db329eb04ff8768fc8.jpg: 640x640 (no detections), 7.5ms\n",
            "image 252/406 /content/drive/MyDrive/no_leakage_dataset2/test/images/WEEKNUMMER604-HRE00014EA2_2683520_2775000_frame_000400_jpg.rf.4eeab889c6a6201ccac42a5d8b74a657.jpg: 640x640 1 car, 7.4ms\n",
            "image 253/406 /content/drive/MyDrive/no_leakage_dataset2/test/images/WEEKNUMMER604-HRE00014EA2_2683520_2775000_frame_000401_jpg.rf.a3c680597a93cdffcadcff456788bdd6.jpg: 640x640 1 car, 7.3ms\n",
            "image 254/406 /content/drive/MyDrive/no_leakage_dataset2/test/images/WEEKNUMMER604-HRE00014EA2_2683520_2775000_frame_000407_jpg.rf.266ed58278b3523c7cd4b97643cf78da.jpg: 640x640 (no detections), 8.4ms\n",
            "image 255/406 /content/drive/MyDrive/no_leakage_dataset2/test/images/WEEKNUMMER604-HRE00014EA2_2683520_2775000_frame_000408_jpg.rf.fdc293036c8a2eda5a0fea90d1be0fe3.jpg: 640x640 (no detections), 7.3ms\n",
            "image 256/406 /content/drive/MyDrive/no_leakage_dataset2/test/images/WEEKNUMMER604-HRE00014EA2_2683520_2775000_frame_000409_jpg.rf.8a209bf6ca4832f5e4aaad994b271968.jpg: 640x640 (no detections), 9.3ms\n",
            "image 257/406 /content/drive/MyDrive/no_leakage_dataset2/test/images/WEEKNUMMER604-HRE00014EA2_2683520_2775000_frame_000410_jpg.rf.16119f199785a3c122438fd773b163d1.jpg: 640x640 (no detections), 7.3ms\n",
            "image 258/406 /content/drive/MyDrive/no_leakage_dataset2/test/images/WEEKNUMMER604-HRE00014EA2_2683520_2775000_frame_000411_jpg.rf.428a4423c783e2e34247d60f90382698.jpg: 640x640 (no detections), 7.5ms\n",
            "image 259/406 /content/drive/MyDrive/no_leakage_dataset2/test/images/WEEKNUMMER604-HRE00014EA2_2683520_2775000_frame_000412_jpg.rf.f730bcc64afdc65df236263ec6710f33.jpg: 640x640 (no detections), 7.4ms\n",
            "image 260/406 /content/drive/MyDrive/no_leakage_dataset2/test/images/WEEKNUMMER604-HRE00014EA2_2683520_2775000_frame_000413_jpg.rf.fedfe9ef2bcb19eeefbc72916c61c334.jpg: 640x640 (no detections), 9.3ms\n",
            "image 261/406 /content/drive/MyDrive/no_leakage_dataset2/test/images/WEEKNUMMER604-HRE00014EA2_2683520_2775000_frame_000414_jpg.rf.b0d4aa2b2a87ad6df21fe029b2704c35.jpg: 640x640 (no detections), 7.4ms\n",
            "image 262/406 /content/drive/MyDrive/no_leakage_dataset2/test/images/WEEKNUMMER604-HRE00014EA2_2683520_2775000_frame_000415_jpg.rf.478fb1753cbc455e1f7cca3ebacddb30.jpg: 640x640 (no detections), 8.3ms\n",
            "image 263/406 /content/drive/MyDrive/no_leakage_dataset2/test/images/WEEKNUMMER672-HRE00015290_3254000_3492000_frame_000001_jpg.rf.3727dd9eaed60ceefa52344ca046e506.jpg: 640x640 (no detections), 7.8ms\n",
            "image 264/406 /content/drive/MyDrive/no_leakage_dataset2/test/images/WEEKNUMMER672-HRE00015290_3254000_3492000_frame_000002_jpg.rf.ebf6d0de7d8fa8f4e22f8706e3f74183.jpg: 640x640 (no detections), 10.4ms\n",
            "image 265/406 /content/drive/MyDrive/no_leakage_dataset2/test/images/WEEKNUMMER672-HRE00015290_3254000_3492000_frame_000003_jpg.rf.f2a46cbe96e1114b5fc2d58f2559657d.jpg: 640x640 (no detections), 7.4ms\n",
            "image 266/406 /content/drive/MyDrive/no_leakage_dataset2/test/images/WEEKNUMMER672-HRE00015290_3254000_3492000_frame_000004_jpg.rf.f0e1b6966803cbedde4d89bb2c54348e.jpg: 640x640 (no detections), 7.4ms\n",
            "image 267/406 /content/drive/MyDrive/no_leakage_dataset2/test/images/WEEKNUMMER672-HRE00015290_3254000_3492000_frame_000005_jpg.rf.af32adbbfaef18bbf8ab4bb29209eaba.jpg: 640x640 (no detections), 7.4ms\n",
            "image 268/406 /content/drive/MyDrive/no_leakage_dataset2/test/images/WEEKNUMMER672-HRE00015290_3254000_3492000_frame_000006_jpg.rf.2b9ab95915ba9c82e9d1b4137b67e336.jpg: 640x640 (no detections), 7.4ms\n",
            "image 269/406 /content/drive/MyDrive/no_leakage_dataset2/test/images/WEEKNUMMER672-HRE00015290_3254000_3492000_frame_000007_jpg.rf.087a68819002fee9f93db4713d157372.jpg: 640x640 (no detections), 11.6ms\n",
            "image 270/406 /content/drive/MyDrive/no_leakage_dataset2/test/images/WEEKNUMMER672-HRE00015290_3254000_3492000_frame_000008_jpg.rf.08f1da87ee73969b3bc737546050776f.jpg: 640x640 (no detections), 8.2ms\n",
            "image 271/406 /content/drive/MyDrive/no_leakage_dataset2/test/images/WEEKNUMMER672-HRE00015290_3254000_3492000_frame_000009_jpg.rf.8fc854ca8b4e7326b85417a94430e0b9.jpg: 640x640 (no detections), 7.3ms\n",
            "image 272/406 /content/drive/MyDrive/no_leakage_dataset2/test/images/WEEKNUMMER672-HRE00015290_3254000_3492000_frame_000010_jpg.rf.c0ab34226a102c28e1bc837a0d370ee3.jpg: 640x640 1 car, 7.3ms\n",
            "image 273/406 /content/drive/MyDrive/no_leakage_dataset2/test/images/WEEKNUMMER672-HRE00015290_3254000_3492000_frame_000011_jpg.rf.6e0261893ecffb339656b4c36aa3a159.jpg: 640x640 2 cars, 7.3ms\n",
            "image 274/406 /content/drive/MyDrive/no_leakage_dataset2/test/images/WEEKNUMMER672-HRE00015290_3254000_3492000_frame_000012_jpg.rf.f96bb517e28da548fc67f49fc4ad2a7d.jpg: 640x640 (no detections), 7.9ms\n",
            "image 275/406 /content/drive/MyDrive/no_leakage_dataset2/test/images/WEEKNUMMER672-HRE00015290_3254000_3492000_frame_000013_jpg.rf.2e3511ca53af96b78d9221e870c729c9.jpg: 640x640 2 cars, 7.4ms\n",
            "image 276/406 /content/drive/MyDrive/no_leakage_dataset2/test/images/WEEKNUMMER672-HRE00015290_3254000_3492000_frame_000014_jpg.rf.52aa3506ac523fb616725899f8d4801a.jpg: 640x640 1 car, 7.4ms\n",
            "image 277/406 /content/drive/MyDrive/no_leakage_dataset2/test/images/WEEKNUMMER672-HRE00015290_3254000_3492000_frame_000015_jpg.rf.f46b74b9a8d8aef83172d9a49e283b7a.jpg: 640x640 (no detections), 7.8ms\n",
            "image 278/406 /content/drive/MyDrive/no_leakage_dataset2/test/images/WEEKNUMMER672-HRE00015290_3254000_3492000_frame_000016_jpg.rf.df1f584d9acb3391c61663061349159a.jpg: 640x640 (no detections), 7.3ms\n",
            "image 279/406 /content/drive/MyDrive/no_leakage_dataset2/test/images/WEEKNUMMER672-HRE00015290_3254000_3492000_frame_000017_jpg.rf.19f2e85c62119770afbdbe456fdb9b8e.jpg: 640x640 (no detections), 7.4ms\n",
            "image 280/406 /content/drive/MyDrive/no_leakage_dataset2/test/images/WEEKNUMMER672-HRE00015290_3254000_3492000_frame_000018_jpg.rf.c491cc51f3b9dbee200328395c74edc1.jpg: 640x640 1 bicycle, 1 car, 7.4ms\n",
            "image 281/406 /content/drive/MyDrive/no_leakage_dataset2/test/images/WEEKNUMMER672-HRE00015290_3254000_3492000_frame_000019_jpg.rf.2bd1fbf1206fb51f6372ec17baf9aa62.jpg: 640x640 1 car, 7.3ms\n",
            "image 282/406 /content/drive/MyDrive/no_leakage_dataset2/test/images/WEEKNUMMER672-HRE00015290_3254000_3492000_frame_000020_jpg.rf.cead5129e8406965ae885c9993ceca19.jpg: 640x640 1 car, 7.4ms\n",
            "image 283/406 /content/drive/MyDrive/no_leakage_dataset2/test/images/WEEKNUMMER672-HRE00015290_3254000_3492000_frame_000021_jpg.rf.e6cd09d8298dac571e0460c913f50825.jpg: 640x640 1 bicycle, 1 car, 7.4ms\n",
            "image 284/406 /content/drive/MyDrive/no_leakage_dataset2/test/images/WEEKNUMMER672-HRE00015290_3254000_3492000_frame_000022_jpg.rf.810b818c011109f5d96ef5d5fe8e5d24.jpg: 640x640 1 car, 17.7ms\n",
            "image 285/406 /content/drive/MyDrive/no_leakage_dataset2/test/images/WEEKNUMMER672-HRE00015290_3254000_3492000_frame_000023_jpg.rf.0078d954f8b409c306d6532a6318cc99.jpg: 640x640 1 bicycle, 1 car, 7.9ms\n",
            "image 286/406 /content/drive/MyDrive/no_leakage_dataset2/test/images/WEEKNUMMER672-HRE00015290_3254000_3492000_frame_000024_jpg.rf.b12781dd7393554a72e78f56b0ff84cc.jpg: 640x640 (no detections), 7.4ms\n",
            "image 287/406 /content/drive/MyDrive/no_leakage_dataset2/test/images/WEEKNUMMER672-HRE00015290_3254000_3492000_frame_000025_jpg.rf.47d637233cbcea811f6a3df08b5a4919.jpg: 640x640 1 car, 8.1ms\n",
            "image 288/406 /content/drive/MyDrive/no_leakage_dataset2/test/images/WEEKNUMMER672-HRE00015290_3254000_3492000_frame_000026_jpg.rf.6cf165b842a5c6d99f4228c9b78bc547.jpg: 640x640 1 car, 7.4ms\n",
            "image 289/406 /content/drive/MyDrive/no_leakage_dataset2/test/images/WEEKNUMMER672-HRE00015290_3254000_3492000_frame_000027_jpg.rf.4efc83ad1dce9a724f47a8859a485294.jpg: 640x640 1 car, 7.7ms\n",
            "image 290/406 /content/drive/MyDrive/no_leakage_dataset2/test/images/WEEKNUMMER672-HRE00015290_3254000_3492000_frame_000029_jpg.rf.fe3d78bdea258e110da9d2df8f1b796b.jpg: 640x640 2 cars, 7.3ms\n",
            "image 291/406 /content/drive/MyDrive/no_leakage_dataset2/test/images/WEEKNUMMER672-HRE00015290_3254000_3492000_frame_000030_jpg.rf.b6d1101cdc7c8b02ca1ba3736a2f07b1.jpg: 640x640 (no detections), 8.8ms\n",
            "image 292/406 /content/drive/MyDrive/no_leakage_dataset2/test/images/WEEKNUMMER672-HRE00015290_3254000_3492000_frame_000031_jpg.rf.7bbd107118899f757b69321a2a05c291.jpg: 640x640 (no detections), 7.4ms\n",
            "image 293/406 /content/drive/MyDrive/no_leakage_dataset2/test/images/WEEKNUMMER672-HRE00015290_3254000_3492000_frame_000032_jpg.rf.d5a641230f7e059bc02250d83870c3e1.jpg: 640x640 (no detections), 7.7ms\n",
            "image 294/406 /content/drive/MyDrive/no_leakage_dataset2/test/images/WEEKNUMMER672-HRE00015290_3254000_3492000_frame_000033_jpg.rf.53859d2714990ad0a15fbbeff05b032e.jpg: 640x640 (no detections), 7.4ms\n",
            "image 295/406 /content/drive/MyDrive/no_leakage_dataset2/test/images/WEEKNUMMER672-HRE00015290_3254000_3492000_frame_000034_jpg.rf.3c468c271798f2717d72da6c2a15fb9c.jpg: 640x640 (no detections), 7.5ms\n",
            "image 296/406 /content/drive/MyDrive/no_leakage_dataset2/test/images/WEEKNUMMER672-HRE00015290_3254000_3492000_frame_000035_jpg.rf.717e4bcfbc80c7c947947b61b575f1c3.jpg: 640x640 (no detections), 7.3ms\n",
            "image 297/406 /content/drive/MyDrive/no_leakage_dataset2/test/images/WEEKNUMMER672-HRE00015290_3254000_3492000_frame_000036_jpg.rf.1b2db5c6a75edffad5af5deb9dc6bc53.jpg: 640x640 (no detections), 7.8ms\n",
            "image 298/406 /content/drive/MyDrive/no_leakage_dataset2/test/images/WEEKNUMMER672-HRE00015290_3254000_3492000_frame_000037_jpg.rf.fc9afc4e8f7e673dd6d84e1d998db182.jpg: 640x640 1 car, 7.3ms\n",
            "image 299/406 /content/drive/MyDrive/no_leakage_dataset2/test/images/WEEKNUMMER672-HRE00015290_3254000_3492000_frame_000038_jpg.rf.d5eb94c6e70cc8bf2facc82f300cfbba.jpg: 640x640 (no detections), 7.4ms\n",
            "image 300/406 /content/drive/MyDrive/no_leakage_dataset2/test/images/WEEKNUMMER672-HRE00015290_3254000_3492000_frame_000039_jpg.rf.77a7267e1e3b0d9e1dbf8b489e468a7c.jpg: 640x640 2 cars, 7.8ms\n",
            "image 301/406 /content/drive/MyDrive/no_leakage_dataset2/test/images/WEEKNUMMER672-HRE00015290_3254000_3492000_frame_000040_jpg.rf.1ee58459bab5a1f4487f81456b9ac2d5.jpg: 640x640 1 car, 7.4ms\n",
            "image 302/406 /content/drive/MyDrive/no_leakage_dataset2/test/images/WEEKNUMMER672-HRE00015290_3254000_3492000_frame_000041_jpg.rf.b8813e4341fc7f70ed6ed2146a83d802.jpg: 640x640 2 cars, 7.4ms\n",
            "image 303/406 /content/drive/MyDrive/no_leakage_dataset2/test/images/WEEKNUMMER672-HRE00015290_3254000_3492000_frame_000042_jpg.rf.6276abd3e0c1dbec66928d5911aaab6d.jpg: 640x640 2 cars, 9.8ms\n",
            "image 304/406 /content/drive/MyDrive/no_leakage_dataset2/test/images/WEEKNUMMER672-HRE00015290_3254000_3492000_frame_000043_jpg.rf.3612be13762f51996953b675967b592c.jpg: 640x640 (no detections), 7.4ms\n",
            "image 305/406 /content/drive/MyDrive/no_leakage_dataset2/test/images/WEEKNUMMER672-HRE00015290_3254000_3492000_frame_000044_jpg.rf.ae6cc8a380c9d8b07488c2c9c5338ef2.jpg: 640x640 1 car, 7.4ms\n",
            "image 306/406 /content/drive/MyDrive/no_leakage_dataset2/test/images/WEEKNUMMER672-HRE00015290_3254000_3492000_frame_000045_jpg.rf.326e69f712d4e43e65ee181e3e87aa9a.jpg: 640x640 1 car, 9.8ms\n",
            "image 307/406 /content/drive/MyDrive/no_leakage_dataset2/test/images/WEEKNUMMER672-HRE00015290_3254000_3492000_frame_000046_jpg.rf.a9225e7bb7aa8aaef7bbb57cd6827324.jpg: 640x640 2 cars, 7.4ms\n",
            "image 308/406 /content/drive/MyDrive/no_leakage_dataset2/test/images/WEEKNUMMER672-HRE00015290_3254000_3492000_frame_000047_jpg.rf.25d21fe00b39c70e2ccd645f1b995f26.jpg: 640x640 1 car, 10.1ms\n",
            "image 309/406 /content/drive/MyDrive/no_leakage_dataset2/test/images/WEEKNUMMER672-HRE00015290_3254000_3492000_frame_000048_jpg.rf.f23824b222a1e4be66057ff70bc60fbc.jpg: 640x640 (no detections), 7.4ms\n",
            "image 310/406 /content/drive/MyDrive/no_leakage_dataset2/test/images/WEEKNUMMER672-HRE00015290_3254000_3492000_frame_000049_jpg.rf.4f01d06261b7541028aa8c10d67aefa2.jpg: 640x640 2 cars, 8.5ms\n",
            "image 311/406 /content/drive/MyDrive/no_leakage_dataset2/test/images/WEEKNUMMER672-HRE00015290_3254000_3492000_frame_000050_jpg.rf.6b5bc54260d36467d1c83eca13467b36.jpg: 640x640 1 car, 9.1ms\n",
            "image 312/406 /content/drive/MyDrive/no_leakage_dataset2/test/images/WEEKNUMMER672-HRE00015290_3254000_3492000_frame_000051_jpg.rf.b8c55fafbf07d263820336b5ae1cc679.jpg: 640x640 1 car, 7.4ms\n",
            "image 313/406 /content/drive/MyDrive/no_leakage_dataset2/test/images/WEEKNUMMER672-HRE00015290_3254000_3492000_frame_000052_jpg.rf.fe0a6113faa932c860bef4f8abd11b6b.jpg: 640x640 1 car, 7.6ms\n",
            "image 314/406 /content/drive/MyDrive/no_leakage_dataset2/test/images/WEEKNUMMER672-HRE00015290_3254000_3492000_frame_000053_jpg.rf.45b0b68536cb7f23ae0e2b2ca5505c8f.jpg: 640x640 1 car, 7.4ms\n",
            "image 315/406 /content/drive/MyDrive/no_leakage_dataset2/test/images/WEEKNUMMER672-HRE00015290_3254000_3492000_frame_000054_jpg.rf.6ec26c278dd461e9cc330e61954268e7.jpg: 640x640 (no detections), 10.5ms\n",
            "image 316/406 /content/drive/MyDrive/no_leakage_dataset2/test/images/WEEKNUMMER672-HRE00015290_3254000_3492000_frame_000055_jpg.rf.5e15b863ae2551108532492cd8a4052f.jpg: 640x640 (no detections), 7.3ms\n",
            "image 317/406 /content/drive/MyDrive/no_leakage_dataset2/test/images/WEEKNUMMER672-HRE00015290_3254000_3492000_frame_000056_jpg.rf.69bf8f7770dceca7c6b3ea61e688e959.jpg: 640x640 (no detections), 7.4ms\n",
            "image 318/406 /content/drive/MyDrive/no_leakage_dataset2/test/images/WEEKNUMMER672-HRE00015290_3254000_3492000_frame_000057_jpg.rf.22a5168d794d757792e346a74aa72a13.jpg: 640x640 2 cars, 7.4ms\n",
            "image 319/406 /content/drive/MyDrive/no_leakage_dataset2/test/images/WEEKNUMMER672-HRE00015290_3254000_3492000_frame_000058_jpg.rf.a33677771048fdbfcb4cba93a3e9d73f.jpg: 640x640 2 cars, 7.4ms\n",
            "image 320/406 /content/drive/MyDrive/no_leakage_dataset2/test/images/WEEKNUMMER672-HRE00015290_3254000_3492000_frame_000059_jpg.rf.aeef8396647f84df2c9c5b236952492a.jpg: 640x640 2 cars, 8.4ms\n",
            "image 321/406 /content/drive/MyDrive/no_leakage_dataset2/test/images/WEEKNUMMER672-HRE00015290_3254000_3492000_frame_000060_jpg.rf.be8a444884a9e3d8e77520960598898a.jpg: 640x640 2 cars, 7.3ms\n",
            "image 322/406 /content/drive/MyDrive/no_leakage_dataset2/test/images/WEEKNUMMER672-HRE00015290_3254000_3492000_frame_000061_jpg.rf.a211c5a4d586474087a88437544cbc79.jpg: 640x640 1 car, 7.4ms\n",
            "image 323/406 /content/drive/MyDrive/no_leakage_dataset2/test/images/WEEKNUMMER672-HRE00015290_3254000_3492000_frame_000062_jpg.rf.bd50a506e8da0d460649c7b474cced2a.jpg: 640x640 1 car, 11.9ms\n",
            "image 324/406 /content/drive/MyDrive/no_leakage_dataset2/test/images/WEEKNUMMER672-HRE00015290_3254000_3492000_frame_000063_jpg.rf.c3b7c9072f28d6354508a0d0a128b9fb.jpg: 640x640 (no detections), 7.4ms\n",
            "image 325/406 /content/drive/MyDrive/no_leakage_dataset2/test/images/WEEKNUMMER672-HRE00015290_3254000_3492000_frame_000064_jpg.rf.d3e544f9b3800e3d35c8e173f330ea01.jpg: 640x640 2 cars, 7.4ms\n",
            "image 326/406 /content/drive/MyDrive/no_leakage_dataset2/test/images/WEEKNUMMER672-HRE00015290_3254000_3492000_frame_000065_jpg.rf.a03c61940b81fc1aff4aa18e1bed072d.jpg: 640x640 2 cars, 7.4ms\n",
            "image 327/406 /content/drive/MyDrive/no_leakage_dataset2/test/images/WEEKNUMMER672-HRE00015290_3254000_3492000_frame_000066_jpg.rf.82bf241a69ca78b834205a9779309b9c.jpg: 640x640 2 cars, 7.4ms\n",
            "image 328/406 /content/drive/MyDrive/no_leakage_dataset2/test/images/WEEKNUMMER672-HRE00015290_3254000_3492000_frame_000067_jpg.rf.7162c54f2c81cf2e85c146eadf5c30b3.jpg: 640x640 (no detections), 7.4ms\n",
            "image 329/406 /content/drive/MyDrive/no_leakage_dataset2/test/images/WEEKNUMMER672-HRE00015290_3254000_3492000_frame_000068_jpg.rf.c18ca0f8b896c529f0db6cf7b8e2746b.jpg: 640x640 (no detections), 9.2ms\n",
            "image 330/406 /content/drive/MyDrive/no_leakage_dataset2/test/images/WEEKNUMMER672-HRE00015290_3254000_3492000_frame_000069_jpg.rf.ee885a7b8d49120341c31da97a50a15e.jpg: 640x640 (no detections), 7.4ms\n",
            "image 331/406 /content/drive/MyDrive/no_leakage_dataset2/test/images/WEEKNUMMER672-HRE00015290_3254000_3492000_frame_000070_jpg.rf.bffc571b71e589bc95f01d85b122c334.jpg: 640x640 (no detections), 7.4ms\n",
            "image 332/406 /content/drive/MyDrive/no_leakage_dataset2/test/images/WEEKNUMMER672-HRE00015290_3254000_3492000_frame_000071_jpg.rf.9555671f2a0c1adc09c36da540170d2b.jpg: 640x640 1 car, 8.8ms\n",
            "image 333/406 /content/drive/MyDrive/no_leakage_dataset2/test/images/WEEKNUMMER672-HRE00015290_3254000_3492000_frame_000072_jpg.rf.acfab099bfaf6f9c7490c5d4dc04aad3.jpg: 640x640 (no detections), 20.8ms\n",
            "image 334/406 /content/drive/MyDrive/no_leakage_dataset2/test/images/WEEKNUMMER672-HRE00015290_3254000_3492000_frame_000073_jpg.rf.0cb098401ef057e724a0c88b3af16e82.jpg: 640x640 (no detections), 8.3ms\n",
            "image 335/406 /content/drive/MyDrive/no_leakage_dataset2/test/images/WEEKNUMMER672-HRE00015290_3254000_3492000_frame_000074_jpg.rf.3798584f4121ea4dfceb8cc64433786c.jpg: 640x640 (no detections), 7.4ms\n",
            "image 336/406 /content/drive/MyDrive/no_leakage_dataset2/test/images/WEEKNUMMER672-HRE00015290_3254000_3492000_frame_000075_jpg.rf.28e2b13101cc0cd2543901b4ce4dbf26.jpg: 640x640 (no detections), 8.9ms\n",
            "image 337/406 /content/drive/MyDrive/no_leakage_dataset2/test/images/WEEKNUMMER672-HRE00015290_3254000_3492000_frame_000076_jpg.rf.60a9d3d4b95a9e0a2fe4d5268f6c6144.jpg: 640x640 (no detections), 8.2ms\n",
            "image 338/406 /content/drive/MyDrive/no_leakage_dataset2/test/images/WEEKNUMMER672-HRE00015290_3254000_3492000_frame_000077_jpg.rf.fd5a2e17d220a073f5edb5ca1c3c737b.jpg: 640x640 (no detections), 9.4ms\n",
            "image 339/406 /content/drive/MyDrive/no_leakage_dataset2/test/images/WEEKNUMMER672-HRE00015290_3254000_3492000_frame_000078_jpg.rf.d3c647c02b889e5025c5871aebd7d4e4.jpg: 640x640 1 car, 7.4ms\n",
            "image 340/406 /content/drive/MyDrive/no_leakage_dataset2/test/images/WEEKNUMMER672-HRE00015290_3254000_3492000_frame_000079_jpg.rf.bbf799bb931c66aaf5148b00370c084a.jpg: 640x640 (no detections), 7.5ms\n",
            "image 341/406 /content/drive/MyDrive/no_leakage_dataset2/test/images/WEEKNUMMER672-HRE00015290_3254000_3492000_frame_000080_jpg.rf.fc14d992591abf07dc6c0c7a0914b923.jpg: 640x640 (no detections), 7.3ms\n",
            "image 342/406 /content/drive/MyDrive/no_leakage_dataset2/test/images/WEEKNUMMER672-HRE00015290_3254000_3492000_frame_000081_jpg.rf.e1656b7d19da6715fbd91d00e65c3b52.jpg: 640x640 2 cars, 7.4ms\n",
            "image 343/406 /content/drive/MyDrive/no_leakage_dataset2/test/images/WEEKNUMMER672-HRE00015290_3254000_3492000_frame_000082_jpg.rf.ccb86c62e170910adcb8238e50c1bb51.jpg: 640x640 1 car, 7.7ms\n",
            "image 344/406 /content/drive/MyDrive/no_leakage_dataset2/test/images/WEEKNUMMER672-HRE00015290_3254000_3492000_frame_000083_jpg.rf.a6682a71ebe3a7cdebc0631bc8226b2f.jpg: 640x640 (no detections), 8.5ms\n",
            "image 345/406 /content/drive/MyDrive/no_leakage_dataset2/test/images/WEEKNUMMER672-HRE00015290_3254000_3492000_frame_000084_jpg.rf.2418efadbe784869a1ceedf78b70466f.jpg: 640x640 (no detections), 7.4ms\n",
            "image 346/406 /content/drive/MyDrive/no_leakage_dataset2/test/images/WEEKNUMMER672-HRE00015290_3254000_3492000_frame_000085_jpg.rf.cbe29594f3b2de75b10c1e8ed738bece.jpg: 640x640 1 car, 7.4ms\n",
            "image 347/406 /content/drive/MyDrive/no_leakage_dataset2/test/images/WEEKNUMMER672-HRE00015290_3254000_3492000_frame_000086_jpg.rf.09b1bd3dc75a544d01d8f6dd3a05deba.jpg: 640x640 2 cars, 7.4ms\n",
            "image 348/406 /content/drive/MyDrive/no_leakage_dataset2/test/images/WEEKNUMMER672-HRE00015290_3254000_3492000_frame_000087_jpg.rf.8466bf8a4907cf85a962b58e56edc586.jpg: 640x640 1 car, 8.1ms\n",
            "image 349/406 /content/drive/MyDrive/no_leakage_dataset2/test/images/WEEKNUMMER672-HRE00015290_3254000_3492000_frame_000088_jpg.rf.723d1d66f59fe9b48988605c8cd8a093.jpg: 640x640 1 car, 7.5ms\n",
            "image 350/406 /content/drive/MyDrive/no_leakage_dataset2/test/images/WEEKNUMMER672-HRE00015290_3254000_3492000_frame_000089_jpg.rf.adcc4361851309c31fa2b48cfac59a78.jpg: 640x640 (no detections), 7.4ms\n",
            "image 351/406 /content/drive/MyDrive/no_leakage_dataset2/test/images/WEEKNUMMER672-HRE00015290_3254000_3492000_frame_000090_jpg.rf.e15880c328384a217d2594bdedb63aaa.jpg: 640x640 1 car, 10.0ms\n",
            "image 352/406 /content/drive/MyDrive/no_leakage_dataset2/test/images/WEEKNUMMER672-HRE00015290_3254000_3492000_frame_000091_jpg.rf.ad4e321bcd58ece3444ca823edb7d014.jpg: 640x640 1 bicycle, 1 car, 7.9ms\n",
            "image 353/406 /content/drive/MyDrive/no_leakage_dataset2/test/images/WEEKNUMMER672-HRE00015290_3254000_3492000_frame_000092_jpg.rf.67c95975bba1df80e4add684cf0f553d.jpg: 640x640 1 car, 7.4ms\n",
            "image 354/406 /content/drive/MyDrive/no_leakage_dataset2/test/images/WEEKNUMMER672-HRE00015290_3254000_3492000_frame_000093_jpg.rf.ca3f7b5d93cb4d6014d50ff74d0d1664.jpg: 640x640 1 bicycle, 7.5ms\n",
            "image 355/406 /content/drive/MyDrive/no_leakage_dataset2/test/images/WEEKNUMMER672-HRE00015290_3254000_3492000_frame_000094_jpg.rf.e71640e29366f16379bd799caf5d1d07.jpg: 640x640 1 car, 7.4ms\n",
            "image 356/406 /content/drive/MyDrive/no_leakage_dataset2/test/images/WEEKNUMMER672-HRE00015290_3254000_3492000_frame_000095_jpg.rf.64d691bc9b1fe777d6c2dd7d78b8e342.jpg: 640x640 (no detections), 7.4ms\n",
            "image 357/406 /content/drive/MyDrive/no_leakage_dataset2/test/images/WEEKNUMMER672-HRE00015290_3254000_3492000_frame_000096_jpg.rf.8513b416d48c95a34ce9ad081a289d04.jpg: 640x640 3 cars, 7.4ms\n",
            "image 358/406 /content/drive/MyDrive/no_leakage_dataset2/test/images/WEEKNUMMER672-HRE00015290_3254000_3492000_frame_000097_jpg.rf.27e323865497d39b9c01b5cddaabd393.jpg: 640x640 3 cars, 7.4ms\n",
            "image 359/406 /content/drive/MyDrive/no_leakage_dataset2/test/images/WEEKNUMMER672-HRE00015290_3254000_3492000_frame_000098_jpg.rf.f67f2f0ecfd105d62e02304b7bb81d7c.jpg: 640x640 3 cars, 7.4ms\n",
            "image 360/406 /content/drive/MyDrive/no_leakage_dataset2/test/images/WEEKNUMMER672-HRE00015290_3254000_3492000_frame_000099_jpg.rf.c5bd072930238e5967ab8e21033dd5cf.jpg: 640x640 2 cars, 7.4ms\n",
            "image 361/406 /content/drive/MyDrive/no_leakage_dataset2/test/images/WEEKNUMMER672-HRE00015290_3254000_3492000_frame_000100_jpg.rf.d42bc81d5ce156f2258bc328ab15d72f.jpg: 640x640 3 cars, 8.7ms\n",
            "image 362/406 /content/drive/MyDrive/no_leakage_dataset2/test/images/WEEKNUMMER672-HRE00015290_3254000_3492000_frame_000101_jpg.rf.5e0f3bfff0c006cfc8eecfd515aac32d.jpg: 640x640 3 cars, 7.4ms\n",
            "image 363/406 /content/drive/MyDrive/no_leakage_dataset2/test/images/WEEKNUMMER672-HRE00015290_3254000_3492000_frame_000102_jpg.rf.c92eb37e999716965a45744281ee3ca5.jpg: 640x640 (no detections), 7.4ms\n",
            "image 364/406 /content/drive/MyDrive/no_leakage_dataset2/test/images/WEEKNUMMER672-HRE00015290_3254000_3492000_frame_000103_jpg.rf.91fa99c0a3939700535e069999549ac9.jpg: 640x640 4 cars, 8.0ms\n",
            "image 365/406 /content/drive/MyDrive/no_leakage_dataset2/test/images/WEEKNUMMER672-HRE00015290_3254000_3492000_frame_000104_jpg.rf.5d7afb26b858b78e13b676d5e1f18bfe.jpg: 640x640 2 cars, 7.3ms\n",
            "image 366/406 /content/drive/MyDrive/no_leakage_dataset2/test/images/WEEKNUMMER672-HRE00015290_3254000_3492000_frame_000105_jpg.rf.0306e3534324425019e0c8e13143e6f0.jpg: 640x640 4 cars, 7.4ms\n",
            "image 367/406 /content/drive/MyDrive/no_leakage_dataset2/test/images/WEEKNUMMER672-HRE00015290_3254000_3492000_frame_000106_jpg.rf.2fb456d405ac083e5475b3ca12625b12.jpg: 640x640 3 cars, 7.3ms\n",
            "image 368/406 /content/drive/MyDrive/no_leakage_dataset2/test/images/WEEKNUMMER672-HRE00015290_3254000_3492000_frame_000107_jpg.rf.799cc96f70d5e3e46018f7e88fbf7d53.jpg: 640x640 2 boats, 2 cars, 7.4ms\n",
            "image 369/406 /content/drive/MyDrive/no_leakage_dataset2/test/images/WEEKNUMMER672-HRE00015290_3254000_3492000_frame_000108_jpg.rf.20eafe108f1713e949b4ef279f211c1a.jpg: 640x640 2 cars, 7.3ms\n",
            "image 370/406 /content/drive/MyDrive/no_leakage_dataset2/test/images/WEEKNUMMER672-HRE00015290_3254000_3492000_frame_000109_jpg.rf.22b60acd63f689bc4a1f53004dc1779b.jpg: 640x640 1 boat, 1 car, 7.4ms\n",
            "image 371/406 /content/drive/MyDrive/no_leakage_dataset2/test/images/WEEKNUMMER672-HRE00015290_3254000_3492000_frame_000110_jpg.rf.26e92df64b4fb8ced47aa64c5c346ba4.jpg: 640x640 1 boat, 1 car, 7.4ms\n",
            "image 372/406 /content/drive/MyDrive/no_leakage_dataset2/test/images/WEEKNUMMER672-HRE00015290_3254000_3492000_frame_000111_jpg.rf.006e98903657cdf8d05f81d3c8f96eb7.jpg: 640x640 1 boat, 2 cars, 7.4ms\n",
            "image 373/406 /content/drive/MyDrive/no_leakage_dataset2/test/images/WEEKNUMMER672-HRE00015290_3254000_3492000_frame_000112_jpg.rf.05fa580d384432ced9770d227292ac5b.jpg: 640x640 1 boat, 2 cars, 7.4ms\n",
            "image 374/406 /content/drive/MyDrive/no_leakage_dataset2/test/images/WEEKNUMMER672-HRE00015290_3254000_3492000_frame_000113_jpg.rf.60cc25f893c9ad28d19d58545f111380.jpg: 640x640 1 car, 7.4ms\n",
            "image 375/406 /content/drive/MyDrive/no_leakage_dataset2/test/images/WEEKNUMMER672-HRE00015290_3254000_3492000_frame_000114_jpg.rf.8c2be679052850e3bc5c53a96ec555cd.jpg: 640x640 2 cars, 7.4ms\n",
            "image 376/406 /content/drive/MyDrive/no_leakage_dataset2/test/images/WEEKNUMMER672-HRE00015290_3254000_3492000_frame_000115_jpg.rf.9ab3556c94458362151f1c2f356434ba.jpg: 640x640 1 car, 8.4ms\n",
            "image 377/406 /content/drive/MyDrive/no_leakage_dataset2/test/images/WEEKNUMMER672-HRE00015290_3254000_3492000_frame_000116_jpg.rf.86523a754bbf00ce98572904c5c14653.jpg: 640x640 (no detections), 7.4ms\n",
            "image 378/406 /content/drive/MyDrive/no_leakage_dataset2/test/images/WEEKNUMMER672-HRE00015290_3254000_3492000_frame_000117_jpg.rf.e3ad624a112feaac214b117336ee022f.jpg: 640x640 (no detections), 8.4ms\n",
            "image 379/406 /content/drive/MyDrive/no_leakage_dataset2/test/images/WEEKNUMMER672-HRE00015290_3254000_3492000_frame_000118_jpg.rf.1108a98129db6e7b4ce2b6fda156934d.jpg: 640x640 (no detections), 7.4ms\n",
            "image 380/406 /content/drive/MyDrive/no_leakage_dataset2/test/images/WEEKNUMMER672-HRE00015290_3254000_3492000_frame_000119_jpg.rf.ce7c2196e82a5990e1bbac587adfab55.jpg: 640x640 (no detections), 7.4ms\n",
            "image 381/406 /content/drive/MyDrive/no_leakage_dataset2/test/images/WEEKNUMMER672-HRE00015290_3254000_3492000_frame_000120_jpg.rf.43e3822f9eeed7e103879044043992b8.jpg: 640x640 (no detections), 7.3ms\n",
            "image 382/406 /content/drive/MyDrive/no_leakage_dataset2/test/images/WEEKNUMMER672-HRE00015290_3254000_3492000_frame_000121_jpg.rf.07837b5ce04aff820abcce58960a73f5.jpg: 640x640 2 cars, 11.1ms\n",
            "image 383/406 /content/drive/MyDrive/no_leakage_dataset2/test/images/WEEKNUMMER672-HRE00015290_3254000_3492000_frame_000122_jpg.rf.cd32b4ed2bb2f65b537f4f7a67d4d444.jpg: 640x640 (no detections), 12.8ms\n",
            "image 384/406 /content/drive/MyDrive/no_leakage_dataset2/test/images/WEEKNUMMER672-HRE00015290_3254000_3492000_frame_000123_jpg.rf.6ed4434b68e03d3e80ba82483346a2bc.jpg: 640x640 1 bicycle, 8.2ms\n",
            "image 385/406 /content/drive/MyDrive/no_leakage_dataset2/test/images/WEEKNUMMER672-HRE00015290_3254000_3492000_frame_000124_jpg.rf.2ccdcc16c3a50cdb007708bab720f4c5.jpg: 640x640 2 bicycles, 7.5ms\n",
            "image 386/406 /content/drive/MyDrive/no_leakage_dataset2/test/images/WEEKNUMMER672-HRE00015290_3254000_3492000_frame_000125_jpg.rf.525daf6744d1e8f83a8108ac045f49db.jpg: 640x640 1 bicycle, 7.3ms\n",
            "image 387/406 /content/drive/MyDrive/no_leakage_dataset2/test/images/WEEKNUMMER672-HRE00015290_3254000_3492000_frame_000126_jpg.rf.ac90d073d741b2ede9aa659a4cadf625.jpg: 640x640 (no detections), 7.9ms\n",
            "image 388/406 /content/drive/MyDrive/no_leakage_dataset2/test/images/WEEKNUMMER672-HRE00015290_3254000_3492000_frame_000127_jpg.rf.ee9faeae8d063893014ac9aa592d2329.jpg: 640x640 1 bicycle, 1 car, 7.4ms\n",
            "image 389/406 /content/drive/MyDrive/no_leakage_dataset2/test/images/WEEKNUMMER672-HRE00015290_3254000_3492000_frame_000128_jpg.rf.2308eeca240c8d0ad4c4325a8e82f618.jpg: 640x640 (no detections), 7.7ms\n",
            "image 390/406 /content/drive/MyDrive/no_leakage_dataset2/test/images/WEEKNUMMER672-HRE00015290_3254000_3492000_frame_000129_jpg.rf.979cdad18685d172ae9a6367902dbf28.jpg: 640x640 1 car, 7.3ms\n",
            "image 391/406 /content/drive/MyDrive/no_leakage_dataset2/test/images/WEEKNUMMER672-HRE00015290_3254000_3492000_frame_000130_jpg.rf.f5f634f417c75973a05a383b7081c5c2.jpg: 640x640 2 cars, 8.9ms\n",
            "image 392/406 /content/drive/MyDrive/no_leakage_dataset2/test/images/WEEKNUMMER672-HRE00015290_3254000_3492000_frame_000131_jpg.rf.b9d241fa9e38981dde94533417f8df07.jpg: 640x640 (no detections), 7.3ms\n",
            "image 393/406 /content/drive/MyDrive/no_leakage_dataset2/test/images/WEEKNUMMER672-HRE00015290_3254000_3492000_frame_000132_jpg.rf.e5f045a60969eb0e40aae88701919b27.jpg: 640x640 1 car, 7.9ms\n",
            "image 394/406 /content/drive/MyDrive/no_leakage_dataset2/test/images/WEEKNUMMER672-HRE00015290_3254000_3492000_frame_000133_jpg.rf.94d8c1f8baeedddc5ef53e6ee57251ad.jpg: 640x640 (no detections), 7.3ms\n",
            "image 395/406 /content/drive/MyDrive/no_leakage_dataset2/test/images/WEEKNUMMER672-HRE00015290_3254000_3492000_frame_000134_jpg.rf.1eacb0bd0ab1d17c7133b64ae8df30d8.jpg: 640x640 (no detections), 7.4ms\n",
            "image 396/406 /content/drive/MyDrive/no_leakage_dataset2/test/images/WEEKNUMMER672-HRE00015290_3254000_3492000_frame_000135_jpg.rf.89eb7ec5edfba09632a7029ba365a305.jpg: 640x640 (no detections), 7.4ms\n",
            "image 397/406 /content/drive/MyDrive/no_leakage_dataset2/test/images/WEEKNUMMER672-HRE00015290_3254000_3492000_frame_000136_jpg.rf.2bb705cf0740d5ebd1c7e8229d8cd7b7.jpg: 640x640 (no detections), 7.4ms\n",
            "image 398/406 /content/drive/MyDrive/no_leakage_dataset2/test/images/WEEKNUMMER672-HRE00015290_3254000_3492000_frame_000137_jpg.rf.dce931ade14b70af9eb6c96ac8d1c50f.jpg: 640x640 (no detections), 9.6ms\n",
            "image 399/406 /content/drive/MyDrive/no_leakage_dataset2/test/images/WEEKNUMMER672-HRE00015290_3254000_3492000_frame_000138_jpg.rf.484b63d659bc84ef206feedf1dcd4ed8.jpg: 640x640 (no detections), 7.4ms\n",
            "image 400/406 /content/drive/MyDrive/no_leakage_dataset2/test/images/WEEKNUMMER672-HRE00015290_3254000_3492000_frame_000139_jpg.rf.4cc6441efd6d464b6d92fea51db8caa7.jpg: 640x640 (no detections), 7.4ms\n",
            "image 401/406 /content/drive/MyDrive/no_leakage_dataset2/test/images/WEEKNUMMER672-HRE00015290_3254000_3492000_frame_000140_jpg.rf.5b2fac6bdbdbaf61e25ec572cfeb72df.jpg: 640x640 1 car, 7.4ms\n",
            "image 402/406 /content/drive/MyDrive/no_leakage_dataset2/test/images/WEEKNUMMER672-HRE00015290_3254000_3492000_frame_000141_jpg.rf.c1934cf6bd6e120ac90a62a3c031b351.jpg: 640x640 (no detections), 9.9ms\n",
            "image 403/406 /content/drive/MyDrive/no_leakage_dataset2/test/images/boot2_jpg.rf.e2cb53a8d90e5b39a8d34043fdcad42f.jpg: 640x640 (no detections), 7.4ms\n",
            "image 404/406 /content/drive/MyDrive/no_leakage_dataset2/test/images/boot3_jpg.rf.a050f815b64a3d06f7677389a5af72d5.jpg: 640x640 (no detections), 7.4ms\n",
            "image 405/406 /content/drive/MyDrive/no_leakage_dataset2/test/images/boot4_avif.rf.3992017a0f8332e548045ab4bcba48e7.jpg: 640x640 1 boat, 8.5ms\n",
            "image 406/406 /content/drive/MyDrive/no_leakage_dataset2/test/images/boot_PNG.rf.f90ec6e6aa47de672fdfb90706fc8c26.jpg: 640x640 (no detections), 7.4ms\n",
            "Speed: 3.0ms preprocess, 9.3ms inference, 1.3ms postprocess per image at shape (1, 3, 640, 640)\n",
            "Results saved to \u001b[1mno_leakage_test_results/predictions\u001b[0m\n",
            "228 labels saved to no_leakage_test_results/predictions/labels\n",
            "\n",
            "=== TEST PERFORMANCE METRICS ===\n",
            "\n",
            "Image 1:\n",
            "Detected objects: 0\n",
            "\n",
            "Image 2:\n",
            "Detected objects: 0\n",
            "\n",
            "Image 3:\n",
            "Detected objects: 0\n",
            "\n",
            "Image 4:\n",
            "Detected objects: 2\n",
            "Average confidence: 0.36\n",
            "Class distribution: [2, 2]\n",
            "\n",
            "Image 5:\n",
            "Detected objects: 2\n",
            "Average confidence: 0.44\n",
            "Class distribution: [2, 2]\n",
            "\n",
            "Image 6:\n",
            "Detected objects: 2\n",
            "Average confidence: 0.47\n",
            "Class distribution: [0, 0]\n",
            "\n",
            "Image 7:\n",
            "Detected objects: 1\n",
            "Average confidence: 0.35\n",
            "Class distribution: [2]\n",
            "\n",
            "Image 8:\n",
            "Detected objects: 2\n",
            "Average confidence: 0.26\n",
            "Class distribution: [2, 2]\n",
            "\n",
            "Image 9:\n",
            "Detected objects: 1\n",
            "Average confidence: 0.34\n",
            "Class distribution: [2]\n",
            "\n",
            "Image 10:\n",
            "Detected objects: 0\n",
            "\n",
            "Image 11:\n",
            "Detected objects: 0\n",
            "\n",
            "Image 12:\n",
            "Detected objects: 1\n",
            "Average confidence: 0.47\n",
            "Class distribution: [2]\n",
            "\n",
            "Image 13:\n",
            "Detected objects: 1\n",
            "Average confidence: 0.27\n",
            "Class distribution: [2]\n",
            "\n",
            "Image 14:\n",
            "Detected objects: 1\n",
            "Average confidence: 0.45\n",
            "Class distribution: [2]\n",
            "\n",
            "Image 15:\n",
            "Detected objects: 0\n",
            "\n",
            "Image 16:\n",
            "Detected objects: 1\n",
            "Average confidence: 0.29\n",
            "Class distribution: [2]\n",
            "\n",
            "Image 17:\n",
            "Detected objects: 0\n",
            "\n",
            "Image 18:\n",
            "Detected objects: 0\n",
            "\n",
            "Image 19:\n",
            "Detected objects: 0\n",
            "\n",
            "Image 20:\n",
            "Detected objects: 0\n",
            "\n",
            "Image 21:\n",
            "Detected objects: 0\n",
            "\n",
            "Image 22:\n",
            "Detected objects: 0\n",
            "\n",
            "Image 23:\n",
            "Detected objects: 3\n",
            "Average confidence: 0.62\n",
            "Class distribution: [2, 0, 0]\n",
            "\n",
            "Image 24:\n",
            "Detected objects: 4\n",
            "Average confidence: 0.49\n",
            "Class distribution: [2, 0, 0, 0]\n",
            "\n",
            "Image 25:\n",
            "Detected objects: 4\n",
            "Average confidence: 0.47\n",
            "Class distribution: [0, 0, 2, 0]\n",
            "\n",
            "Image 26:\n",
            "Detected objects: 1\n",
            "Average confidence: 0.76\n",
            "Class distribution: [0]\n",
            "\n",
            "Image 27:\n",
            "Detected objects: 2\n",
            "Average confidence: 0.41\n",
            "Class distribution: [0, 0]\n",
            "\n",
            "Image 28:\n",
            "Detected objects: 1\n",
            "Average confidence: 0.69\n",
            "Class distribution: [0]\n",
            "\n",
            "Image 29:\n",
            "Detected objects: 1\n",
            "Average confidence: 0.28\n",
            "Class distribution: [0]\n",
            "\n",
            "Image 30:\n",
            "Detected objects: 0\n",
            "\n",
            "Image 31:\n",
            "Detected objects: 0\n",
            "\n",
            "Image 32:\n",
            "Detected objects: 1\n",
            "Average confidence: 0.49\n",
            "Class distribution: [2]\n",
            "\n",
            "Image 33:\n",
            "Detected objects: 1\n",
            "Average confidence: 0.59\n",
            "Class distribution: [2]\n",
            "\n",
            "Image 34:\n",
            "Detected objects: 1\n",
            "Average confidence: 0.35\n",
            "Class distribution: [2]\n",
            "\n",
            "Image 35:\n",
            "Detected objects: 0\n",
            "\n",
            "Image 36:\n",
            "Detected objects: 0\n",
            "\n",
            "Image 37:\n",
            "Detected objects: 1\n",
            "Average confidence: 0.28\n",
            "Class distribution: [2]\n",
            "\n",
            "Image 38:\n",
            "Detected objects: 1\n",
            "Average confidence: 0.37\n",
            "Class distribution: [2]\n",
            "\n",
            "Image 39:\n",
            "Detected objects: 1\n",
            "Average confidence: 0.39\n",
            "Class distribution: [2]\n",
            "\n",
            "Image 40:\n",
            "Detected objects: 0\n",
            "\n",
            "Image 41:\n",
            "Detected objects: 0\n",
            "\n",
            "Image 42:\n",
            "Detected objects: 0\n",
            "\n",
            "Image 43:\n",
            "Detected objects: 0\n",
            "\n",
            "Image 44:\n",
            "Detected objects: 0\n",
            "\n",
            "Image 45:\n",
            "Detected objects: 1\n",
            "Average confidence: 0.35\n",
            "Class distribution: [0]\n",
            "\n",
            "Image 46:\n",
            "Detected objects: 1\n",
            "Average confidence: 0.33\n",
            "Class distribution: [0]\n",
            "\n",
            "Image 47:\n",
            "Detected objects: 0\n",
            "\n",
            "Image 48:\n",
            "Detected objects: 0\n",
            "\n",
            "Image 49:\n",
            "Detected objects: 0\n",
            "\n",
            "Image 50:\n",
            "Detected objects: 0\n",
            "\n",
            "Image 51:\n",
            "Detected objects: 0\n",
            "\n",
            "Image 52:\n",
            "Detected objects: 0\n",
            "\n",
            "Image 53:\n",
            "Detected objects: 0\n",
            "\n",
            "Image 54:\n",
            "Detected objects: 0\n",
            "\n",
            "Image 55:\n",
            "Detected objects: 0\n",
            "\n",
            "Image 56:\n",
            "Detected objects: 0\n",
            "\n",
            "Image 57:\n",
            "Detected objects: 1\n",
            "Average confidence: 0.91\n",
            "Class distribution: [0]\n",
            "\n",
            "Image 58:\n",
            "Detected objects: 1\n",
            "Average confidence: 0.35\n",
            "Class distribution: [0]\n",
            "\n",
            "Image 59:\n",
            "Detected objects: 1\n",
            "Average confidence: 0.38\n",
            "Class distribution: [0]\n",
            "\n",
            "Image 60:\n",
            "Detected objects: 0\n",
            "\n",
            "Image 61:\n",
            "Detected objects: 0\n",
            "\n",
            "Image 62:\n",
            "Detected objects: 1\n",
            "Average confidence: 0.29\n",
            "Class distribution: [0]\n",
            "\n",
            "Image 63:\n",
            "Detected objects: 0\n",
            "\n",
            "Image 64:\n",
            "Detected objects: 1\n",
            "Average confidence: 0.28\n",
            "Class distribution: [0]\n",
            "\n",
            "Image 65:\n",
            "Detected objects: 1\n",
            "Average confidence: 0.50\n",
            "Class distribution: [0]\n",
            "\n",
            "Image 66:\n",
            "Detected objects: 0\n",
            "\n",
            "Image 67:\n",
            "Detected objects: 1\n",
            "Average confidence: 0.30\n",
            "Class distribution: [0]\n",
            "\n",
            "Image 68:\n",
            "Detected objects: 0\n",
            "\n",
            "Image 69:\n",
            "Detected objects: 2\n",
            "Average confidence: 0.64\n",
            "Class distribution: [2, 2]\n",
            "\n",
            "Image 70:\n",
            "Detected objects: 2\n",
            "Average confidence: 0.64\n",
            "Class distribution: [2, 0]\n",
            "\n",
            "Image 71:\n",
            "Detected objects: 2\n",
            "Average confidence: 0.66\n",
            "Class distribution: [2, 2]\n",
            "\n",
            "Image 72:\n",
            "Detected objects: 1\n",
            "Average confidence: 0.56\n",
            "Class distribution: [0]\n",
            "\n",
            "Image 73:\n",
            "Detected objects: 1\n",
            "Average confidence: 0.34\n",
            "Class distribution: [0]\n",
            "\n",
            "Image 74:\n",
            "Detected objects: 0\n",
            "\n",
            "Image 75:\n",
            "Detected objects: 0\n",
            "\n",
            "Image 76:\n",
            "Detected objects: 1\n",
            "Average confidence: 0.27\n",
            "Class distribution: [2]\n",
            "\n",
            "Image 77:\n",
            "Detected objects: 1\n",
            "Average confidence: 0.28\n",
            "Class distribution: [2]\n",
            "\n",
            "Image 78:\n",
            "Detected objects: 1\n",
            "Average confidence: 0.51\n",
            "Class distribution: [0]\n",
            "\n",
            "Image 79:\n",
            "Detected objects: 1\n",
            "Average confidence: 0.27\n",
            "Class distribution: [0]\n",
            "\n",
            "Image 80:\n",
            "Detected objects: 0\n",
            "\n",
            "Image 81:\n",
            "Detected objects: 0\n",
            "\n",
            "Image 82:\n",
            "Detected objects: 0\n",
            "\n",
            "Image 83:\n",
            "Detected objects: 2\n",
            "Average confidence: 0.40\n",
            "Class distribution: [2, 2]\n",
            "\n",
            "Image 84:\n",
            "Detected objects: 0\n",
            "\n",
            "Image 85:\n",
            "Detected objects: 1\n",
            "Average confidence: 0.35\n",
            "Class distribution: [2]\n",
            "\n",
            "Image 86:\n",
            "Detected objects: 0\n",
            "\n",
            "Image 87:\n",
            "Detected objects: 0\n",
            "\n",
            "Image 88:\n",
            "Detected objects: 1\n",
            "Average confidence: 0.27\n",
            "Class distribution: [2]\n",
            "\n",
            "Image 89:\n",
            "Detected objects: 0\n",
            "\n",
            "Image 90:\n",
            "Detected objects: 1\n",
            "Average confidence: 0.34\n",
            "Class distribution: [0]\n",
            "\n",
            "Image 91:\n",
            "Detected objects: 0\n",
            "\n",
            "Image 92:\n",
            "Detected objects: 2\n",
            "Average confidence: 0.77\n",
            "Class distribution: [2, 0]\n",
            "\n",
            "Image 93:\n",
            "Detected objects: 2\n",
            "Average confidence: 0.84\n",
            "Class distribution: [2, 0]\n",
            "\n",
            "Image 94:\n",
            "Detected objects: 2\n",
            "Average confidence: 0.84\n",
            "Class distribution: [2, 0]\n",
            "\n",
            "Image 95:\n",
            "Detected objects: 2\n",
            "Average confidence: 0.66\n",
            "Class distribution: [0, 2]\n",
            "\n",
            "Image 96:\n",
            "Detected objects: 2\n",
            "Average confidence: 0.50\n",
            "Class distribution: [0, 0]\n",
            "\n",
            "Image 97:\n",
            "Detected objects: 2\n",
            "Average confidence: 0.56\n",
            "Class distribution: [0, 2]\n",
            "\n",
            "Image 98:\n",
            "Detected objects: 1\n",
            "Average confidence: 0.38\n",
            "Class distribution: [2]\n",
            "\n",
            "Image 99:\n",
            "Detected objects: 0\n",
            "\n",
            "Image 100:\n",
            "Detected objects: 0\n",
            "\n",
            "Image 101:\n",
            "Detected objects: 1\n",
            "Average confidence: 0.29\n",
            "Class distribution: [2]\n",
            "\n",
            "Image 102:\n",
            "Detected objects: 1\n",
            "Average confidence: 0.51\n",
            "Class distribution: [2]\n",
            "\n",
            "Image 103:\n",
            "Detected objects: 1\n",
            "Average confidence: 0.42\n",
            "Class distribution: [2]\n",
            "\n",
            "Image 104:\n",
            "Detected objects: 1\n",
            "Average confidence: 0.40\n",
            "Class distribution: [2]\n",
            "\n",
            "Image 105:\n",
            "Detected objects: 0\n",
            "\n",
            "Image 106:\n",
            "Detected objects: 1\n",
            "Average confidence: 0.29\n",
            "Class distribution: [2]\n",
            "\n",
            "Image 107:\n",
            "Detected objects: 0\n",
            "\n",
            "Image 108:\n",
            "Detected objects: 0\n",
            "\n",
            "Image 109:\n",
            "Detected objects: 1\n",
            "Average confidence: 0.29\n",
            "Class distribution: [2]\n",
            "\n",
            "Image 110:\n",
            "Detected objects: 0\n",
            "\n",
            "Image 111:\n",
            "Detected objects: 0\n",
            "\n",
            "Image 112:\n",
            "Detected objects: 0\n",
            "\n",
            "Image 113:\n",
            "Detected objects: 1\n",
            "Average confidence: 0.26\n",
            "Class distribution: [2]\n",
            "\n",
            "Image 114:\n",
            "Detected objects: 0\n",
            "\n",
            "Image 115:\n",
            "Detected objects: 1\n",
            "Average confidence: 0.27\n",
            "Class distribution: [2]\n",
            "\n",
            "Image 116:\n",
            "Detected objects: 0\n",
            "\n",
            "Image 117:\n",
            "Detected objects: 0\n",
            "\n",
            "Image 118:\n",
            "Detected objects: 2\n",
            "Average confidence: 0.30\n",
            "Class distribution: [0, 0]\n",
            "\n",
            "Image 119:\n",
            "Detected objects: 2\n",
            "Average confidence: 0.37\n",
            "Class distribution: [0, 0]\n",
            "\n",
            "Image 120:\n",
            "Detected objects: 2\n",
            "Average confidence: 0.32\n",
            "Class distribution: [0, 0]\n",
            "\n",
            "Image 121:\n",
            "Detected objects: 0\n",
            "\n",
            "Image 122:\n",
            "Detected objects: 0\n",
            "\n",
            "Image 123:\n",
            "Detected objects: 0\n",
            "\n",
            "Image 124:\n",
            "Detected objects: 0\n",
            "\n",
            "Image 125:\n",
            "Detected objects: 1\n",
            "Average confidence: 0.36\n",
            "Class distribution: [0]\n",
            "\n",
            "Image 126:\n",
            "Detected objects: 1\n",
            "Average confidence: 0.25\n",
            "Class distribution: [2]\n",
            "\n",
            "Image 127:\n",
            "Detected objects: 3\n",
            "Average confidence: 0.34\n",
            "Class distribution: [2, 2, 2]\n",
            "\n",
            "Image 128:\n",
            "Detected objects: 0\n",
            "\n",
            "Image 129:\n",
            "Detected objects: 1\n",
            "Average confidence: 0.38\n",
            "Class distribution: [0]\n",
            "\n",
            "Image 130:\n",
            "Detected objects: 1\n",
            "Average confidence: 0.28\n",
            "Class distribution: [0]\n",
            "\n",
            "Image 131:\n",
            "Detected objects: 1\n",
            "Average confidence: 0.30\n",
            "Class distribution: [0]\n",
            "\n",
            "Image 132:\n",
            "Detected objects: 0\n",
            "\n",
            "Image 133:\n",
            "Detected objects: 0\n",
            "\n",
            "Image 134:\n",
            "Detected objects: 1\n",
            "Average confidence: 0.40\n",
            "Class distribution: [0]\n",
            "\n",
            "Image 135:\n",
            "Detected objects: 1\n",
            "Average confidence: 0.57\n",
            "Class distribution: [0]\n",
            "\n",
            "Image 136:\n",
            "Detected objects: 1\n",
            "Average confidence: 0.37\n",
            "Class distribution: [0]\n",
            "\n",
            "Image 137:\n",
            "Detected objects: 0\n",
            "\n",
            "Image 138:\n",
            "Detected objects: 1\n",
            "Average confidence: 0.35\n",
            "Class distribution: [2]\n",
            "\n",
            "Image 139:\n",
            "Detected objects: 1\n",
            "Average confidence: 0.31\n",
            "Class distribution: [2]\n",
            "\n",
            "Image 140:\n",
            "Detected objects: 1\n",
            "Average confidence: 0.26\n",
            "Class distribution: [2]\n",
            "\n",
            "Image 141:\n",
            "Detected objects: 0\n",
            "\n",
            "Image 142:\n",
            "Detected objects: 1\n",
            "Average confidence: 0.58\n",
            "Class distribution: [2]\n",
            "\n",
            "Image 143:\n",
            "Detected objects: 1\n",
            "Average confidence: 0.41\n",
            "Class distribution: [2]\n",
            "\n",
            "Image 144:\n",
            "Detected objects: 3\n",
            "Average confidence: 0.44\n",
            "Class distribution: [2, 2, 2]\n",
            "\n",
            "Image 145:\n",
            "Detected objects: 2\n",
            "Average confidence: 0.53\n",
            "Class distribution: [2, 2]\n",
            "\n",
            "Image 146:\n",
            "Detected objects: 3\n",
            "Average confidence: 0.41\n",
            "Class distribution: [2, 2, 2]\n",
            "\n",
            "Image 147:\n",
            "Detected objects: 1\n",
            "Average confidence: 0.64\n",
            "Class distribution: [2]\n",
            "\n",
            "Image 148:\n",
            "Detected objects: 1\n",
            "Average confidence: 0.75\n",
            "Class distribution: [0]\n",
            "\n",
            "Image 149:\n",
            "Detected objects: 2\n",
            "Average confidence: 0.52\n",
            "Class distribution: [0, 2]\n",
            "\n",
            "Image 150:\n",
            "Detected objects: 3\n",
            "Average confidence: 0.31\n",
            "Class distribution: [0, 2, 0]\n",
            "\n",
            "Image 151:\n",
            "Detected objects: 2\n",
            "Average confidence: 0.49\n",
            "Class distribution: [0, 2]\n",
            "\n",
            "Image 152:\n",
            "Detected objects: 0\n",
            "\n",
            "Image 153:\n",
            "Detected objects: 1\n",
            "Average confidence: 0.40\n",
            "Class distribution: [0]\n",
            "\n",
            "Image 154:\n",
            "Detected objects: 1\n",
            "Average confidence: 0.61\n",
            "Class distribution: [0]\n",
            "\n",
            "Image 155:\n",
            "Detected objects: 1\n",
            "Average confidence: 0.28\n",
            "Class distribution: [0]\n",
            "\n",
            "Image 156:\n",
            "Detected objects: 1\n",
            "Average confidence: 0.38\n",
            "Class distribution: [0]\n",
            "\n",
            "Image 157:\n",
            "Detected objects: 1\n",
            "Average confidence: 0.40\n",
            "Class distribution: [0]\n",
            "\n",
            "Image 158:\n",
            "Detected objects: 0\n",
            "\n",
            "Image 159:\n",
            "Detected objects: 1\n",
            "Average confidence: 0.31\n",
            "Class distribution: [2]\n",
            "\n",
            "Image 160:\n",
            "Detected objects: 2\n",
            "Average confidence: 0.53\n",
            "Class distribution: [2, 2]\n",
            "\n",
            "Image 161:\n",
            "Detected objects: 0\n",
            "\n",
            "Image 162:\n",
            "Detected objects: 0\n",
            "\n",
            "Image 163:\n",
            "Detected objects: 0\n",
            "\n",
            "Image 164:\n",
            "Detected objects: 0\n",
            "\n",
            "Image 165:\n",
            "Detected objects: 1\n",
            "Average confidence: 0.28\n",
            "Class distribution: [2]\n",
            "\n",
            "Image 166:\n",
            "Detected objects: 0\n",
            "\n",
            "Image 167:\n",
            "Detected objects: 0\n",
            "\n",
            "Image 168:\n",
            "Detected objects: 0\n",
            "\n",
            "Image 169:\n",
            "Detected objects: 0\n",
            "\n",
            "Image 170:\n",
            "Detected objects: 0\n",
            "\n",
            "Image 171:\n",
            "Detected objects: 0\n",
            "\n",
            "Image 172:\n",
            "Detected objects: 1\n",
            "Average confidence: 0.71\n",
            "Class distribution: [0]\n",
            "\n",
            "Image 173:\n",
            "Detected objects: 2\n",
            "Average confidence: 0.48\n",
            "Class distribution: [0, 0]\n",
            "\n",
            "Image 174:\n",
            "Detected objects: 2\n",
            "Average confidence: 0.48\n",
            "Class distribution: [0, 0]\n",
            "\n",
            "Image 175:\n",
            "Detected objects: 0\n",
            "\n",
            "Image 176:\n",
            "Detected objects: 0\n",
            "\n",
            "Image 177:\n",
            "Detected objects: 0\n",
            "\n",
            "Image 178:\n",
            "Detected objects: 0\n",
            "\n",
            "Image 179:\n",
            "Detected objects: 0\n",
            "\n",
            "Image 180:\n",
            "Detected objects: 0\n",
            "\n",
            "Image 181:\n",
            "Detected objects: 0\n",
            "\n",
            "Image 182:\n",
            "Detected objects: 0\n",
            "\n",
            "Image 183:\n",
            "Detected objects: 0\n",
            "\n",
            "Image 184:\n",
            "Detected objects: 2\n",
            "Average confidence: 0.54\n",
            "Class distribution: [0, 0]\n",
            "\n",
            "Image 185:\n",
            "Detected objects: 1\n",
            "Average confidence: 0.68\n",
            "Class distribution: [0]\n",
            "\n",
            "Image 186:\n",
            "Detected objects: 1\n",
            "Average confidence: 0.55\n",
            "Class distribution: [0]\n",
            "\n",
            "Image 187:\n",
            "Detected objects: 1\n",
            "Average confidence: 0.51\n",
            "Class distribution: [0]\n",
            "\n",
            "Image 188:\n",
            "Detected objects: 1\n",
            "Average confidence: 0.74\n",
            "Class distribution: [0]\n",
            "\n",
            "Image 189:\n",
            "Detected objects: 1\n",
            "Average confidence: 0.72\n",
            "Class distribution: [0]\n",
            "\n",
            "Image 190:\n",
            "Detected objects: 1\n",
            "Average confidence: 0.88\n",
            "Class distribution: [0]\n",
            "\n",
            "Image 191:\n",
            "Detected objects: 2\n",
            "Average confidence: 0.63\n",
            "Class distribution: [0, 0]\n",
            "\n",
            "Image 192:\n",
            "Detected objects: 1\n",
            "Average confidence: 0.75\n",
            "Class distribution: [0]\n",
            "\n",
            "Image 193:\n",
            "Detected objects: 1\n",
            "Average confidence: 0.60\n",
            "Class distribution: [0]\n",
            "\n",
            "Image 194:\n",
            "Detected objects: 2\n",
            "Average confidence: 0.51\n",
            "Class distribution: [0, 0]\n",
            "\n",
            "Image 195:\n",
            "Detected objects: 1\n",
            "Average confidence: 0.73\n",
            "Class distribution: [0]\n",
            "\n",
            "Image 196:\n",
            "Detected objects: 1\n",
            "Average confidence: 0.69\n",
            "Class distribution: [0]\n",
            "\n",
            "Image 197:\n",
            "Detected objects: 2\n",
            "Average confidence: 0.56\n",
            "Class distribution: [0, 0]\n",
            "\n",
            "Image 198:\n",
            "Detected objects: 1\n",
            "Average confidence: 0.39\n",
            "Class distribution: [2]\n",
            "\n",
            "Image 199:\n",
            "Detected objects: 1\n",
            "Average confidence: 0.30\n",
            "Class distribution: [2]\n",
            "\n",
            "Image 200:\n",
            "Detected objects: 0\n",
            "\n",
            "Image 201:\n",
            "Detected objects: 2\n",
            "Average confidence: 0.28\n",
            "Class distribution: [2, 2]\n",
            "\n",
            "Image 202:\n",
            "Detected objects: 1\n",
            "Average confidence: 0.45\n",
            "Class distribution: [2]\n",
            "\n",
            "Image 203:\n",
            "Detected objects: 1\n",
            "Average confidence: 0.37\n",
            "Class distribution: [2]\n",
            "\n",
            "Image 204:\n",
            "Detected objects: 1\n",
            "Average confidence: 0.30\n",
            "Class distribution: [0]\n",
            "\n",
            "Image 205:\n",
            "Detected objects: 2\n",
            "Average confidence: 0.31\n",
            "Class distribution: [0, 0]\n",
            "\n",
            "Image 206:\n",
            "Detected objects: 2\n",
            "Average confidence: 0.34\n",
            "Class distribution: [0, 0]\n",
            "\n",
            "Image 207:\n",
            "Detected objects: 0\n",
            "\n",
            "Image 208:\n",
            "Detected objects: 1\n",
            "Average confidence: 0.55\n",
            "Class distribution: [0]\n",
            "\n",
            "Image 209:\n",
            "Detected objects: 2\n",
            "Average confidence: 0.77\n",
            "Class distribution: [0, 0]\n",
            "\n",
            "Image 210:\n",
            "Detected objects: 1\n",
            "Average confidence: 0.31\n",
            "Class distribution: [0]\n",
            "\n",
            "Image 211:\n",
            "Detected objects: 0\n",
            "\n",
            "Image 212:\n",
            "Detected objects: 0\n",
            "\n",
            "Image 213:\n",
            "Detected objects: 1\n",
            "Average confidence: 0.25\n",
            "Class distribution: [0]\n",
            "\n",
            "Image 214:\n",
            "Detected objects: 1\n",
            "Average confidence: 0.35\n",
            "Class distribution: [0]\n",
            "\n",
            "Image 215:\n",
            "Detected objects: 1\n",
            "Average confidence: 0.34\n",
            "Class distribution: [0]\n",
            "\n",
            "Image 216:\n",
            "Detected objects: 1\n",
            "Average confidence: 0.29\n",
            "Class distribution: [0]\n",
            "\n",
            "Image 217:\n",
            "Detected objects: 1\n",
            "Average confidence: 0.42\n",
            "Class distribution: [0]\n",
            "\n",
            "Image 218:\n",
            "Detected objects: 0\n",
            "\n",
            "Image 219:\n",
            "Detected objects: 0\n",
            "\n",
            "Image 220:\n",
            "Detected objects: 0\n",
            "\n",
            "Image 221:\n",
            "Detected objects: 1\n",
            "Average confidence: 0.59\n",
            "Class distribution: [0]\n",
            "\n",
            "Image 222:\n",
            "Detected objects: 2\n",
            "Average confidence: 0.46\n",
            "Class distribution: [0, 0]\n",
            "\n",
            "Image 223:\n",
            "Detected objects: 2\n",
            "Average confidence: 0.34\n",
            "Class distribution: [0, 0]\n",
            "\n",
            "Image 224:\n",
            "Detected objects: 1\n",
            "Average confidence: 0.37\n",
            "Class distribution: [0]\n",
            "\n",
            "Image 225:\n",
            "Detected objects: 1\n",
            "Average confidence: 0.30\n",
            "Class distribution: [0]\n",
            "\n",
            "Image 226:\n",
            "Detected objects: 0\n",
            "\n",
            "Image 227:\n",
            "Detected objects: 1\n",
            "Average confidence: 0.35\n",
            "Class distribution: [0]\n",
            "\n",
            "Image 228:\n",
            "Detected objects: 2\n",
            "Average confidence: 0.31\n",
            "Class distribution: [0, 0]\n",
            "\n",
            "Image 229:\n",
            "Detected objects: 0\n",
            "\n",
            "Image 230:\n",
            "Detected objects: 0\n",
            "\n",
            "Image 231:\n",
            "Detected objects: 2\n",
            "Average confidence: 0.35\n",
            "Class distribution: [0, 2]\n",
            "\n",
            "Image 232:\n",
            "Detected objects: 3\n",
            "Average confidence: 0.28\n",
            "Class distribution: [2, 0, 0]\n",
            "\n",
            "Image 233:\n",
            "Detected objects: 1\n",
            "Average confidence: 0.49\n",
            "Class distribution: [0]\n",
            "\n",
            "Image 234:\n",
            "Detected objects: 1\n",
            "Average confidence: 0.55\n",
            "Class distribution: [0]\n",
            "\n",
            "Image 235:\n",
            "Detected objects: 2\n",
            "Average confidence: 0.38\n",
            "Class distribution: [0, 0]\n",
            "\n",
            "Image 236:\n",
            "Detected objects: 2\n",
            "Average confidence: 0.36\n",
            "Class distribution: [0, 0]\n",
            "\n",
            "Image 237:\n",
            "Detected objects: 1\n",
            "Average confidence: 0.31\n",
            "Class distribution: [2]\n",
            "\n",
            "Image 238:\n",
            "Detected objects: 0\n",
            "\n",
            "Image 239:\n",
            "Detected objects: 0\n",
            "\n",
            "Image 240:\n",
            "Detected objects: 2\n",
            "Average confidence: 0.42\n",
            "Class distribution: [2, 2]\n",
            "\n",
            "Image 241:\n",
            "Detected objects: 2\n",
            "Average confidence: 0.47\n",
            "Class distribution: [2, 2]\n",
            "\n",
            "Image 242:\n",
            "Detected objects: 0\n",
            "\n",
            "Image 243:\n",
            "Detected objects: 0\n",
            "\n",
            "Image 244:\n",
            "Detected objects: 0\n",
            "\n",
            "Image 245:\n",
            "Detected objects: 0\n",
            "\n",
            "Image 246:\n",
            "Detected objects: 1\n",
            "Average confidence: 0.33\n",
            "Class distribution: [1]\n",
            "\n",
            "Image 247:\n",
            "Detected objects: 1\n",
            "Average confidence: 0.28\n",
            "Class distribution: [1]\n",
            "\n",
            "Image 248:\n",
            "Detected objects: 1\n",
            "Average confidence: 0.38\n",
            "Class distribution: [1]\n",
            "\n",
            "Image 249:\n",
            "Detected objects: 2\n",
            "Average confidence: 0.29\n",
            "Class distribution: [0, 0]\n",
            "\n",
            "Image 250:\n",
            "Detected objects: 1\n",
            "Average confidence: 0.41\n",
            "Class distribution: [2]\n",
            "\n",
            "Image 251:\n",
            "Detected objects: 0\n",
            "\n",
            "Image 252:\n",
            "Detected objects: 1\n",
            "Average confidence: 0.25\n",
            "Class distribution: [2]\n",
            "\n",
            "Image 253:\n",
            "Detected objects: 1\n",
            "Average confidence: 0.37\n",
            "Class distribution: [2]\n",
            "\n",
            "Image 254:\n",
            "Detected objects: 0\n",
            "\n",
            "Image 255:\n",
            "Detected objects: 0\n",
            "\n",
            "Image 256:\n",
            "Detected objects: 0\n",
            "\n",
            "Image 257:\n",
            "Detected objects: 0\n",
            "\n",
            "Image 258:\n",
            "Detected objects: 0\n",
            "\n",
            "Image 259:\n",
            "Detected objects: 0\n",
            "\n",
            "Image 260:\n",
            "Detected objects: 0\n",
            "\n",
            "Image 261:\n",
            "Detected objects: 0\n",
            "\n",
            "Image 262:\n",
            "Detected objects: 0\n",
            "\n",
            "Image 263:\n",
            "Detected objects: 0\n",
            "\n",
            "Image 264:\n",
            "Detected objects: 0\n",
            "\n",
            "Image 265:\n",
            "Detected objects: 0\n",
            "\n",
            "Image 266:\n",
            "Detected objects: 0\n",
            "\n",
            "Image 267:\n",
            "Detected objects: 0\n",
            "\n",
            "Image 268:\n",
            "Detected objects: 0\n",
            "\n",
            "Image 269:\n",
            "Detected objects: 0\n",
            "\n",
            "Image 270:\n",
            "Detected objects: 0\n",
            "\n",
            "Image 271:\n",
            "Detected objects: 0\n",
            "\n",
            "Image 272:\n",
            "Detected objects: 1\n",
            "Average confidence: 0.39\n",
            "Class distribution: [2]\n",
            "\n",
            "Image 273:\n",
            "Detected objects: 2\n",
            "Average confidence: 0.36\n",
            "Class distribution: [2, 2]\n",
            "\n",
            "Image 274:\n",
            "Detected objects: 0\n",
            "\n",
            "Image 275:\n",
            "Detected objects: 2\n",
            "Average confidence: 0.58\n",
            "Class distribution: [2, 2]\n",
            "\n",
            "Image 276:\n",
            "Detected objects: 1\n",
            "Average confidence: 0.49\n",
            "Class distribution: [2]\n",
            "\n",
            "Image 277:\n",
            "Detected objects: 0\n",
            "\n",
            "Image 278:\n",
            "Detected objects: 0\n",
            "\n",
            "Image 279:\n",
            "Detected objects: 0\n",
            "\n",
            "Image 280:\n",
            "Detected objects: 2\n",
            "Average confidence: 0.77\n",
            "Class distribution: [2, 0]\n",
            "\n",
            "Image 281:\n",
            "Detected objects: 1\n",
            "Average confidence: 0.84\n",
            "Class distribution: [2]\n",
            "\n",
            "Image 282:\n",
            "Detected objects: 1\n",
            "Average confidence: 0.72\n",
            "Class distribution: [2]\n",
            "\n",
            "Image 283:\n",
            "Detected objects: 2\n",
            "Average confidence: 0.54\n",
            "Class distribution: [2, 0]\n",
            "\n",
            "Image 284:\n",
            "Detected objects: 1\n",
            "Average confidence: 0.76\n",
            "Class distribution: [2]\n",
            "\n",
            "Image 285:\n",
            "Detected objects: 2\n",
            "Average confidence: 0.59\n",
            "Class distribution: [2, 0]\n",
            "\n",
            "Image 286:\n",
            "Detected objects: 0\n",
            "\n",
            "Image 287:\n",
            "Detected objects: 1\n",
            "Average confidence: 0.39\n",
            "Class distribution: [2]\n",
            "\n",
            "Image 288:\n",
            "Detected objects: 1\n",
            "Average confidence: 0.49\n",
            "Class distribution: [2]\n",
            "\n",
            "Image 289:\n",
            "Detected objects: 1\n",
            "Average confidence: 0.44\n",
            "Class distribution: [2]\n",
            "\n",
            "Image 290:\n",
            "Detected objects: 2\n",
            "Average confidence: 0.61\n",
            "Class distribution: [2, 2]\n",
            "\n",
            "Image 291:\n",
            "Detected objects: 0\n",
            "\n",
            "Image 292:\n",
            "Detected objects: 0\n",
            "\n",
            "Image 293:\n",
            "Detected objects: 0\n",
            "\n",
            "Image 294:\n",
            "Detected objects: 0\n",
            "\n",
            "Image 295:\n",
            "Detected objects: 0\n",
            "\n",
            "Image 296:\n",
            "Detected objects: 0\n",
            "\n",
            "Image 297:\n",
            "Detected objects: 0\n",
            "\n",
            "Image 298:\n",
            "Detected objects: 1\n",
            "Average confidence: 0.29\n",
            "Class distribution: [2]\n",
            "\n",
            "Image 299:\n",
            "Detected objects: 0\n",
            "\n",
            "Image 300:\n",
            "Detected objects: 2\n",
            "Average confidence: 0.33\n",
            "Class distribution: [2, 2]\n",
            "\n",
            "Image 301:\n",
            "Detected objects: 1\n",
            "Average confidence: 0.32\n",
            "Class distribution: [2]\n",
            "\n",
            "Image 302:\n",
            "Detected objects: 2\n",
            "Average confidence: 0.30\n",
            "Class distribution: [2, 2]\n",
            "\n",
            "Image 303:\n",
            "Detected objects: 2\n",
            "Average confidence: 0.28\n",
            "Class distribution: [2, 2]\n",
            "\n",
            "Image 304:\n",
            "Detected objects: 0\n",
            "\n",
            "Image 305:\n",
            "Detected objects: 1\n",
            "Average confidence: 0.38\n",
            "Class distribution: [2]\n",
            "\n",
            "Image 306:\n",
            "Detected objects: 1\n",
            "Average confidence: 0.40\n",
            "Class distribution: [2]\n",
            "\n",
            "Image 307:\n",
            "Detected objects: 2\n",
            "Average confidence: 0.29\n",
            "Class distribution: [2, 2]\n",
            "\n",
            "Image 308:\n",
            "Detected objects: 1\n",
            "Average confidence: 0.33\n",
            "Class distribution: [2]\n",
            "\n",
            "Image 309:\n",
            "Detected objects: 0\n",
            "\n",
            "Image 310:\n",
            "Detected objects: 2\n",
            "Average confidence: 0.46\n",
            "Class distribution: [2, 2]\n",
            "\n",
            "Image 311:\n",
            "Detected objects: 1\n",
            "Average confidence: 0.33\n",
            "Class distribution: [2]\n",
            "\n",
            "Image 312:\n",
            "Detected objects: 1\n",
            "Average confidence: 0.35\n",
            "Class distribution: [2]\n",
            "\n",
            "Image 313:\n",
            "Detected objects: 1\n",
            "Average confidence: 0.37\n",
            "Class distribution: [2]\n",
            "\n",
            "Image 314:\n",
            "Detected objects: 1\n",
            "Average confidence: 0.32\n",
            "Class distribution: [2]\n",
            "\n",
            "Image 315:\n",
            "Detected objects: 0\n",
            "\n",
            "Image 316:\n",
            "Detected objects: 0\n",
            "\n",
            "Image 317:\n",
            "Detected objects: 0\n",
            "\n",
            "Image 318:\n",
            "Detected objects: 2\n",
            "Average confidence: 0.47\n",
            "Class distribution: [2, 2]\n",
            "\n",
            "Image 319:\n",
            "Detected objects: 2\n",
            "Average confidence: 0.61\n",
            "Class distribution: [2, 2]\n",
            "\n",
            "Image 320:\n",
            "Detected objects: 2\n",
            "Average confidence: 0.62\n",
            "Class distribution: [2, 2]\n",
            "\n",
            "Image 321:\n",
            "Detected objects: 2\n",
            "Average confidence: 0.40\n",
            "Class distribution: [2, 2]\n",
            "\n",
            "Image 322:\n",
            "Detected objects: 1\n",
            "Average confidence: 0.34\n",
            "Class distribution: [2]\n",
            "\n",
            "Image 323:\n",
            "Detected objects: 1\n",
            "Average confidence: 0.51\n",
            "Class distribution: [2]\n",
            "\n",
            "Image 324:\n",
            "Detected objects: 0\n",
            "\n",
            "Image 325:\n",
            "Detected objects: 2\n",
            "Average confidence: 0.61\n",
            "Class distribution: [2, 2]\n",
            "\n",
            "Image 326:\n",
            "Detected objects: 2\n",
            "Average confidence: 0.43\n",
            "Class distribution: [2, 2]\n",
            "\n",
            "Image 327:\n",
            "Detected objects: 2\n",
            "Average confidence: 0.30\n",
            "Class distribution: [2, 2]\n",
            "\n",
            "Image 328:\n",
            "Detected objects: 0\n",
            "\n",
            "Image 329:\n",
            "Detected objects: 0\n",
            "\n",
            "Image 330:\n",
            "Detected objects: 0\n",
            "\n",
            "Image 331:\n",
            "Detected objects: 0\n",
            "\n",
            "Image 332:\n",
            "Detected objects: 1\n",
            "Average confidence: 0.46\n",
            "Class distribution: [2]\n",
            "\n",
            "Image 333:\n",
            "Detected objects: 0\n",
            "\n",
            "Image 334:\n",
            "Detected objects: 0\n",
            "\n",
            "Image 335:\n",
            "Detected objects: 0\n",
            "\n",
            "Image 336:\n",
            "Detected objects: 0\n",
            "\n",
            "Image 337:\n",
            "Detected objects: 0\n",
            "\n",
            "Image 338:\n",
            "Detected objects: 0\n",
            "\n",
            "Image 339:\n",
            "Detected objects: 1\n",
            "Average confidence: 0.55\n",
            "Class distribution: [2]\n",
            "\n",
            "Image 340:\n",
            "Detected objects: 0\n",
            "\n",
            "Image 341:\n",
            "Detected objects: 0\n",
            "\n",
            "Image 342:\n",
            "Detected objects: 2\n",
            "Average confidence: 0.28\n",
            "Class distribution: [2, 2]\n",
            "\n",
            "Image 343:\n",
            "Detected objects: 1\n",
            "Average confidence: 0.27\n",
            "Class distribution: [2]\n",
            "\n",
            "Image 344:\n",
            "Detected objects: 0\n",
            "\n",
            "Image 345:\n",
            "Detected objects: 0\n",
            "\n",
            "Image 346:\n",
            "Detected objects: 1\n",
            "Average confidence: 0.35\n",
            "Class distribution: [2]\n",
            "\n",
            "Image 347:\n",
            "Detected objects: 2\n",
            "Average confidence: 0.34\n",
            "Class distribution: [2, 2]\n",
            "\n",
            "Image 348:\n",
            "Detected objects: 1\n",
            "Average confidence: 0.42\n",
            "Class distribution: [2]\n",
            "\n",
            "Image 349:\n",
            "Detected objects: 1\n",
            "Average confidence: 0.37\n",
            "Class distribution: [2]\n",
            "\n",
            "Image 350:\n",
            "Detected objects: 0\n",
            "\n",
            "Image 351:\n",
            "Detected objects: 1\n",
            "Average confidence: 0.96\n",
            "Class distribution: [2]\n",
            "\n",
            "Image 352:\n",
            "Detected objects: 2\n",
            "Average confidence: 0.67\n",
            "Class distribution: [2, 0]\n",
            "\n",
            "Image 353:\n",
            "Detected objects: 1\n",
            "Average confidence: 0.95\n",
            "Class distribution: [2]\n",
            "\n",
            "Image 354:\n",
            "Detected objects: 1\n",
            "Average confidence: 0.44\n",
            "Class distribution: [0]\n",
            "\n",
            "Image 355:\n",
            "Detected objects: 1\n",
            "Average confidence: 0.29\n",
            "Class distribution: [2]\n",
            "\n",
            "Image 356:\n",
            "Detected objects: 0\n",
            "\n",
            "Image 357:\n",
            "Detected objects: 3\n",
            "Average confidence: 0.62\n",
            "Class distribution: [2, 2, 2]\n",
            "\n",
            "Image 358:\n",
            "Detected objects: 3\n",
            "Average confidence: 0.50\n",
            "Class distribution: [2, 2, 2]\n",
            "\n",
            "Image 359:\n",
            "Detected objects: 3\n",
            "Average confidence: 0.88\n",
            "Class distribution: [2, 2, 2]\n",
            "\n",
            "Image 360:\n",
            "Detected objects: 2\n",
            "Average confidence: 0.93\n",
            "Class distribution: [2, 2]\n",
            "\n",
            "Image 361:\n",
            "Detected objects: 3\n",
            "Average confidence: 0.87\n",
            "Class distribution: [2, 2, 2]\n",
            "\n",
            "Image 362:\n",
            "Detected objects: 3\n",
            "Average confidence: 0.95\n",
            "Class distribution: [2, 2, 2]\n",
            "\n",
            "Image 363:\n",
            "Detected objects: 0\n",
            "\n",
            "Image 364:\n",
            "Detected objects: 4\n",
            "Average confidence: 0.70\n",
            "Class distribution: [2, 2, 2, 2]\n",
            "\n",
            "Image 365:\n",
            "Detected objects: 2\n",
            "Average confidence: 0.41\n",
            "Class distribution: [2, 2]\n",
            "\n",
            "Image 366:\n",
            "Detected objects: 4\n",
            "Average confidence: 0.64\n",
            "Class distribution: [2, 2, 2, 2]\n",
            "\n",
            "Image 367:\n",
            "Detected objects: 3\n",
            "Average confidence: 0.50\n",
            "Class distribution: [2, 2, 2]\n",
            "\n",
            "Image 368:\n",
            "Detected objects: 4\n",
            "Average confidence: 0.59\n",
            "Class distribution: [2, 1, 2, 1]\n",
            "\n",
            "Image 369:\n",
            "Detected objects: 2\n",
            "Average confidence: 0.87\n",
            "Class distribution: [2, 2]\n",
            "\n",
            "Image 370:\n",
            "Detected objects: 2\n",
            "Average confidence: 0.64\n",
            "Class distribution: [2, 1]\n",
            "\n",
            "Image 371:\n",
            "Detected objects: 2\n",
            "Average confidence: 0.49\n",
            "Class distribution: [2, 1]\n",
            "\n",
            "Image 372:\n",
            "Detected objects: 3\n",
            "Average confidence: 0.66\n",
            "Class distribution: [2, 2, 1]\n",
            "\n",
            "Image 373:\n",
            "Detected objects: 3\n",
            "Average confidence: 0.60\n",
            "Class distribution: [2, 2, 1]\n",
            "\n",
            "Image 374:\n",
            "Detected objects: 1\n",
            "Average confidence: 0.52\n",
            "Class distribution: [2]\n",
            "\n",
            "Image 375:\n",
            "Detected objects: 2\n",
            "Average confidence: 0.68\n",
            "Class distribution: [2, 2]\n",
            "\n",
            "Image 376:\n",
            "Detected objects: 1\n",
            "Average confidence: 0.29\n",
            "Class distribution: [2]\n",
            "\n",
            "Image 377:\n",
            "Detected objects: 0\n",
            "\n",
            "Image 378:\n",
            "Detected objects: 0\n",
            "\n",
            "Image 379:\n",
            "Detected objects: 0\n",
            "\n",
            "Image 380:\n",
            "Detected objects: 0\n",
            "\n",
            "Image 381:\n",
            "Detected objects: 0\n",
            "\n",
            "Image 382:\n",
            "Detected objects: 2\n",
            "Average confidence: 0.41\n",
            "Class distribution: [2, 2]\n",
            "\n",
            "Image 383:\n",
            "Detected objects: 0\n",
            "\n",
            "Image 384:\n",
            "Detected objects: 1\n",
            "Average confidence: 0.68\n",
            "Class distribution: [0]\n",
            "\n",
            "Image 385:\n",
            "Detected objects: 2\n",
            "Average confidence: 0.41\n",
            "Class distribution: [0, 0]\n",
            "\n",
            "Image 386:\n",
            "Detected objects: 1\n",
            "Average confidence: 0.37\n",
            "Class distribution: [0]\n",
            "\n",
            "Image 387:\n",
            "Detected objects: 0\n",
            "\n",
            "Image 388:\n",
            "Detected objects: 2\n",
            "Average confidence: 0.27\n",
            "Class distribution: [2, 0]\n",
            "\n",
            "Image 389:\n",
            "Detected objects: 0\n",
            "\n",
            "Image 390:\n",
            "Detected objects: 1\n",
            "Average confidence: 0.47\n",
            "Class distribution: [2]\n",
            "\n",
            "Image 391:\n",
            "Detected objects: 2\n",
            "Average confidence: 0.52\n",
            "Class distribution: [2, 2]\n",
            "\n",
            "Image 392:\n",
            "Detected objects: 0\n",
            "\n",
            "Image 393:\n",
            "Detected objects: 1\n",
            "Average confidence: 0.26\n",
            "Class distribution: [2]\n",
            "\n",
            "Image 394:\n",
            "Detected objects: 0\n",
            "\n",
            "Image 395:\n",
            "Detected objects: 0\n",
            "\n",
            "Image 396:\n",
            "Detected objects: 0\n",
            "\n",
            "Image 397:\n",
            "Detected objects: 0\n",
            "\n",
            "Image 398:\n",
            "Detected objects: 0\n",
            "\n",
            "Image 399:\n",
            "Detected objects: 0\n",
            "\n",
            "Image 400:\n",
            "Detected objects: 0\n",
            "\n",
            "Image 401:\n",
            "Detected objects: 1\n",
            "Average confidence: 0.32\n",
            "Class distribution: [2]\n",
            "\n",
            "Image 402:\n",
            "Detected objects: 0\n",
            "\n",
            "Image 403:\n",
            "Detected objects: 0\n",
            "\n",
            "Image 404:\n",
            "Detected objects: 0\n",
            "\n",
            "Image 405:\n",
            "Detected objects: 1\n",
            "Average confidence: 0.94\n",
            "Class distribution: [1]\n",
            "\n",
            "Image 406:\n",
            "Detected objects: 0\n",
            "\n",
            "Overall average confidence: 0.48\n",
            "Total detections across all test images: 343\n"
          ]
        }
      ]
    },
    {
      "cell_type": "code",
      "source": [
        "import shutil\n",
        "from google.colab import files\n",
        "\n",
        "# Set the paths for the folders and zip filenames\n",
        "folder1 = '/content/runs/detect/train3'\n",
        "folder2 = '/content/runs/detect/train4'\n",
        "\n",
        "# Create zip files for both folders\n",
        "shutil.make_archive('/content/train3', 'zip', '/content/runs/detect', 'train3')\n",
        "shutil.make_archive('/content/train4', 'zip', '/content/runs/detect', 'train4')\n",
        "\n",
        "# Download both zip files\n",
        "files.download('/content/train3.zip')\n",
        "files.download('/content/train4.zip')\n"
      ],
      "metadata": {
        "colab": {
          "base_uri": "https://localhost:8080/",
          "height": 52
        },
        "id": "j1fS1MEqC31z",
        "outputId": "35625d9f-a445-4350-8b0f-545681e00775"
      },
      "execution_count": null,
      "outputs": [
        {
          "output_type": "display_data",
          "data": {
            "text/plain": [
              "<IPython.core.display.Javascript object>"
            ],
            "application/javascript": [
              "\n",
              "    async function download(id, filename, size) {\n",
              "      if (!google.colab.kernel.accessAllowed) {\n",
              "        return;\n",
              "      }\n",
              "      const div = document.createElement('div');\n",
              "      const label = document.createElement('label');\n",
              "      label.textContent = `Downloading \"${filename}\": `;\n",
              "      div.appendChild(label);\n",
              "      const progress = document.createElement('progress');\n",
              "      progress.max = size;\n",
              "      div.appendChild(progress);\n",
              "      document.body.appendChild(div);\n",
              "\n",
              "      const buffers = [];\n",
              "      let downloaded = 0;\n",
              "\n",
              "      const channel = await google.colab.kernel.comms.open(id);\n",
              "      // Send a message to notify the kernel that we're ready.\n",
              "      channel.send({})\n",
              "\n",
              "      for await (const message of channel.messages) {\n",
              "        // Send a message to notify the kernel that we're ready.\n",
              "        channel.send({})\n",
              "        if (message.buffers) {\n",
              "          for (const buffer of message.buffers) {\n",
              "            buffers.push(buffer);\n",
              "            downloaded += buffer.byteLength;\n",
              "            progress.value = downloaded;\n",
              "          }\n",
              "        }\n",
              "      }\n",
              "      const blob = new Blob(buffers, {type: 'application/binary'});\n",
              "      const a = document.createElement('a');\n",
              "      a.href = window.URL.createObjectURL(blob);\n",
              "      a.download = filename;\n",
              "      div.appendChild(a);\n",
              "      a.click();\n",
              "      div.remove();\n",
              "    }\n",
              "  "
            ]
          },
          "metadata": {}
        },
        {
          "output_type": "display_data",
          "data": {
            "text/plain": [
              "<IPython.core.display.Javascript object>"
            ],
            "application/javascript": [
              "download(\"download_45b5947b-9d34-4796-a04c-a9affaa1de1c\", \"train3.zip\", 308437902)"
            ]
          },
          "metadata": {}
        },
        {
          "output_type": "display_data",
          "data": {
            "text/plain": [
              "<IPython.core.display.Javascript object>"
            ],
            "application/javascript": [
              "\n",
              "    async function download(id, filename, size) {\n",
              "      if (!google.colab.kernel.accessAllowed) {\n",
              "        return;\n",
              "      }\n",
              "      const div = document.createElement('div');\n",
              "      const label = document.createElement('label');\n",
              "      label.textContent = `Downloading \"${filename}\": `;\n",
              "      div.appendChild(label);\n",
              "      const progress = document.createElement('progress');\n",
              "      progress.max = size;\n",
              "      div.appendChild(progress);\n",
              "      document.body.appendChild(div);\n",
              "\n",
              "      const buffers = [];\n",
              "      let downloaded = 0;\n",
              "\n",
              "      const channel = await google.colab.kernel.comms.open(id);\n",
              "      // Send a message to notify the kernel that we're ready.\n",
              "      channel.send({})\n",
              "\n",
              "      for await (const message of channel.messages) {\n",
              "        // Send a message to notify the kernel that we're ready.\n",
              "        channel.send({})\n",
              "        if (message.buffers) {\n",
              "          for (const buffer of message.buffers) {\n",
              "            buffers.push(buffer);\n",
              "            downloaded += buffer.byteLength;\n",
              "            progress.value = downloaded;\n",
              "          }\n",
              "        }\n",
              "      }\n",
              "      const blob = new Blob(buffers, {type: 'application/binary'});\n",
              "      const a = document.createElement('a');\n",
              "      a.href = window.URL.createObjectURL(blob);\n",
              "      a.download = filename;\n",
              "      div.appendChild(a);\n",
              "      a.click();\n",
              "      div.remove();\n",
              "    }\n",
              "  "
            ]
          },
          "metadata": {}
        },
        {
          "output_type": "display_data",
          "data": {
            "text/plain": [
              "<IPython.core.display.Javascript object>"
            ],
            "application/javascript": [
              "download(\"download_369d94d9-d006-40cc-b0c5-4b51cd715445\", \"train4.zip\", 308437597)"
            ]
          },
          "metadata": {}
        }
      ]
    },
    {
      "cell_type": "code",
      "source": [
        "import matplotlib.pyplot as plt\n",
        "\n",
        "# Data\n",
        "classes = ['Car', 'Boat', 'Bicycle']\n",
        "mAP50 = [0.935, 0.748, 0.695]  # Your mAP50 scores\n",
        "recall = [0.882, 0.700, 0.644]  # Your recall scores\n",
        "\n",
        "# Style\n",
        "plt.style.use('seaborn-v0_8-whitegrid')\n",
        "mAP_color = '#3498db'  # Blue for mAP50\n",
        "recall_color = '#e74c3c'  # Red for recall\n",
        "\n",
        "# Plot\n",
        "fig, ax = plt.subplots(figsize=(6, 8))\n",
        "width = 0.35  # Bar width\n",
        "x = range(len(classes))\n",
        "\n",
        "# Bars\n",
        "mAP_bars = ax.bar(x, mAP50, width, color=mAP_color, label='mAP50', edgecolor='black', linewidth=1)\n",
        "recall_bars = ax.bar([i + width for i in x], recall, width, color=recall_color, label='Recall',\n",
        "                     edgecolor='black', linewidth=1)\n",
        "\n",
        "# Annotations\n",
        "ax.set_ylabel('Score', fontweight='bold', fontsize=12)\n",
        "ax.set_ylim(0, 1.1)\n",
        "ax.set_title('Model Performance by Class', pad=20, fontweight='bold', fontsize=14)\n",
        "ax.set_xticks([i + width/2 for i in x])\n",
        "ax.set_xticklabels(classes, fontweight='bold', fontsize=12)\n",
        "ax.legend(loc='upper right', fontsize=10)\n",
        "\n",
        "# Value labels (rounded to 1 decimal)\n",
        "for bar in mAP_bars + recall_bars:\n",
        "    height = bar.get_height()\n",
        "    ax.annotate(f'{height:.1%}',\n",
        "                xy=(bar.get_x() + bar.get_width() / 2, height),\n",
        "                xytext=(0, 3), textcoords='offset points',\n",
        "                ha='center', va='bottom', fontsize=10, fontweight='bold')\n",
        "\n",
        "plt.tight_layout()\n",
        "plt.savefig('performance_vertical_solid.png', dpi=300, bbox_inches='tight')"
      ],
      "metadata": {
        "colab": {
          "base_uri": "https://localhost:8080/",
          "height": 807
        },
        "id": "Wpwsbo41PUW5",
        "outputId": "8037c580-bb7e-43f0-d66e-e457d7e6457d"
      },
      "execution_count": null,
      "outputs": [
        {
          "output_type": "display_data",
          "data": {
            "text/plain": [
              "<Figure size 600x800 with 1 Axes>"
            ],
            "image/png": "[encoded data removed]"
          },
          "metadata": {}
        }
      ]
    },
    {
      "cell_type": "code",
      "source": [
        "from google.colab import drive\n",
        "# 1. Mount Google Drive\n",
        "drive.mount('/content/drive')"
      ],
      "metadata": {
        "colab": {
          "base_uri": "https://localhost:8080/"
        },
        "id": "DhUq7OqiB28M",
        "outputId": "1b446b4c-b53f-4f5e-cbc8-f961c8bc6d48"
      },
      "execution_count": null,
      "outputs": [
        {
          "output_type": "stream",
          "name": "stdout",
          "text": [
            "Mounted at /content/drive\n"
          ]
        }
      ]
    },
    {
      "cell_type": "markdown",
      "source": [
        "# **THIS CODE TESTS ON VAL AND TEST DATA**"
      ],
      "metadata": {
        "id": "8_Bo4JGjNq0M"
      }
    },
    {
      "cell_type": "code",
      "source": [
        "from ultralytics import YOLO\n",
        "from google.colab import drive\n",
        "import torch\n",
        "\n",
        "# 1. Check GPU availability\n",
        "if torch.cuda.is_available():\n",
        "    device = '0'  # Use GPU\n",
        "    print(f\"GPU available: {torch.cuda.get_device_name(0)}\")\n",
        "else:\n",
        "    device = 'cpu'  # Fall back to CPU\n",
        "    print(\"No GPU available, using CPU\")\n",
        "\n",
        "# 2. Load your trained model\n",
        "model_path = '/content/drive/MyDrive/thesisdataset/model_b.pt'\n",
        "model = YOLO(model_path)\n",
        "print(f\"Loaded trained model from {model_path}\")\n",
        "\n",
        "# 3. Validate the model on validation set and generate metrics\n",
        "print(\"\\nValidating on validation set...\")\n",
        "val_results = model.val(\n",
        "    data='/content/drive/MyDrive/thesisdataset/data.yaml',\n",
        "    split='val',  # Use validation set\n",
        "    conf=0.2,\n",
        "    iou=0.5,\n",
        "    device=device,  # Use the appropriate device\n",
        "    plots=True  # This will generate the metrics plots\n",
        ")\n",
        "\n",
        "# 4. Test the model on test set and generate metrics\n",
        "print(\"\\nTesting on test set...\")\n",
        "test_results = model.val(\n",
        "    data='/content/drive/MyDrive/thesisdataset/data.yaml',\n",
        "    split='test',  # Use test set\n",
        "    conf=0.2,\n",
        "    iou=0.5,\n",
        "    device=device,  # Use the appropriate device\n",
        "    plots=True  # This will generate the metrics plots\n",
        ")"
      ],
      "metadata": {
        "colab": {
          "base_uri": "https://localhost:8080/"
        },
        "id": "_14cCupHB9KE",
        "outputId": "c96da7b8-aef5-4621-ec86-441b64f0ec95"
      },
      "execution_count": null,
      "outputs": [
        {
          "output_type": "stream",
          "name": "stdout",
          "text": [
            "No GPU available, using CPU\n",
            "Loaded trained model from /content/drive/MyDrive/thesisdataset/model_b.pt\n",
            "\n",
            "Validating on validation set...\n",
            "Ultralytics 8.3.159 🚀 Python-3.11.13 torch-2.6.0+cu124 CPU (Intel Xeon 2.20GHz)\n",
            "Model summary (fused): 72 layers, 3,006,233 parameters, 0 gradients, 8.1 GFLOPs\n",
            "\u001b[34m\u001b[1mval: \u001b[0mFast image access ✅ (ping: 0.5±0.2 ms, read: 19.3±8.8 MB/s, size: 42.8 KB)\n"
          ]
        },
        {
          "output_type": "stream",
          "name": "stderr",
          "text": [
            "\u001b[34m\u001b[1mval: \u001b[0mScanning /content/drive/MyDrive/thesisdataset/valid/labels.cache... 120 images, 1 backgrounds, 0 corrupt: 100%|██████████| 120/120 [00:00<?, ?it/s]\n",
            "                 Class     Images  Instances      Box(P          R      mAP50  mAP50-95): 100%|██████████| 8/8 [00:37<00:00,  4.71s/it]\n"
          ]
        },
        {
          "output_type": "stream",
          "name": "stdout",
          "text": [
            "                   all        120        161      0.681      0.867      0.802        0.6\n",
            "               bicycle         47         73      0.594      0.781      0.671       0.53\n",
            "                  boat         19         20       0.81       0.85        0.8      0.477\n",
            "                   car         53         68      0.641      0.971      0.937      0.793\n",
            "Speed: 6.5ms preprocess, 288.5ms inference, 0.0ms loss, 1.0ms postprocess per image\n",
            "Results saved to \u001b[1mruns/detect/val8\u001b[0m\n",
            "\n",
            "Testing on test set...\n",
            "Ultralytics 8.3.159 🚀 Python-3.11.13 torch-2.6.0+cu124 CPU (Intel Xeon 2.20GHz)\n",
            "\u001b[34m\u001b[1mval: \u001b[0mFast image access ✅ (ping: 1.0±1.0 ms, read: 7.6±7.3 MB/s, size: 38.4 KB)\n"
          ]
        },
        {
          "output_type": "stream",
          "name": "stderr",
          "text": [
            "\u001b[34m\u001b[1mval: \u001b[0mScanning /content/drive/MyDrive/thesisdataset/test/labels.cache... 106 images, 1 backgrounds, 0 corrupt: 100%|██████████| 106/106 [00:00<?, ?it/s]\n",
            "                 Class     Images  Instances      Box(P          R      mAP50  mAP50-95): 100%|██████████| 7/7 [00:33<00:00,  4.78s/it]\n"
          ]
        },
        {
          "output_type": "stream",
          "name": "stdout",
          "text": [
            "                   all        106        127      0.509       0.57      0.539      0.259\n",
            "               bicycle         37         41      0.444      0.585      0.464      0.258\n",
            "                  boat         21         25      0.615       0.32      0.439     0.0753\n",
            "                   car         54         61      0.467      0.803      0.715      0.444\n",
            "Speed: 6.4ms preprocess, 291.1ms inference, 0.0ms loss, 0.8ms postprocess per image\n",
            "Results saved to \u001b[1mruns/detect/val9\u001b[0m\n"
          ]
        }
      ]
    }
  ],
  "metadata": {
    "colab": {
      "provenance": [],
      "gpuType": "T4"
    },
    "kernelspec": {
      "display_name": "Python 3",
      "name": "python3"
    },
    "language_info": {
      "name": "python"
    },
    "accelerator": "GPU"
  },
  "nbformat": 4,
  "nbformat_minor": 0
}