{
  "nbformat": 4,
  "nbformat_minor": 0,
  "metadata": {
    "colab": {
      "provenance": [],
      "gpuType": "T4"
    },
    "kernelspec": {
      "name": "python3",
      "display_name": "Python 3"
    },
    "language_info": {
      "name": "python"
    },
    "accelerator": "GPU"
  },
  "cells": [
    {
      "cell_type": "code",
      "execution_count": null,
      "metadata": {
        "colab": {
          "base_uri": "https://localhost:8080/"
        },
        "id": "pzEWq49sLJ4F",
        "outputId": "4d83763c-9385-42e7-addc-1c29977693ed"
      },
      "outputs": [
        {
          "output_type": "stream",
          "name": "stdout",
          "text": [
            "Drive already mounted at /content/drive; to attempt to forcibly remount, call drive.mount(\"/content/drive\", force_remount=True).\n",
            "images\tlabels\n",
            "/bin/bash: line 1: tree: command not found\n",
            "\u001b[2K   \u001b[90m━━━━━━━━━━━━━━━━━━━━━━━━━━━━━━━━━━━━━━━━\u001b[0m \u001b[32m1.0/1.0 MB\u001b[0m \u001b[31m53.3 MB/s\u001b[0m eta \u001b[36m0:00:00\u001b[0m\n",
            "\u001b[2K   \u001b[90m━━━━━━━━━━━━━━━━━━━━━━━━━━━━━━━━━━━━━━━━\u001b[0m \u001b[32m363.4/363.4 MB\u001b[0m \u001b[31m3.9 MB/s\u001b[0m eta \u001b[36m0:00:00\u001b[0m\n",
            "\u001b[2K   \u001b[90m━━━━━━━━━━━━━━━━━━━━━━━━━━━━━━━━━━━━━━━━\u001b[0m \u001b[32m13.8/13.8 MB\u001b[0m \u001b[31m124.9 MB/s\u001b[0m eta \u001b[36m0:00:00\u001b[0m\n",
            "\u001b[2K   \u001b[90m━━━━━━━━━━━━━━━━━━━━━━━━━━━━━━━━━━━━━━━━\u001b[0m \u001b[32m24.6/24.6 MB\u001b[0m \u001b[31m83.8 MB/s\u001b[0m eta \u001b[36m0:00:00\u001b[0m\n",
            "\u001b[2K   \u001b[90m━━━━━━━━━━━━━━━━━━━━━━━━━━━━━━━━━━━━━━━━\u001b[0m \u001b[32m883.7/883.7 kB\u001b[0m \u001b[31m51.6 MB/s\u001b[0m eta \u001b[36m0:00:00\u001b[0m\n",
            "\u001b[2K   \u001b[90m━━━━━━━━━━━━━━━━━━━━━━━━━━━━━━━━━━━━━━━\u001b[0m \u001b[32m664.8/664.8 MB\u001b[0m \u001b[31m866.7 kB/s\u001b[0m eta \u001b[36m0:00:00\u001b[0m\n",
            "\u001b[2K   \u001b[90m━━━━━━━━━━━━━━━━━━━━━━━━━━━━━━━━━━━━━━━━\u001b[0m \u001b[32m211.5/211.5 MB\u001b[0m \u001b[31m6.0 MB/s\u001b[0m eta \u001b[36m0:00:00\u001b[0m\n",
            "\u001b[2K   \u001b[90m━━━━━━━━━━━━━━━━━━━━━━━━━━━━━━━━━━━━━━━━\u001b[0m \u001b[32m56.3/56.3 MB\u001b[0m \u001b[31m13.1 MB/s\u001b[0m eta \u001b[36m0:00:00\u001b[0m\n",
            "\u001b[2K   \u001b[90m━━━━━━━━━━━━━━━━━━━━━━━━━━━━━━━━━━━━━━━━\u001b[0m \u001b[32m127.9/127.9 MB\u001b[0m \u001b[31m7.0 MB/s\u001b[0m eta \u001b[36m0:00:00\u001b[0m\n",
            "\u001b[2K   \u001b[90m━━━━━━━━━━━━━━━━━━━━━━━━━━━━━━━━━━━━━━━━\u001b[0m \u001b[32m207.5/207.5 MB\u001b[0m \u001b[31m6.5 MB/s\u001b[0m eta \u001b[36m0:00:00\u001b[0m\n",
            "\u001b[2K   \u001b[90m━━━━━━━━━━━━━━━━━━━━━━━━━━━━━━━━━━━━━━━━\u001b[0m \u001b[32m21.1/21.1 MB\u001b[0m \u001b[31m103.4 MB/s\u001b[0m eta \u001b[36m0:00:00\u001b[0m\n",
            "\u001b[?25hCreating new Ultralytics Settings v0.0.6 file ✅ \n",
            "View Ultralytics Settings with 'yolo settings' or at '/root/.config/Ultralytics/settings.json'\n",
            "Update Settings with 'yolo settings key=value', i.e. 'yolo settings runs_dir=path/to/dir'. For help see https://docs.ultralytics.com/quickstart/#ultralytics-settings.\n",
            "Ultralytics version: 8.3.159\n",
            "PyTorch version: 2.6.0+cu124\n",
            "CUDA available: True\n",
            "GPU device: Tesla T4\n"
          ]
        }
      ],
      "source": [
        "# Mount Google Drive\n",
        "from google.colab import drive\n",
        "drive.mount('/content/drive')\n",
        "\n",
        "# Unzip dataset\n",
        "import zipfile\n",
        "dataset_zip = '/content/drive/MyDrive/yolo_dataset_degraded.zip'\n",
        "!mkdir -p /content/datasetdegraded\n",
        "with zipfile.ZipFile(dataset_zip, 'r') as zip_ref:\n",
        "    zip_ref.extractall('/content/datasetdegraded')\n",
        "\n",
        "# Verify dataset structure\n",
        "!ls /content/datasetdegraded\n",
        "!tree -L 2 /content/datasetdegraded\n",
        "\n",
        "# Install packages\n",
        "!pip install ultralytics torch torchvision --quiet\n",
        "\n",
        "# Verify installations\n",
        "import ultralytics\n",
        "import torch\n",
        "print(f\"Ultralytics version: {ultralytics.__version__}\")\n",
        "print(f\"PyTorch version: {torch.__version__}\")\n",
        "print(f\"CUDA available: {torch.cuda.is_available()}\")\n",
        "print(f\"GPU device: {torch.cuda.get_device_name(0) if torch.cuda.is_available() else 'None'}\")"
      ]
    },
    {
      "cell_type": "code",
      "source": [
        "dataset_yaml = \"\"\"\n",
        "train: /content/datasetdegraded/images/train\n",
        "val: /content/datasetdegraded/images/val\n",
        "nc: 3\n",
        "names: ['bicycle', 'boat', 'car']\n",
        "\"\"\"\n",
        "\n",
        "with open('/content/datasetdegraded.yaml', 'w') as f:\n",
        "    f.write(dataset_yaml)\n",
        "\n",
        "from ultralytics import YOLO\n",
        "import torch\n",
        "import os  # Added for path verification\n",
        "\n",
        "# Verify paths\n",
        "assert os.path.exists('/content/datasetdegraded/images/train'), \"Train path not found!\"\n",
        "assert os.path.exists('/content/datasetdegraded/images/val'), \"Val path not found!\"\n",
        "\n",
        "# GPU Check\n",
        "print(f\"GPU: {torch.cuda.get_device_name(0)}\")\n",
        "model = YOLO('yolov8n.pt')\n",
        "\n",
        "results = model.train(\n",
        "    data='/content/datasetdegraded.yaml',\n",
        "    epochs=100,\n",
        "    patience=5,\n",
        "    imgsz=640,\n",
        "    batch=16,\n",
        "    device=0,\n",
        "    name='bw_vehicle_detector',\n",
        "    optimizer='Adam',\n",
        "    lr0=0.005,\n",
        "    hsv_h=0.0,\n",
        "    hsv_s=0.0,\n",
        "    hsv_v=0.1,\n",
        "    degrees=5.0,\n",
        "    fliplr=0.3,\n",
        "    mosaic=0.0,\n",
        "    mixup=0.0,\n",
        "    copy_paste=0.0,\n",
        "    seed=42\n",
        ")\n",
        "\n",
        "# Validate\n",
        "metrics = model.val()\n",
        "print(f\"mAP50-95: {metrics.box.map:.4f}\")\n",
        "\n",
        "# Export and verify\n",
        "best_model_path = '/content/runs/detect/bw_vehicle_detector/weights/best.pt'\n",
        "model.export(format='onnx')\n",
        "onnx_path = best_model_path.replace('.pt', '.onnx')\n",
        "\n",
        "loaded_model = YOLO(best_model_path)\n",
        "print(\"\\nTest inference on validation set:\")\n",
        "_ = loaded_model.predict('/content/datasetdegraded/images/val', save=True, imgsz=640)  # Fixed path\n",
        "\n",
        "print(f\"\\nTraining complete. Models saved:\")\n",
        "print(f\"- PyTorch: {best_model_path}\")\n",
        "print(f\"- ONNX: {onnx_path}\")"
      ],
      "metadata": {
        "colab": {
          "base_uri": "https://localhost:8080/"
        },
        "id": "B0vjZxf7Llgi",
        "outputId": "22305386-4468-49ea-d731-3ee26dbfbf80"
      },
      "execution_count": null,
      "outputs": [
        {
          "output_type": "stream",
          "name": "stdout",
          "text": [
            "GPU: Tesla T4\n",
            "Downloading https://github.com/ultralytics/assets/releases/download/v8.3.0/yolov8n.pt to 'yolov8n.pt'...\n"
          ]
        },
        {
          "output_type": "stream",
          "name": "stderr",
          "text": [
            "100%|██████████| 6.25M/6.25M [00:00<00:00, 299MB/s]\n"
          ]
        },
        {
          "output_type": "stream",
          "name": "stdout",
          "text": [
            "Ultralytics 8.3.159 🚀 Python-3.11.13 torch-2.6.0+cu124 CUDA:0 (Tesla T4, 15095MiB)\n",
            "\u001b[34m\u001b[1mengine/trainer: \u001b[0magnostic_nms=False, amp=True, augment=False, auto_augment=randaugment, batch=16, bgr=0.0, box=7.5, cache=False, cfg=None, classes=None, close_mosaic=10, cls=0.5, conf=None, copy_paste=0.0, copy_paste_mode=flip, cos_lr=False, cutmix=0.0, data=/content/datasetdegraded.yaml, degrees=5.0, deterministic=True, device=0, dfl=1.5, dnn=False, dropout=0.0, dynamic=False, embed=None, epochs=100, erasing=0.4, exist_ok=False, fliplr=0.3, flipud=0.0, format=torchscript, fraction=1.0, freeze=None, half=False, hsv_h=0.0, hsv_s=0.0, hsv_v=0.1, imgsz=640, int8=False, iou=0.7, keras=False, kobj=1.0, line_width=None, lr0=0.005, lrf=0.01, mask_ratio=4, max_det=300, mixup=0.0, mode=train, model=yolov8n.pt, momentum=0.937, mosaic=0.0, multi_scale=False, name=bw_vehicle_detector, nbs=64, nms=False, opset=None, optimize=False, optimizer=Adam, overlap_mask=True, patience=5, perspective=0.0, plots=True, pose=12.0, pretrained=True, profile=False, project=None, rect=False, resume=False, retina_masks=False, save=True, save_conf=False, save_crop=False, save_dir=runs/detect/bw_vehicle_detector, save_frames=False, save_json=False, save_period=-1, save_txt=False, scale=0.5, seed=42, shear=0.0, show=False, show_boxes=True, show_conf=True, show_labels=True, simplify=True, single_cls=False, source=None, split=val, stream_buffer=False, task=detect, time=None, tracker=botsort.yaml, translate=0.1, val=True, verbose=True, vid_stride=1, visualize=False, warmup_bias_lr=0.1, warmup_epochs=3.0, warmup_momentum=0.8, weight_decay=0.0005, workers=8, workspace=None\n",
            "Downloading https://ultralytics.com/assets/Arial.ttf to '/root/.config/Ultralytics/Arial.ttf'...\n"
          ]
        },
        {
          "output_type": "stream",
          "name": "stderr",
          "text": [
            "100%|██████████| 755k/755k [00:00<00:00, 95.0MB/s]"
          ]
        },
        {
          "output_type": "stream",
          "name": "stdout",
          "text": [
            "Overriding model.yaml nc=80 with nc=3\n",
            "\n",
            "                   from  n    params  module                                       arguments                     \n",
            "  0                  -1  1       464  ultralytics.nn.modules.conv.Conv             [3, 16, 3, 2]                 \n",
            "  1                  -1  1      4672  ultralytics.nn.modules.conv.Conv             [16, 32, 3, 2]                \n",
            "  2                  -1  1      7360  ultralytics.nn.modules.block.C2f             [32, 32, 1, True]             \n",
            "  3                  -1  1     18560  ultralytics.nn.modules.conv.Conv             [32, 64, 3, 2]                \n",
            "  4                  -1  2     49664  ultralytics.nn.modules.block.C2f             [64, 64, 2, True]             \n",
            "  5                  -1  1     73984  ultralytics.nn.modules.conv.Conv             [64, 128, 3, 2]               \n",
            "  6                  -1  2    197632  ultralytics.nn.modules.block.C2f             [128, 128, 2, True]           \n",
            "  7                  -1  1    295424  ultralytics.nn.modules.conv.Conv             [128, 256, 3, 2]              \n",
            "  8                  -1  1    460288  ultralytics.nn.modules.block.C2f             [256, 256, 1, True]           \n",
            "  9                  -1  1    164608  ultralytics.nn.modules.block.SPPF            [256, 256, 5]                 \n",
            " 10                  -1  1         0  torch.nn.modules.upsampling.Upsample         [None, 2, 'nearest']          \n",
            " 11             [-1, 6]  1         0  ultralytics.nn.modules.conv.Concat           [1]                           \n",
            " 12                  -1  1    148224  ultralytics.nn.modules.block.C2f             [384, 128, 1]                 \n",
            " 13                  -1  1         0  torch.nn.modules.upsampling.Upsample         [None, 2, 'nearest']          \n",
            " 14             [-1, 4]  1         0  ultralytics.nn.modules.conv.Concat           [1]                           \n",
            " 15                  -1  1     37248  ultralytics.nn.modules.block.C2f             [192, 64, 1]                  \n",
            " 16                  -1  1     36992  ultralytics.nn.modules.conv.Conv             [64, 64, 3, 2]                \n",
            " 17            [-1, 12]  1         0  ultralytics.nn.modules.conv.Concat           [1]                           \n",
            " 18                  -1  1    123648  ultralytics.nn.modules.block.C2f             [192, 128, 1]                 \n",
            " 19                  -1  1    147712  ultralytics.nn.modules.conv.Conv             [128, 128, 3, 2]              \n",
            " 20             [-1, 9]  1         0  ultralytics.nn.modules.conv.Concat           [1]                           \n",
            " 21                  -1  1    493056  ultralytics.nn.modules.block.C2f             [384, 256, 1]                 \n",
            " 22        [15, 18, 21]  1    751897  ultralytics.nn.modules.head.Detect           [3, [64, 128, 256]]           \n"
          ]
        },
        {
          "output_type": "stream",
          "name": "stderr",
          "text": [
            "\n"
          ]
        },
        {
          "output_type": "stream",
          "name": "stdout",
          "text": [
            "Model summary: 129 layers, 3,011,433 parameters, 3,011,417 gradients, 8.2 GFLOPs\n",
            "\n",
            "Transferred 319/355 items from pretrained weights\n",
            "Freezing layer 'model.22.dfl.conv.weight'\n",
            "\u001b[34m\u001b[1mAMP: \u001b[0mrunning Automatic Mixed Precision (AMP) checks...\n",
            "Downloading https://github.com/ultralytics/assets/releases/download/v8.3.0/yolo11n.pt to 'yolo11n.pt'...\n"
          ]
        },
        {
          "output_type": "stream",
          "name": "stderr",
          "text": [
            "100%|██████████| 5.35M/5.35M [00:00<00:00, 205MB/s]\n"
          ]
        },
        {
          "output_type": "stream",
          "name": "stdout",
          "text": [
            "\u001b[34m\u001b[1mAMP: \u001b[0mchecks passed ✅\n",
            "\u001b[34m\u001b[1mtrain: \u001b[0mFast image access ✅ (ping: 0.0±0.0 ms, read: 131.8±205.5 MB/s, size: 86.3 KB)\n"
          ]
        },
        {
          "output_type": "stream",
          "name": "stderr",
          "text": [
            "\u001b[34m\u001b[1mtrain: \u001b[0mScanning /content/datasetdegraded/labels/train... 1807 images, 0 backgrounds, 0 corrupt: 100%|██████████| 1807/1807 [00:04<00:00, 444.69it/s]"
          ]
        },
        {
          "output_type": "stream",
          "name": "stdout",
          "text": [
            "\u001b[34m\u001b[1mtrain: \u001b[0mNew cache created: /content/datasetdegraded/labels/train.cache\n"
          ]
        },
        {
          "output_type": "stream",
          "name": "stderr",
          "text": [
            "\n"
          ]
        },
        {
          "output_type": "stream",
          "name": "stdout",
          "text": [
            "\u001b[34m\u001b[1malbumentations: \u001b[0mBlur(p=0.01, blur_limit=(3, 7)), MedianBlur(p=0.01, blur_limit=(3, 7)), ToGray(p=0.01, method='weighted_average', num_output_channels=3), CLAHE(p=0.01, clip_limit=(1.0, 4.0), tile_grid_size=(8, 8))\n",
            "\u001b[34m\u001b[1mval: \u001b[0mFast image access ✅ (ping: 0.0±0.0 ms, read: 25.5±5.4 MB/s, size: 92.4 KB)\n"
          ]
        },
        {
          "output_type": "stream",
          "name": "stderr",
          "text": [
            "\u001b[34m\u001b[1mval: \u001b[0mScanning /content/datasetdegraded/labels/val... 507 images, 0 backgrounds, 0 corrupt: 100%|██████████| 507/507 [00:01<00:00, 372.02it/s]"
          ]
        },
        {
          "output_type": "stream",
          "name": "stdout",
          "text": [
            "\u001b[34m\u001b[1mval: \u001b[0mNew cache created: /content/datasetdegraded/labels/val.cache\n"
          ]
        },
        {
          "output_type": "stream",
          "name": "stderr",
          "text": [
            "\n"
          ]
        },
        {
          "output_type": "stream",
          "name": "stdout",
          "text": [
            "Plotting labels to runs/detect/bw_vehicle_detector/labels.jpg... \n",
            "\u001b[34m\u001b[1moptimizer:\u001b[0m Adam(lr=0.005, momentum=0.937) with parameter groups 57 weight(decay=0.0), 64 weight(decay=0.0005), 63 bias(decay=0.0)\n",
            "Image sizes 640 train, 640 val\n",
            "Using 2 dataloader workers\n",
            "Logging results to \u001b[1mruns/detect/bw_vehicle_detector\u001b[0m\n",
            "Starting training for 100 epochs...\n",
            "\n",
            "      Epoch    GPU_mem   box_loss   cls_loss   dfl_loss  Instances       Size\n"
          ]
        },
        {
          "output_type": "stream",
          "name": "stderr",
          "text": [
            "      1/100      2.02G      1.907      3.166      2.034         29        640: 100%|██████████| 113/113 [00:33<00:00,  3.34it/s]\n",
            "                 Class     Images  Instances      Box(P          R      mAP50  mAP50-95): 100%|██████████| 16/16 [00:05<00:00,  2.98it/s]"
          ]
        },
        {
          "output_type": "stream",
          "name": "stdout",
          "text": [
            "                   all        507        933      0.681     0.0607    0.00867    0.00286\n"
          ]
        },
        {
          "output_type": "stream",
          "name": "stderr",
          "text": [
            "\n"
          ]
        },
        {
          "output_type": "stream",
          "name": "stdout",
          "text": [
            "\n",
            "      Epoch    GPU_mem   box_loss   cls_loss   dfl_loss  Instances       Size\n"
          ]
        },
        {
          "output_type": "stream",
          "name": "stderr",
          "text": [
            "      2/100      2.55G      2.124      3.025      2.306         20        640: 100%|██████████| 113/113 [00:32<00:00,  3.43it/s]\n",
            "                 Class     Images  Instances      Box(P          R      mAP50  mAP50-95): 100%|██████████| 16/16 [00:04<00:00,  3.47it/s]\n"
          ]
        },
        {
          "output_type": "stream",
          "name": "stdout",
          "text": [
            "                   all        507        933      0.355      0.105     0.0179    0.00659\n",
            "\n",
            "      Epoch    GPU_mem   box_loss   cls_loss   dfl_loss  Instances       Size\n"
          ]
        },
        {
          "output_type": "stream",
          "name": "stderr",
          "text": [
            "      3/100      2.57G      2.098      2.946      2.304         22        640: 100%|██████████| 113/113 [00:30<00:00,  3.72it/s]\n",
            "                 Class     Images  Instances      Box(P          R      mAP50  mAP50-95): 100%|██████████| 16/16 [00:04<00:00,  3.90it/s]\n"
          ]
        },
        {
          "output_type": "stream",
          "name": "stdout",
          "text": [
            "                   all        507        933     0.0864      0.218     0.0599     0.0258\n",
            "\n",
            "      Epoch    GPU_mem   box_loss   cls_loss   dfl_loss  Instances       Size\n"
          ]
        },
        {
          "output_type": "stream",
          "name": "stderr",
          "text": [
            "      4/100      2.59G      2.001      2.861      2.187         22        640: 100%|██████████| 113/113 [00:30<00:00,  3.67it/s]\n",
            "                 Class     Images  Instances      Box(P          R      mAP50  mAP50-95): 100%|██████████| 16/16 [00:05<00:00,  3.00it/s]\n"
          ]
        },
        {
          "output_type": "stream",
          "name": "stdout",
          "text": [
            "                   all        507        933     0.0877      0.135     0.0662     0.0254\n",
            "\n",
            "      Epoch    GPU_mem   box_loss   cls_loss   dfl_loss  Instances       Size\n"
          ]
        },
        {
          "output_type": "stream",
          "name": "stderr",
          "text": [
            "      5/100      2.61G       1.98       2.83      2.168         24        640: 100%|██████████| 113/113 [00:30<00:00,  3.71it/s]\n",
            "                 Class     Images  Instances      Box(P          R      mAP50  mAP50-95): 100%|██████████| 16/16 [00:04<00:00,  3.73it/s]"
          ]
        },
        {
          "output_type": "stream",
          "name": "stdout",
          "text": [
            "                   all        507        933      0.121      0.276     0.0993     0.0419\n"
          ]
        },
        {
          "output_type": "stream",
          "name": "stderr",
          "text": [
            "\n"
          ]
        },
        {
          "output_type": "stream",
          "name": "stdout",
          "text": [
            "\n",
            "      Epoch    GPU_mem   box_loss   cls_loss   dfl_loss  Instances       Size\n"
          ]
        },
        {
          "output_type": "stream",
          "name": "stderr",
          "text": [
            "      6/100      2.62G      1.914      2.658      2.076         30        640: 100%|██████████| 113/113 [00:29<00:00,  3.78it/s]\n",
            "                 Class     Images  Instances      Box(P          R      mAP50  mAP50-95): 100%|██████████| 16/16 [00:05<00:00,  2.78it/s]\n"
          ]
        },
        {
          "output_type": "stream",
          "name": "stdout",
          "text": [
            "                   all        507        933      0.155      0.233      0.121     0.0563\n",
            "\n",
            "      Epoch    GPU_mem   box_loss   cls_loss   dfl_loss  Instances       Size\n"
          ]
        },
        {
          "output_type": "stream",
          "name": "stderr",
          "text": [
            "      7/100      2.64G      1.878      2.581      2.028         35        640: 100%|██████████| 113/113 [00:30<00:00,  3.72it/s]\n",
            "                 Class     Images  Instances      Box(P          R      mAP50  mAP50-95): 100%|██████████| 16/16 [00:04<00:00,  3.99it/s]\n"
          ]
        },
        {
          "output_type": "stream",
          "name": "stdout",
          "text": [
            "                   all        507        933      0.235      0.213      0.147     0.0635\n",
            "\n",
            "      Epoch    GPU_mem   box_loss   cls_loss   dfl_loss  Instances       Size\n"
          ]
        },
        {
          "output_type": "stream",
          "name": "stderr",
          "text": [
            "      8/100      2.66G      1.831      2.527      1.982         21        640: 100%|██████████| 113/113 [00:30<00:00,  3.74it/s]\n",
            "                 Class     Images  Instances      Box(P          R      mAP50  mAP50-95): 100%|██████████| 16/16 [00:05<00:00,  2.83it/s]"
          ]
        },
        {
          "output_type": "stream",
          "name": "stdout",
          "text": [
            "                   all        507        933      0.305      0.233      0.207      0.109\n"
          ]
        },
        {
          "output_type": "stream",
          "name": "stderr",
          "text": [
            "\n"
          ]
        },
        {
          "output_type": "stream",
          "name": "stdout",
          "text": [
            "\n",
            "      Epoch    GPU_mem   box_loss   cls_loss   dfl_loss  Instances       Size\n"
          ]
        },
        {
          "output_type": "stream",
          "name": "stderr",
          "text": [
            "      9/100      2.67G      1.775      2.423      1.916         24        640: 100%|██████████| 113/113 [00:29<00:00,  3.79it/s]\n",
            "                 Class     Images  Instances      Box(P          R      mAP50  mAP50-95): 100%|██████████| 16/16 [00:04<00:00,  3.82it/s]\n"
          ]
        },
        {
          "output_type": "stream",
          "name": "stdout",
          "text": [
            "                   all        507        933      0.382       0.19      0.172     0.0831\n",
            "\n",
            "      Epoch    GPU_mem   box_loss   cls_loss   dfl_loss  Instances       Size\n"
          ]
        },
        {
          "output_type": "stream",
          "name": "stderr",
          "text": [
            "     10/100      2.69G      1.778      2.417      1.913         21        640: 100%|██████████| 113/113 [00:30<00:00,  3.75it/s]\n",
            "                 Class     Images  Instances      Box(P          R      mAP50  mAP50-95): 100%|██████████| 16/16 [00:04<00:00,  3.44it/s]"
          ]
        },
        {
          "output_type": "stream",
          "name": "stdout",
          "text": [
            "                   all        507        933      0.377      0.205      0.201      0.103\n"
          ]
        },
        {
          "output_type": "stream",
          "name": "stderr",
          "text": [
            "\n"
          ]
        },
        {
          "output_type": "stream",
          "name": "stdout",
          "text": [
            "\n",
            "      Epoch    GPU_mem   box_loss   cls_loss   dfl_loss  Instances       Size\n"
          ]
        },
        {
          "output_type": "stream",
          "name": "stderr",
          "text": [
            "     11/100      2.71G       1.76       2.36      1.923         22        640: 100%|██████████| 113/113 [00:30<00:00,  3.71it/s]\n",
            "                 Class     Images  Instances      Box(P          R      mAP50  mAP50-95): 100%|██████████| 16/16 [00:04<00:00,  3.69it/s]"
          ]
        },
        {
          "output_type": "stream",
          "name": "stdout",
          "text": [
            "                   all        507        933      0.389      0.273      0.276      0.148\n"
          ]
        },
        {
          "output_type": "stream",
          "name": "stderr",
          "text": [
            "\n"
          ]
        },
        {
          "output_type": "stream",
          "name": "stdout",
          "text": [
            "\n",
            "      Epoch    GPU_mem   box_loss   cls_loss   dfl_loss  Instances       Size\n"
          ]
        },
        {
          "output_type": "stream",
          "name": "stderr",
          "text": [
            "     12/100      2.72G      1.708      2.313      1.866         24        640: 100%|██████████| 113/113 [00:30<00:00,  3.76it/s]\n",
            "                 Class     Images  Instances      Box(P          R      mAP50  mAP50-95): 100%|██████████| 16/16 [00:04<00:00,  3.87it/s]\n"
          ]
        },
        {
          "output_type": "stream",
          "name": "stdout",
          "text": [
            "                   all        507        933      0.547      0.227      0.278      0.148\n",
            "\n",
            "      Epoch    GPU_mem   box_loss   cls_loss   dfl_loss  Instances       Size\n"
          ]
        },
        {
          "output_type": "stream",
          "name": "stderr",
          "text": [
            "     13/100      2.74G       1.69      2.248      1.851         34        640: 100%|██████████| 113/113 [00:29<00:00,  3.79it/s]\n",
            "                 Class     Images  Instances      Box(P          R      mAP50  mAP50-95): 100%|██████████| 16/16 [00:05<00:00,  2.81it/s]\n"
          ]
        },
        {
          "output_type": "stream",
          "name": "stdout",
          "text": [
            "                   all        507        933      0.394      0.304      0.295      0.157\n",
            "\n",
            "      Epoch    GPU_mem   box_loss   cls_loss   dfl_loss  Instances       Size\n"
          ]
        },
        {
          "output_type": "stream",
          "name": "stderr",
          "text": [
            "     14/100      2.76G      1.682      2.212       1.82         27        640: 100%|██████████| 113/113 [00:29<00:00,  3.79it/s]\n",
            "                 Class     Images  Instances      Box(P          R      mAP50  mAP50-95): 100%|██████████| 16/16 [00:04<00:00,  3.91it/s]\n"
          ]
        },
        {
          "output_type": "stream",
          "name": "stdout",
          "text": [
            "                   all        507        933      0.473      0.304      0.311      0.173\n",
            "\n",
            "      Epoch    GPU_mem   box_loss   cls_loss   dfl_loss  Instances       Size\n"
          ]
        },
        {
          "output_type": "stream",
          "name": "stderr",
          "text": [
            "     15/100      2.78G       1.67      2.197       1.81         21        640: 100%|██████████| 113/113 [00:30<00:00,  3.72it/s]\n",
            "                 Class     Images  Instances      Box(P          R      mAP50  mAP50-95): 100%|██████████| 16/16 [00:05<00:00,  2.80it/s]"
          ]
        },
        {
          "output_type": "stream",
          "name": "stdout",
          "text": [
            "                   all        507        933      0.414      0.303      0.306      0.171\n"
          ]
        },
        {
          "output_type": "stream",
          "name": "stderr",
          "text": [
            "\n"
          ]
        },
        {
          "output_type": "stream",
          "name": "stdout",
          "text": [
            "\n",
            "      Epoch    GPU_mem   box_loss   cls_loss   dfl_loss  Instances       Size\n"
          ]
        },
        {
          "output_type": "stream",
          "name": "stderr",
          "text": [
            "     16/100      2.79G      1.629      2.127      1.781         33        640: 100%|██████████| 113/113 [00:30<00:00,  3.70it/s]\n",
            "                 Class     Images  Instances      Box(P          R      mAP50  mAP50-95): 100%|██████████| 16/16 [00:04<00:00,  3.94it/s]\n"
          ]
        },
        {
          "output_type": "stream",
          "name": "stdout",
          "text": [
            "                   all        507        933       0.61      0.302      0.334      0.182\n",
            "\n",
            "      Epoch    GPU_mem   box_loss   cls_loss   dfl_loss  Instances       Size\n"
          ]
        },
        {
          "output_type": "stream",
          "name": "stderr",
          "text": [
            "     17/100      2.81G      1.613       2.12       1.78         30        640: 100%|██████████| 113/113 [00:30<00:00,  3.73it/s]\n",
            "                 Class     Images  Instances      Box(P          R      mAP50  mAP50-95): 100%|██████████| 16/16 [00:05<00:00,  2.93it/s]"
          ]
        },
        {
          "output_type": "stream",
          "name": "stdout",
          "text": [
            "                   all        507        933      0.492      0.313      0.339      0.194\n"
          ]
        },
        {
          "output_type": "stream",
          "name": "stderr",
          "text": [
            "\n"
          ]
        },
        {
          "output_type": "stream",
          "name": "stdout",
          "text": [
            "\n",
            "      Epoch    GPU_mem   box_loss   cls_loss   dfl_loss  Instances       Size\n"
          ]
        },
        {
          "output_type": "stream",
          "name": "stderr",
          "text": [
            "     18/100      2.83G      1.625      2.122      1.783         22        640: 100%|██████████| 113/113 [00:30<00:00,  3.71it/s]\n",
            "                 Class     Images  Instances      Box(P          R      mAP50  mAP50-95): 100%|██████████| 16/16 [00:04<00:00,  3.93it/s]\n"
          ]
        },
        {
          "output_type": "stream",
          "name": "stdout",
          "text": [
            "                   all        507        933      0.447      0.321      0.326      0.176\n",
            "\n",
            "      Epoch    GPU_mem   box_loss   cls_loss   dfl_loss  Instances       Size\n"
          ]
        },
        {
          "output_type": "stream",
          "name": "stderr",
          "text": [
            "     19/100      2.85G      1.615      2.124       1.78         26        640: 100%|██████████| 113/113 [00:29<00:00,  3.77it/s]\n",
            "                 Class     Images  Instances      Box(P          R      mAP50  mAP50-95): 100%|██████████| 16/16 [00:04<00:00,  3.33it/s]"
          ]
        },
        {
          "output_type": "stream",
          "name": "stdout",
          "text": [
            "                   all        507        933       0.52      0.312      0.347      0.195\n"
          ]
        },
        {
          "output_type": "stream",
          "name": "stderr",
          "text": [
            "\n"
          ]
        },
        {
          "output_type": "stream",
          "name": "stdout",
          "text": [
            "\n",
            "      Epoch    GPU_mem   box_loss   cls_loss   dfl_loss  Instances       Size\n"
          ]
        },
        {
          "output_type": "stream",
          "name": "stderr",
          "text": [
            "     20/100      2.86G      1.614      2.073      1.765         25        640: 100%|██████████| 113/113 [00:30<00:00,  3.76it/s]\n",
            "                 Class     Images  Instances      Box(P          R      mAP50  mAP50-95): 100%|██████████| 16/16 [00:04<00:00,  3.52it/s]\n"
          ]
        },
        {
          "output_type": "stream",
          "name": "stdout",
          "text": [
            "                   all        507        933      0.525      0.337      0.361      0.198\n",
            "\n",
            "      Epoch    GPU_mem   box_loss   cls_loss   dfl_loss  Instances       Size\n"
          ]
        },
        {
          "output_type": "stream",
          "name": "stderr",
          "text": [
            "     21/100      2.88G      1.576      2.046      1.756         24        640: 100%|██████████| 113/113 [00:30<00:00,  3.70it/s]\n",
            "                 Class     Images  Instances      Box(P          R      mAP50  mAP50-95): 100%|██████████| 16/16 [00:04<00:00,  3.84it/s]\n"
          ]
        },
        {
          "output_type": "stream",
          "name": "stdout",
          "text": [
            "                   all        507        933       0.54      0.325      0.358      0.198\n",
            "\n",
            "      Epoch    GPU_mem   box_loss   cls_loss   dfl_loss  Instances       Size\n"
          ]
        },
        {
          "output_type": "stream",
          "name": "stderr",
          "text": [
            "     22/100       2.9G      1.579      2.039      1.743         30        640: 100%|██████████| 113/113 [00:32<00:00,  3.53it/s]\n",
            "                 Class     Images  Instances      Box(P          R      mAP50  mAP50-95): 100%|██████████| 16/16 [00:04<00:00,  3.31it/s]\n"
          ]
        },
        {
          "output_type": "stream",
          "name": "stdout",
          "text": [
            "                   all        507        933      0.436      0.332      0.334      0.184\n",
            "\n",
            "      Epoch    GPU_mem   box_loss   cls_loss   dfl_loss  Instances       Size\n"
          ]
        },
        {
          "output_type": "stream",
          "name": "stderr",
          "text": [
            "     23/100      2.91G      1.549      2.001      1.723         18        640: 100%|██████████| 113/113 [00:30<00:00,  3.70it/s]\n",
            "                 Class     Images  Instances      Box(P          R      mAP50  mAP50-95): 100%|██████████| 16/16 [00:04<00:00,  3.94it/s]\n"
          ]
        },
        {
          "output_type": "stream",
          "name": "stdout",
          "text": [
            "                   all        507        933      0.533      0.325      0.366       0.21\n",
            "\n",
            "      Epoch    GPU_mem   box_loss   cls_loss   dfl_loss  Instances       Size\n"
          ]
        },
        {
          "output_type": "stream",
          "name": "stderr",
          "text": [
            "     24/100      2.93G      1.543      1.957      1.708         35        640: 100%|██████████| 113/113 [00:31<00:00,  3.59it/s]\n",
            "                 Class     Images  Instances      Box(P          R      mAP50  mAP50-95): 100%|██████████| 16/16 [00:05<00:00,  2.99it/s]\n"
          ]
        },
        {
          "output_type": "stream",
          "name": "stdout",
          "text": [
            "                   all        507        933      0.586      0.319      0.377      0.213\n",
            "\n",
            "      Epoch    GPU_mem   box_loss   cls_loss   dfl_loss  Instances       Size\n"
          ]
        },
        {
          "output_type": "stream",
          "name": "stderr",
          "text": [
            "     25/100      2.95G      1.542      1.937      1.702         28        640: 100%|██████████| 113/113 [00:30<00:00,  3.71it/s]\n",
            "                 Class     Images  Instances      Box(P          R      mAP50  mAP50-95): 100%|██████████| 16/16 [00:04<00:00,  3.91it/s]\n"
          ]
        },
        {
          "output_type": "stream",
          "name": "stdout",
          "text": [
            "                   all        507        933      0.463       0.37      0.363       0.21\n",
            "\n",
            "      Epoch    GPU_mem   box_loss   cls_loss   dfl_loss  Instances       Size\n"
          ]
        },
        {
          "output_type": "stream",
          "name": "stderr",
          "text": [
            "     26/100      2.96G      1.499      1.907      1.669         28        640: 100%|██████████| 113/113 [00:30<00:00,  3.75it/s]\n",
            "                 Class     Images  Instances      Box(P          R      mAP50  mAP50-95): 100%|██████████| 16/16 [00:05<00:00,  2.86it/s]\n"
          ]
        },
        {
          "output_type": "stream",
          "name": "stdout",
          "text": [
            "                   all        507        933      0.547      0.351      0.403      0.226\n",
            "\n",
            "      Epoch    GPU_mem   box_loss   cls_loss   dfl_loss  Instances       Size\n"
          ]
        },
        {
          "output_type": "stream",
          "name": "stderr",
          "text": [
            "     27/100      2.98G      1.489      1.867      1.652         30        640: 100%|██████████| 113/113 [00:30<00:00,  3.72it/s]\n",
            "                 Class     Images  Instances      Box(P          R      mAP50  mAP50-95): 100%|██████████| 16/16 [00:04<00:00,  4.00it/s]\n"
          ]
        },
        {
          "output_type": "stream",
          "name": "stdout",
          "text": [
            "                   all        507        933      0.578      0.361      0.418      0.239\n",
            "\n",
            "      Epoch    GPU_mem   box_loss   cls_loss   dfl_loss  Instances       Size\n"
          ]
        },
        {
          "output_type": "stream",
          "name": "stderr",
          "text": [
            "     28/100         3G      1.483      1.868      1.655         35        640: 100%|██████████| 113/113 [00:30<00:00,  3.75it/s]\n",
            "                 Class     Images  Instances      Box(P          R      mAP50  mAP50-95): 100%|██████████| 16/16 [00:05<00:00,  2.86it/s]"
          ]
        },
        {
          "output_type": "stream",
          "name": "stdout",
          "text": [
            "                   all        507        933      0.518      0.344      0.387      0.229\n"
          ]
        },
        {
          "output_type": "stream",
          "name": "stderr",
          "text": [
            "\n"
          ]
        },
        {
          "output_type": "stream",
          "name": "stdout",
          "text": [
            "\n",
            "      Epoch    GPU_mem   box_loss   cls_loss   dfl_loss  Instances       Size\n"
          ]
        },
        {
          "output_type": "stream",
          "name": "stderr",
          "text": [
            "     29/100      3.02G      1.477      1.849      1.659         26        640: 100%|██████████| 113/113 [00:30<00:00,  3.73it/s]\n",
            "                 Class     Images  Instances      Box(P          R      mAP50  mAP50-95): 100%|██████████| 16/16 [00:04<00:00,  3.98it/s]\n"
          ]
        },
        {
          "output_type": "stream",
          "name": "stdout",
          "text": [
            "                   all        507        933      0.596      0.317      0.379      0.218\n",
            "\n",
            "      Epoch    GPU_mem   box_loss   cls_loss   dfl_loss  Instances       Size\n"
          ]
        },
        {
          "output_type": "stream",
          "name": "stderr",
          "text": [
            "     30/100      3.03G      1.476      1.821       1.63         22        640: 100%|██████████| 113/113 [00:30<00:00,  3.77it/s]\n",
            "                 Class     Images  Instances      Box(P          R      mAP50  mAP50-95): 100%|██████████| 16/16 [00:04<00:00,  3.64it/s]"
          ]
        },
        {
          "output_type": "stream",
          "name": "stdout",
          "text": [
            "                   all        507        933      0.515      0.354      0.387      0.233\n"
          ]
        },
        {
          "output_type": "stream",
          "name": "stderr",
          "text": [
            "\n"
          ]
        },
        {
          "output_type": "stream",
          "name": "stdout",
          "text": [
            "\n",
            "      Epoch    GPU_mem   box_loss   cls_loss   dfl_loss  Instances       Size\n"
          ]
        },
        {
          "output_type": "stream",
          "name": "stderr",
          "text": [
            "     31/100      3.05G      1.477      1.824      1.643         28        640: 100%|██████████| 113/113 [00:31<00:00,  3.64it/s]\n",
            "                 Class     Images  Instances      Box(P          R      mAP50  mAP50-95): 100%|██████████| 16/16 [00:04<00:00,  3.65it/s]"
          ]
        },
        {
          "output_type": "stream",
          "name": "stdout",
          "text": [
            "                   all        507        933      0.525      0.391      0.417      0.246\n"
          ]
        },
        {
          "output_type": "stream",
          "name": "stderr",
          "text": [
            "\n"
          ]
        },
        {
          "output_type": "stream",
          "name": "stdout",
          "text": [
            "\n",
            "      Epoch    GPU_mem   box_loss   cls_loss   dfl_loss  Instances       Size\n"
          ]
        },
        {
          "output_type": "stream",
          "name": "stderr",
          "text": [
            "     32/100      3.07G      1.462      1.767      1.635         38        640: 100%|██████████| 113/113 [00:30<00:00,  3.76it/s]\n",
            "                 Class     Images  Instances      Box(P          R      mAP50  mAP50-95): 100%|██████████| 16/16 [00:04<00:00,  3.85it/s]\n"
          ]
        },
        {
          "output_type": "stream",
          "name": "stdout",
          "text": [
            "                   all        507        933        0.6      0.369      0.412      0.235\n",
            "\n",
            "      Epoch    GPU_mem   box_loss   cls_loss   dfl_loss  Instances       Size\n"
          ]
        },
        {
          "output_type": "stream",
          "name": "stderr",
          "text": [
            "     33/100      3.08G      1.427      1.754      1.621         25        640: 100%|██████████| 113/113 [00:29<00:00,  3.77it/s]\n",
            "                 Class     Images  Instances      Box(P          R      mAP50  mAP50-95): 100%|██████████| 16/16 [00:05<00:00,  2.75it/s]"
          ]
        },
        {
          "output_type": "stream",
          "name": "stdout",
          "text": [
            "                   all        507        933      0.518      0.364      0.401      0.241\n"
          ]
        },
        {
          "output_type": "stream",
          "name": "stderr",
          "text": [
            "\n"
          ]
        },
        {
          "output_type": "stream",
          "name": "stdout",
          "text": [
            "\n",
            "      Epoch    GPU_mem   box_loss   cls_loss   dfl_loss  Instances       Size\n"
          ]
        },
        {
          "output_type": "stream",
          "name": "stderr",
          "text": [
            "     34/100       3.1G      1.447      1.757      1.618         17        640: 100%|██████████| 113/113 [00:30<00:00,  3.75it/s]\n",
            "                 Class     Images  Instances      Box(P          R      mAP50  mAP50-95): 100%|██████████| 16/16 [00:04<00:00,  3.99it/s]\n"
          ]
        },
        {
          "output_type": "stream",
          "name": "stdout",
          "text": [
            "                   all        507        933      0.547      0.374      0.416      0.238\n",
            "\n",
            "      Epoch    GPU_mem   box_loss   cls_loss   dfl_loss  Instances       Size\n"
          ]
        },
        {
          "output_type": "stream",
          "name": "stderr",
          "text": [
            "     35/100      3.12G      1.425      1.739      1.598         27        640: 100%|██████████| 113/113 [00:30<00:00,  3.68it/s]\n",
            "                 Class     Images  Instances      Box(P          R      mAP50  mAP50-95): 100%|██████████| 16/16 [00:05<00:00,  2.83it/s]\n"
          ]
        },
        {
          "output_type": "stream",
          "name": "stdout",
          "text": [
            "                   all        507        933       0.59      0.348      0.394       0.24\n",
            "\n",
            "      Epoch    GPU_mem   box_loss   cls_loss   dfl_loss  Instances       Size\n"
          ]
        },
        {
          "output_type": "stream",
          "name": "stderr",
          "text": [
            "     36/100      3.13G      1.403      1.736       1.59         25        640: 100%|██████████| 113/113 [00:30<00:00,  3.72it/s]\n",
            "                 Class     Images  Instances      Box(P          R      mAP50  mAP50-95): 100%|██████████| 16/16 [00:03<00:00,  4.07it/s]\n"
          ]
        },
        {
          "output_type": "stream",
          "name": "stdout",
          "text": [
            "                   all        507        933      0.593      0.393      0.436      0.251\n",
            "\n",
            "      Epoch    GPU_mem   box_loss   cls_loss   dfl_loss  Instances       Size\n"
          ]
        },
        {
          "output_type": "stream",
          "name": "stderr",
          "text": [
            "     37/100      3.15G      1.405      1.688      1.585         20        640: 100%|██████████| 113/113 [00:30<00:00,  3.72it/s]\n",
            "                 Class     Images  Instances      Box(P          R      mAP50  mAP50-95): 100%|██████████| 16/16 [00:05<00:00,  2.99it/s]"
          ]
        },
        {
          "output_type": "stream",
          "name": "stdout",
          "text": [
            "                   all        507        933      0.592       0.38      0.436      0.259\n"
          ]
        },
        {
          "output_type": "stream",
          "name": "stderr",
          "text": [
            "\n"
          ]
        },
        {
          "output_type": "stream",
          "name": "stdout",
          "text": [
            "\n",
            "      Epoch    GPU_mem   box_loss   cls_loss   dfl_loss  Instances       Size\n"
          ]
        },
        {
          "output_type": "stream",
          "name": "stderr",
          "text": [
            "     38/100      3.17G       1.42      1.711      1.599         24        640: 100%|██████████| 113/113 [00:30<00:00,  3.74it/s]\n",
            "                 Class     Images  Instances      Box(P          R      mAP50  mAP50-95): 100%|██████████| 16/16 [00:04<00:00,  3.98it/s]\n"
          ]
        },
        {
          "output_type": "stream",
          "name": "stdout",
          "text": [
            "                   all        507        933      0.561      0.386      0.403      0.238\n",
            "\n",
            "      Epoch    GPU_mem   box_loss   cls_loss   dfl_loss  Instances       Size\n"
          ]
        },
        {
          "output_type": "stream",
          "name": "stderr",
          "text": [
            "     39/100      3.19G        1.4      1.681      1.581         26        640: 100%|██████████| 113/113 [00:30<00:00,  3.72it/s]\n",
            "                 Class     Images  Instances      Box(P          R      mAP50  mAP50-95): 100%|██████████| 16/16 [00:04<00:00,  3.74it/s]"
          ]
        },
        {
          "output_type": "stream",
          "name": "stdout",
          "text": [
            "                   all        507        933      0.566      0.381      0.424      0.248\n"
          ]
        },
        {
          "output_type": "stream",
          "name": "stderr",
          "text": [
            "\n"
          ]
        },
        {
          "output_type": "stream",
          "name": "stdout",
          "text": [
            "\n",
            "      Epoch    GPU_mem   box_loss   cls_loss   dfl_loss  Instances       Size\n"
          ]
        },
        {
          "output_type": "stream",
          "name": "stderr",
          "text": [
            "     40/100       3.2G      1.375      1.666      1.562         26        640: 100%|██████████| 113/113 [00:30<00:00,  3.72it/s]\n",
            "                 Class     Images  Instances      Box(P          R      mAP50  mAP50-95): 100%|██████████| 16/16 [00:04<00:00,  3.48it/s]\n"
          ]
        },
        {
          "output_type": "stream",
          "name": "stdout",
          "text": [
            "                   all        507        933      0.654      0.382      0.454      0.263\n",
            "\n",
            "      Epoch    GPU_mem   box_loss   cls_loss   dfl_loss  Instances       Size\n"
          ]
        },
        {
          "output_type": "stream",
          "name": "stderr",
          "text": [
            "     41/100      3.22G      1.395      1.634       1.57         28        640: 100%|██████████| 113/113 [00:30<00:00,  3.75it/s]\n",
            "                 Class     Images  Instances      Box(P          R      mAP50  mAP50-95): 100%|██████████| 16/16 [00:04<00:00,  3.95it/s]"
          ]
        },
        {
          "output_type": "stream",
          "name": "stdout",
          "text": [
            "                   all        507        933      0.623      0.394      0.462      0.269\n"
          ]
        },
        {
          "output_type": "stream",
          "name": "stderr",
          "text": [
            "\n"
          ]
        },
        {
          "output_type": "stream",
          "name": "stdout",
          "text": [
            "\n",
            "      Epoch    GPU_mem   box_loss   cls_loss   dfl_loss  Instances       Size\n"
          ]
        },
        {
          "output_type": "stream",
          "name": "stderr",
          "text": [
            "     42/100      3.24G      1.389      1.637      1.563         39        640: 100%|██████████| 113/113 [00:30<00:00,  3.71it/s]\n",
            "                 Class     Images  Instances      Box(P          R      mAP50  mAP50-95): 100%|██████████| 16/16 [00:05<00:00,  2.98it/s]\n"
          ]
        },
        {
          "output_type": "stream",
          "name": "stdout",
          "text": [
            "                   all        507        933      0.626      0.388      0.461      0.269\n",
            "\n",
            "      Epoch    GPU_mem   box_loss   cls_loss   dfl_loss  Instances       Size\n"
          ]
        },
        {
          "output_type": "stream",
          "name": "stderr",
          "text": [
            "     43/100      3.26G      1.381      1.619      1.552         29        640: 100%|██████████| 113/113 [00:30<00:00,  3.71it/s]\n",
            "                 Class     Images  Instances      Box(P          R      mAP50  mAP50-95): 100%|██████████| 16/16 [00:03<00:00,  4.06it/s]\n"
          ]
        },
        {
          "output_type": "stream",
          "name": "stdout",
          "text": [
            "                   all        507        933      0.564      0.341      0.403      0.234\n",
            "\n",
            "      Epoch    GPU_mem   box_loss   cls_loss   dfl_loss  Instances       Size\n"
          ]
        },
        {
          "output_type": "stream",
          "name": "stderr",
          "text": [
            "     44/100      3.27G      1.345      1.552      1.544         35        640: 100%|██████████| 113/113 [00:30<00:00,  3.65it/s]\n",
            "                 Class     Images  Instances      Box(P          R      mAP50  mAP50-95): 100%|██████████| 16/16 [00:05<00:00,  2.81it/s]\n"
          ]
        },
        {
          "output_type": "stream",
          "name": "stdout",
          "text": [
            "                   all        507        933      0.588        0.4      0.451      0.267\n",
            "\n",
            "      Epoch    GPU_mem   box_loss   cls_loss   dfl_loss  Instances       Size\n"
          ]
        },
        {
          "output_type": "stream",
          "name": "stderr",
          "text": [
            "     45/100      3.29G       1.35      1.554       1.54         25        640: 100%|██████████| 113/113 [00:30<00:00,  3.69it/s]\n",
            "                 Class     Images  Instances      Box(P          R      mAP50  mAP50-95): 100%|██████████| 16/16 [00:04<00:00,  3.95it/s]\n"
          ]
        },
        {
          "output_type": "stream",
          "name": "stdout",
          "text": [
            "                   all        507        933       0.62      0.417      0.471      0.277\n",
            "\n",
            "      Epoch    GPU_mem   box_loss   cls_loss   dfl_loss  Instances       Size\n"
          ]
        },
        {
          "output_type": "stream",
          "name": "stderr",
          "text": [
            "     46/100      3.31G      1.347      1.551      1.542         50        640: 100%|██████████| 113/113 [00:30<00:00,  3.75it/s]\n",
            "                 Class     Images  Instances      Box(P          R      mAP50  mAP50-95): 100%|██████████| 16/16 [00:05<00:00,  2.77it/s]\n"
          ]
        },
        {
          "output_type": "stream",
          "name": "stdout",
          "text": [
            "                   all        507        933      0.665      0.381      0.467      0.269\n",
            "\n",
            "      Epoch    GPU_mem   box_loss   cls_loss   dfl_loss  Instances       Size\n"
          ]
        },
        {
          "output_type": "stream",
          "name": "stderr",
          "text": [
            "     47/100      3.32G      1.354      1.554      1.535         31        640: 100%|██████████| 113/113 [00:30<00:00,  3.72it/s]\n",
            "                 Class     Images  Instances      Box(P          R      mAP50  mAP50-95): 100%|██████████| 16/16 [00:04<00:00,  3.69it/s]\n"
          ]
        },
        {
          "output_type": "stream",
          "name": "stdout",
          "text": [
            "                   all        507        933      0.681      0.415      0.487      0.282\n",
            "\n",
            "      Epoch    GPU_mem   box_loss   cls_loss   dfl_loss  Instances       Size\n"
          ]
        },
        {
          "output_type": "stream",
          "name": "stderr",
          "text": [
            "     48/100      3.34G      1.346       1.56      1.542         35        640: 100%|██████████| 113/113 [00:29<00:00,  3.79it/s]\n",
            "                 Class     Images  Instances      Box(P          R      mAP50  mAP50-95): 100%|██████████| 16/16 [00:05<00:00,  3.07it/s]"
          ]
        },
        {
          "output_type": "stream",
          "name": "stdout",
          "text": [
            "                   all        507        933      0.582      0.429      0.475      0.277\n"
          ]
        },
        {
          "output_type": "stream",
          "name": "stderr",
          "text": [
            "\n"
          ]
        },
        {
          "output_type": "stream",
          "name": "stdout",
          "text": [
            "\n",
            "      Epoch    GPU_mem   box_loss   cls_loss   dfl_loss  Instances       Size\n"
          ]
        },
        {
          "output_type": "stream",
          "name": "stderr",
          "text": [
            "     49/100      3.36G      1.342      1.515      1.532         32        640: 100%|██████████| 113/113 [00:30<00:00,  3.76it/s]\n",
            "                 Class     Images  Instances      Box(P          R      mAP50  mAP50-95): 100%|██████████| 16/16 [00:04<00:00,  3.91it/s]\n"
          ]
        },
        {
          "output_type": "stream",
          "name": "stdout",
          "text": [
            "                   all        507        933      0.576      0.417      0.462      0.274\n",
            "\n",
            "      Epoch    GPU_mem   box_loss   cls_loss   dfl_loss  Instances       Size\n"
          ]
        },
        {
          "output_type": "stream",
          "name": "stderr",
          "text": [
            "     50/100      3.37G      1.317      1.532      1.515         23        640: 100%|██████████| 113/113 [00:29<00:00,  3.78it/s]\n",
            "                 Class     Images  Instances      Box(P          R      mAP50  mAP50-95): 100%|██████████| 16/16 [00:04<00:00,  3.93it/s]\n"
          ]
        },
        {
          "output_type": "stream",
          "name": "stdout",
          "text": [
            "                   all        507        933       0.61      0.414      0.465       0.28\n",
            "\n",
            "      Epoch    GPU_mem   box_loss   cls_loss   dfl_loss  Instances       Size\n"
          ]
        },
        {
          "output_type": "stream",
          "name": "stderr",
          "text": [
            "     51/100      3.39G       1.33      1.517      1.519         29        640: 100%|██████████| 113/113 [00:31<00:00,  3.63it/s]\n",
            "                 Class     Images  Instances      Box(P          R      mAP50  mAP50-95): 100%|██████████| 16/16 [00:04<00:00,  3.28it/s]\n"
          ]
        },
        {
          "output_type": "stream",
          "name": "stdout",
          "text": [
            "                   all        507        933      0.628      0.402      0.458       0.26\n",
            "\n",
            "      Epoch    GPU_mem   box_loss   cls_loss   dfl_loss  Instances       Size\n"
          ]
        },
        {
          "output_type": "stream",
          "name": "stderr",
          "text": [
            "     52/100      3.41G      1.304      1.479      1.501         16        640: 100%|██████████| 113/113 [00:30<00:00,  3.70it/s]\n",
            "                 Class     Images  Instances      Box(P          R      mAP50  mAP50-95): 100%|██████████| 16/16 [00:04<00:00,  3.87it/s]\n"
          ]
        },
        {
          "output_type": "stream",
          "name": "stdout",
          "text": [
            "                   all        507        933      0.625      0.418      0.474      0.281\n",
            "\u001b[34m\u001b[1mEarlyStopping: \u001b[0mTraining stopped early as no improvement observed in last 5 epochs. Best results observed at epoch 47, best model saved as best.pt.\n",
            "To update EarlyStopping(patience=5) pass a new patience value, i.e. `patience=300` or use `patience=0` to disable EarlyStopping.\n",
            "\n",
            "52 epochs completed in 0.513 hours.\n",
            "Optimizer stripped from runs/detect/bw_vehicle_detector/weights/last.pt, 6.2MB\n",
            "Optimizer stripped from runs/detect/bw_vehicle_detector/weights/best.pt, 6.2MB\n",
            "\n",
            "Validating runs/detect/bw_vehicle_detector/weights/best.pt...\n",
            "Ultralytics 8.3.159 🚀 Python-3.11.13 torch-2.6.0+cu124 CUDA:0 (Tesla T4, 15095MiB)\n",
            "Model summary (fused): 72 layers, 3,006,233 parameters, 0 gradients, 8.1 GFLOPs\n"
          ]
        },
        {
          "output_type": "stream",
          "name": "stderr",
          "text": [
            "                 Class     Images  Instances      Box(P          R      mAP50  mAP50-95): 100%|██████████| 16/16 [00:06<00:00,  2.36it/s]\n"
          ]
        },
        {
          "output_type": "stream",
          "name": "stdout",
          "text": [
            "                   all        507        933       0.68      0.417      0.487      0.282\n",
            "               bicycle        153        206      0.515      0.639      0.627      0.397\n",
            "                  boat        113        244      0.736      0.209      0.317      0.131\n",
            "                   car        265        483      0.789      0.403      0.518      0.317\n",
            "Speed: 0.3ms preprocess, 2.2ms inference, 0.0ms loss, 3.5ms postprocess per image\n",
            "Results saved to \u001b[1mruns/detect/bw_vehicle_detector\u001b[0m\n",
            "Ultralytics 8.3.159 🚀 Python-3.11.13 torch-2.6.0+cu124 CUDA:0 (Tesla T4, 15095MiB)\n",
            "Model summary (fused): 72 layers, 3,006,233 parameters, 0 gradients, 8.1 GFLOPs\n",
            "\u001b[34m\u001b[1mval: \u001b[0mFast image access ✅ (ping: 0.0±0.0 ms, read: 2867.1±921.9 MB/s, size: 98.0 KB)\n"
          ]
        },
        {
          "output_type": "stream",
          "name": "stderr",
          "text": [
            "\u001b[34m\u001b[1mval: \u001b[0mScanning /content/datasetdegraded/labels/val.cache... 507 images, 0 backgrounds, 0 corrupt: 100%|██████████| 507/507 [00:00<?, ?it/s]\n",
            "                 Class     Images  Instances      Box(P          R      mAP50  mAP50-95): 100%|██████████| 32/32 [00:06<00:00,  4.73it/s]\n"
          ]
        },
        {
          "output_type": "stream",
          "name": "stdout",
          "text": [
            "                   all        507        933      0.684      0.415      0.488      0.283\n",
            "               bicycle        153        206      0.514      0.636      0.628      0.398\n",
            "                  boat        113        244      0.748      0.206      0.316      0.132\n",
            "                   car        265        483      0.789      0.402      0.519      0.317\n",
            "Speed: 0.4ms preprocess, 4.9ms inference, 0.0ms loss, 2.3ms postprocess per image\n",
            "Results saved to \u001b[1mruns/detect/bw_vehicle_detector2\u001b[0m\n",
            "mAP50-95: 0.2827\n",
            "Ultralytics 8.3.159 🚀 Python-3.11.13 torch-2.6.0+cu124 CPU (Intel Xeon 2.00GHz)\n",
            "💡 ProTip: Export to OpenVINO format for best performance on Intel CPUs. Learn more at https://docs.ultralytics.com/integrations/openvino/\n",
            "\n",
            "\u001b[34m\u001b[1mPyTorch:\u001b[0m starting from 'runs/detect/bw_vehicle_detector/weights/best.pt' with input shape (1, 3, 640, 640) BCHW and output shape(s) (1, 7, 8400) (5.9 MB)\n",
            "\u001b[31m\u001b[1mrequirements:\u001b[0m Ultralytics requirements ['onnx>=1.12.0,<1.18.0', 'onnxslim>=0.1.56', 'onnxruntime-gpu'] not found, attempting AutoUpdate...\n",
            "\n",
            "\u001b[31m\u001b[1mrequirements:\u001b[0m AutoUpdate success ✅ 5.1s\n",
            "WARNING ⚠️ \u001b[31m\u001b[1mrequirements:\u001b[0m \u001b[1mRestart runtime or rerun command for updates to take effect\u001b[0m\n",
            "\n",
            "\n",
            "\u001b[34m\u001b[1mONNX:\u001b[0m starting export with onnx 1.17.0 opset 19...\n",
            "\u001b[34m\u001b[1mONNX:\u001b[0m slimming with onnxslim 0.1.58...\n",
            "\u001b[34m\u001b[1mONNX:\u001b[0m export success ✅ 6.7s, saved as 'runs/detect/bw_vehicle_detector/weights/best.onnx' (11.7 MB)\n",
            "\n",
            "Export complete (7.2s)\n",
            "Results saved to \u001b[1m/content/runs/detect/bw_vehicle_detector/weights\u001b[0m\n",
            "Predict:         yolo predict task=detect model=runs/detect/bw_vehicle_detector/weights/best.onnx imgsz=640  \n",
            "Validate:        yolo val task=detect model=runs/detect/bw_vehicle_detector/weights/best.onnx imgsz=640 data=/content/datasetdegraded.yaml  \n",
            "Visualize:       https://netron.app\n",
            "\n",
            "Test inference on validation set:\n",
            "\n",
            "image 1/507 /content/datasetdegraded/images/val/2007_000663.jpg: 640x544 1 car, 48.7ms\n",
            "image 2/507 /content/datasetdegraded/images/val/2007_001311.jpg: 416x640 11 bicycles, 35.7ms\n",
            "image 3/507 /content/datasetdegraded/images/val/2007_002281.jpg: 320x640 1 car, 53.4ms\n",
            "image 4/507 /content/datasetdegraded/images/val/2007_002789.jpg: 416x640 1 car, 7.1ms\n",
            "image 5/507 /content/datasetdegraded/images/val/2007_003051.jpg: 448x640 1 car, 37.1ms\n",
            "image 6/507 /content/datasetdegraded/images/val/2007_003195.jpg: 448x640 (no detections), 8.0ms\n",
            "image 7/507 /content/datasetdegraded/images/val/2007_003503.jpg: 448x640 5 cars, 7.9ms\n",
            "image 8/507 /content/datasetdegraded/images/val/2007_004241.jpg: 480x640 1 bicycle, 56.7ms\n",
            "image 9/507 /content/datasetdegraded/images/val/2007_004810.jpg: 480x640 1 car, 12.6ms\n",
            "image 10/507 /content/datasetdegraded/images/val/2007_005074.jpg: 448x640 1 boat, 2 cars, 14.7ms\n",
            "image 11/507 /content/datasetdegraded/images/val/2007_005273.jpg: 480x640 3 cars, 9.3ms\n",
            "image 12/507 /content/datasetdegraded/images/val/2007_005368.jpg: 640x448 1 bicycle, 52.7ms\n",
            "image 13/507 /content/datasetdegraded/images/val/2007_006028.jpg: 480x640 (no detections), 14.7ms\n",
            "image 14/507 /content/datasetdegraded/images/val/2007_006449.jpg: 480x640 2 bicycles, 11.7ms\n",
            "image 15/507 /content/datasetdegraded/images/val/2007_006490.jpg: 640x512 (no detections), 60.4ms\n",
            "image 16/507 /content/datasetdegraded/images/val/2007_007414.jpg: 448x640 1 car, 13.3ms\n",
            "image 17/507 /content/datasetdegraded/images/val/2007_007415.jpg: 480x640 (no detections), 17.1ms\n",
            "image 18/507 /content/datasetdegraded/images/val/2007_007818.jpg: 480x640 7 cars, 10.3ms\n",
            "image 19/507 /content/datasetdegraded/images/val/2007_008801.jpg: 544x640 1 bicycle, 3 cars, 52.8ms\n",
            "image 20/507 /content/datasetdegraded/images/val/2007_009295.jpg: 480x640 1 bicycle, 9.4ms\n",
            "image 21/507 /content/datasetdegraded/images/val/2007_009392.jpg: 448x640 4 cars, 9.3ms\n",
            "image 22/507 /content/datasetdegraded/images/val/2007_009618.jpg: 480x640 3 bicycles, 13.4ms\n",
            "image 23/507 /content/datasetdegraded/images/val/2007_009947.jpg: 640x448 1 boat, 11.6ms\n",
            "image 24/507 /content/datasetdegraded/images/val/2008_000036.jpg: 480x640 1 car, 14.7ms\n",
            "image 25/507 /content/datasetdegraded/images/val/2008_000090.jpg: 448x640 2 bicycles, 11.0ms\n",
            "image 26/507 /content/datasetdegraded/images/val/2008_000133.jpg: 512x640 1 bicycle, 52.8ms\n",
            "image 27/507 /content/datasetdegraded/images/val/2008_000140.jpg: 640x480 (no detections), 55.2ms\n",
            "image 28/507 /content/datasetdegraded/images/val/2008_000187.jpg: 448x640 1 car, 10.6ms\n",
            "image 29/507 /content/datasetdegraded/images/val/2008_000193.jpg: 448x640 1 car, 7.9ms\n",
            "image 30/507 /content/datasetdegraded/images/val/2008_000226.jpg: 480x640 (no detections), 8.9ms\n",
            "image 31/507 /content/datasetdegraded/images/val/2008_000278.jpg: 480x640 1 bicycle, 8.3ms\n",
            "image 32/507 /content/datasetdegraded/images/val/2008_000356.jpg: 480x640 1 car, 8.6ms\n",
            "image 33/507 /content/datasetdegraded/images/val/2008_000414.jpg: 448x640 2 bicycles, 13.5ms\n",
            "image 34/507 /content/datasetdegraded/images/val/2008_000423.jpg: 480x640 (no detections), 10.7ms\n",
            "image 35/507 /content/datasetdegraded/images/val/2008_000437.jpg: 480x640 (no detections), 9.1ms\n",
            "image 36/507 /content/datasetdegraded/images/val/2008_000469.jpg: 448x640 (no detections), 9.0ms\n",
            "image 37/507 /content/datasetdegraded/images/val/2008_000764.jpg: 640x480 1 bicycle, 8.7ms\n",
            "image 38/507 /content/datasetdegraded/images/val/2008_000868.jpg: 640x480 2 bicycles, 7.7ms\n",
            "image 39/507 /content/datasetdegraded/images/val/2008_000952.jpg: 480x640 4 cars, 9.2ms\n",
            "image 40/507 /content/datasetdegraded/images/val/2008_000953.jpg: 480x640 4 bicycles, 11.5ms\n",
            "image 41/507 /content/datasetdegraded/images/val/2008_001007.jpg: 480x640 1 car, 7.9ms\n",
            "image 42/507 /content/datasetdegraded/images/val/2008_001018.jpg: 480x640 1 bicycle, 9.0ms\n",
            "image 43/507 /content/datasetdegraded/images/val/2008_001041.jpg: 480x640 (no detections), 7.7ms\n",
            "image 44/507 /content/datasetdegraded/images/val/2008_001196.jpg: 448x640 1 car, 8.4ms\n",
            "image 45/507 /content/datasetdegraded/images/val/2008_001226.jpg: 544x640 1 bicycle, 2 cars, 8.6ms\n",
            "image 46/507 /content/datasetdegraded/images/val/2008_001262.jpg: 512x640 1 car, 8.5ms\n",
            "image 47/507 /content/datasetdegraded/images/val/2008_001334.jpg: 480x640 1 car, 8.6ms\n",
            "image 48/507 /content/datasetdegraded/images/val/2008_001432.jpg: 416x640 1 car, 8.4ms\n",
            "image 49/507 /content/datasetdegraded/images/val/2008_001529.jpg: 448x640 (no detections), 11.9ms\n",
            "image 50/507 /content/datasetdegraded/images/val/2008_001531.jpg: 448x640 1 bicycle, 9.3ms\n",
            "image 51/507 /content/datasetdegraded/images/val/2008_001580.jpg: 448x640 (no detections), 11.7ms\n",
            "image 52/507 /content/datasetdegraded/images/val/2008_001626.jpg: 480x640 1 bicycle, 13.1ms\n",
            "image 53/507 /content/datasetdegraded/images/val/2008_001631.jpg: 480x640 1 bicycle, 1 car, 11.3ms\n",
            "image 54/507 /content/datasetdegraded/images/val/2008_001649.jpg: 640x448 1 bicycle, 11.1ms\n",
            "image 55/507 /content/datasetdegraded/images/val/2008_001652.jpg: 640x448 1 bicycle, 8.0ms\n",
            "image 56/507 /content/datasetdegraded/images/val/2008_001716.jpg: 384x640 2 cars, 60.0ms\n",
            "image 57/507 /content/datasetdegraded/images/val/2008_001746.jpg: 480x640 4 cars, 12.8ms\n",
            "image 58/507 /content/datasetdegraded/images/val/2008_001858.jpg: 480x640 (no detections), 10.7ms\n",
            "image 59/507 /content/datasetdegraded/images/val/2008_001867.jpg: 480x640 4 cars, 8.2ms\n",
            "image 60/507 /content/datasetdegraded/images/val/2008_001908.jpg: 480x640 1 boat, 8.2ms\n",
            "image 61/507 /content/datasetdegraded/images/val/2008_001941.jpg: 480x640 1 car, 9.0ms\n",
            "image 62/507 /content/datasetdegraded/images/val/2008_001961.jpg: 480x640 3 cars, 12.6ms\n",
            "image 63/507 /content/datasetdegraded/images/val/2008_002118.jpg: 640x480 (no detections), 12.2ms\n",
            "image 64/507 /content/datasetdegraded/images/val/2008_002129.jpg: 448x640 1 bicycle, 9.5ms\n",
            "image 65/507 /content/datasetdegraded/images/val/2008_002131.jpg: 416x640 2 bicycles, 4 boats, 8.8ms\n",
            "image 66/507 /content/datasetdegraded/images/val/2008_002194.jpg: 448x640 3 boats, 8.7ms\n",
            "image 67/507 /content/datasetdegraded/images/val/2008_002204.jpg: 448x640 3 bicycles, 11.3ms\n",
            "image 68/507 /content/datasetdegraded/images/val/2008_002281.jpg: 480x640 2 boats, 10.2ms\n",
            "image 69/507 /content/datasetdegraded/images/val/2008_002335.jpg: 480x640 1 boat, 10.6ms\n",
            "image 70/507 /content/datasetdegraded/images/val/2008_002368.jpg: 448x640 1 car, 10.6ms\n",
            "image 71/507 /content/datasetdegraded/images/val/2008_002461.jpg: 448x640 1 car, 9.9ms\n",
            "image 72/507 /content/datasetdegraded/images/val/2008_002466.jpg: 480x640 1 car, 10.4ms\n",
            "image 73/507 /content/datasetdegraded/images/val/2008_002492.jpg: 512x640 1 boat, 10.2ms\n",
            "image 74/507 /content/datasetdegraded/images/val/2008_002504.jpg: 480x640 1 boat, 9.2ms\n",
            "image 75/507 /content/datasetdegraded/images/val/2008_002524.jpg: 640x480 1 bicycle, 1 car, 10.1ms\n",
            "image 76/507 /content/datasetdegraded/images/val/2008_002631.jpg: 640x448 2 bicycles, 9.3ms\n",
            "image 77/507 /content/datasetdegraded/images/val/2008_002709.jpg: 448x640 (no detections), 9.1ms\n",
            "image 78/507 /content/datasetdegraded/images/val/2008_002773.jpg: 448x640 3 boats, 8.4ms\n",
            "image 79/507 /content/datasetdegraded/images/val/2008_002787.jpg: 480x640 2 bicycles, 1 car, 9.7ms\n",
            "image 80/507 /content/datasetdegraded/images/val/2008_002883.jpg: 480x640 1 bicycle, 11.7ms\n",
            "image 81/507 /content/datasetdegraded/images/val/2008_002891.jpg: 480x640 2 cars, 10.3ms\n",
            "image 82/507 /content/datasetdegraded/images/val/2008_002948.jpg: 480x640 3 bicycles, 8.6ms\n",
            "image 83/507 /content/datasetdegraded/images/val/2008_003005.jpg: 448x640 1 car, 9.0ms\n",
            "image 84/507 /content/datasetdegraded/images/val/2008_003030.jpg: 480x640 2 cars, 9.3ms\n",
            "image 85/507 /content/datasetdegraded/images/val/2008_003060.jpg: 480x640 2 cars, 8.3ms\n",
            "image 86/507 /content/datasetdegraded/images/val/2008_003072.jpg: 640x480 (no detections), 11.4ms\n",
            "image 87/507 /content/datasetdegraded/images/val/2008_003075.jpg: 416x640 3 bicycles, 10.0ms\n",
            "image 88/507 /content/datasetdegraded/images/val/2008_003205.jpg: 480x640 2 bicycles, 1 car, 8.9ms\n",
            "image 89/507 /content/datasetdegraded/images/val/2008_003321.jpg: 480x640 2 cars, 9.0ms\n",
            "image 90/507 /content/datasetdegraded/images/val/2008_003333.jpg: 480x640 1 bicycle, 1 car, 8.4ms\n",
            "image 91/507 /content/datasetdegraded/images/val/2008_003351.jpg: 480x640 1 bicycle, 8.1ms\n",
            "image 92/507 /content/datasetdegraded/images/val/2008_003402.jpg: 480x640 1 boat, 8.3ms\n",
            "image 93/507 /content/datasetdegraded/images/val/2008_003415.jpg: 480x640 1 car, 7.8ms\n",
            "image 94/507 /content/datasetdegraded/images/val/2008_003479.jpg: 640x480 2 cars, 8.8ms\n",
            "image 95/507 /content/datasetdegraded/images/val/2008_003480.jpg: 480x640 (no detections), 8.4ms\n",
            "image 96/507 /content/datasetdegraded/images/val/2008_003498.jpg: 480x640 1 car, 7.8ms\n",
            "image 97/507 /content/datasetdegraded/images/val/2008_003577.jpg: 480x640 1 car, 8.3ms\n",
            "image 98/507 /content/datasetdegraded/images/val/2008_003617.jpg: 640x480 (no detections), 9.1ms\n",
            "image 99/507 /content/datasetdegraded/images/val/2008_003680.jpg: 480x640 1 boat, 1 car, 9.2ms\n",
            "image 100/507 /content/datasetdegraded/images/val/2008_003691.jpg: 480x640 (no detections), 8.6ms\n",
            "image 101/507 /content/datasetdegraded/images/val/2008_003713.jpg: 480x640 1 bicycle, 8.1ms\n",
            "image 102/507 /content/datasetdegraded/images/val/2008_003719.jpg: 480x640 1 car, 8.1ms\n",
            "image 103/507 /content/datasetdegraded/images/val/2008_003794.jpg: 480x640 3 cars, 7.8ms\n",
            "image 104/507 /content/datasetdegraded/images/val/2008_003840.jpg: 480x640 7 boats, 7.7ms\n",
            "image 105/507 /content/datasetdegraded/images/val/2008_003849.jpg: 480x640 (no detections), 7.7ms\n",
            "image 106/507 /content/datasetdegraded/images/val/2008_003888.jpg: 480x640 1 bicycle, 1 car, 7.7ms\n",
            "image 107/507 /content/datasetdegraded/images/val/2008_003913.jpg: 640x448 1 boat, 9.4ms\n",
            "image 108/507 /content/datasetdegraded/images/val/2008_003925.jpg: 448x640 1 car, 8.8ms\n",
            "image 109/507 /content/datasetdegraded/images/val/2008_003951.jpg: 480x640 (no detections), 8.9ms\n",
            "image 110/507 /content/datasetdegraded/images/val/2008_004026.jpg: 640x448 1 boat, 8.8ms\n",
            "image 111/507 /content/datasetdegraded/images/val/2008_004046.jpg: 480x640 (no detections), 9.1ms\n",
            "image 112/507 /content/datasetdegraded/images/val/2008_004102.jpg: 480x640 1 car, 7.6ms\n",
            "image 113/507 /content/datasetdegraded/images/val/2008_004182.jpg: 480x640 (no detections), 7.7ms\n",
            "image 114/507 /content/datasetdegraded/images/val/2008_004231.jpg: 448x640 1 car, 8.6ms\n",
            "image 115/507 /content/datasetdegraded/images/val/2008_004307.jpg: 640x480 (no detections), 8.1ms\n",
            "image 116/507 /content/datasetdegraded/images/val/2008_004326.jpg: 384x640 6 cars, 8.3ms\n",
            "image 117/507 /content/datasetdegraded/images/val/2008_004339.jpg: 448x640 (no detections), 9.1ms\n",
            "image 118/507 /content/datasetdegraded/images/val/2008_004363.jpg: 480x640 2 bicycles, 14.6ms\n",
            "image 119/507 /content/datasetdegraded/images/val/2008_004411.jpg: 448x640 3 cars, 12.5ms\n",
            "image 120/507 /content/datasetdegraded/images/val/2008_004441.jpg: 480x640 2 bicycles, 1 car, 11.4ms\n",
            "image 121/507 /content/datasetdegraded/images/val/2008_004574.jpg: 480x640 4 bicycles, 1 car, 12.0ms\n",
            "image 122/507 /content/datasetdegraded/images/val/2008_004593.jpg: 640x480 (no detections), 12.5ms\n",
            "image 123/507 /content/datasetdegraded/images/val/2008_004605.jpg: 448x640 3 boats, 11.0ms\n",
            "image 124/507 /content/datasetdegraded/images/val/2008_004654.jpg: 640x448 1 bicycle, 13.9ms\n",
            "image 125/507 /content/datasetdegraded/images/val/2008_004656.jpg: 480x640 1 bicycle, 15.0ms\n",
            "image 126/507 /content/datasetdegraded/images/val/2008_004667.jpg: 480x640 (no detections), 12.1ms\n",
            "image 127/507 /content/datasetdegraded/images/val/2008_004678.jpg: 480x640 1 bicycle, 1 car, 13.5ms\n",
            "image 128/507 /content/datasetdegraded/images/val/2008_004684.jpg: 640x608 1 bicycle, 1 car, 73.1ms\n",
            "image 129/507 /content/datasetdegraded/images/val/2008_004750.jpg: 448x640 1 boat, 10.6ms\n",
            "image 130/507 /content/datasetdegraded/images/val/2008_004850.jpg: 640x448 1 boat, 1 car, 10.2ms\n",
            "image 131/507 /content/datasetdegraded/images/val/2008_004872.jpg: 480x640 1 car, 10.8ms\n",
            "image 132/507 /content/datasetdegraded/images/val/2008_004904.jpg: 480x640 1 bicycle, 14.6ms\n",
            "image 133/507 /content/datasetdegraded/images/val/2008_004976.jpg: 448x640 2 cars, 13.7ms\n",
            "image 134/507 /content/datasetdegraded/images/val/2008_004983.jpg: 480x640 1 boat, 13.4ms\n",
            "image 135/507 /content/datasetdegraded/images/val/2008_005108.jpg: 224x640 1 boat, 60.8ms\n",
            "image 136/507 /content/datasetdegraded/images/val/2008_005110.jpg: 480x640 (no detections), 11.1ms\n",
            "image 137/507 /content/datasetdegraded/images/val/2008_005117.jpg: 480x640 1 boat, 8.9ms\n",
            "image 138/507 /content/datasetdegraded/images/val/2008_005132.jpg: 448x640 1 boat, 13.6ms\n",
            "image 139/507 /content/datasetdegraded/images/val/2008_005158.jpg: 448x640 (no detections), 11.6ms\n",
            "image 140/507 /content/datasetdegraded/images/val/2008_005175.jpg: 512x640 2 bicycles, 14.2ms\n",
            "image 141/507 /content/datasetdegraded/images/val/2008_005201.jpg: 480x640 8 bicycles, 13.6ms\n",
            "image 142/507 /content/datasetdegraded/images/val/2008_005216.jpg: 480x640 1 car, 11.8ms\n",
            "image 143/507 /content/datasetdegraded/images/val/2008_005218.jpg: 640x480 (no detections), 13.1ms\n",
            "image 144/507 /content/datasetdegraded/images/val/2008_005261.jpg: 480x640 2 boats, 14.5ms\n",
            "image 145/507 /content/datasetdegraded/images/val/2008_005277.jpg: 640x480 2 cars, 12.4ms\n",
            "image 146/507 /content/datasetdegraded/images/val/2008_005319.jpg: 480x640 1 car, 12.9ms\n",
            "image 147/507 /content/datasetdegraded/images/val/2008_005350.jpg: 640x480 1 car, 12.8ms\n",
            "image 148/507 /content/datasetdegraded/images/val/2008_005367.jpg: 480x640 4 boats, 14.7ms\n",
            "image 149/507 /content/datasetdegraded/images/val/2008_005472.jpg: 480x640 (no detections), 11.0ms\n",
            "image 150/507 /content/datasetdegraded/images/val/2008_005541.jpg: 480x640 (no detections), 6.8ms\n",
            "image 151/507 /content/datasetdegraded/images/val/2008_005548.jpg: 416x640 1 car, 7.5ms\n",
            "image 152/507 /content/datasetdegraded/images/val/2008_005553.jpg: 640x480 (no detections), 7.5ms\n",
            "image 153/507 /content/datasetdegraded/images/val/2008_005610.jpg: 448x640 (no detections), 8.7ms\n",
            "image 154/507 /content/datasetdegraded/images/val/2008_005638.jpg: 480x640 1 car, 7.4ms\n",
            "image 155/507 /content/datasetdegraded/images/val/2008_005641.jpg: 448x640 1 car, 7.2ms\n",
            "image 156/507 /content/datasetdegraded/images/val/2008_005686.jpg: 448x640 2 cars, 7.6ms\n",
            "image 157/507 /content/datasetdegraded/images/val/2008_005720.jpg: 480x640 (no detections), 7.3ms\n",
            "image 158/507 /content/datasetdegraded/images/val/2008_005727.jpg: 480x640 1 bicycle, 6.2ms\n",
            "image 159/507 /content/datasetdegraded/images/val/2008_005737.jpg: 640x352 5 bicycles, 41.4ms\n",
            "image 160/507 /content/datasetdegraded/images/val/2008_005875.jpg: 480x640 1 car, 9.2ms\n",
            "image 161/507 /content/datasetdegraded/images/val/2008_005959.jpg: 480x640 (no detections), 6.9ms\n",
            "image 162/507 /content/datasetdegraded/images/val/2008_005960.jpg: 512x640 1 car, 6.8ms\n",
            "image 163/507 /content/datasetdegraded/images/val/2008_006021.jpg: 480x640 1 boat, 7.1ms\n",
            "image 164/507 /content/datasetdegraded/images/val/2008_006082.jpg: 480x640 2 cars, 6.5ms\n",
            "image 165/507 /content/datasetdegraded/images/val/2008_006087.jpg: 480x640 3 bicycles, 7.4ms\n",
            "image 166/507 /content/datasetdegraded/images/val/2008_006154.jpg: 640x480 4 bicycles, 6.9ms\n",
            "image 167/507 /content/datasetdegraded/images/val/2008_006181.jpg: 640x480 3 cars, 6.7ms\n",
            "image 168/507 /content/datasetdegraded/images/val/2008_006220.jpg: 448x640 2 cars, 7.0ms\n",
            "image 169/507 /content/datasetdegraded/images/val/2008_006222.jpg: 480x640 1 car, 7.5ms\n",
            "image 170/507 /content/datasetdegraded/images/val/2008_006229.jpg: 448x640 1 boat, 7.4ms\n",
            "image 171/507 /content/datasetdegraded/images/val/2008_006253.jpg: 640x576 2 bicycles, 43.2ms\n",
            "image 172/507 /content/datasetdegraded/images/val/2008_006310.jpg: 480x640 1 car, 15.3ms\n",
            "image 173/507 /content/datasetdegraded/images/val/2008_006382.jpg: 480x640 1 car, 8.9ms\n",
            "image 174/507 /content/datasetdegraded/images/val/2008_006392.jpg: 480x640 1 car, 7.2ms\n",
            "image 175/507 /content/datasetdegraded/images/val/2008_006410.jpg: 640x448 3 bicycles, 8.2ms\n",
            "image 176/507 /content/datasetdegraded/images/val/2008_006475.jpg: 352x640 2 cars, 35.9ms\n",
            "image 177/507 /content/datasetdegraded/images/val/2008_006487.jpg: 448x640 (no detections), 6.8ms\n",
            "image 178/507 /content/datasetdegraded/images/val/2008_006489.jpg: 256x640 3 boats, 41.8ms\n",
            "image 179/507 /content/datasetdegraded/images/val/2008_006506.jpg: 640x480 (no detections), 7.6ms\n",
            "image 180/507 /content/datasetdegraded/images/val/2008_006522.jpg: 480x640 (no detections), 7.4ms\n",
            "image 181/507 /content/datasetdegraded/images/val/2008_006634.jpg: 448x640 1 bicycle, 7.2ms\n",
            "image 182/507 /content/datasetdegraded/images/val/2008_006638.jpg: 480x640 2 cars, 7.3ms\n",
            "image 183/507 /content/datasetdegraded/images/val/2008_006642.jpg: 480x640 4 cars, 6.7ms\n",
            "image 184/507 /content/datasetdegraded/images/val/2008_006645.jpg: 480x640 (no detections), 6.8ms\n",
            "image 185/507 /content/datasetdegraded/images/val/2008_006649.jpg: 640x640 1 car, 8.1ms\n",
            "image 186/507 /content/datasetdegraded/images/val/2008_006691.jpg: 640x480 1 car, 8.8ms\n",
            "image 187/507 /content/datasetdegraded/images/val/2008_006762.jpg: 480x640 1 car, 7.2ms\n",
            "image 188/507 /content/datasetdegraded/images/val/2008_006807.jpg: 480x640 2 bicycles, 6.8ms\n",
            "image 189/507 /content/datasetdegraded/images/val/2008_006839.jpg: 480x640 1 bicycle, 1 car, 6.5ms\n",
            "image 190/507 /content/datasetdegraded/images/val/2008_006907.jpg: 480x640 1 boat, 2 cars, 9.7ms\n",
            "image 191/507 /content/datasetdegraded/images/val/2008_006961.jpg: 480x640 2 cars, 6.5ms\n",
            "image 192/507 /content/datasetdegraded/images/val/2008_006986.jpg: 480x640 1 car, 6.3ms\n",
            "image 193/507 /content/datasetdegraded/images/val/2008_007060.jpg: 352x640 (no detections), 7.6ms\n",
            "image 194/507 /content/datasetdegraded/images/val/2008_007143.jpg: 480x640 2 boats, 7.4ms\n",
            "image 195/507 /content/datasetdegraded/images/val/2008_007156.jpg: 480x640 (no detections), 6.8ms\n",
            "image 196/507 /content/datasetdegraded/images/val/2008_007222.jpg: 544x640 1 bicycle, 7.9ms\n",
            "image 197/507 /content/datasetdegraded/images/val/2008_007311.jpg: 480x640 1 bicycle, 7.1ms\n",
            "image 198/507 /content/datasetdegraded/images/val/2008_007409.jpg: 448x640 1 bicycle, 1 boat, 1 car, 7.2ms\n",
            "image 199/507 /content/datasetdegraded/images/val/2008_007421.jpg: 640x448 1 bicycle, 8.5ms\n",
            "image 200/507 /content/datasetdegraded/images/val/2008_007432.jpg: 480x640 1 car, 10.5ms\n",
            "image 201/507 /content/datasetdegraded/images/val/2008_007456.jpg: 480x640 3 cars, 6.7ms\n",
            "image 202/507 /content/datasetdegraded/images/val/2008_007478.jpg: 448x640 (no detections), 6.8ms\n",
            "image 203/507 /content/datasetdegraded/images/val/2008_007529.jpg: 480x640 1 bicycle, 1 car, 7.1ms\n",
            "image 204/507 /content/datasetdegraded/images/val/2008_007597.jpg: 640x480 2 boats, 7.1ms\n",
            "image 205/507 /content/datasetdegraded/images/val/2008_007643.jpg: 640x480 3 boats, 6.9ms\n",
            "image 206/507 /content/datasetdegraded/images/val/2008_007739.jpg: 480x640 4 bicycles, 2 cars, 7.1ms\n",
            "image 207/507 /content/datasetdegraded/images/val/2008_007757.jpg: 448x640 1 car, 7.3ms\n",
            "image 208/507 /content/datasetdegraded/images/val/2008_007915.jpg: 480x640 1 bicycle, 9.4ms\n",
            "image 209/507 /content/datasetdegraded/images/val/2008_007935.jpg: 448x640 3 bicycles, 7.4ms\n",
            "image 210/507 /content/datasetdegraded/images/val/2008_007997.jpg: 480x640 1 car, 7.5ms\n",
            "image 211/507 /content/datasetdegraded/images/val/2008_008092.jpg: 480x640 (no detections), 6.9ms\n",
            "image 212/507 /content/datasetdegraded/images/val/2008_008095.jpg: 480x640 4 bicycles, 6.9ms\n",
            "image 213/507 /content/datasetdegraded/images/val/2008_008120.jpg: 480x640 (no detections), 6.6ms\n",
            "image 214/507 /content/datasetdegraded/images/val/2008_008262.jpg: 480x640 2 boats, 6.5ms\n",
            "image 215/507 /content/datasetdegraded/images/val/2008_008337.jpg: 480x640 1 bicycle, 9.0ms\n",
            "image 216/507 /content/datasetdegraded/images/val/2008_008343.jpg: 480x640 1 car, 7.1ms\n",
            "image 217/507 /content/datasetdegraded/images/val/2008_008611.jpg: 480x640 1 bicycle, 6.5ms\n",
            "image 218/507 /content/datasetdegraded/images/val/2008_008616.jpg: 448x640 3 boats, 7.1ms\n",
            "image 219/507 /content/datasetdegraded/images/val/2008_008627.jpg: 448x640 1 bicycle, 7.3ms\n",
            "image 220/507 /content/datasetdegraded/images/val/2008_008671.jpg: 480x640 1 bicycle, 7.1ms\n",
            "image 221/507 /content/datasetdegraded/images/val/2008_008681.jpg: 480x640 (no detections), 7.9ms\n",
            "image 222/507 /content/datasetdegraded/images/val/2008_008705.jpg: 480x640 1 car, 9.4ms\n",
            "image 223/507 /content/datasetdegraded/images/val/2008_008711.jpg: 480x640 2 bicycles, 8.4ms\n",
            "image 224/507 /content/datasetdegraded/images/val/2008_008717.jpg: 640x448 1 bicycle, 8.3ms\n",
            "image 225/507 /content/datasetdegraded/images/val/2008_008745.jpg: 480x640 3 bicycles, 7.3ms\n",
            "image 226/507 /content/datasetdegraded/images/val/2008_008753.jpg: 480x640 1 bicycle, 6.5ms\n",
            "image 227/507 /content/datasetdegraded/images/val/2009_000212.jpg: 640x480 1 boat, 11.6ms\n",
            "image 228/507 /content/datasetdegraded/images/val/2009_000305.jpg: 448x640 (no detections), 9.9ms\n",
            "image 229/507 /content/datasetdegraded/images/val/2009_000402.jpg: 480x640 1 bicycle, 1 car, 16.4ms\n",
            "image 230/507 /content/datasetdegraded/images/val/2009_000547.jpg: 512x640 1 bicycle, 10.5ms\n",
            "image 231/507 /content/datasetdegraded/images/val/2009_000557.jpg: 480x640 1 car, 7.1ms\n",
            "image 232/507 /content/datasetdegraded/images/val/2009_000683.jpg: 448x640 2 cars, 7.2ms\n",
            "image 233/507 /content/datasetdegraded/images/val/2009_000690.jpg: 448x640 (no detections), 7.2ms\n",
            "image 234/507 /content/datasetdegraded/images/val/2009_000720.jpg: 288x640 1 car, 39.9ms\n",
            "image 235/507 /content/datasetdegraded/images/val/2009_000723.jpg: 480x640 1 boat, 10.7ms\n",
            "image 236/507 /content/datasetdegraded/images/val/2009_000756.jpg: 448x640 1 bicycle, 8.0ms\n",
            "image 237/507 /content/datasetdegraded/images/val/2009_000757.jpg: 448x640 1 bicycle, 7.1ms\n",
            "image 238/507 /content/datasetdegraded/images/val/2009_000820.jpg: 480x640 1 bicycle, 7.4ms\n",
            "image 239/507 /content/datasetdegraded/images/val/2009_000829.jpg: 480x640 (no detections), 6.6ms\n",
            "image 240/507 /content/datasetdegraded/images/val/2009_000896.jpg: 480x640 4 bicycles, 8.9ms\n",
            "image 241/507 /content/datasetdegraded/images/val/2009_000948.jpg: 448x640 2 cars, 8.4ms\n",
            "image 242/507 /content/datasetdegraded/images/val/2009_001074.jpg: 480x640 (no detections), 7.4ms\n",
            "image 243/507 /content/datasetdegraded/images/val/2009_001083.jpg: 480x640 (no detections), 6.6ms\n",
            "image 244/507 /content/datasetdegraded/images/val/2009_001113.jpg: 448x640 (no detections), 8.6ms\n",
            "image 245/507 /content/datasetdegraded/images/val/2009_001245.jpg: 480x640 1 car, 7.3ms\n",
            "image 246/507 /content/datasetdegraded/images/val/2009_001306.jpg: 512x640 (no detections), 10.6ms\n",
            "image 247/507 /content/datasetdegraded/images/val/2009_001642.jpg: 512x640 2 bicycles, 9.1ms\n",
            "image 248/507 /content/datasetdegraded/images/val/2009_001646.jpg: 448x640 2 bicycles, 7.6ms\n",
            "image 249/507 /content/datasetdegraded/images/val/2009_001695.jpg: 640x448 1 bicycle, 8.2ms\n",
            "image 250/507 /content/datasetdegraded/images/val/2009_001723.jpg: 480x640 1 boat, 7.2ms\n",
            "image 251/507 /content/datasetdegraded/images/val/2009_001758.jpg: 640x480 7 bicycles, 10.3ms\n",
            "image 252/507 /content/datasetdegraded/images/val/2009_001782.jpg: 480x640 1 car, 7.2ms\n",
            "image 253/507 /content/datasetdegraded/images/val/2009_001811.jpg: 480x640 1 car, 6.3ms\n",
            "image 254/507 /content/datasetdegraded/images/val/2009_001826.jpg: 448x640 (no detections), 7.1ms\n",
            "image 255/507 /content/datasetdegraded/images/val/2009_001830.jpg: 640x480 2 bicycles, 7.6ms\n",
            "image 256/507 /content/datasetdegraded/images/val/2009_001840.jpg: 480x640 1 bicycle, 9.6ms\n",
            "image 257/507 /content/datasetdegraded/images/val/2009_001861.jpg: 448x640 2 cars, 7.0ms\n",
            "image 258/507 /content/datasetdegraded/images/val/2009_002000.jpg: 640x480 1 car, 7.7ms\n",
            "image 259/507 /content/datasetdegraded/images/val/2009_002117.jpg: 448x640 1 car, 7.3ms\n",
            "image 260/507 /content/datasetdegraded/images/val/2009_002267.jpg: 448x640 1 car, 6.9ms\n",
            "image 261/507 /content/datasetdegraded/images/val/2009_002271.jpg: 448x640 1 bicycle, 1 car, 7.1ms\n",
            "image 262/507 /content/datasetdegraded/images/val/2009_002295.jpg: 640x480 2 bicycles, 10.3ms\n",
            "image 263/507 /content/datasetdegraded/images/val/2009_002350.jpg: 640x480 1 bicycle, 7.1ms\n",
            "image 264/507 /content/datasetdegraded/images/val/2009_002400.jpg: 448x640 1 bicycle, 7.9ms\n",
            "image 265/507 /content/datasetdegraded/images/val/2009_002438.jpg: 480x640 1 bicycle, 7.1ms\n",
            "image 266/507 /content/datasetdegraded/images/val/2009_002505.jpg: 480x640 1 car, 6.7ms\n",
            "image 267/507 /content/datasetdegraded/images/val/2009_002506.jpg: 448x640 1 car, 10.6ms\n",
            "image 268/507 /content/datasetdegraded/images/val/2009_002517.jpg: 448x640 1 car, 7.4ms\n",
            "image 269/507 /content/datasetdegraded/images/val/2009_002662.jpg: 448x640 1 boat, 1 car, 6.9ms\n",
            "image 270/507 /content/datasetdegraded/images/val/2009_002676.jpg: 480x640 1 bicycle, 9.8ms\n",
            "image 271/507 /content/datasetdegraded/images/val/2009_002727.jpg: 448x640 1 boat, 8.6ms\n",
            "image 272/507 /content/datasetdegraded/images/val/2009_002744.jpg: 480x640 1 car, 8.0ms\n",
            "image 273/507 /content/datasetdegraded/images/val/2009_002779.jpg: 480x640 4 bicycles, 6.4ms\n",
            "image 274/507 /content/datasetdegraded/images/val/2009_002780.jpg: 448x640 1 bicycle, 6.8ms\n",
            "image 275/507 /content/datasetdegraded/images/val/2009_002833.jpg: 448x640 4 bicycles, 6.5ms\n",
            "image 276/507 /content/datasetdegraded/images/val/2009_002835.jpg: 480x640 2 bicycles, 7.1ms\n",
            "image 277/507 /content/datasetdegraded/images/val/2009_002928.jpg: 480x640 2 bicycles, 6.4ms\n",
            "image 278/507 /content/datasetdegraded/images/val/2009_002933.jpg: 480x640 1 car, 6.3ms\n",
            "image 279/507 /content/datasetdegraded/images/val/2009_002946.jpg: 448x640 1 boat, 7.8ms\n",
            "image 280/507 /content/datasetdegraded/images/val/2009_002960.jpg: 416x640 (no detections), 7.0ms\n",
            "image 281/507 /content/datasetdegraded/images/val/2009_002985.jpg: 480x640 3 bicycles, 7.3ms\n",
            "image 282/507 /content/datasetdegraded/images/val/2009_003010.jpg: 448x640 2 boats, 7.5ms\n",
            "image 283/507 /content/datasetdegraded/images/val/2009_003020.jpg: 480x640 1 bicycle, 2 cars, 6.9ms\n",
            "image 284/507 /content/datasetdegraded/images/val/2009_003031.jpg: 480x640 1 car, 7.5ms\n",
            "image 285/507 /content/datasetdegraded/images/val/2009_003075.jpg: 448x640 4 bicycles, 7.1ms\n",
            "image 286/507 /content/datasetdegraded/images/val/2009_003132.jpg: 640x448 1 car, 11.4ms\n",
            "image 287/507 /content/datasetdegraded/images/val/2009_003187.jpg: 480x640 2 bicycles, 13.8ms\n",
            "image 288/507 /content/datasetdegraded/images/val/2009_003224.jpg: 480x640 2 bicycles, 6.7ms\n",
            "image 289/507 /content/datasetdegraded/images/val/2009_003381.jpg: 448x640 1 bicycle, 6.8ms\n",
            "image 290/507 /content/datasetdegraded/images/val/2009_003400.jpg: 320x640 1 boat, 7.3ms\n",
            "image 291/507 /content/datasetdegraded/images/val/2009_003406.jpg: 384x640 1 car, 7.0ms\n",
            "image 292/507 /content/datasetdegraded/images/val/2009_003469.jpg: 448x640 1 bicycle, 7.2ms\n",
            "image 293/507 /content/datasetdegraded/images/val/2009_003500.jpg: 448x640 1 car, 6.1ms\n",
            "image 294/507 /content/datasetdegraded/images/val/2009_003511.jpg: 480x640 1 boat, 7.0ms\n",
            "image 295/507 /content/datasetdegraded/images/val/2009_003560.jpg: 480x640 1 bicycle, 1 car, 6.6ms\n",
            "image 296/507 /content/datasetdegraded/images/val/2009_003566.jpg: 512x640 (no detections), 7.2ms\n",
            "image 297/507 /content/datasetdegraded/images/val/2009_003707.jpg: 448x640 1 boat, 7.3ms\n",
            "image 298/507 /content/datasetdegraded/images/val/2009_003801.jpg: 448x640 2 cars, 6.5ms\n",
            "image 299/507 /content/datasetdegraded/images/val/2009_003802.jpg: 480x640 1 bicycle, 7.0ms\n",
            "image 300/507 /content/datasetdegraded/images/val/2009_003908.jpg: 480x640 1 bicycle, 6.1ms\n",
            "image 301/507 /content/datasetdegraded/images/val/2009_003974.jpg: 448x640 1 car, 8.9ms\n",
            "image 302/507 /content/datasetdegraded/images/val/2009_004037.jpg: 512x640 (no detections), 7.4ms\n",
            "image 303/507 /content/datasetdegraded/images/val/2009_004078.jpg: 480x640 1 car, 6.8ms\n",
            "image 304/507 /content/datasetdegraded/images/val/2009_004187.jpg: 480x640 1 bicycle, 6.5ms\n",
            "image 305/507 /content/datasetdegraded/images/val/2009_004224.jpg: 448x640 3 cars, 6.9ms\n",
            "image 306/507 /content/datasetdegraded/images/val/2009_004273.jpg: 448x640 (no detections), 7.5ms\n",
            "image 307/507 /content/datasetdegraded/images/val/2009_004370.jpg: 480x640 3 cars, 8.7ms\n",
            "image 308/507 /content/datasetdegraded/images/val/2009_004397.jpg: 480x640 2 boats, 6.1ms\n",
            "image 309/507 /content/datasetdegraded/images/val/2009_004440.jpg: 448x640 (no detections), 6.9ms\n",
            "image 310/507 /content/datasetdegraded/images/val/2009_004444.jpg: 608x640 1 bicycle, 34.8ms\n",
            "image 311/507 /content/datasetdegraded/images/val/2009_004513.jpg: 640x448 (no detections), 7.1ms\n",
            "image 312/507 /content/datasetdegraded/images/val/2009_004551.jpg: 480x640 1 bicycle, 7.2ms\n",
            "image 313/507 /content/datasetdegraded/images/val/2009_004561.jpg: 480x640 1 bicycle, 6.6ms\n",
            "image 314/507 /content/datasetdegraded/images/val/2009_004629.jpg: 480x640 1 bicycle, 8.3ms\n",
            "image 315/507 /content/datasetdegraded/images/val/2009_004667.jpg: 480x640 1 car, 7.7ms\n",
            "image 316/507 /content/datasetdegraded/images/val/2009_004797.jpg: 480x640 1 bicycle, 7.4ms\n",
            "image 317/507 /content/datasetdegraded/images/val/2009_004888.jpg: 480x640 2 boats, 6.3ms\n",
            "image 318/507 /content/datasetdegraded/images/val/2009_004904.jpg: 480x640 2 boats, 6.5ms\n",
            "image 319/507 /content/datasetdegraded/images/val/2009_004914.jpg: 480x640 1 bicycle, 6.2ms\n",
            "image 320/507 /content/datasetdegraded/images/val/2009_004962.jpg: 480x640 (no detections), 6.7ms\n",
            "image 321/507 /content/datasetdegraded/images/val/2009_004986.jpg: 448x640 1 car, 7.6ms\n",
            "image 322/507 /content/datasetdegraded/images/val/2009_005025.jpg: 448x640 1 car, 7.5ms\n",
            "image 323/507 /content/datasetdegraded/images/val/2009_005064.jpg: 480x640 3 bicycles, 7.1ms\n",
            "image 324/507 /content/datasetdegraded/images/val/2009_005085.jpg: 448x640 1 car, 7.2ms\n",
            "image 325/507 /content/datasetdegraded/images/val/2009_005087.jpg: 640x512 1 bicycle, 9.7ms\n",
            "image 326/507 /content/datasetdegraded/images/val/2009_005098.jpg: 480x640 1 bicycle, 7.3ms\n",
            "image 327/507 /content/datasetdegraded/images/val/2009_005129.jpg: 416x640 1 boat, 7.4ms\n",
            "image 328/507 /content/datasetdegraded/images/val/2009_005133.jpg: 480x640 2 cars, 7.3ms\n",
            "image 329/507 /content/datasetdegraded/images/val/2009_005144.jpg: 448x640 1 bicycle, 8.1ms\n",
            "image 330/507 /content/datasetdegraded/images/val/2009_005154.jpg: 480x640 1 bicycle, 9.0ms\n",
            "image 331/507 /content/datasetdegraded/images/val/2009_005156.jpg: 576x640 1 bicycle, 36.4ms\n",
            "image 332/507 /content/datasetdegraded/images/val/2009_005168.jpg: 448x640 (no detections), 7.4ms\n",
            "image 333/507 /content/datasetdegraded/images/val/2009_005215.jpg: 448x640 (no detections), 6.5ms\n",
            "image 334/507 /content/datasetdegraded/images/val/2010_000043.jpg: 448x640 (no detections), 9.5ms\n",
            "image 335/507 /content/datasetdegraded/images/val/2010_000113.jpg: 480x640 1 bicycle, 9.3ms\n",
            "image 336/507 /content/datasetdegraded/images/val/2010_000160.jpg: 480x640 1 car, 7.1ms\n",
            "image 337/507 /content/datasetdegraded/images/val/2010_000194.jpg: 480x640 1 boat, 1 car, 7.5ms\n",
            "image 338/507 /content/datasetdegraded/images/val/2010_000198.jpg: 480x640 (no detections), 9.1ms\n",
            "image 339/507 /content/datasetdegraded/images/val/2010_000246.jpg: 448x640 3 cars, 7.0ms\n",
            "image 340/507 /content/datasetdegraded/images/val/2010_000249.jpg: 480x640 1 car, 7.3ms\n",
            "image 341/507 /content/datasetdegraded/images/val/2010_000254.jpg: 512x640 1 bicycle, 8.0ms\n",
            "image 342/507 /content/datasetdegraded/images/val/2010_000264.jpg: 640x448 2 cars, 8.0ms\n",
            "image 343/507 /content/datasetdegraded/images/val/2010_000466.jpg: 448x640 1 car, 13.4ms\n",
            "image 344/507 /content/datasetdegraded/images/val/2010_000480.jpg: 448x640 5 cars, 14.5ms\n",
            "image 345/507 /content/datasetdegraded/images/val/2010_000503.jpg: 480x640 1 car, 7.3ms\n",
            "image 346/507 /content/datasetdegraded/images/val/2010_000571.jpg: 480x640 5 bicycles, 1 car, 10.8ms\n",
            "image 347/507 /content/datasetdegraded/images/val/2010_000590.jpg: 640x448 1 bicycle, 2 cars, 7.2ms\n",
            "image 348/507 /content/datasetdegraded/images/val/2010_000664.jpg: 448x640 1 car, 7.7ms\n",
            "image 349/507 /content/datasetdegraded/images/val/2010_000689.jpg: 448x640 (no detections), 6.5ms\n",
            "image 350/507 /content/datasetdegraded/images/val/2010_000722.jpg: 512x640 1 car, 7.0ms\n",
            "image 351/507 /content/datasetdegraded/images/val/2010_000723.jpg: 480x640 1 boat, 3 cars, 7.3ms\n",
            "image 352/507 /content/datasetdegraded/images/val/2010_000803.jpg: 480x640 2 boats, 6.2ms\n",
            "image 353/507 /content/datasetdegraded/images/val/2010_000865.jpg: 480x640 1 car, 6.6ms\n",
            "image 354/507 /content/datasetdegraded/images/val/2010_000910.jpg: 640x480 1 bicycle, 7.5ms\n",
            "image 355/507 /content/datasetdegraded/images/val/2010_000928.jpg: 480x640 1 car, 9.2ms\n",
            "image 356/507 /content/datasetdegraded/images/val/2010_000947.jpg: 480x640 1 car, 10.5ms\n",
            "image 357/507 /content/datasetdegraded/images/val/2010_001080.jpg: 480x640 1 car, 7.4ms\n",
            "image 358/507 /content/datasetdegraded/images/val/2010_001110.jpg: 480x640 2 cars, 7.1ms\n",
            "image 359/507 /content/datasetdegraded/images/val/2010_001117.jpg: 448x640 5 cars, 7.9ms\n",
            "image 360/507 /content/datasetdegraded/images/val/2010_001119.jpg: 480x640 3 bicycles, 8.4ms\n",
            "image 361/507 /content/datasetdegraded/images/val/2010_001126.jpg: 448x640 1 boat, 7.4ms\n",
            "image 362/507 /content/datasetdegraded/images/val/2010_001163.jpg: 512x640 1 car, 9.9ms\n",
            "image 363/507 /content/datasetdegraded/images/val/2010_001254.jpg: 480x640 (no detections), 7.5ms\n",
            "image 364/507 /content/datasetdegraded/images/val/2010_001338.jpg: 480x640 6 bicycles, 6.5ms\n",
            "image 365/507 /content/datasetdegraded/images/val/2010_001360.jpg: 448x640 1 car, 7.6ms\n",
            "image 366/507 /content/datasetdegraded/images/val/2010_001367.jpg: 544x640 2 bicycles, 8.0ms\n",
            "image 367/507 /content/datasetdegraded/images/val/2010_001449.jpg: 480x640 1 car, 7.8ms\n",
            "image 368/507 /content/datasetdegraded/images/val/2010_001551.jpg: 480x640 1 boat, 7.6ms\n",
            "image 369/507 /content/datasetdegraded/images/val/2010_001650.jpg: 480x640 (no detections), 6.5ms\n",
            "image 370/507 /content/datasetdegraded/images/val/2010_001732.jpg: 480x640 1 boat, 1 car, 9.9ms\n",
            "image 371/507 /content/datasetdegraded/images/val/2010_001753.jpg: 640x640 2 bicycles, 8.1ms\n",
            "image 372/507 /content/datasetdegraded/images/val/2010_001807.jpg: 640x480 1 boat, 7.3ms\n",
            "image 373/507 /content/datasetdegraded/images/val/2010_001828.jpg: 448x640 1 car, 7.8ms\n",
            "image 374/507 /content/datasetdegraded/images/val/2010_001892.jpg: 448x640 1 car, 7.1ms\n",
            "image 375/507 /content/datasetdegraded/images/val/2010_001966.jpg: 480x640 1 bicycle, 1 car, 8.7ms\n",
            "image 376/507 /content/datasetdegraded/images/val/2010_002030.jpg: 448x640 1 bicycle, 7.4ms\n",
            "image 377/507 /content/datasetdegraded/images/val/2010_002044.jpg: 480x640 1 car, 10.4ms\n",
            "image 378/507 /content/datasetdegraded/images/val/2010_002104.jpg: 448x640 1 boat, 8.6ms\n",
            "image 379/507 /content/datasetdegraded/images/val/2010_002107.jpg: 448x640 1 car, 6.8ms\n",
            "image 380/507 /content/datasetdegraded/images/val/2010_002168.jpg: 480x640 8 bicycles, 1 car, 7.9ms\n",
            "image 381/507 /content/datasetdegraded/images/val/2010_002180.jpg: 480x640 3 bicycles, 10.2ms\n",
            "image 382/507 /content/datasetdegraded/images/val/2010_002216.jpg: 480x640 1 boat, 6.6ms\n",
            "image 383/507 /content/datasetdegraded/images/val/2010_002321.jpg: 448x640 4 boats, 8.2ms\n",
            "image 384/507 /content/datasetdegraded/images/val/2010_002326.jpg: 480x640 2 bicycles, 10.2ms\n",
            "image 385/507 /content/datasetdegraded/images/val/2010_002393.jpg: 512x640 2 boats, 8.7ms\n",
            "image 386/507 /content/datasetdegraded/images/val/2010_002475.jpg: 480x640 1 bicycle, 7.6ms\n",
            "image 387/507 /content/datasetdegraded/images/val/2010_002497.jpg: 480x640 (no detections), 6.7ms\n",
            "image 388/507 /content/datasetdegraded/images/val/2010_002536.jpg: 480x640 2 bicycles, 6.8ms\n",
            "image 389/507 /content/datasetdegraded/images/val/2010_002565.jpg: 448x640 2 boats, 7.7ms\n",
            "image 390/507 /content/datasetdegraded/images/val/2010_002656.jpg: 640x480 (no detections), 7.1ms\n",
            "image 391/507 /content/datasetdegraded/images/val/2010_002660.jpg: 640x448 1 bicycle, 7.0ms\n",
            "image 392/507 /content/datasetdegraded/images/val/2010_002767.jpg: 640x448 2 bicycles, 7.4ms\n",
            "image 393/507 /content/datasetdegraded/images/val/2010_002814.jpg: 480x640 1 bicycle, 7.3ms\n",
            "image 394/507 /content/datasetdegraded/images/val/2010_003027.jpg: 480x640 (no detections), 7.1ms\n",
            "image 395/507 /content/datasetdegraded/images/val/2010_003139.jpg: 480x640 1 car, 7.6ms\n",
            "image 396/507 /content/datasetdegraded/images/val/2010_003156.jpg: 480x640 1 boat, 7.2ms\n",
            "image 397/507 /content/datasetdegraded/images/val/2010_003206.jpg: 480x640 1 bicycle, 1 car, 7.5ms\n",
            "image 398/507 /content/datasetdegraded/images/val/2010_003293.jpg: 448x640 1 car, 8.5ms\n",
            "image 399/507 /content/datasetdegraded/images/val/2010_003314.jpg: 480x640 1 bicycle, 12.3ms\n",
            "image 400/507 /content/datasetdegraded/images/val/2010_003316.jpg: 448x640 2 bicycles, 16.4ms\n",
            "image 401/507 /content/datasetdegraded/images/val/2010_003350.jpg: 448x640 1 bicycle, 8.5ms\n",
            "image 402/507 /content/datasetdegraded/images/val/2010_003381.jpg: 448x640 2 cars, 6.9ms\n",
            "image 403/507 /content/datasetdegraded/images/val/2010_003385.jpg: 448x640 1 car, 7.3ms\n",
            "image 404/507 /content/datasetdegraded/images/val/2010_003415.jpg: 640x448 1 car, 7.5ms\n",
            "image 405/507 /content/datasetdegraded/images/val/2010_003503.jpg: 480x640 1 bicycle, 7.8ms\n",
            "image 406/507 /content/datasetdegraded/images/val/2010_003508.jpg: 448x640 (no detections), 7.7ms\n",
            "image 407/507 /content/datasetdegraded/images/val/2010_003547.jpg: 480x640 (no detections), 10.9ms\n",
            "image 408/507 /content/datasetdegraded/images/val/2010_003562.jpg: 448x640 (no detections), 7.7ms\n",
            "image 409/507 /content/datasetdegraded/images/val/2010_003640.jpg: 640x480 1 car, 7.6ms\n",
            "image 410/507 /content/datasetdegraded/images/val/2010_003679.jpg: 384x640 1 boat, 8.0ms\n",
            "image 411/507 /content/datasetdegraded/images/val/2010_003703.jpg: 640x448 2 bicycles, 23.0ms\n",
            "image 412/507 /content/datasetdegraded/images/val/2010_003734.jpg: 480x640 (no detections), 9.9ms\n",
            "image 413/507 /content/datasetdegraded/images/val/2010_003815.jpg: 448x640 (no detections), 8.1ms\n",
            "image 414/507 /content/datasetdegraded/images/val/2010_003848.jpg: 448x640 (no detections), 7.3ms\n",
            "image 415/507 /content/datasetdegraded/images/val/2010_003860.jpg: 448x640 (no detections), 7.2ms\n",
            "image 416/507 /content/datasetdegraded/images/val/2010_003899.jpg: 480x640 2 boats, 10.7ms\n",
            "image 417/507 /content/datasetdegraded/images/val/2010_003906.jpg: 448x640 5 bicycles, 8.4ms\n",
            "image 418/507 /content/datasetdegraded/images/val/2010_003912.jpg: 640x512 4 bicycles, 6.9ms\n",
            "image 419/507 /content/datasetdegraded/images/val/2010_003914.jpg: 640x480 2 bicycles, 6.9ms\n",
            "image 420/507 /content/datasetdegraded/images/val/2010_003981.jpg: 448x640 1 car, 7.1ms\n",
            "image 421/507 /content/datasetdegraded/images/val/2010_004006.jpg: 512x640 (no detections), 9.5ms\n",
            "image 422/507 /content/datasetdegraded/images/val/2010_004069.jpg: 480x640 1 bicycle, 7.6ms\n",
            "image 423/507 /content/datasetdegraded/images/val/2010_004139.jpg: 480x640 1 bicycle, 1 car, 6.9ms\n",
            "image 424/507 /content/datasetdegraded/images/val/2010_004258.jpg: 480x640 1 car, 7.8ms\n",
            "image 425/507 /content/datasetdegraded/images/val/2010_004263.jpg: 384x640 (no detections), 7.2ms\n",
            "image 426/507 /content/datasetdegraded/images/val/2010_004390.jpg: 512x640 1 car, 6.9ms\n",
            "image 427/507 /content/datasetdegraded/images/val/2010_004486.jpg: 480x640 1 boat, 7.2ms\n",
            "image 428/507 /content/datasetdegraded/images/val/2010_004557.jpg: 448x640 1 car, 8.5ms\n",
            "image 429/507 /content/datasetdegraded/images/val/2010_004558.jpg: 640x448 2 cars, 7.7ms\n",
            "image 430/507 /content/datasetdegraded/images/val/2010_004609.jpg: 480x640 1 bicycle, 7.0ms\n",
            "image 431/507 /content/datasetdegraded/images/val/2010_004654.jpg: 448x640 1 car, 9.7ms\n",
            "image 432/507 /content/datasetdegraded/images/val/2010_004747.jpg: 448x640 1 car, 6.8ms\n",
            "image 433/507 /content/datasetdegraded/images/val/2010_004772.jpg: 448x640 1 boat, 6.7ms\n",
            "image 434/507 /content/datasetdegraded/images/val/2010_004806.jpg: 288x640 2 cars, 7.7ms\n",
            "image 435/507 /content/datasetdegraded/images/val/2010_004831.jpg: 480x640 2 bicycles, 7.8ms\n",
            "image 436/507 /content/datasetdegraded/images/val/2010_004890.jpg: 480x640 1 car, 6.4ms\n",
            "image 437/507 /content/datasetdegraded/images/val/2010_004921.jpg: 384x640 3 bicycles, 7.1ms\n",
            "image 438/507 /content/datasetdegraded/images/val/2010_004930.jpg: 448x640 (no detections), 7.0ms\n",
            "image 439/507 /content/datasetdegraded/images/val/2010_004995.jpg: 640x480 1 bicycle, 1 car, 7.1ms\n",
            "image 440/507 /content/datasetdegraded/images/val/2010_005000.jpg: 640x448 (no detections), 9.5ms\n",
            "image 441/507 /content/datasetdegraded/images/val/2010_005013.jpg: 352x640 1 boat, 1 car, 9.1ms\n",
            "image 442/507 /content/datasetdegraded/images/val/2010_005087.jpg: 480x640 1 car, 6.9ms\n",
            "image 443/507 /content/datasetdegraded/images/val/2010_005119.jpg: 448x640 1 car, 7.1ms\n",
            "image 444/507 /content/datasetdegraded/images/val/2010_005236.jpg: 640x480 2 cars, 6.9ms\n",
            "image 445/507 /content/datasetdegraded/images/val/2010_005323.jpg: 448x640 2 cars, 6.7ms\n",
            "image 446/507 /content/datasetdegraded/images/val/2010_005402.jpg: 448x640 1 bicycle, 7.0ms\n",
            "image 447/507 /content/datasetdegraded/images/val/2010_005474.jpg: 448x640 3 cars, 6.2ms\n",
            "image 448/507 /content/datasetdegraded/images/val/2010_005670.jpg: 640x480 7 bicycles, 6.8ms\n",
            "image 449/507 /content/datasetdegraded/images/val/2010_005672.jpg: 480x640 1 bicycle, 7.1ms\n",
            "image 450/507 /content/datasetdegraded/images/val/2010_005700.jpg: 480x640 (no detections), 6.4ms\n",
            "image 451/507 /content/datasetdegraded/images/val/2010_005782.jpg: 480x640 2 bicycles, 6.4ms\n",
            "image 452/507 /content/datasetdegraded/images/val/2010_005949.jpg: 640x480 1 car, 6.8ms\n",
            "image 453/507 /content/datasetdegraded/images/val/2010_006003.jpg: 480x640 1 car, 7.7ms\n",
            "image 454/507 /content/datasetdegraded/images/val/2011_000007.jpg: 640x480 (no detections), 9.3ms\n",
            "image 455/507 /content/datasetdegraded/images/val/2011_000048.jpg: 480x640 1 car, 7.3ms\n",
            "image 456/507 /content/datasetdegraded/images/val/2011_000238.jpg: 640x480 2 bicycles, 9.5ms\n",
            "image 457/507 /content/datasetdegraded/images/val/2011_000248.jpg: 448x640 4 cars, 6.8ms\n",
            "image 458/507 /content/datasetdegraded/images/val/2011_000258.jpg: 448x640 1 car, 12.7ms\n",
            "image 459/507 /content/datasetdegraded/images/val/2011_000297.jpg: 480x640 2 bicycles, 10.3ms\n",
            "image 460/507 /content/datasetdegraded/images/val/2011_000432.jpg: 480x640 1 car, 6.3ms\n",
            "image 461/507 /content/datasetdegraded/images/val/2011_000453.jpg: 416x640 2 bicycles, 8.4ms\n",
            "image 462/507 /content/datasetdegraded/images/val/2011_000559.jpg: 448x640 1 car, 7.2ms\n",
            "image 463/507 /content/datasetdegraded/images/val/2011_000600.jpg: 448x640 2 bicycles, 6.3ms\n",
            "image 464/507 /content/datasetdegraded/images/val/2011_000690.jpg: 640x480 2 bicycles, 6.9ms\n",
            "image 465/507 /content/datasetdegraded/images/val/2011_000791.jpg: 480x640 1 bicycle, 6.9ms\n",
            "image 466/507 /content/datasetdegraded/images/val/2011_001097.jpg: 448x640 3 bicycles, 8.3ms\n",
            "image 467/507 /content/datasetdegraded/images/val/2011_001105.jpg: 320x640 (no detections), 9.5ms\n",
            "image 468/507 /content/datasetdegraded/images/val/2011_001160.jpg: 512x640 1 boat, 7.3ms\n",
            "image 469/507 /content/datasetdegraded/images/val/2011_001189.jpg: 640x448 (no detections), 6.7ms\n",
            "image 470/507 /content/datasetdegraded/images/val/2011_001213.jpg: 288x640 1 car, 7.1ms\n",
            "image 471/507 /content/datasetdegraded/images/val/2011_001227.jpg: 480x640 2 cars, 7.2ms\n",
            "image 472/507 /content/datasetdegraded/images/val/2011_001255.jpg: 384x640 1 car, 7.1ms\n",
            "image 473/507 /content/datasetdegraded/images/val/2011_001566.jpg: 480x640 3 bicycles, 7.0ms\n",
            "image 474/507 /content/datasetdegraded/images/val/2011_001632.jpg: 480x640 3 bicycles, 6.3ms\n",
            "image 475/507 /content/datasetdegraded/images/val/2011_001641.jpg: 640x448 (no detections), 6.9ms\n",
            "image 476/507 /content/datasetdegraded/images/val/2011_001695.jpg: 480x640 (no detections), 6.7ms\n",
            "image 477/507 /content/datasetdegraded/images/val/2011_001806.jpg: 640x480 3 bicycles, 7.6ms\n",
            "image 478/507 /content/datasetdegraded/images/val/2011_001914.jpg: 480x640 3 bicycles, 7.2ms\n",
            "image 479/507 /content/datasetdegraded/images/val/2011_001949.jpg: 480x640 1 car, 7.1ms\n",
            "image 480/507 /content/datasetdegraded/images/val/2011_001961.jpg: 480x640 1 bicycle, 1 car, 6.6ms\n",
            "image 481/507 /content/datasetdegraded/images/val/2011_001982.jpg: 480x640 1 car, 11.3ms\n",
            "image 482/507 /content/datasetdegraded/images/val/2011_001991.jpg: 448x640 (no detections), 7.0ms\n",
            "image 483/507 /content/datasetdegraded/images/val/2011_002036.jpg: 448x640 1 boat, 6.4ms\n",
            "image 484/507 /content/datasetdegraded/images/val/2011_002049.jpg: 640x480 3 bicycles, 7.2ms\n",
            "image 485/507 /content/datasetdegraded/images/val/2011_002073.jpg: 480x640 1 boat, 7.3ms\n",
            "image 486/507 /content/datasetdegraded/images/val/2011_002215.jpg: 480x640 1 car, 8.2ms\n",
            "image 487/507 /content/datasetdegraded/images/val/2011_002234.jpg: 448x640 1 car, 7.1ms\n",
            "image 488/507 /content/datasetdegraded/images/val/2011_002253.jpg: 480x640 1 car, 9.1ms\n",
            "image 489/507 /content/datasetdegraded/images/val/2011_002567.jpg: 480x640 (no detections), 6.3ms\n",
            "image 490/507 /content/datasetdegraded/images/val/2011_002592.jpg: 480x640 1 car, 7.9ms\n",
            "image 491/507 /content/datasetdegraded/images/val/2011_002656.jpg: 480x640 1 bicycle, 6.5ms\n",
            "image 492/507 /content/datasetdegraded/images/val/2011_002661.jpg: 640x480 (no detections), 7.2ms\n",
            "image 493/507 /content/datasetdegraded/images/val/2011_002740.jpg: 448x640 4 boats, 1 car, 8.8ms\n",
            "image 494/507 /content/datasetdegraded/images/val/2011_002754.jpg: 352x640 (no detections), 7.4ms\n",
            "image 495/507 /content/datasetdegraded/images/val/2011_002871.jpg: 320x640 (no detections), 9.3ms\n",
            "image 496/507 /content/datasetdegraded/images/val/2011_002912.jpg: 480x640 1 boat, 7.0ms\n",
            "image 497/507 /content/datasetdegraded/images/val/2011_002913.jpg: 448x640 1 bicycle, 6.9ms\n",
            "image 498/507 /content/datasetdegraded/images/val/2011_002925.jpg: 640x480 1 boat, 7.4ms\n",
            "image 499/507 /content/datasetdegraded/images/val/2011_003019.jpg: 480x640 2 bicycles, 7.3ms\n",
            "image 500/507 /content/datasetdegraded/images/val/2011_003055.jpg: 480x640 1 car, 9.8ms\n",
            "image 501/507 /content/datasetdegraded/images/val/2011_003081.jpg: 448x640 1 boat, 6.8ms\n",
            "image 502/507 /content/datasetdegraded/images/val/2011_003109.jpg: 480x640 2 cars, 9.0ms\n",
            "image 503/507 /content/datasetdegraded/images/val/2011_003134.jpg: 448x640 (no detections), 7.2ms\n",
            "image 504/507 /content/datasetdegraded/images/val/2011_003168.jpg: 480x640 2 bicycles, 7.1ms\n",
            "image 505/507 /content/datasetdegraded/images/val/2011_003169.jpg: 448x640 2 bicycles, 11.1ms\n",
            "image 506/507 /content/datasetdegraded/images/val/2011_003185.jpg: 480x640 1 bicycle, 1 car, 6.9ms\n",
            "image 507/507 /content/datasetdegraded/images/val/2011_003261.jpg: 640x480 (no detections), 7.0ms\n",
            "Speed: 2.8ms preprocess, 10.1ms inference, 1.4ms postprocess per image at shape (1, 3, 640, 480)\n",
            "Results saved to \u001b[1mruns/detect/predict\u001b[0m\n",
            "\n",
            "Training complete. Models saved:\n",
            "- PyTorch: /content/runs/detect/bw_vehicle_detector/weights/best.pt\n",
            "- ONNX: /content/runs/detect/bw_vehicle_detector/weights/best.onnx\n"
          ]
        }
      ]
    }
  ]
}